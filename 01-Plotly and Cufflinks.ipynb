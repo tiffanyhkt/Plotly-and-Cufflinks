{
 "cells": [
  {
   "cell_type": "markdown",
   "metadata": {},
   "source": [
    "___\n",
    "\n",
    "<a href='http://www.pieriandata.com'> <img src='../Pierian_Data_Logo.png' /></a>\n",
    "___\n",
    "# Plotly and Cufflinks"
   ]
  },
  {
   "cell_type": "markdown",
   "metadata": {},
   "source": [
    "Plotly is a library that allows you to create interactive plots that you can use in dashboards or websites (you can save them as html files or static images).\n",
    "\n",
    "## Installation\n",
    "\n",
    "In order for this all to work, you'll need to install plotly and cufflinks to call plots directly off of a pandas dataframe. These libraries are not currently available through **conda** but are available through **pip**. Install the libraries at your command line/terminal using:\n",
    "\n",
    "    pip install plotly\n",
    "    pip install cufflinks\n",
    "\n",
    "** NOTE: Make sure you only have one installation of Python on your computer when you do this, otherwise the installation may not work. **\n",
    "\n",
    "## Imports and Set-up"
   ]
  },
  {
   "cell_type": "code",
   "execution_count": 1,
   "metadata": {},
   "outputs": [
    {
     "name": "stdout",
     "output_type": "stream",
     "text": [
      "Requirement already satisfied: chart-studio in c:\\users\\tiffany\\anaconda3\\lib\\site-packages (1.1.0)\n",
      "Requirement already satisfied: six in c:\\users\\tiffany\\appdata\\roaming\\python\\python310\\site-packages (from chart-studio) (1.16.0)\n",
      "Requirement already satisfied: retrying>=1.3.3 in c:\\users\\tiffany\\anaconda3\\lib\\site-packages (from chart-studio) (1.3.4)\n",
      "Requirement already satisfied: plotly in c:\\users\\tiffany\\anaconda3\\lib\\site-packages (from chart-studio) (5.9.0)\n",
      "Requirement already satisfied: requests in c:\\users\\tiffany\\anaconda3\\lib\\site-packages (from chart-studio) (2.31.0)\n",
      "Requirement already satisfied: tenacity>=6.2.0 in c:\\users\\tiffany\\anaconda3\\lib\\site-packages (from plotly->chart-studio) (8.0.1)\n",
      "Requirement already satisfied: idna<4,>=2.5 in c:\\users\\tiffany\\anaconda3\\lib\\site-packages (from requests->chart-studio) (3.4)\n",
      "Requirement already satisfied: charset-normalizer<4,>=2 in c:\\users\\tiffany\\anaconda3\\lib\\site-packages (from requests->chart-studio) (2.0.4)\n",
      "Requirement already satisfied: urllib3<3,>=1.21.1 in c:\\users\\tiffany\\anaconda3\\lib\\site-packages (from requests->chart-studio) (1.26.14)\n",
      "Requirement already satisfied: certifi>=2017.4.17 in c:\\users\\tiffany\\anaconda3\\lib\\site-packages (from requests->chart-studio) (2023.5.7)\n",
      "Requirement already satisfied: cufflinks in c:\\users\\tiffany\\anaconda3\\lib\\site-packages (0.17.3)\n",
      "Requirement already satisfied: colorlover>=0.2.1 in c:\\users\\tiffany\\anaconda3\\lib\\site-packages (from cufflinks) (0.3.0)\n",
      "Requirement already satisfied: setuptools>=34.4.1 in c:\\users\\tiffany\\anaconda3\\lib\\site-packages (from cufflinks) (65.6.3)\n",
      "Requirement already satisfied: ipywidgets>=7.0.0 in c:\\users\\tiffany\\anaconda3\\lib\\site-packages (from cufflinks) (7.6.5)\n",
      "Requirement already satisfied: numpy>=1.9.2 in c:\\users\\tiffany\\anaconda3\\lib\\site-packages (from cufflinks) (1.23.5)\n",
      "Requirement already satisfied: ipython>=5.3.0 in c:\\users\\tiffany\\appdata\\roaming\\python\\python310\\site-packages (from cufflinks) (8.5.0)\n",
      "Requirement already satisfied: plotly>=4.1.1 in c:\\users\\tiffany\\anaconda3\\lib\\site-packages (from cufflinks) (5.9.0)\n",
      "Requirement already satisfied: pandas>=0.19.2 in c:\\users\\tiffany\\anaconda3\\lib\\site-packages (from cufflinks) (1.5.3)\n",
      "Requirement already satisfied: six>=1.9.0 in c:\\users\\tiffany\\appdata\\roaming\\python\\python310\\site-packages (from cufflinks) (1.16.0)\n",
      "Requirement already satisfied: backcall in c:\\users\\tiffany\\appdata\\roaming\\python\\python310\\site-packages (from ipython>=5.3.0->cufflinks) (0.2.0)\n",
      "Requirement already satisfied: decorator in c:\\users\\tiffany\\appdata\\roaming\\python\\python310\\site-packages (from ipython>=5.3.0->cufflinks) (5.1.1)\n",
      "Requirement already satisfied: traitlets>=5 in c:\\users\\tiffany\\appdata\\roaming\\python\\python310\\site-packages (from ipython>=5.3.0->cufflinks) (5.4.0)\n",
      "Requirement already satisfied: jedi>=0.16 in c:\\users\\tiffany\\appdata\\roaming\\python\\python310\\site-packages (from ipython>=5.3.0->cufflinks) (0.18.1)\n",
      "Requirement already satisfied: stack-data in c:\\users\\tiffany\\appdata\\roaming\\python\\python310\\site-packages (from ipython>=5.3.0->cufflinks) (0.5.1)\n",
      "Requirement already satisfied: colorama in c:\\users\\tiffany\\appdata\\roaming\\python\\python310\\site-packages (from ipython>=5.3.0->cufflinks) (0.4.5)\n",
      "Requirement already satisfied: pygments>=2.4.0 in c:\\users\\tiffany\\appdata\\roaming\\python\\python310\\site-packages (from ipython>=5.3.0->cufflinks) (2.13.0)\n",
      "Requirement already satisfied: prompt-toolkit<3.1.0,>3.0.1 in c:\\users\\tiffany\\appdata\\roaming\\python\\python310\\site-packages (from ipython>=5.3.0->cufflinks) (3.0.31)\n",
      "Requirement already satisfied: matplotlib-inline in c:\\users\\tiffany\\appdata\\roaming\\python\\python310\\site-packages (from ipython>=5.3.0->cufflinks) (0.1.6)\n",
      "Requirement already satisfied: pickleshare in c:\\users\\tiffany\\appdata\\roaming\\python\\python310\\site-packages (from ipython>=5.3.0->cufflinks) (0.7.5)\n",
      "Requirement already satisfied: ipykernel>=4.5.1 in c:\\users\\tiffany\\appdata\\roaming\\python\\python310\\site-packages (from ipywidgets>=7.0.0->cufflinks) (6.16.0)\n",
      "Requirement already satisfied: ipython-genutils~=0.2.0 in c:\\users\\tiffany\\anaconda3\\lib\\site-packages (from ipywidgets>=7.0.0->cufflinks) (0.2.0)\n",
      "Requirement already satisfied: nbformat>=4.2.0 in c:\\users\\tiffany\\anaconda3\\lib\\site-packages (from ipywidgets>=7.0.0->cufflinks) (5.7.0)\n",
      "Requirement already satisfied: widgetsnbextension~=3.5.0 in c:\\users\\tiffany\\anaconda3\\lib\\site-packages (from ipywidgets>=7.0.0->cufflinks) (3.5.2)\n",
      "Requirement already satisfied: jupyterlab-widgets>=1.0.0 in c:\\users\\tiffany\\anaconda3\\lib\\site-packages (from ipywidgets>=7.0.0->cufflinks) (1.0.0)\n",
      "Requirement already satisfied: python-dateutil>=2.8.1 in c:\\users\\tiffany\\appdata\\roaming\\python\\python310\\site-packages (from pandas>=0.19.2->cufflinks) (2.8.2)\n",
      "Requirement already satisfied: pytz>=2020.1 in c:\\users\\tiffany\\anaconda3\\lib\\site-packages (from pandas>=0.19.2->cufflinks) (2022.7)\n",
      "Requirement already satisfied: tenacity>=6.2.0 in c:\\users\\tiffany\\anaconda3\\lib\\site-packages (from plotly>=4.1.1->cufflinks) (8.0.1)\n",
      "Requirement already satisfied: nest-asyncio in c:\\users\\tiffany\\appdata\\roaming\\python\\python310\\site-packages (from ipykernel>=4.5.1->ipywidgets>=7.0.0->cufflinks) (1.5.6)\n",
      "Requirement already satisfied: psutil in c:\\users\\tiffany\\appdata\\roaming\\python\\python310\\site-packages (from ipykernel>=4.5.1->ipywidgets>=7.0.0->cufflinks) (5.9.2)\n",
      "Requirement already satisfied: jupyter-client>=6.1.12 in c:\\users\\tiffany\\appdata\\roaming\\python\\python310\\site-packages (from ipykernel>=4.5.1->ipywidgets>=7.0.0->cufflinks) (7.3.5)\n",
      "Requirement already satisfied: tornado>=6.1 in c:\\users\\tiffany\\appdata\\roaming\\python\\python310\\site-packages (from ipykernel>=4.5.1->ipywidgets>=7.0.0->cufflinks) (6.2)\n",
      "Requirement already satisfied: pyzmq>=17 in c:\\users\\tiffany\\appdata\\roaming\\python\\python310\\site-packages (from ipykernel>=4.5.1->ipywidgets>=7.0.0->cufflinks) (24.0.1)\n",
      "Requirement already satisfied: debugpy>=1.0 in c:\\users\\tiffany\\appdata\\roaming\\python\\python310\\site-packages (from ipykernel>=4.5.1->ipywidgets>=7.0.0->cufflinks) (1.6.3)\n",
      "Requirement already satisfied: packaging in c:\\users\\tiffany\\appdata\\roaming\\python\\python310\\site-packages (from ipykernel>=4.5.1->ipywidgets>=7.0.0->cufflinks) (21.3)\n",
      "Requirement already satisfied: parso<0.9.0,>=0.8.0 in c:\\users\\tiffany\\appdata\\roaming\\python\\python310\\site-packages (from jedi>=0.16->ipython>=5.3.0->cufflinks) (0.8.3)\n",
      "Requirement already satisfied: jupyter-core in c:\\users\\tiffany\\appdata\\roaming\\python\\python310\\site-packages (from nbformat>=4.2.0->ipywidgets>=7.0.0->cufflinks) (4.11.1)\n",
      "Requirement already satisfied: fastjsonschema in c:\\users\\tiffany\\anaconda3\\lib\\site-packages (from nbformat>=4.2.0->ipywidgets>=7.0.0->cufflinks) (2.16.2)\n",
      "Requirement already satisfied: jsonschema>=2.6 in c:\\users\\tiffany\\anaconda3\\lib\\site-packages (from nbformat>=4.2.0->ipywidgets>=7.0.0->cufflinks) (4.17.3)\n",
      "Requirement already satisfied: wcwidth in c:\\users\\tiffany\\appdata\\roaming\\python\\python310\\site-packages (from prompt-toolkit<3.1.0,>3.0.1->ipython>=5.3.0->cufflinks) (0.2.5)\n",
      "Requirement already satisfied: notebook>=4.4.1 in c:\\users\\tiffany\\anaconda3\\lib\\site-packages (from widgetsnbextension~=3.5.0->ipywidgets>=7.0.0->cufflinks) (6.5.2)\n",
      "Requirement already satisfied: asttokens in c:\\users\\tiffany\\appdata\\roaming\\python\\python310\\site-packages (from stack-data->ipython>=5.3.0->cufflinks) (2.0.8)\n",
      "Requirement already satisfied: executing in c:\\users\\tiffany\\appdata\\roaming\\python\\python310\\site-packages (from stack-data->ipython>=5.3.0->cufflinks) (1.1.0)\n",
      "Requirement already satisfied: pure-eval in c:\\users\\tiffany\\appdata\\roaming\\python\\python310\\site-packages (from stack-data->ipython>=5.3.0->cufflinks) (0.2.2)\n",
      "Requirement already satisfied: pyrsistent!=0.17.0,!=0.17.1,!=0.17.2,>=0.14.0 in c:\\users\\tiffany\\anaconda3\\lib\\site-packages (from jsonschema>=2.6->nbformat>=4.2.0->ipywidgets>=7.0.0->cufflinks) (0.18.0)\n",
      "Requirement already satisfied: attrs>=17.4.0 in c:\\users\\tiffany\\anaconda3\\lib\\site-packages (from jsonschema>=2.6->nbformat>=4.2.0->ipywidgets>=7.0.0->cufflinks) (22.1.0)\n",
      "Requirement already satisfied: entrypoints in c:\\users\\tiffany\\appdata\\roaming\\python\\python310\\site-packages (from jupyter-client>=6.1.12->ipykernel>=4.5.1->ipywidgets>=7.0.0->cufflinks) (0.4)\n",
      "Requirement already satisfied: pywin32>=1.0 in c:\\users\\tiffany\\appdata\\roaming\\python\\python310\\site-packages (from jupyter-core->nbformat>=4.2.0->ipywidgets>=7.0.0->cufflinks) (304)\n",
      "Requirement already satisfied: jinja2 in c:\\users\\tiffany\\anaconda3\\lib\\site-packages (from notebook>=4.4.1->widgetsnbextension~=3.5.0->ipywidgets>=7.0.0->cufflinks) (3.1.2)\n",
      "Requirement already satisfied: nbconvert>=5 in c:\\users\\tiffany\\anaconda3\\lib\\site-packages (from notebook>=4.4.1->widgetsnbextension~=3.5.0->ipywidgets>=7.0.0->cufflinks) (6.5.4)\n",
      "Requirement already satisfied: argon2-cffi in c:\\users\\tiffany\\anaconda3\\lib\\site-packages (from notebook>=4.4.1->widgetsnbextension~=3.5.0->ipywidgets>=7.0.0->cufflinks) (21.3.0)\n",
      "Requirement already satisfied: nbclassic>=0.4.7 in c:\\users\\tiffany\\anaconda3\\lib\\site-packages (from notebook>=4.4.1->widgetsnbextension~=3.5.0->ipywidgets>=7.0.0->cufflinks) (0.5.2)\n",
      "Requirement already satisfied: terminado>=0.8.3 in c:\\users\\tiffany\\anaconda3\\lib\\site-packages (from notebook>=4.4.1->widgetsnbextension~=3.5.0->ipywidgets>=7.0.0->cufflinks) (0.17.1)\n",
      "Requirement already satisfied: prometheus-client in c:\\users\\tiffany\\anaconda3\\lib\\site-packages (from notebook>=4.4.1->widgetsnbextension~=3.5.0->ipywidgets>=7.0.0->cufflinks) (0.14.1)\n",
      "Requirement already satisfied: Send2Trash>=1.8.0 in c:\\users\\tiffany\\anaconda3\\lib\\site-packages (from notebook>=4.4.1->widgetsnbextension~=3.5.0->ipywidgets>=7.0.0->cufflinks) (1.8.0)\n",
      "Requirement already satisfied: pyparsing!=3.0.5,>=2.0.2 in c:\\users\\tiffany\\appdata\\roaming\\python\\python310\\site-packages (from packaging->ipykernel>=4.5.1->ipywidgets>=7.0.0->cufflinks) (3.0.9)\n",
      "Requirement already satisfied: jupyter-server>=1.8 in c:\\users\\tiffany\\anaconda3\\lib\\site-packages (from nbclassic>=0.4.7->notebook>=4.4.1->widgetsnbextension~=3.5.0->ipywidgets>=7.0.0->cufflinks) (1.23.4)\n",
      "Requirement already satisfied: notebook-shim>=0.1.0 in c:\\users\\tiffany\\anaconda3\\lib\\site-packages (from nbclassic>=0.4.7->notebook>=4.4.1->widgetsnbextension~=3.5.0->ipywidgets>=7.0.0->cufflinks) (0.2.2)\n",
      "Requirement already satisfied: pandocfilters>=1.4.1 in c:\\users\\tiffany\\anaconda3\\lib\\site-packages (from nbconvert>=5->notebook>=4.4.1->widgetsnbextension~=3.5.0->ipywidgets>=7.0.0->cufflinks) (1.5.0)\n",
      "Requirement already satisfied: tinycss2 in c:\\users\\tiffany\\anaconda3\\lib\\site-packages (from nbconvert>=5->notebook>=4.4.1->widgetsnbextension~=3.5.0->ipywidgets>=7.0.0->cufflinks) (1.2.1)\n",
      "Requirement already satisfied: lxml in c:\\users\\tiffany\\anaconda3\\lib\\site-packages (from nbconvert>=5->notebook>=4.4.1->widgetsnbextension~=3.5.0->ipywidgets>=7.0.0->cufflinks) (4.9.1)\n",
      "Requirement already satisfied: bleach in c:\\users\\tiffany\\anaconda3\\lib\\site-packages (from nbconvert>=5->notebook>=4.4.1->widgetsnbextension~=3.5.0->ipywidgets>=7.0.0->cufflinks) (4.1.0)\n",
      "Requirement already satisfied: jupyterlab-pygments in c:\\users\\tiffany\\anaconda3\\lib\\site-packages (from nbconvert>=5->notebook>=4.4.1->widgetsnbextension~=3.5.0->ipywidgets>=7.0.0->cufflinks) (0.1.2)\n",
      "Requirement already satisfied: beautifulsoup4 in c:\\users\\tiffany\\anaconda3\\lib\\site-packages (from nbconvert>=5->notebook>=4.4.1->widgetsnbextension~=3.5.0->ipywidgets>=7.0.0->cufflinks) (4.11.1)\n",
      "Requirement already satisfied: mistune<2,>=0.8.1 in c:\\users\\tiffany\\anaconda3\\lib\\site-packages (from nbconvert>=5->notebook>=4.4.1->widgetsnbextension~=3.5.0->ipywidgets>=7.0.0->cufflinks) (0.8.4)\n",
      "Requirement already satisfied: MarkupSafe>=2.0 in c:\\users\\tiffany\\anaconda3\\lib\\site-packages (from nbconvert>=5->notebook>=4.4.1->widgetsnbextension~=3.5.0->ipywidgets>=7.0.0->cufflinks) (2.1.1)\n",
      "Requirement already satisfied: defusedxml in c:\\users\\tiffany\\anaconda3\\lib\\site-packages (from nbconvert>=5->notebook>=4.4.1->widgetsnbextension~=3.5.0->ipywidgets>=7.0.0->cufflinks) (0.7.1)\n",
      "Requirement already satisfied: nbclient>=0.5.0 in c:\\users\\tiffany\\anaconda3\\lib\\site-packages (from nbconvert>=5->notebook>=4.4.1->widgetsnbextension~=3.5.0->ipywidgets>=7.0.0->cufflinks) (0.5.13)\n",
      "Requirement already satisfied: pywinpty>=1.1.0 in c:\\users\\tiffany\\anaconda3\\lib\\site-packages (from terminado>=0.8.3->notebook>=4.4.1->widgetsnbextension~=3.5.0->ipywidgets>=7.0.0->cufflinks) (2.0.10)\n",
      "Requirement already satisfied: argon2-cffi-bindings in c:\\users\\tiffany\\anaconda3\\lib\\site-packages (from argon2-cffi->notebook>=4.4.1->widgetsnbextension~=3.5.0->ipywidgets>=7.0.0->cufflinks) (21.2.0)\n",
      "Requirement already satisfied: anyio<4,>=3.1.0 in c:\\users\\tiffany\\anaconda3\\lib\\site-packages (from jupyter-server>=1.8->nbclassic>=0.4.7->notebook>=4.4.1->widgetsnbextension~=3.5.0->ipywidgets>=7.0.0->cufflinks) (3.5.0)\n",
      "Requirement already satisfied: websocket-client in c:\\users\\tiffany\\anaconda3\\lib\\site-packages (from jupyter-server>=1.8->nbclassic>=0.4.7->notebook>=4.4.1->widgetsnbextension~=3.5.0->ipywidgets>=7.0.0->cufflinks) (0.58.0)\n",
      "Requirement already satisfied: cffi>=1.0.1 in c:\\users\\tiffany\\anaconda3\\lib\\site-packages (from argon2-cffi-bindings->argon2-cffi->notebook>=4.4.1->widgetsnbextension~=3.5.0->ipywidgets>=7.0.0->cufflinks) (1.15.1)\n",
      "Requirement already satisfied: soupsieve>1.2 in c:\\users\\tiffany\\anaconda3\\lib\\site-packages (from beautifulsoup4->nbconvert>=5->notebook>=4.4.1->widgetsnbextension~=3.5.0->ipywidgets>=7.0.0->cufflinks) (2.3.2.post1)\n",
      "Requirement already satisfied: webencodings in c:\\users\\tiffany\\anaconda3\\lib\\site-packages (from bleach->nbconvert>=5->notebook>=4.4.1->widgetsnbextension~=3.5.0->ipywidgets>=7.0.0->cufflinks) (0.5.1)\n",
      "Requirement already satisfied: sniffio>=1.1 in c:\\users\\tiffany\\anaconda3\\lib\\site-packages (from anyio<4,>=3.1.0->jupyter-server>=1.8->nbclassic>=0.4.7->notebook>=4.4.1->widgetsnbextension~=3.5.0->ipywidgets>=7.0.0->cufflinks) (1.2.0)\n",
      "Requirement already satisfied: idna>=2.8 in c:\\users\\tiffany\\anaconda3\\lib\\site-packages (from anyio<4,>=3.1.0->jupyter-server>=1.8->nbclassic>=0.4.7->notebook>=4.4.1->widgetsnbextension~=3.5.0->ipywidgets>=7.0.0->cufflinks) (3.4)\n",
      "Requirement already satisfied: pycparser in c:\\users\\tiffany\\anaconda3\\lib\\site-packages (from cffi>=1.0.1->argon2-cffi-bindings->argon2-cffi->notebook>=4.4.1->widgetsnbextension~=3.5.0->ipywidgets>=7.0.0->cufflinks) (2.21)\n"
     ]
    }
   ],
   "source": [
    "!pip install chart-studio\n",
    "!pip install cufflinks\n",
    "import pandas as pd\n",
    "import numpy as np\n",
    "%matplotlib inline"
   ]
  },
  {
   "cell_type": "code",
   "execution_count": 2,
   "metadata": {},
   "outputs": [],
   "source": [
    "import chart_studio.plotly as py"
   ]
  },
  {
   "cell_type": "code",
   "execution_count": 3,
   "metadata": {},
   "outputs": [
    {
     "name": "stdout",
     "output_type": "stream",
     "text": [
      "5.9.0\n"
     ]
    }
   ],
   "source": [
    "from plotly import __version__\n",
    "from plotly.offline import download_plotlyjs, init_notebook_mode, plot, iplot\n",
    "\n",
    "print(__version__) # requires version >= 1.9.0"
   ]
  },
  {
   "cell_type": "code",
   "execution_count": 4,
   "metadata": {},
   "outputs": [],
   "source": [
    "import cufflinks as cf"
   ]
  },
  {
   "cell_type": "code",
   "execution_count": 5,
   "metadata": {},
   "outputs": [
    {
     "data": {
      "text/html": [
       "        <script type=\"text/javascript\">\n",
       "        window.PlotlyConfig = {MathJaxConfig: 'local'};\n",
       "        if (window.MathJax && window.MathJax.Hub && window.MathJax.Hub.Config) {window.MathJax.Hub.Config({SVG: {font: \"STIX-Web\"}});}\n",
       "        if (typeof require !== 'undefined') {\n",
       "        require.undef(\"plotly\");\n",
       "        requirejs.config({\n",
       "            paths: {\n",
       "                'plotly': ['https://cdn.plot.ly/plotly-2.12.1.min']\n",
       "            }\n",
       "        });\n",
       "        require(['plotly'], function(Plotly) {\n",
       "            window._Plotly = Plotly;\n",
       "        });\n",
       "        }\n",
       "        </script>\n",
       "        "
      ]
     },
     "metadata": {},
     "output_type": "display_data"
    }
   ],
   "source": [
    "# For Notebooks\n",
    "init_notebook_mode(connected=True)"
   ]
  },
  {
   "cell_type": "code",
   "execution_count": 6,
   "metadata": {},
   "outputs": [
    {
     "data": {
      "text/html": [
       "        <script type=\"text/javascript\">\n",
       "        window.PlotlyConfig = {MathJaxConfig: 'local'};\n",
       "        if (window.MathJax && window.MathJax.Hub && window.MathJax.Hub.Config) {window.MathJax.Hub.Config({SVG: {font: \"STIX-Web\"}});}\n",
       "        if (typeof require !== 'undefined') {\n",
       "        require.undef(\"plotly\");\n",
       "        requirejs.config({\n",
       "            paths: {\n",
       "                'plotly': ['https://cdn.plot.ly/plotly-2.12.1.min']\n",
       "            }\n",
       "        });\n",
       "        require(['plotly'], function(Plotly) {\n",
       "            window._Plotly = Plotly;\n",
       "        });\n",
       "        }\n",
       "        </script>\n",
       "        "
      ]
     },
     "metadata": {},
     "output_type": "display_data"
    }
   ],
   "source": [
    "# For offline use\n",
    "cf.go_offline()"
   ]
  },
  {
   "cell_type": "markdown",
   "metadata": {},
   "source": [
    "### Fake Data"
   ]
  },
  {
   "cell_type": "code",
   "execution_count": 7,
   "metadata": {},
   "outputs": [],
   "source": [
    "df = pd.DataFrame(np.random.randn(100,4),columns='A B C D'.split())"
   ]
  },
  {
   "cell_type": "code",
   "execution_count": 8,
   "metadata": {},
   "outputs": [
    {
     "data": {
      "text/html": [
       "<div>\n",
       "<style scoped>\n",
       "    .dataframe tbody tr th:only-of-type {\n",
       "        vertical-align: middle;\n",
       "    }\n",
       "\n",
       "    .dataframe tbody tr th {\n",
       "        vertical-align: top;\n",
       "    }\n",
       "\n",
       "    .dataframe thead th {\n",
       "        text-align: right;\n",
       "    }\n",
       "</style>\n",
       "<table border=\"1\" class=\"dataframe\">\n",
       "  <thead>\n",
       "    <tr style=\"text-align: right;\">\n",
       "      <th></th>\n",
       "      <th>A</th>\n",
       "      <th>B</th>\n",
       "      <th>C</th>\n",
       "      <th>D</th>\n",
       "    </tr>\n",
       "  </thead>\n",
       "  <tbody>\n",
       "    <tr>\n",
       "      <th>0</th>\n",
       "      <td>0.260949</td>\n",
       "      <td>-2.285829</td>\n",
       "      <td>0.325331</td>\n",
       "      <td>0.417943</td>\n",
       "    </tr>\n",
       "    <tr>\n",
       "      <th>1</th>\n",
       "      <td>0.675643</td>\n",
       "      <td>-0.368925</td>\n",
       "      <td>-1.094851</td>\n",
       "      <td>-0.032617</td>\n",
       "    </tr>\n",
       "    <tr>\n",
       "      <th>2</th>\n",
       "      <td>-1.681326</td>\n",
       "      <td>-0.487809</td>\n",
       "      <td>-1.255698</td>\n",
       "      <td>-0.455017</td>\n",
       "    </tr>\n",
       "    <tr>\n",
       "      <th>3</th>\n",
       "      <td>0.720457</td>\n",
       "      <td>0.089998</td>\n",
       "      <td>-0.711535</td>\n",
       "      <td>-0.004208</td>\n",
       "    </tr>\n",
       "    <tr>\n",
       "      <th>4</th>\n",
       "      <td>-0.227049</td>\n",
       "      <td>0.299269</td>\n",
       "      <td>-1.573458</td>\n",
       "      <td>-0.622300</td>\n",
       "    </tr>\n",
       "  </tbody>\n",
       "</table>\n",
       "</div>"
      ],
      "text/plain": [
       "          A         B         C         D\n",
       "0  0.260949 -2.285829  0.325331  0.417943\n",
       "1  0.675643 -0.368925 -1.094851 -0.032617\n",
       "2 -1.681326 -0.487809 -1.255698 -0.455017\n",
       "3  0.720457  0.089998 -0.711535 -0.004208\n",
       "4 -0.227049  0.299269 -1.573458 -0.622300"
      ]
     },
     "execution_count": 8,
     "metadata": {},
     "output_type": "execute_result"
    }
   ],
   "source": [
    "df.head()"
   ]
  },
  {
   "cell_type": "code",
   "execution_count": 9,
   "metadata": {},
   "outputs": [],
   "source": [
    "df2 = pd.DataFrame({'Category':['A','B','C'],'Values':[32,43,50]})"
   ]
  },
  {
   "cell_type": "code",
   "execution_count": 10,
   "metadata": {},
   "outputs": [
    {
     "data": {
      "text/html": [
       "<div>\n",
       "<style scoped>\n",
       "    .dataframe tbody tr th:only-of-type {\n",
       "        vertical-align: middle;\n",
       "    }\n",
       "\n",
       "    .dataframe tbody tr th {\n",
       "        vertical-align: top;\n",
       "    }\n",
       "\n",
       "    .dataframe thead th {\n",
       "        text-align: right;\n",
       "    }\n",
       "</style>\n",
       "<table border=\"1\" class=\"dataframe\">\n",
       "  <thead>\n",
       "    <tr style=\"text-align: right;\">\n",
       "      <th></th>\n",
       "      <th>Category</th>\n",
       "      <th>Values</th>\n",
       "    </tr>\n",
       "  </thead>\n",
       "  <tbody>\n",
       "    <tr>\n",
       "      <th>0</th>\n",
       "      <td>A</td>\n",
       "      <td>32</td>\n",
       "    </tr>\n",
       "    <tr>\n",
       "      <th>1</th>\n",
       "      <td>B</td>\n",
       "      <td>43</td>\n",
       "    </tr>\n",
       "    <tr>\n",
       "      <th>2</th>\n",
       "      <td>C</td>\n",
       "      <td>50</td>\n",
       "    </tr>\n",
       "  </tbody>\n",
       "</table>\n",
       "</div>"
      ],
      "text/plain": [
       "  Category  Values\n",
       "0        A      32\n",
       "1        B      43\n",
       "2        C      50"
      ]
     },
     "execution_count": 10,
     "metadata": {},
     "output_type": "execute_result"
    }
   ],
   "source": [
    "df2.head()"
   ]
  },
  {
   "cell_type": "markdown",
   "metadata": {},
   "source": [
    "## Using Cufflinks and iplot()\n",
    "\n",
    "* scatter\n",
    "* bar\n",
    "* box\n",
    "* spread\n",
    "* ratio\n",
    "* heatmap\n",
    "* surface\n",
    "* histogram\n",
    "* bubble"
   ]
  },
  {
   "cell_type": "markdown",
   "metadata": {},
   "source": [
    "## Scatter"
   ]
  },
  {
   "cell_type": "code",
   "execution_count": 11,
   "metadata": {},
   "outputs": [
    {
     "data": {
      "application/vnd.plotly.v1+json": {
       "config": {
        "linkText": "Export to plot.ly",
        "plotlyServerURL": "https://plot.ly",
        "showLink": true
       },
       "data": [
        {
         "line": {
          "color": "rgba(255, 153, 51, 1.0)",
          "dash": "solid",
          "shape": "linear",
          "width": 1.3
         },
         "marker": {
          "size": 10,
          "symbol": "circle"
         },
         "mode": "markers",
         "name": "B",
         "text": "",
         "type": "scatter",
         "x": [
          0.26094944737820464,
          0.6756427948506019,
          -1.6813264412755256,
          0.7204565479924322,
          -0.22704880191720428,
          1.6257351533472952,
          -0.4942521366331942,
          0.7554812681062507,
          -0.012121861711336316,
          0.6690437492201413,
          -0.3900373476123656,
          -1.8547898714279738,
          -1.4816658495535915,
          0.23413255955366494,
          0.21034036783623777,
          -0.5905362775657257,
          0.44400914529871144,
          -0.08988354995132182,
          -0.9092428787691089,
          0.1390659850483001,
          0.12827195930806926,
          -0.8936444613365111,
          0.48411247557442094,
          0.5712665158701542,
          -0.2306417488905862,
          1.0621829798421933,
          0.8049419422180617,
          0.3098617097266694,
          -1.2459142215390526,
          -1.5421708395982974,
          -0.28945802864526166,
          -0.457410342620502,
          0.8842863964667576,
          0.4716178732561643,
          1.080769153106927,
          -0.3027219145109648,
          1.4535241446092566,
          -2.006165431524184,
          0.3457218679585976,
          1.2554394332593966,
          1.583191788122711,
          0.1001572144415794,
          0.1218111415464603,
          0.7644233984677314,
          0.6256263350098222,
          -1.0406876639569114,
          -1.1116255859285793,
          -1.3226346404362888,
          0.9521322476501216,
          0.10361535193926541,
          1.6796946454820472,
          -1.0312332635688635,
          -1.6719091796148713,
          -1.4620898703178808,
          -2.338268650433877,
          0.7249705026245721,
          1.892208054311665,
          -0.8650989366390816,
          -0.36156197736492707,
          0.5556931482624534,
          0.5550851907531508,
          -2.7372209835746997,
          1.556315017341361,
          0.40241766720405525,
          0.459800704742713,
          0.010839974417914938,
          0.2869058777525109,
          -0.20948496585773907,
          -0.3228919963689883,
          -0.9424428117102946,
          0.08004987528207808,
          -1.722571435733268,
          -1.2599461951241895,
          -1.1399593241709116,
          0.9427614038338752,
          -0.608796670914509,
          -0.180982777034367,
          1.7219984547975717,
          -0.026529348892462685,
          -0.09822764343422868,
          -1.944606864250181,
          0.8610178999848556,
          1.2603732054512387,
          -0.7031761322484911,
          -0.6031228391849389,
          -0.21885822736009458,
          0.4179951312327664,
          1.1013003666583145,
          0.9154925356461139,
          0.09501597794814125,
          -2.216397093263774,
          0.9567752156312098,
          0.5091191071901275,
          -1.2976367682644396,
          0.252814044628649,
          -0.1696171000230781,
          1.2540223824766012,
          -1.1091293259988333,
          -0.07234965598861014,
          -0.4820456279286618
         ],
         "y": [
          -2.2858288822656303,
          -0.3689246942451719,
          -0.4878085442863548,
          0.0899980136684595,
          0.29926889068795876,
          0.17158248776965915,
          -1.6060521316690806,
          0.8454748009189931,
          -0.7780592645242341,
          -1.5565002087012068,
          1.0372025831271199,
          0.8400056526466327,
          -0.9864917656790733,
          -0.7865337495103956,
          -0.4908674300457295,
          0.065209412493217,
          0.9568752404687892,
          -0.8396432482350337,
          -0.12579337362106027,
          -0.2521365828886802,
          -0.5335363396262771,
          -1.1038689888634035,
          0.4702284473695049,
          1.0127134627231362,
          0.06357379909821854,
          0.17666908872890652,
          -2.219413202901428,
          0.16988007691544227,
          0.21331495447507157,
          -0.38144917787193,
          -0.7234233309210866,
          1.1654897644783366,
          -0.0939289539623439,
          2.0170523368074034,
          -1.066331684671368,
          -1.2550980664771623,
          -0.6834753077766862,
          -1.9776636533758316,
          -0.7071974935890099,
          -0.8647725828109243,
          0.666397539151505,
          -2.1561037115340382,
          1.3088668119173679,
          0.1895499161046491,
          -0.2143124885233418,
          1.5600407751980936,
          1.49517789425164,
          -1.3163885089797722,
          0.3071100790489101,
          -1.1334144746266988,
          -1.3048753478925657,
          -1.7737873100165837,
          -1.311819431354197,
          0.6547271610296218,
          -1.080829127609142,
          -0.14106417250186926,
          1.12593274559256,
          -0.18690924228657932,
          1.0632163358016373,
          -0.9635096609258548,
          0.5013097476381637,
          -0.41205755974149105,
          0.7461619496075209,
          -2.0031465844771246,
          -1.4463887314168276,
          1.26252117377817,
          -1.2231128761730659,
          -0.02423340109344603,
          2.4622973856990584,
          0.4021529194125459,
          -0.7330723509578897,
          -0.04278911282889734,
          -0.3491149144994279,
          1.083279811870235,
          1.0426110712780547,
          -1.8778181299002392,
          -1.0794577182216054,
          -1.5317866657565158,
          1.0165126478271154,
          -0.8934024272225225,
          -0.3084887191806035,
          -0.699643240815849,
          -0.6605125009688817,
          2.1852107666274163,
          0.996809877383777,
          0.06108618985377447,
          2.4562499159811915,
          0.8295824341081318,
          1.4581308222086655,
          1.0332082700772245,
          0.6149475497997644,
          0.12629079890159314,
          -1.1722907357555292,
          -0.8750580032179174,
          0.2213111053489606,
          0.9767123482772395,
          1.3429699882896668,
          0.4560223707490966,
          -0.10333857580881216,
          0.7250381311930914
         ]
        }
       ],
       "layout": {
        "legend": {
         "bgcolor": "#F5F6F9",
         "font": {
          "color": "#4D5663"
         }
        },
        "paper_bgcolor": "#F5F6F9",
        "plot_bgcolor": "#F5F6F9",
        "template": {
         "data": {
          "bar": [
           {
            "error_x": {
             "color": "#2a3f5f"
            },
            "error_y": {
             "color": "#2a3f5f"
            },
            "marker": {
             "line": {
              "color": "#E5ECF6",
              "width": 0.5
             },
             "pattern": {
              "fillmode": "overlay",
              "size": 10,
              "solidity": 0.2
             }
            },
            "type": "bar"
           }
          ],
          "barpolar": [
           {
            "marker": {
             "line": {
              "color": "#E5ECF6",
              "width": 0.5
             },
             "pattern": {
              "fillmode": "overlay",
              "size": 10,
              "solidity": 0.2
             }
            },
            "type": "barpolar"
           }
          ],
          "carpet": [
           {
            "aaxis": {
             "endlinecolor": "#2a3f5f",
             "gridcolor": "white",
             "linecolor": "white",
             "minorgridcolor": "white",
             "startlinecolor": "#2a3f5f"
            },
            "baxis": {
             "endlinecolor": "#2a3f5f",
             "gridcolor": "white",
             "linecolor": "white",
             "minorgridcolor": "white",
             "startlinecolor": "#2a3f5f"
            },
            "type": "carpet"
           }
          ],
          "choropleth": [
           {
            "colorbar": {
             "outlinewidth": 0,
             "ticks": ""
            },
            "type": "choropleth"
           }
          ],
          "contour": [
           {
            "colorbar": {
             "outlinewidth": 0,
             "ticks": ""
            },
            "colorscale": [
             [
              0,
              "#0d0887"
             ],
             [
              0.1111111111111111,
              "#46039f"
             ],
             [
              0.2222222222222222,
              "#7201a8"
             ],
             [
              0.3333333333333333,
              "#9c179e"
             ],
             [
              0.4444444444444444,
              "#bd3786"
             ],
             [
              0.5555555555555556,
              "#d8576b"
             ],
             [
              0.6666666666666666,
              "#ed7953"
             ],
             [
              0.7777777777777778,
              "#fb9f3a"
             ],
             [
              0.8888888888888888,
              "#fdca26"
             ],
             [
              1,
              "#f0f921"
             ]
            ],
            "type": "contour"
           }
          ],
          "contourcarpet": [
           {
            "colorbar": {
             "outlinewidth": 0,
             "ticks": ""
            },
            "type": "contourcarpet"
           }
          ],
          "heatmap": [
           {
            "colorbar": {
             "outlinewidth": 0,
             "ticks": ""
            },
            "colorscale": [
             [
              0,
              "#0d0887"
             ],
             [
              0.1111111111111111,
              "#46039f"
             ],
             [
              0.2222222222222222,
              "#7201a8"
             ],
             [
              0.3333333333333333,
              "#9c179e"
             ],
             [
              0.4444444444444444,
              "#bd3786"
             ],
             [
              0.5555555555555556,
              "#d8576b"
             ],
             [
              0.6666666666666666,
              "#ed7953"
             ],
             [
              0.7777777777777778,
              "#fb9f3a"
             ],
             [
              0.8888888888888888,
              "#fdca26"
             ],
             [
              1,
              "#f0f921"
             ]
            ],
            "type": "heatmap"
           }
          ],
          "heatmapgl": [
           {
            "colorbar": {
             "outlinewidth": 0,
             "ticks": ""
            },
            "colorscale": [
             [
              0,
              "#0d0887"
             ],
             [
              0.1111111111111111,
              "#46039f"
             ],
             [
              0.2222222222222222,
              "#7201a8"
             ],
             [
              0.3333333333333333,
              "#9c179e"
             ],
             [
              0.4444444444444444,
              "#bd3786"
             ],
             [
              0.5555555555555556,
              "#d8576b"
             ],
             [
              0.6666666666666666,
              "#ed7953"
             ],
             [
              0.7777777777777778,
              "#fb9f3a"
             ],
             [
              0.8888888888888888,
              "#fdca26"
             ],
             [
              1,
              "#f0f921"
             ]
            ],
            "type": "heatmapgl"
           }
          ],
          "histogram": [
           {
            "marker": {
             "pattern": {
              "fillmode": "overlay",
              "size": 10,
              "solidity": 0.2
             }
            },
            "type": "histogram"
           }
          ],
          "histogram2d": [
           {
            "colorbar": {
             "outlinewidth": 0,
             "ticks": ""
            },
            "colorscale": [
             [
              0,
              "#0d0887"
             ],
             [
              0.1111111111111111,
              "#46039f"
             ],
             [
              0.2222222222222222,
              "#7201a8"
             ],
             [
              0.3333333333333333,
              "#9c179e"
             ],
             [
              0.4444444444444444,
              "#bd3786"
             ],
             [
              0.5555555555555556,
              "#d8576b"
             ],
             [
              0.6666666666666666,
              "#ed7953"
             ],
             [
              0.7777777777777778,
              "#fb9f3a"
             ],
             [
              0.8888888888888888,
              "#fdca26"
             ],
             [
              1,
              "#f0f921"
             ]
            ],
            "type": "histogram2d"
           }
          ],
          "histogram2dcontour": [
           {
            "colorbar": {
             "outlinewidth": 0,
             "ticks": ""
            },
            "colorscale": [
             [
              0,
              "#0d0887"
             ],
             [
              0.1111111111111111,
              "#46039f"
             ],
             [
              0.2222222222222222,
              "#7201a8"
             ],
             [
              0.3333333333333333,
              "#9c179e"
             ],
             [
              0.4444444444444444,
              "#bd3786"
             ],
             [
              0.5555555555555556,
              "#d8576b"
             ],
             [
              0.6666666666666666,
              "#ed7953"
             ],
             [
              0.7777777777777778,
              "#fb9f3a"
             ],
             [
              0.8888888888888888,
              "#fdca26"
             ],
             [
              1,
              "#f0f921"
             ]
            ],
            "type": "histogram2dcontour"
           }
          ],
          "mesh3d": [
           {
            "colorbar": {
             "outlinewidth": 0,
             "ticks": ""
            },
            "type": "mesh3d"
           }
          ],
          "parcoords": [
           {
            "line": {
             "colorbar": {
              "outlinewidth": 0,
              "ticks": ""
             }
            },
            "type": "parcoords"
           }
          ],
          "pie": [
           {
            "automargin": true,
            "type": "pie"
           }
          ],
          "scatter": [
           {
            "fillpattern": {
             "fillmode": "overlay",
             "size": 10,
             "solidity": 0.2
            },
            "type": "scatter"
           }
          ],
          "scatter3d": [
           {
            "line": {
             "colorbar": {
              "outlinewidth": 0,
              "ticks": ""
             }
            },
            "marker": {
             "colorbar": {
              "outlinewidth": 0,
              "ticks": ""
             }
            },
            "type": "scatter3d"
           }
          ],
          "scattercarpet": [
           {
            "marker": {
             "colorbar": {
              "outlinewidth": 0,
              "ticks": ""
             }
            },
            "type": "scattercarpet"
           }
          ],
          "scattergeo": [
           {
            "marker": {
             "colorbar": {
              "outlinewidth": 0,
              "ticks": ""
             }
            },
            "type": "scattergeo"
           }
          ],
          "scattergl": [
           {
            "marker": {
             "colorbar": {
              "outlinewidth": 0,
              "ticks": ""
             }
            },
            "type": "scattergl"
           }
          ],
          "scattermapbox": [
           {
            "marker": {
             "colorbar": {
              "outlinewidth": 0,
              "ticks": ""
             }
            },
            "type": "scattermapbox"
           }
          ],
          "scatterpolar": [
           {
            "marker": {
             "colorbar": {
              "outlinewidth": 0,
              "ticks": ""
             }
            },
            "type": "scatterpolar"
           }
          ],
          "scatterpolargl": [
           {
            "marker": {
             "colorbar": {
              "outlinewidth": 0,
              "ticks": ""
             }
            },
            "type": "scatterpolargl"
           }
          ],
          "scatterternary": [
           {
            "marker": {
             "colorbar": {
              "outlinewidth": 0,
              "ticks": ""
             }
            },
            "type": "scatterternary"
           }
          ],
          "surface": [
           {
            "colorbar": {
             "outlinewidth": 0,
             "ticks": ""
            },
            "colorscale": [
             [
              0,
              "#0d0887"
             ],
             [
              0.1111111111111111,
              "#46039f"
             ],
             [
              0.2222222222222222,
              "#7201a8"
             ],
             [
              0.3333333333333333,
              "#9c179e"
             ],
             [
              0.4444444444444444,
              "#bd3786"
             ],
             [
              0.5555555555555556,
              "#d8576b"
             ],
             [
              0.6666666666666666,
              "#ed7953"
             ],
             [
              0.7777777777777778,
              "#fb9f3a"
             ],
             [
              0.8888888888888888,
              "#fdca26"
             ],
             [
              1,
              "#f0f921"
             ]
            ],
            "type": "surface"
           }
          ],
          "table": [
           {
            "cells": {
             "fill": {
              "color": "#EBF0F8"
             },
             "line": {
              "color": "white"
             }
            },
            "header": {
             "fill": {
              "color": "#C8D4E3"
             },
             "line": {
              "color": "white"
             }
            },
            "type": "table"
           }
          ]
         },
         "layout": {
          "annotationdefaults": {
           "arrowcolor": "#2a3f5f",
           "arrowhead": 0,
           "arrowwidth": 1
          },
          "autotypenumbers": "strict",
          "coloraxis": {
           "colorbar": {
            "outlinewidth": 0,
            "ticks": ""
           }
          },
          "colorscale": {
           "diverging": [
            [
             0,
             "#8e0152"
            ],
            [
             0.1,
             "#c51b7d"
            ],
            [
             0.2,
             "#de77ae"
            ],
            [
             0.3,
             "#f1b6da"
            ],
            [
             0.4,
             "#fde0ef"
            ],
            [
             0.5,
             "#f7f7f7"
            ],
            [
             0.6,
             "#e6f5d0"
            ],
            [
             0.7,
             "#b8e186"
            ],
            [
             0.8,
             "#7fbc41"
            ],
            [
             0.9,
             "#4d9221"
            ],
            [
             1,
             "#276419"
            ]
           ],
           "sequential": [
            [
             0,
             "#0d0887"
            ],
            [
             0.1111111111111111,
             "#46039f"
            ],
            [
             0.2222222222222222,
             "#7201a8"
            ],
            [
             0.3333333333333333,
             "#9c179e"
            ],
            [
             0.4444444444444444,
             "#bd3786"
            ],
            [
             0.5555555555555556,
             "#d8576b"
            ],
            [
             0.6666666666666666,
             "#ed7953"
            ],
            [
             0.7777777777777778,
             "#fb9f3a"
            ],
            [
             0.8888888888888888,
             "#fdca26"
            ],
            [
             1,
             "#f0f921"
            ]
           ],
           "sequentialminus": [
            [
             0,
             "#0d0887"
            ],
            [
             0.1111111111111111,
             "#46039f"
            ],
            [
             0.2222222222222222,
             "#7201a8"
            ],
            [
             0.3333333333333333,
             "#9c179e"
            ],
            [
             0.4444444444444444,
             "#bd3786"
            ],
            [
             0.5555555555555556,
             "#d8576b"
            ],
            [
             0.6666666666666666,
             "#ed7953"
            ],
            [
             0.7777777777777778,
             "#fb9f3a"
            ],
            [
             0.8888888888888888,
             "#fdca26"
            ],
            [
             1,
             "#f0f921"
            ]
           ]
          },
          "colorway": [
           "#636efa",
           "#EF553B",
           "#00cc96",
           "#ab63fa",
           "#FFA15A",
           "#19d3f3",
           "#FF6692",
           "#B6E880",
           "#FF97FF",
           "#FECB52"
          ],
          "font": {
           "color": "#2a3f5f"
          },
          "geo": {
           "bgcolor": "white",
           "lakecolor": "white",
           "landcolor": "#E5ECF6",
           "showlakes": true,
           "showland": true,
           "subunitcolor": "white"
          },
          "hoverlabel": {
           "align": "left"
          },
          "hovermode": "closest",
          "mapbox": {
           "style": "light"
          },
          "paper_bgcolor": "white",
          "plot_bgcolor": "#E5ECF6",
          "polar": {
           "angularaxis": {
            "gridcolor": "white",
            "linecolor": "white",
            "ticks": ""
           },
           "bgcolor": "#E5ECF6",
           "radialaxis": {
            "gridcolor": "white",
            "linecolor": "white",
            "ticks": ""
           }
          },
          "scene": {
           "xaxis": {
            "backgroundcolor": "#E5ECF6",
            "gridcolor": "white",
            "gridwidth": 2,
            "linecolor": "white",
            "showbackground": true,
            "ticks": "",
            "zerolinecolor": "white"
           },
           "yaxis": {
            "backgroundcolor": "#E5ECF6",
            "gridcolor": "white",
            "gridwidth": 2,
            "linecolor": "white",
            "showbackground": true,
            "ticks": "",
            "zerolinecolor": "white"
           },
           "zaxis": {
            "backgroundcolor": "#E5ECF6",
            "gridcolor": "white",
            "gridwidth": 2,
            "linecolor": "white",
            "showbackground": true,
            "ticks": "",
            "zerolinecolor": "white"
           }
          },
          "shapedefaults": {
           "line": {
            "color": "#2a3f5f"
           }
          },
          "ternary": {
           "aaxis": {
            "gridcolor": "white",
            "linecolor": "white",
            "ticks": ""
           },
           "baxis": {
            "gridcolor": "white",
            "linecolor": "white",
            "ticks": ""
           },
           "bgcolor": "#E5ECF6",
           "caxis": {
            "gridcolor": "white",
            "linecolor": "white",
            "ticks": ""
           }
          },
          "title": {
           "x": 0.05
          },
          "xaxis": {
           "automargin": true,
           "gridcolor": "white",
           "linecolor": "white",
           "ticks": "",
           "title": {
            "standoff": 15
           },
           "zerolinecolor": "white",
           "zerolinewidth": 2
          },
          "yaxis": {
           "automargin": true,
           "gridcolor": "white",
           "linecolor": "white",
           "ticks": "",
           "title": {
            "standoff": 15
           },
           "zerolinecolor": "white",
           "zerolinewidth": 2
          }
         }
        },
        "title": {
         "font": {
          "color": "#4D5663"
         }
        },
        "xaxis": {
         "gridcolor": "#E1E5ED",
         "showgrid": true,
         "tickfont": {
          "color": "#4D5663"
         },
         "title": {
          "font": {
           "color": "#4D5663"
          },
          "text": ""
         },
         "zerolinecolor": "#E1E5ED"
        },
        "yaxis": {
         "gridcolor": "#E1E5ED",
         "showgrid": true,
         "tickfont": {
          "color": "#4D5663"
         },
         "title": {
          "font": {
           "color": "#4D5663"
          },
          "text": ""
         },
         "zerolinecolor": "#E1E5ED"
        }
       }
      },
      "text/html": [
       "<div>                            <div id=\"03d96274-10a8-42dd-8f70-482f08282838\" class=\"plotly-graph-div\" style=\"height:525px; width:100%;\"></div>            <script type=\"text/javascript\">                require([\"plotly\"], function(Plotly) {                    window.PLOTLYENV=window.PLOTLYENV || {};\n",
       "                    window.PLOTLYENV.BASE_URL='https://plot.ly';                                    if (document.getElementById(\"03d96274-10a8-42dd-8f70-482f08282838\")) {                    Plotly.newPlot(                        \"03d96274-10a8-42dd-8f70-482f08282838\",                        [{\"line\":{\"color\":\"rgba(255, 153, 51, 1.0)\",\"dash\":\"solid\",\"shape\":\"linear\",\"width\":1.3},\"marker\":{\"size\":10,\"symbol\":\"circle\"},\"mode\":\"markers\",\"name\":\"B\",\"text\":\"\",\"x\":[0.26094944737820464,0.6756427948506019,-1.6813264412755256,0.7204565479924322,-0.22704880191720428,1.6257351533472952,-0.4942521366331942,0.7554812681062507,-0.012121861711336316,0.6690437492201413,-0.3900373476123656,-1.8547898714279738,-1.4816658495535915,0.23413255955366494,0.21034036783623777,-0.5905362775657257,0.44400914529871144,-0.08988354995132182,-0.9092428787691089,0.1390659850483001,0.12827195930806926,-0.8936444613365111,0.48411247557442094,0.5712665158701542,-0.2306417488905862,1.0621829798421933,0.8049419422180617,0.3098617097266694,-1.2459142215390526,-1.5421708395982974,-0.28945802864526166,-0.457410342620502,0.8842863964667576,0.4716178732561643,1.080769153106927,-0.3027219145109648,1.4535241446092566,-2.006165431524184,0.3457218679585976,1.2554394332593966,1.583191788122711,0.1001572144415794,0.1218111415464603,0.7644233984677314,0.6256263350098222,-1.0406876639569114,-1.1116255859285793,-1.3226346404362888,0.9521322476501216,0.10361535193926541,1.6796946454820472,-1.0312332635688635,-1.6719091796148713,-1.4620898703178808,-2.338268650433877,0.7249705026245721,1.892208054311665,-0.8650989366390816,-0.36156197736492707,0.5556931482624534,0.5550851907531508,-2.7372209835746997,1.556315017341361,0.40241766720405525,0.459800704742713,0.010839974417914938,0.2869058777525109,-0.20948496585773907,-0.3228919963689883,-0.9424428117102946,0.08004987528207808,-1.722571435733268,-1.2599461951241895,-1.1399593241709116,0.9427614038338752,-0.608796670914509,-0.180982777034367,1.7219984547975717,-0.026529348892462685,-0.09822764343422868,-1.944606864250181,0.8610178999848556,1.2603732054512387,-0.7031761322484911,-0.6031228391849389,-0.21885822736009458,0.4179951312327664,1.1013003666583145,0.9154925356461139,0.09501597794814125,-2.216397093263774,0.9567752156312098,0.5091191071901275,-1.2976367682644396,0.252814044628649,-0.1696171000230781,1.2540223824766012,-1.1091293259988333,-0.07234965598861014,-0.4820456279286618],\"y\":[-2.2858288822656303,-0.3689246942451719,-0.4878085442863548,0.0899980136684595,0.29926889068795876,0.17158248776965915,-1.6060521316690806,0.8454748009189931,-0.7780592645242341,-1.5565002087012068,1.0372025831271199,0.8400056526466327,-0.9864917656790733,-0.7865337495103956,-0.4908674300457295,0.065209412493217,0.9568752404687892,-0.8396432482350337,-0.12579337362106027,-0.2521365828886802,-0.5335363396262771,-1.1038689888634035,0.4702284473695049,1.0127134627231362,0.06357379909821854,0.17666908872890652,-2.219413202901428,0.16988007691544227,0.21331495447507157,-0.38144917787193,-0.7234233309210866,1.1654897644783366,-0.0939289539623439,2.0170523368074034,-1.066331684671368,-1.2550980664771623,-0.6834753077766862,-1.9776636533758316,-0.7071974935890099,-0.8647725828109243,0.666397539151505,-2.1561037115340382,1.3088668119173679,0.1895499161046491,-0.2143124885233418,1.5600407751980936,1.49517789425164,-1.3163885089797722,0.3071100790489101,-1.1334144746266988,-1.3048753478925657,-1.7737873100165837,-1.311819431354197,0.6547271610296218,-1.080829127609142,-0.14106417250186926,1.12593274559256,-0.18690924228657932,1.0632163358016373,-0.9635096609258548,0.5013097476381637,-0.41205755974149105,0.7461619496075209,-2.0031465844771246,-1.4463887314168276,1.26252117377817,-1.2231128761730659,-0.02423340109344603,2.4622973856990584,0.4021529194125459,-0.7330723509578897,-0.04278911282889734,-0.3491149144994279,1.083279811870235,1.0426110712780547,-1.8778181299002392,-1.0794577182216054,-1.5317866657565158,1.0165126478271154,-0.8934024272225225,-0.3084887191806035,-0.699643240815849,-0.6605125009688817,2.1852107666274163,0.996809877383777,0.06108618985377447,2.4562499159811915,0.8295824341081318,1.4581308222086655,1.0332082700772245,0.6149475497997644,0.12629079890159314,-1.1722907357555292,-0.8750580032179174,0.2213111053489606,0.9767123482772395,1.3429699882896668,0.4560223707490966,-0.10333857580881216,0.7250381311930914],\"type\":\"scatter\"}],                        {\"legend\":{\"bgcolor\":\"#F5F6F9\",\"font\":{\"color\":\"#4D5663\"}},\"paper_bgcolor\":\"#F5F6F9\",\"plot_bgcolor\":\"#F5F6F9\",\"template\":{\"data\":{\"barpolar\":[{\"marker\":{\"line\":{\"color\":\"#E5ECF6\",\"width\":0.5},\"pattern\":{\"fillmode\":\"overlay\",\"size\":10,\"solidity\":0.2}},\"type\":\"barpolar\"}],\"bar\":[{\"error_x\":{\"color\":\"#2a3f5f\"},\"error_y\":{\"color\":\"#2a3f5f\"},\"marker\":{\"line\":{\"color\":\"#E5ECF6\",\"width\":0.5},\"pattern\":{\"fillmode\":\"overlay\",\"size\":10,\"solidity\":0.2}},\"type\":\"bar\"}],\"carpet\":[{\"aaxis\":{\"endlinecolor\":\"#2a3f5f\",\"gridcolor\":\"white\",\"linecolor\":\"white\",\"minorgridcolor\":\"white\",\"startlinecolor\":\"#2a3f5f\"},\"baxis\":{\"endlinecolor\":\"#2a3f5f\",\"gridcolor\":\"white\",\"linecolor\":\"white\",\"minorgridcolor\":\"white\",\"startlinecolor\":\"#2a3f5f\"},\"type\":\"carpet\"}],\"choropleth\":[{\"colorbar\":{\"outlinewidth\":0,\"ticks\":\"\"},\"type\":\"choropleth\"}],\"contourcarpet\":[{\"colorbar\":{\"outlinewidth\":0,\"ticks\":\"\"},\"type\":\"contourcarpet\"}],\"contour\":[{\"colorbar\":{\"outlinewidth\":0,\"ticks\":\"\"},\"colorscale\":[[0.0,\"#0d0887\"],[0.1111111111111111,\"#46039f\"],[0.2222222222222222,\"#7201a8\"],[0.3333333333333333,\"#9c179e\"],[0.4444444444444444,\"#bd3786\"],[0.5555555555555556,\"#d8576b\"],[0.6666666666666666,\"#ed7953\"],[0.7777777777777778,\"#fb9f3a\"],[0.8888888888888888,\"#fdca26\"],[1.0,\"#f0f921\"]],\"type\":\"contour\"}],\"heatmapgl\":[{\"colorbar\":{\"outlinewidth\":0,\"ticks\":\"\"},\"colorscale\":[[0.0,\"#0d0887\"],[0.1111111111111111,\"#46039f\"],[0.2222222222222222,\"#7201a8\"],[0.3333333333333333,\"#9c179e\"],[0.4444444444444444,\"#bd3786\"],[0.5555555555555556,\"#d8576b\"],[0.6666666666666666,\"#ed7953\"],[0.7777777777777778,\"#fb9f3a\"],[0.8888888888888888,\"#fdca26\"],[1.0,\"#f0f921\"]],\"type\":\"heatmapgl\"}],\"heatmap\":[{\"colorbar\":{\"outlinewidth\":0,\"ticks\":\"\"},\"colorscale\":[[0.0,\"#0d0887\"],[0.1111111111111111,\"#46039f\"],[0.2222222222222222,\"#7201a8\"],[0.3333333333333333,\"#9c179e\"],[0.4444444444444444,\"#bd3786\"],[0.5555555555555556,\"#d8576b\"],[0.6666666666666666,\"#ed7953\"],[0.7777777777777778,\"#fb9f3a\"],[0.8888888888888888,\"#fdca26\"],[1.0,\"#f0f921\"]],\"type\":\"heatmap\"}],\"histogram2dcontour\":[{\"colorbar\":{\"outlinewidth\":0,\"ticks\":\"\"},\"colorscale\":[[0.0,\"#0d0887\"],[0.1111111111111111,\"#46039f\"],[0.2222222222222222,\"#7201a8\"],[0.3333333333333333,\"#9c179e\"],[0.4444444444444444,\"#bd3786\"],[0.5555555555555556,\"#d8576b\"],[0.6666666666666666,\"#ed7953\"],[0.7777777777777778,\"#fb9f3a\"],[0.8888888888888888,\"#fdca26\"],[1.0,\"#f0f921\"]],\"type\":\"histogram2dcontour\"}],\"histogram2d\":[{\"colorbar\":{\"outlinewidth\":0,\"ticks\":\"\"},\"colorscale\":[[0.0,\"#0d0887\"],[0.1111111111111111,\"#46039f\"],[0.2222222222222222,\"#7201a8\"],[0.3333333333333333,\"#9c179e\"],[0.4444444444444444,\"#bd3786\"],[0.5555555555555556,\"#d8576b\"],[0.6666666666666666,\"#ed7953\"],[0.7777777777777778,\"#fb9f3a\"],[0.8888888888888888,\"#fdca26\"],[1.0,\"#f0f921\"]],\"type\":\"histogram2d\"}],\"histogram\":[{\"marker\":{\"pattern\":{\"fillmode\":\"overlay\",\"size\":10,\"solidity\":0.2}},\"type\":\"histogram\"}],\"mesh3d\":[{\"colorbar\":{\"outlinewidth\":0,\"ticks\":\"\"},\"type\":\"mesh3d\"}],\"parcoords\":[{\"line\":{\"colorbar\":{\"outlinewidth\":0,\"ticks\":\"\"}},\"type\":\"parcoords\"}],\"pie\":[{\"automargin\":true,\"type\":\"pie\"}],\"scatter3d\":[{\"line\":{\"colorbar\":{\"outlinewidth\":0,\"ticks\":\"\"}},\"marker\":{\"colorbar\":{\"outlinewidth\":0,\"ticks\":\"\"}},\"type\":\"scatter3d\"}],\"scattercarpet\":[{\"marker\":{\"colorbar\":{\"outlinewidth\":0,\"ticks\":\"\"}},\"type\":\"scattercarpet\"}],\"scattergeo\":[{\"marker\":{\"colorbar\":{\"outlinewidth\":0,\"ticks\":\"\"}},\"type\":\"scattergeo\"}],\"scattergl\":[{\"marker\":{\"colorbar\":{\"outlinewidth\":0,\"ticks\":\"\"}},\"type\":\"scattergl\"}],\"scattermapbox\":[{\"marker\":{\"colorbar\":{\"outlinewidth\":0,\"ticks\":\"\"}},\"type\":\"scattermapbox\"}],\"scatterpolargl\":[{\"marker\":{\"colorbar\":{\"outlinewidth\":0,\"ticks\":\"\"}},\"type\":\"scatterpolargl\"}],\"scatterpolar\":[{\"marker\":{\"colorbar\":{\"outlinewidth\":0,\"ticks\":\"\"}},\"type\":\"scatterpolar\"}],\"scatter\":[{\"fillpattern\":{\"fillmode\":\"overlay\",\"size\":10,\"solidity\":0.2},\"type\":\"scatter\"}],\"scatterternary\":[{\"marker\":{\"colorbar\":{\"outlinewidth\":0,\"ticks\":\"\"}},\"type\":\"scatterternary\"}],\"surface\":[{\"colorbar\":{\"outlinewidth\":0,\"ticks\":\"\"},\"colorscale\":[[0.0,\"#0d0887\"],[0.1111111111111111,\"#46039f\"],[0.2222222222222222,\"#7201a8\"],[0.3333333333333333,\"#9c179e\"],[0.4444444444444444,\"#bd3786\"],[0.5555555555555556,\"#d8576b\"],[0.6666666666666666,\"#ed7953\"],[0.7777777777777778,\"#fb9f3a\"],[0.8888888888888888,\"#fdca26\"],[1.0,\"#f0f921\"]],\"type\":\"surface\"}],\"table\":[{\"cells\":{\"fill\":{\"color\":\"#EBF0F8\"},\"line\":{\"color\":\"white\"}},\"header\":{\"fill\":{\"color\":\"#C8D4E3\"},\"line\":{\"color\":\"white\"}},\"type\":\"table\"}]},\"layout\":{\"annotationdefaults\":{\"arrowcolor\":\"#2a3f5f\",\"arrowhead\":0,\"arrowwidth\":1},\"autotypenumbers\":\"strict\",\"coloraxis\":{\"colorbar\":{\"outlinewidth\":0,\"ticks\":\"\"}},\"colorscale\":{\"diverging\":[[0,\"#8e0152\"],[0.1,\"#c51b7d\"],[0.2,\"#de77ae\"],[0.3,\"#f1b6da\"],[0.4,\"#fde0ef\"],[0.5,\"#f7f7f7\"],[0.6,\"#e6f5d0\"],[0.7,\"#b8e186\"],[0.8,\"#7fbc41\"],[0.9,\"#4d9221\"],[1,\"#276419\"]],\"sequential\":[[0.0,\"#0d0887\"],[0.1111111111111111,\"#46039f\"],[0.2222222222222222,\"#7201a8\"],[0.3333333333333333,\"#9c179e\"],[0.4444444444444444,\"#bd3786\"],[0.5555555555555556,\"#d8576b\"],[0.6666666666666666,\"#ed7953\"],[0.7777777777777778,\"#fb9f3a\"],[0.8888888888888888,\"#fdca26\"],[1.0,\"#f0f921\"]],\"sequentialminus\":[[0.0,\"#0d0887\"],[0.1111111111111111,\"#46039f\"],[0.2222222222222222,\"#7201a8\"],[0.3333333333333333,\"#9c179e\"],[0.4444444444444444,\"#bd3786\"],[0.5555555555555556,\"#d8576b\"],[0.6666666666666666,\"#ed7953\"],[0.7777777777777778,\"#fb9f3a\"],[0.8888888888888888,\"#fdca26\"],[1.0,\"#f0f921\"]]},\"colorway\":[\"#636efa\",\"#EF553B\",\"#00cc96\",\"#ab63fa\",\"#FFA15A\",\"#19d3f3\",\"#FF6692\",\"#B6E880\",\"#FF97FF\",\"#FECB52\"],\"font\":{\"color\":\"#2a3f5f\"},\"geo\":{\"bgcolor\":\"white\",\"lakecolor\":\"white\",\"landcolor\":\"#E5ECF6\",\"showlakes\":true,\"showland\":true,\"subunitcolor\":\"white\"},\"hoverlabel\":{\"align\":\"left\"},\"hovermode\":\"closest\",\"mapbox\":{\"style\":\"light\"},\"paper_bgcolor\":\"white\",\"plot_bgcolor\":\"#E5ECF6\",\"polar\":{\"angularaxis\":{\"gridcolor\":\"white\",\"linecolor\":\"white\",\"ticks\":\"\"},\"bgcolor\":\"#E5ECF6\",\"radialaxis\":{\"gridcolor\":\"white\",\"linecolor\":\"white\",\"ticks\":\"\"}},\"scene\":{\"xaxis\":{\"backgroundcolor\":\"#E5ECF6\",\"gridcolor\":\"white\",\"gridwidth\":2,\"linecolor\":\"white\",\"showbackground\":true,\"ticks\":\"\",\"zerolinecolor\":\"white\"},\"yaxis\":{\"backgroundcolor\":\"#E5ECF6\",\"gridcolor\":\"white\",\"gridwidth\":2,\"linecolor\":\"white\",\"showbackground\":true,\"ticks\":\"\",\"zerolinecolor\":\"white\"},\"zaxis\":{\"backgroundcolor\":\"#E5ECF6\",\"gridcolor\":\"white\",\"gridwidth\":2,\"linecolor\":\"white\",\"showbackground\":true,\"ticks\":\"\",\"zerolinecolor\":\"white\"}},\"shapedefaults\":{\"line\":{\"color\":\"#2a3f5f\"}},\"ternary\":{\"aaxis\":{\"gridcolor\":\"white\",\"linecolor\":\"white\",\"ticks\":\"\"},\"baxis\":{\"gridcolor\":\"white\",\"linecolor\":\"white\",\"ticks\":\"\"},\"bgcolor\":\"#E5ECF6\",\"caxis\":{\"gridcolor\":\"white\",\"linecolor\":\"white\",\"ticks\":\"\"}},\"title\":{\"x\":0.05},\"xaxis\":{\"automargin\":true,\"gridcolor\":\"white\",\"linecolor\":\"white\",\"ticks\":\"\",\"title\":{\"standoff\":15},\"zerolinecolor\":\"white\",\"zerolinewidth\":2},\"yaxis\":{\"automargin\":true,\"gridcolor\":\"white\",\"linecolor\":\"white\",\"ticks\":\"\",\"title\":{\"standoff\":15},\"zerolinecolor\":\"white\",\"zerolinewidth\":2}}},\"title\":{\"font\":{\"color\":\"#4D5663\"}},\"xaxis\":{\"gridcolor\":\"#E1E5ED\",\"showgrid\":true,\"tickfont\":{\"color\":\"#4D5663\"},\"title\":{\"font\":{\"color\":\"#4D5663\"},\"text\":\"\"},\"zerolinecolor\":\"#E1E5ED\"},\"yaxis\":{\"gridcolor\":\"#E1E5ED\",\"showgrid\":true,\"tickfont\":{\"color\":\"#4D5663\"},\"title\":{\"font\":{\"color\":\"#4D5663\"},\"text\":\"\"},\"zerolinecolor\":\"#E1E5ED\"}},                        {\"showLink\": true, \"linkText\": \"Export to plot.ly\", \"plotlyServerURL\": \"https://plot.ly\", \"responsive\": true}                    ).then(function(){\n",
       "                            \n",
       "var gd = document.getElementById('03d96274-10a8-42dd-8f70-482f08282838');\n",
       "var x = new MutationObserver(function (mutations, observer) {{\n",
       "        var display = window.getComputedStyle(gd).display;\n",
       "        if (!display || display === 'none') {{\n",
       "            console.log([gd, 'removed!']);\n",
       "            Plotly.purge(gd);\n",
       "            observer.disconnect();\n",
       "        }}\n",
       "}});\n",
       "\n",
       "// Listen for the removal of the full notebook cells\n",
       "var notebookContainer = gd.closest('#notebook-container');\n",
       "if (notebookContainer) {{\n",
       "    x.observe(notebookContainer, {childList: true});\n",
       "}}\n",
       "\n",
       "// Listen for the clearing of the current output cell\n",
       "var outputEl = gd.closest('.output');\n",
       "if (outputEl) {{\n",
       "    x.observe(outputEl, {childList: true});\n",
       "}}\n",
       "\n",
       "                        })                };                });            </script>        </div>"
      ]
     },
     "metadata": {},
     "output_type": "display_data"
    }
   ],
   "source": [
    "df.iplot(kind='scatter',x='A',y='B',mode='markers',size=10)"
   ]
  },
  {
   "cell_type": "markdown",
   "metadata": {},
   "source": [
    "## Bar Plots"
   ]
  },
  {
   "cell_type": "code",
   "execution_count": 12,
   "metadata": {},
   "outputs": [
    {
     "data": {
      "application/vnd.plotly.v1+json": {
       "config": {
        "linkText": "Export to plot.ly",
        "plotlyServerURL": "https://plot.ly",
        "showLink": true
       },
       "data": [
        {
         "marker": {
          "color": "rgba(255, 153, 51, 0.6)",
          "line": {
           "color": "rgba(255, 153, 51, 1.0)",
           "width": 1
          }
         },
         "name": "Values",
         "orientation": "v",
         "text": "",
         "type": "bar",
         "x": [
          "A",
          "B",
          "C"
         ],
         "y": [
          32,
          43,
          50
         ]
        }
       ],
       "layout": {
        "legend": {
         "bgcolor": "#F5F6F9",
         "font": {
          "color": "#4D5663"
         }
        },
        "paper_bgcolor": "#F5F6F9",
        "plot_bgcolor": "#F5F6F9",
        "template": {
         "data": {
          "bar": [
           {
            "error_x": {
             "color": "#2a3f5f"
            },
            "error_y": {
             "color": "#2a3f5f"
            },
            "marker": {
             "line": {
              "color": "#E5ECF6",
              "width": 0.5
             },
             "pattern": {
              "fillmode": "overlay",
              "size": 10,
              "solidity": 0.2
             }
            },
            "type": "bar"
           }
          ],
          "barpolar": [
           {
            "marker": {
             "line": {
              "color": "#E5ECF6",
              "width": 0.5
             },
             "pattern": {
              "fillmode": "overlay",
              "size": 10,
              "solidity": 0.2
             }
            },
            "type": "barpolar"
           }
          ],
          "carpet": [
           {
            "aaxis": {
             "endlinecolor": "#2a3f5f",
             "gridcolor": "white",
             "linecolor": "white",
             "minorgridcolor": "white",
             "startlinecolor": "#2a3f5f"
            },
            "baxis": {
             "endlinecolor": "#2a3f5f",
             "gridcolor": "white",
             "linecolor": "white",
             "minorgridcolor": "white",
             "startlinecolor": "#2a3f5f"
            },
            "type": "carpet"
           }
          ],
          "choropleth": [
           {
            "colorbar": {
             "outlinewidth": 0,
             "ticks": ""
            },
            "type": "choropleth"
           }
          ],
          "contour": [
           {
            "colorbar": {
             "outlinewidth": 0,
             "ticks": ""
            },
            "colorscale": [
             [
              0,
              "#0d0887"
             ],
             [
              0.1111111111111111,
              "#46039f"
             ],
             [
              0.2222222222222222,
              "#7201a8"
             ],
             [
              0.3333333333333333,
              "#9c179e"
             ],
             [
              0.4444444444444444,
              "#bd3786"
             ],
             [
              0.5555555555555556,
              "#d8576b"
             ],
             [
              0.6666666666666666,
              "#ed7953"
             ],
             [
              0.7777777777777778,
              "#fb9f3a"
             ],
             [
              0.8888888888888888,
              "#fdca26"
             ],
             [
              1,
              "#f0f921"
             ]
            ],
            "type": "contour"
           }
          ],
          "contourcarpet": [
           {
            "colorbar": {
             "outlinewidth": 0,
             "ticks": ""
            },
            "type": "contourcarpet"
           }
          ],
          "heatmap": [
           {
            "colorbar": {
             "outlinewidth": 0,
             "ticks": ""
            },
            "colorscale": [
             [
              0,
              "#0d0887"
             ],
             [
              0.1111111111111111,
              "#46039f"
             ],
             [
              0.2222222222222222,
              "#7201a8"
             ],
             [
              0.3333333333333333,
              "#9c179e"
             ],
             [
              0.4444444444444444,
              "#bd3786"
             ],
             [
              0.5555555555555556,
              "#d8576b"
             ],
             [
              0.6666666666666666,
              "#ed7953"
             ],
             [
              0.7777777777777778,
              "#fb9f3a"
             ],
             [
              0.8888888888888888,
              "#fdca26"
             ],
             [
              1,
              "#f0f921"
             ]
            ],
            "type": "heatmap"
           }
          ],
          "heatmapgl": [
           {
            "colorbar": {
             "outlinewidth": 0,
             "ticks": ""
            },
            "colorscale": [
             [
              0,
              "#0d0887"
             ],
             [
              0.1111111111111111,
              "#46039f"
             ],
             [
              0.2222222222222222,
              "#7201a8"
             ],
             [
              0.3333333333333333,
              "#9c179e"
             ],
             [
              0.4444444444444444,
              "#bd3786"
             ],
             [
              0.5555555555555556,
              "#d8576b"
             ],
             [
              0.6666666666666666,
              "#ed7953"
             ],
             [
              0.7777777777777778,
              "#fb9f3a"
             ],
             [
              0.8888888888888888,
              "#fdca26"
             ],
             [
              1,
              "#f0f921"
             ]
            ],
            "type": "heatmapgl"
           }
          ],
          "histogram": [
           {
            "marker": {
             "pattern": {
              "fillmode": "overlay",
              "size": 10,
              "solidity": 0.2
             }
            },
            "type": "histogram"
           }
          ],
          "histogram2d": [
           {
            "colorbar": {
             "outlinewidth": 0,
             "ticks": ""
            },
            "colorscale": [
             [
              0,
              "#0d0887"
             ],
             [
              0.1111111111111111,
              "#46039f"
             ],
             [
              0.2222222222222222,
              "#7201a8"
             ],
             [
              0.3333333333333333,
              "#9c179e"
             ],
             [
              0.4444444444444444,
              "#bd3786"
             ],
             [
              0.5555555555555556,
              "#d8576b"
             ],
             [
              0.6666666666666666,
              "#ed7953"
             ],
             [
              0.7777777777777778,
              "#fb9f3a"
             ],
             [
              0.8888888888888888,
              "#fdca26"
             ],
             [
              1,
              "#f0f921"
             ]
            ],
            "type": "histogram2d"
           }
          ],
          "histogram2dcontour": [
           {
            "colorbar": {
             "outlinewidth": 0,
             "ticks": ""
            },
            "colorscale": [
             [
              0,
              "#0d0887"
             ],
             [
              0.1111111111111111,
              "#46039f"
             ],
             [
              0.2222222222222222,
              "#7201a8"
             ],
             [
              0.3333333333333333,
              "#9c179e"
             ],
             [
              0.4444444444444444,
              "#bd3786"
             ],
             [
              0.5555555555555556,
              "#d8576b"
             ],
             [
              0.6666666666666666,
              "#ed7953"
             ],
             [
              0.7777777777777778,
              "#fb9f3a"
             ],
             [
              0.8888888888888888,
              "#fdca26"
             ],
             [
              1,
              "#f0f921"
             ]
            ],
            "type": "histogram2dcontour"
           }
          ],
          "mesh3d": [
           {
            "colorbar": {
             "outlinewidth": 0,
             "ticks": ""
            },
            "type": "mesh3d"
           }
          ],
          "parcoords": [
           {
            "line": {
             "colorbar": {
              "outlinewidth": 0,
              "ticks": ""
             }
            },
            "type": "parcoords"
           }
          ],
          "pie": [
           {
            "automargin": true,
            "type": "pie"
           }
          ],
          "scatter": [
           {
            "fillpattern": {
             "fillmode": "overlay",
             "size": 10,
             "solidity": 0.2
            },
            "type": "scatter"
           }
          ],
          "scatter3d": [
           {
            "line": {
             "colorbar": {
              "outlinewidth": 0,
              "ticks": ""
             }
            },
            "marker": {
             "colorbar": {
              "outlinewidth": 0,
              "ticks": ""
             }
            },
            "type": "scatter3d"
           }
          ],
          "scattercarpet": [
           {
            "marker": {
             "colorbar": {
              "outlinewidth": 0,
              "ticks": ""
             }
            },
            "type": "scattercarpet"
           }
          ],
          "scattergeo": [
           {
            "marker": {
             "colorbar": {
              "outlinewidth": 0,
              "ticks": ""
             }
            },
            "type": "scattergeo"
           }
          ],
          "scattergl": [
           {
            "marker": {
             "colorbar": {
              "outlinewidth": 0,
              "ticks": ""
             }
            },
            "type": "scattergl"
           }
          ],
          "scattermapbox": [
           {
            "marker": {
             "colorbar": {
              "outlinewidth": 0,
              "ticks": ""
             }
            },
            "type": "scattermapbox"
           }
          ],
          "scatterpolar": [
           {
            "marker": {
             "colorbar": {
              "outlinewidth": 0,
              "ticks": ""
             }
            },
            "type": "scatterpolar"
           }
          ],
          "scatterpolargl": [
           {
            "marker": {
             "colorbar": {
              "outlinewidth": 0,
              "ticks": ""
             }
            },
            "type": "scatterpolargl"
           }
          ],
          "scatterternary": [
           {
            "marker": {
             "colorbar": {
              "outlinewidth": 0,
              "ticks": ""
             }
            },
            "type": "scatterternary"
           }
          ],
          "surface": [
           {
            "colorbar": {
             "outlinewidth": 0,
             "ticks": ""
            },
            "colorscale": [
             [
              0,
              "#0d0887"
             ],
             [
              0.1111111111111111,
              "#46039f"
             ],
             [
              0.2222222222222222,
              "#7201a8"
             ],
             [
              0.3333333333333333,
              "#9c179e"
             ],
             [
              0.4444444444444444,
              "#bd3786"
             ],
             [
              0.5555555555555556,
              "#d8576b"
             ],
             [
              0.6666666666666666,
              "#ed7953"
             ],
             [
              0.7777777777777778,
              "#fb9f3a"
             ],
             [
              0.8888888888888888,
              "#fdca26"
             ],
             [
              1,
              "#f0f921"
             ]
            ],
            "type": "surface"
           }
          ],
          "table": [
           {
            "cells": {
             "fill": {
              "color": "#EBF0F8"
             },
             "line": {
              "color": "white"
             }
            },
            "header": {
             "fill": {
              "color": "#C8D4E3"
             },
             "line": {
              "color": "white"
             }
            },
            "type": "table"
           }
          ]
         },
         "layout": {
          "annotationdefaults": {
           "arrowcolor": "#2a3f5f",
           "arrowhead": 0,
           "arrowwidth": 1
          },
          "autotypenumbers": "strict",
          "coloraxis": {
           "colorbar": {
            "outlinewidth": 0,
            "ticks": ""
           }
          },
          "colorscale": {
           "diverging": [
            [
             0,
             "#8e0152"
            ],
            [
             0.1,
             "#c51b7d"
            ],
            [
             0.2,
             "#de77ae"
            ],
            [
             0.3,
             "#f1b6da"
            ],
            [
             0.4,
             "#fde0ef"
            ],
            [
             0.5,
             "#f7f7f7"
            ],
            [
             0.6,
             "#e6f5d0"
            ],
            [
             0.7,
             "#b8e186"
            ],
            [
             0.8,
             "#7fbc41"
            ],
            [
             0.9,
             "#4d9221"
            ],
            [
             1,
             "#276419"
            ]
           ],
           "sequential": [
            [
             0,
             "#0d0887"
            ],
            [
             0.1111111111111111,
             "#46039f"
            ],
            [
             0.2222222222222222,
             "#7201a8"
            ],
            [
             0.3333333333333333,
             "#9c179e"
            ],
            [
             0.4444444444444444,
             "#bd3786"
            ],
            [
             0.5555555555555556,
             "#d8576b"
            ],
            [
             0.6666666666666666,
             "#ed7953"
            ],
            [
             0.7777777777777778,
             "#fb9f3a"
            ],
            [
             0.8888888888888888,
             "#fdca26"
            ],
            [
             1,
             "#f0f921"
            ]
           ],
           "sequentialminus": [
            [
             0,
             "#0d0887"
            ],
            [
             0.1111111111111111,
             "#46039f"
            ],
            [
             0.2222222222222222,
             "#7201a8"
            ],
            [
             0.3333333333333333,
             "#9c179e"
            ],
            [
             0.4444444444444444,
             "#bd3786"
            ],
            [
             0.5555555555555556,
             "#d8576b"
            ],
            [
             0.6666666666666666,
             "#ed7953"
            ],
            [
             0.7777777777777778,
             "#fb9f3a"
            ],
            [
             0.8888888888888888,
             "#fdca26"
            ],
            [
             1,
             "#f0f921"
            ]
           ]
          },
          "colorway": [
           "#636efa",
           "#EF553B",
           "#00cc96",
           "#ab63fa",
           "#FFA15A",
           "#19d3f3",
           "#FF6692",
           "#B6E880",
           "#FF97FF",
           "#FECB52"
          ],
          "font": {
           "color": "#2a3f5f"
          },
          "geo": {
           "bgcolor": "white",
           "lakecolor": "white",
           "landcolor": "#E5ECF6",
           "showlakes": true,
           "showland": true,
           "subunitcolor": "white"
          },
          "hoverlabel": {
           "align": "left"
          },
          "hovermode": "closest",
          "mapbox": {
           "style": "light"
          },
          "paper_bgcolor": "white",
          "plot_bgcolor": "#E5ECF6",
          "polar": {
           "angularaxis": {
            "gridcolor": "white",
            "linecolor": "white",
            "ticks": ""
           },
           "bgcolor": "#E5ECF6",
           "radialaxis": {
            "gridcolor": "white",
            "linecolor": "white",
            "ticks": ""
           }
          },
          "scene": {
           "xaxis": {
            "backgroundcolor": "#E5ECF6",
            "gridcolor": "white",
            "gridwidth": 2,
            "linecolor": "white",
            "showbackground": true,
            "ticks": "",
            "zerolinecolor": "white"
           },
           "yaxis": {
            "backgroundcolor": "#E5ECF6",
            "gridcolor": "white",
            "gridwidth": 2,
            "linecolor": "white",
            "showbackground": true,
            "ticks": "",
            "zerolinecolor": "white"
           },
           "zaxis": {
            "backgroundcolor": "#E5ECF6",
            "gridcolor": "white",
            "gridwidth": 2,
            "linecolor": "white",
            "showbackground": true,
            "ticks": "",
            "zerolinecolor": "white"
           }
          },
          "shapedefaults": {
           "line": {
            "color": "#2a3f5f"
           }
          },
          "ternary": {
           "aaxis": {
            "gridcolor": "white",
            "linecolor": "white",
            "ticks": ""
           },
           "baxis": {
            "gridcolor": "white",
            "linecolor": "white",
            "ticks": ""
           },
           "bgcolor": "#E5ECF6",
           "caxis": {
            "gridcolor": "white",
            "linecolor": "white",
            "ticks": ""
           }
          },
          "title": {
           "x": 0.05
          },
          "xaxis": {
           "automargin": true,
           "gridcolor": "white",
           "linecolor": "white",
           "ticks": "",
           "title": {
            "standoff": 15
           },
           "zerolinecolor": "white",
           "zerolinewidth": 2
          },
          "yaxis": {
           "automargin": true,
           "gridcolor": "white",
           "linecolor": "white",
           "ticks": "",
           "title": {
            "standoff": 15
           },
           "zerolinecolor": "white",
           "zerolinewidth": 2
          }
         }
        },
        "title": {
         "font": {
          "color": "#4D5663"
         }
        },
        "xaxis": {
         "gridcolor": "#E1E5ED",
         "showgrid": true,
         "tickfont": {
          "color": "#4D5663"
         },
         "title": {
          "font": {
           "color": "#4D5663"
          },
          "text": ""
         },
         "zerolinecolor": "#E1E5ED"
        },
        "yaxis": {
         "gridcolor": "#E1E5ED",
         "showgrid": true,
         "tickfont": {
          "color": "#4D5663"
         },
         "title": {
          "font": {
           "color": "#4D5663"
          },
          "text": ""
         },
         "zerolinecolor": "#E1E5ED"
        }
       }
      },
      "text/html": [
       "<div>                            <div id=\"7d589686-d121-4799-88f4-4d7ba001c3b9\" class=\"plotly-graph-div\" style=\"height:525px; width:100%;\"></div>            <script type=\"text/javascript\">                require([\"plotly\"], function(Plotly) {                    window.PLOTLYENV=window.PLOTLYENV || {};\n",
       "                    window.PLOTLYENV.BASE_URL='https://plot.ly';                                    if (document.getElementById(\"7d589686-d121-4799-88f4-4d7ba001c3b9\")) {                    Plotly.newPlot(                        \"7d589686-d121-4799-88f4-4d7ba001c3b9\",                        [{\"marker\":{\"color\":\"rgba(255, 153, 51, 0.6)\",\"line\":{\"color\":\"rgba(255, 153, 51, 1.0)\",\"width\":1}},\"name\":\"Values\",\"orientation\":\"v\",\"text\":\"\",\"x\":[\"A\",\"B\",\"C\"],\"y\":[32,43,50],\"type\":\"bar\"}],                        {\"legend\":{\"bgcolor\":\"#F5F6F9\",\"font\":{\"color\":\"#4D5663\"}},\"paper_bgcolor\":\"#F5F6F9\",\"plot_bgcolor\":\"#F5F6F9\",\"template\":{\"data\":{\"barpolar\":[{\"marker\":{\"line\":{\"color\":\"#E5ECF6\",\"width\":0.5},\"pattern\":{\"fillmode\":\"overlay\",\"size\":10,\"solidity\":0.2}},\"type\":\"barpolar\"}],\"bar\":[{\"error_x\":{\"color\":\"#2a3f5f\"},\"error_y\":{\"color\":\"#2a3f5f\"},\"marker\":{\"line\":{\"color\":\"#E5ECF6\",\"width\":0.5},\"pattern\":{\"fillmode\":\"overlay\",\"size\":10,\"solidity\":0.2}},\"type\":\"bar\"}],\"carpet\":[{\"aaxis\":{\"endlinecolor\":\"#2a3f5f\",\"gridcolor\":\"white\",\"linecolor\":\"white\",\"minorgridcolor\":\"white\",\"startlinecolor\":\"#2a3f5f\"},\"baxis\":{\"endlinecolor\":\"#2a3f5f\",\"gridcolor\":\"white\",\"linecolor\":\"white\",\"minorgridcolor\":\"white\",\"startlinecolor\":\"#2a3f5f\"},\"type\":\"carpet\"}],\"choropleth\":[{\"colorbar\":{\"outlinewidth\":0,\"ticks\":\"\"},\"type\":\"choropleth\"}],\"contourcarpet\":[{\"colorbar\":{\"outlinewidth\":0,\"ticks\":\"\"},\"type\":\"contourcarpet\"}],\"contour\":[{\"colorbar\":{\"outlinewidth\":0,\"ticks\":\"\"},\"colorscale\":[[0.0,\"#0d0887\"],[0.1111111111111111,\"#46039f\"],[0.2222222222222222,\"#7201a8\"],[0.3333333333333333,\"#9c179e\"],[0.4444444444444444,\"#bd3786\"],[0.5555555555555556,\"#d8576b\"],[0.6666666666666666,\"#ed7953\"],[0.7777777777777778,\"#fb9f3a\"],[0.8888888888888888,\"#fdca26\"],[1.0,\"#f0f921\"]],\"type\":\"contour\"}],\"heatmapgl\":[{\"colorbar\":{\"outlinewidth\":0,\"ticks\":\"\"},\"colorscale\":[[0.0,\"#0d0887\"],[0.1111111111111111,\"#46039f\"],[0.2222222222222222,\"#7201a8\"],[0.3333333333333333,\"#9c179e\"],[0.4444444444444444,\"#bd3786\"],[0.5555555555555556,\"#d8576b\"],[0.6666666666666666,\"#ed7953\"],[0.7777777777777778,\"#fb9f3a\"],[0.8888888888888888,\"#fdca26\"],[1.0,\"#f0f921\"]],\"type\":\"heatmapgl\"}],\"heatmap\":[{\"colorbar\":{\"outlinewidth\":0,\"ticks\":\"\"},\"colorscale\":[[0.0,\"#0d0887\"],[0.1111111111111111,\"#46039f\"],[0.2222222222222222,\"#7201a8\"],[0.3333333333333333,\"#9c179e\"],[0.4444444444444444,\"#bd3786\"],[0.5555555555555556,\"#d8576b\"],[0.6666666666666666,\"#ed7953\"],[0.7777777777777778,\"#fb9f3a\"],[0.8888888888888888,\"#fdca26\"],[1.0,\"#f0f921\"]],\"type\":\"heatmap\"}],\"histogram2dcontour\":[{\"colorbar\":{\"outlinewidth\":0,\"ticks\":\"\"},\"colorscale\":[[0.0,\"#0d0887\"],[0.1111111111111111,\"#46039f\"],[0.2222222222222222,\"#7201a8\"],[0.3333333333333333,\"#9c179e\"],[0.4444444444444444,\"#bd3786\"],[0.5555555555555556,\"#d8576b\"],[0.6666666666666666,\"#ed7953\"],[0.7777777777777778,\"#fb9f3a\"],[0.8888888888888888,\"#fdca26\"],[1.0,\"#f0f921\"]],\"type\":\"histogram2dcontour\"}],\"histogram2d\":[{\"colorbar\":{\"outlinewidth\":0,\"ticks\":\"\"},\"colorscale\":[[0.0,\"#0d0887\"],[0.1111111111111111,\"#46039f\"],[0.2222222222222222,\"#7201a8\"],[0.3333333333333333,\"#9c179e\"],[0.4444444444444444,\"#bd3786\"],[0.5555555555555556,\"#d8576b\"],[0.6666666666666666,\"#ed7953\"],[0.7777777777777778,\"#fb9f3a\"],[0.8888888888888888,\"#fdca26\"],[1.0,\"#f0f921\"]],\"type\":\"histogram2d\"}],\"histogram\":[{\"marker\":{\"pattern\":{\"fillmode\":\"overlay\",\"size\":10,\"solidity\":0.2}},\"type\":\"histogram\"}],\"mesh3d\":[{\"colorbar\":{\"outlinewidth\":0,\"ticks\":\"\"},\"type\":\"mesh3d\"}],\"parcoords\":[{\"line\":{\"colorbar\":{\"outlinewidth\":0,\"ticks\":\"\"}},\"type\":\"parcoords\"}],\"pie\":[{\"automargin\":true,\"type\":\"pie\"}],\"scatter3d\":[{\"line\":{\"colorbar\":{\"outlinewidth\":0,\"ticks\":\"\"}},\"marker\":{\"colorbar\":{\"outlinewidth\":0,\"ticks\":\"\"}},\"type\":\"scatter3d\"}],\"scattercarpet\":[{\"marker\":{\"colorbar\":{\"outlinewidth\":0,\"ticks\":\"\"}},\"type\":\"scattercarpet\"}],\"scattergeo\":[{\"marker\":{\"colorbar\":{\"outlinewidth\":0,\"ticks\":\"\"}},\"type\":\"scattergeo\"}],\"scattergl\":[{\"marker\":{\"colorbar\":{\"outlinewidth\":0,\"ticks\":\"\"}},\"type\":\"scattergl\"}],\"scattermapbox\":[{\"marker\":{\"colorbar\":{\"outlinewidth\":0,\"ticks\":\"\"}},\"type\":\"scattermapbox\"}],\"scatterpolargl\":[{\"marker\":{\"colorbar\":{\"outlinewidth\":0,\"ticks\":\"\"}},\"type\":\"scatterpolargl\"}],\"scatterpolar\":[{\"marker\":{\"colorbar\":{\"outlinewidth\":0,\"ticks\":\"\"}},\"type\":\"scatterpolar\"}],\"scatter\":[{\"fillpattern\":{\"fillmode\":\"overlay\",\"size\":10,\"solidity\":0.2},\"type\":\"scatter\"}],\"scatterternary\":[{\"marker\":{\"colorbar\":{\"outlinewidth\":0,\"ticks\":\"\"}},\"type\":\"scatterternary\"}],\"surface\":[{\"colorbar\":{\"outlinewidth\":0,\"ticks\":\"\"},\"colorscale\":[[0.0,\"#0d0887\"],[0.1111111111111111,\"#46039f\"],[0.2222222222222222,\"#7201a8\"],[0.3333333333333333,\"#9c179e\"],[0.4444444444444444,\"#bd3786\"],[0.5555555555555556,\"#d8576b\"],[0.6666666666666666,\"#ed7953\"],[0.7777777777777778,\"#fb9f3a\"],[0.8888888888888888,\"#fdca26\"],[1.0,\"#f0f921\"]],\"type\":\"surface\"}],\"table\":[{\"cells\":{\"fill\":{\"color\":\"#EBF0F8\"},\"line\":{\"color\":\"white\"}},\"header\":{\"fill\":{\"color\":\"#C8D4E3\"},\"line\":{\"color\":\"white\"}},\"type\":\"table\"}]},\"layout\":{\"annotationdefaults\":{\"arrowcolor\":\"#2a3f5f\",\"arrowhead\":0,\"arrowwidth\":1},\"autotypenumbers\":\"strict\",\"coloraxis\":{\"colorbar\":{\"outlinewidth\":0,\"ticks\":\"\"}},\"colorscale\":{\"diverging\":[[0,\"#8e0152\"],[0.1,\"#c51b7d\"],[0.2,\"#de77ae\"],[0.3,\"#f1b6da\"],[0.4,\"#fde0ef\"],[0.5,\"#f7f7f7\"],[0.6,\"#e6f5d0\"],[0.7,\"#b8e186\"],[0.8,\"#7fbc41\"],[0.9,\"#4d9221\"],[1,\"#276419\"]],\"sequential\":[[0.0,\"#0d0887\"],[0.1111111111111111,\"#46039f\"],[0.2222222222222222,\"#7201a8\"],[0.3333333333333333,\"#9c179e\"],[0.4444444444444444,\"#bd3786\"],[0.5555555555555556,\"#d8576b\"],[0.6666666666666666,\"#ed7953\"],[0.7777777777777778,\"#fb9f3a\"],[0.8888888888888888,\"#fdca26\"],[1.0,\"#f0f921\"]],\"sequentialminus\":[[0.0,\"#0d0887\"],[0.1111111111111111,\"#46039f\"],[0.2222222222222222,\"#7201a8\"],[0.3333333333333333,\"#9c179e\"],[0.4444444444444444,\"#bd3786\"],[0.5555555555555556,\"#d8576b\"],[0.6666666666666666,\"#ed7953\"],[0.7777777777777778,\"#fb9f3a\"],[0.8888888888888888,\"#fdca26\"],[1.0,\"#f0f921\"]]},\"colorway\":[\"#636efa\",\"#EF553B\",\"#00cc96\",\"#ab63fa\",\"#FFA15A\",\"#19d3f3\",\"#FF6692\",\"#B6E880\",\"#FF97FF\",\"#FECB52\"],\"font\":{\"color\":\"#2a3f5f\"},\"geo\":{\"bgcolor\":\"white\",\"lakecolor\":\"white\",\"landcolor\":\"#E5ECF6\",\"showlakes\":true,\"showland\":true,\"subunitcolor\":\"white\"},\"hoverlabel\":{\"align\":\"left\"},\"hovermode\":\"closest\",\"mapbox\":{\"style\":\"light\"},\"paper_bgcolor\":\"white\",\"plot_bgcolor\":\"#E5ECF6\",\"polar\":{\"angularaxis\":{\"gridcolor\":\"white\",\"linecolor\":\"white\",\"ticks\":\"\"},\"bgcolor\":\"#E5ECF6\",\"radialaxis\":{\"gridcolor\":\"white\",\"linecolor\":\"white\",\"ticks\":\"\"}},\"scene\":{\"xaxis\":{\"backgroundcolor\":\"#E5ECF6\",\"gridcolor\":\"white\",\"gridwidth\":2,\"linecolor\":\"white\",\"showbackground\":true,\"ticks\":\"\",\"zerolinecolor\":\"white\"},\"yaxis\":{\"backgroundcolor\":\"#E5ECF6\",\"gridcolor\":\"white\",\"gridwidth\":2,\"linecolor\":\"white\",\"showbackground\":true,\"ticks\":\"\",\"zerolinecolor\":\"white\"},\"zaxis\":{\"backgroundcolor\":\"#E5ECF6\",\"gridcolor\":\"white\",\"gridwidth\":2,\"linecolor\":\"white\",\"showbackground\":true,\"ticks\":\"\",\"zerolinecolor\":\"white\"}},\"shapedefaults\":{\"line\":{\"color\":\"#2a3f5f\"}},\"ternary\":{\"aaxis\":{\"gridcolor\":\"white\",\"linecolor\":\"white\",\"ticks\":\"\"},\"baxis\":{\"gridcolor\":\"white\",\"linecolor\":\"white\",\"ticks\":\"\"},\"bgcolor\":\"#E5ECF6\",\"caxis\":{\"gridcolor\":\"white\",\"linecolor\":\"white\",\"ticks\":\"\"}},\"title\":{\"x\":0.05},\"xaxis\":{\"automargin\":true,\"gridcolor\":\"white\",\"linecolor\":\"white\",\"ticks\":\"\",\"title\":{\"standoff\":15},\"zerolinecolor\":\"white\",\"zerolinewidth\":2},\"yaxis\":{\"automargin\":true,\"gridcolor\":\"white\",\"linecolor\":\"white\",\"ticks\":\"\",\"title\":{\"standoff\":15},\"zerolinecolor\":\"white\",\"zerolinewidth\":2}}},\"title\":{\"font\":{\"color\":\"#4D5663\"}},\"xaxis\":{\"gridcolor\":\"#E1E5ED\",\"showgrid\":true,\"tickfont\":{\"color\":\"#4D5663\"},\"title\":{\"font\":{\"color\":\"#4D5663\"},\"text\":\"\"},\"zerolinecolor\":\"#E1E5ED\"},\"yaxis\":{\"gridcolor\":\"#E1E5ED\",\"showgrid\":true,\"tickfont\":{\"color\":\"#4D5663\"},\"title\":{\"font\":{\"color\":\"#4D5663\"},\"text\":\"\"},\"zerolinecolor\":\"#E1E5ED\"}},                        {\"showLink\": true, \"linkText\": \"Export to plot.ly\", \"plotlyServerURL\": \"https://plot.ly\", \"responsive\": true}                    ).then(function(){\n",
       "                            \n",
       "var gd = document.getElementById('7d589686-d121-4799-88f4-4d7ba001c3b9');\n",
       "var x = new MutationObserver(function (mutations, observer) {{\n",
       "        var display = window.getComputedStyle(gd).display;\n",
       "        if (!display || display === 'none') {{\n",
       "            console.log([gd, 'removed!']);\n",
       "            Plotly.purge(gd);\n",
       "            observer.disconnect();\n",
       "        }}\n",
       "}});\n",
       "\n",
       "// Listen for the removal of the full notebook cells\n",
       "var notebookContainer = gd.closest('#notebook-container');\n",
       "if (notebookContainer) {{\n",
       "    x.observe(notebookContainer, {childList: true});\n",
       "}}\n",
       "\n",
       "// Listen for the clearing of the current output cell\n",
       "var outputEl = gd.closest('.output');\n",
       "if (outputEl) {{\n",
       "    x.observe(outputEl, {childList: true});\n",
       "}}\n",
       "\n",
       "                        })                };                });            </script>        </div>"
      ]
     },
     "metadata": {},
     "output_type": "display_data"
    }
   ],
   "source": [
    "df2.iplot(kind='bar',x='Category',y='Values')"
   ]
  },
  {
   "cell_type": "code",
   "execution_count": 13,
   "metadata": {},
   "outputs": [
    {
     "data": {
      "application/vnd.plotly.v1+json": {
       "config": {
        "linkText": "Export to plot.ly",
        "plotlyServerURL": "https://plot.ly",
        "showLink": true
       },
       "data": [
        {
         "marker": {
          "color": "rgba(255, 153, 51, 0.6)",
          "line": {
           "color": "rgba(255, 153, 51, 1.0)",
           "width": 1
          }
         },
         "name": "None",
         "orientation": "v",
         "text": "",
         "type": "bar",
         "x": [
          "A",
          "B",
          "C",
          "D"
         ],
         "y": [
          100,
          100,
          100,
          100
         ]
        }
       ],
       "layout": {
        "legend": {
         "bgcolor": "#F5F6F9",
         "font": {
          "color": "#4D5663"
         }
        },
        "paper_bgcolor": "#F5F6F9",
        "plot_bgcolor": "#F5F6F9",
        "template": {
         "data": {
          "bar": [
           {
            "error_x": {
             "color": "#2a3f5f"
            },
            "error_y": {
             "color": "#2a3f5f"
            },
            "marker": {
             "line": {
              "color": "#E5ECF6",
              "width": 0.5
             },
             "pattern": {
              "fillmode": "overlay",
              "size": 10,
              "solidity": 0.2
             }
            },
            "type": "bar"
           }
          ],
          "barpolar": [
           {
            "marker": {
             "line": {
              "color": "#E5ECF6",
              "width": 0.5
             },
             "pattern": {
              "fillmode": "overlay",
              "size": 10,
              "solidity": 0.2
             }
            },
            "type": "barpolar"
           }
          ],
          "carpet": [
           {
            "aaxis": {
             "endlinecolor": "#2a3f5f",
             "gridcolor": "white",
             "linecolor": "white",
             "minorgridcolor": "white",
             "startlinecolor": "#2a3f5f"
            },
            "baxis": {
             "endlinecolor": "#2a3f5f",
             "gridcolor": "white",
             "linecolor": "white",
             "minorgridcolor": "white",
             "startlinecolor": "#2a3f5f"
            },
            "type": "carpet"
           }
          ],
          "choropleth": [
           {
            "colorbar": {
             "outlinewidth": 0,
             "ticks": ""
            },
            "type": "choropleth"
           }
          ],
          "contour": [
           {
            "colorbar": {
             "outlinewidth": 0,
             "ticks": ""
            },
            "colorscale": [
             [
              0,
              "#0d0887"
             ],
             [
              0.1111111111111111,
              "#46039f"
             ],
             [
              0.2222222222222222,
              "#7201a8"
             ],
             [
              0.3333333333333333,
              "#9c179e"
             ],
             [
              0.4444444444444444,
              "#bd3786"
             ],
             [
              0.5555555555555556,
              "#d8576b"
             ],
             [
              0.6666666666666666,
              "#ed7953"
             ],
             [
              0.7777777777777778,
              "#fb9f3a"
             ],
             [
              0.8888888888888888,
              "#fdca26"
             ],
             [
              1,
              "#f0f921"
             ]
            ],
            "type": "contour"
           }
          ],
          "contourcarpet": [
           {
            "colorbar": {
             "outlinewidth": 0,
             "ticks": ""
            },
            "type": "contourcarpet"
           }
          ],
          "heatmap": [
           {
            "colorbar": {
             "outlinewidth": 0,
             "ticks": ""
            },
            "colorscale": [
             [
              0,
              "#0d0887"
             ],
             [
              0.1111111111111111,
              "#46039f"
             ],
             [
              0.2222222222222222,
              "#7201a8"
             ],
             [
              0.3333333333333333,
              "#9c179e"
             ],
             [
              0.4444444444444444,
              "#bd3786"
             ],
             [
              0.5555555555555556,
              "#d8576b"
             ],
             [
              0.6666666666666666,
              "#ed7953"
             ],
             [
              0.7777777777777778,
              "#fb9f3a"
             ],
             [
              0.8888888888888888,
              "#fdca26"
             ],
             [
              1,
              "#f0f921"
             ]
            ],
            "type": "heatmap"
           }
          ],
          "heatmapgl": [
           {
            "colorbar": {
             "outlinewidth": 0,
             "ticks": ""
            },
            "colorscale": [
             [
              0,
              "#0d0887"
             ],
             [
              0.1111111111111111,
              "#46039f"
             ],
             [
              0.2222222222222222,
              "#7201a8"
             ],
             [
              0.3333333333333333,
              "#9c179e"
             ],
             [
              0.4444444444444444,
              "#bd3786"
             ],
             [
              0.5555555555555556,
              "#d8576b"
             ],
             [
              0.6666666666666666,
              "#ed7953"
             ],
             [
              0.7777777777777778,
              "#fb9f3a"
             ],
             [
              0.8888888888888888,
              "#fdca26"
             ],
             [
              1,
              "#f0f921"
             ]
            ],
            "type": "heatmapgl"
           }
          ],
          "histogram": [
           {
            "marker": {
             "pattern": {
              "fillmode": "overlay",
              "size": 10,
              "solidity": 0.2
             }
            },
            "type": "histogram"
           }
          ],
          "histogram2d": [
           {
            "colorbar": {
             "outlinewidth": 0,
             "ticks": ""
            },
            "colorscale": [
             [
              0,
              "#0d0887"
             ],
             [
              0.1111111111111111,
              "#46039f"
             ],
             [
              0.2222222222222222,
              "#7201a8"
             ],
             [
              0.3333333333333333,
              "#9c179e"
             ],
             [
              0.4444444444444444,
              "#bd3786"
             ],
             [
              0.5555555555555556,
              "#d8576b"
             ],
             [
              0.6666666666666666,
              "#ed7953"
             ],
             [
              0.7777777777777778,
              "#fb9f3a"
             ],
             [
              0.8888888888888888,
              "#fdca26"
             ],
             [
              1,
              "#f0f921"
             ]
            ],
            "type": "histogram2d"
           }
          ],
          "histogram2dcontour": [
           {
            "colorbar": {
             "outlinewidth": 0,
             "ticks": ""
            },
            "colorscale": [
             [
              0,
              "#0d0887"
             ],
             [
              0.1111111111111111,
              "#46039f"
             ],
             [
              0.2222222222222222,
              "#7201a8"
             ],
             [
              0.3333333333333333,
              "#9c179e"
             ],
             [
              0.4444444444444444,
              "#bd3786"
             ],
             [
              0.5555555555555556,
              "#d8576b"
             ],
             [
              0.6666666666666666,
              "#ed7953"
             ],
             [
              0.7777777777777778,
              "#fb9f3a"
             ],
             [
              0.8888888888888888,
              "#fdca26"
             ],
             [
              1,
              "#f0f921"
             ]
            ],
            "type": "histogram2dcontour"
           }
          ],
          "mesh3d": [
           {
            "colorbar": {
             "outlinewidth": 0,
             "ticks": ""
            },
            "type": "mesh3d"
           }
          ],
          "parcoords": [
           {
            "line": {
             "colorbar": {
              "outlinewidth": 0,
              "ticks": ""
             }
            },
            "type": "parcoords"
           }
          ],
          "pie": [
           {
            "automargin": true,
            "type": "pie"
           }
          ],
          "scatter": [
           {
            "fillpattern": {
             "fillmode": "overlay",
             "size": 10,
             "solidity": 0.2
            },
            "type": "scatter"
           }
          ],
          "scatter3d": [
           {
            "line": {
             "colorbar": {
              "outlinewidth": 0,
              "ticks": ""
             }
            },
            "marker": {
             "colorbar": {
              "outlinewidth": 0,
              "ticks": ""
             }
            },
            "type": "scatter3d"
           }
          ],
          "scattercarpet": [
           {
            "marker": {
             "colorbar": {
              "outlinewidth": 0,
              "ticks": ""
             }
            },
            "type": "scattercarpet"
           }
          ],
          "scattergeo": [
           {
            "marker": {
             "colorbar": {
              "outlinewidth": 0,
              "ticks": ""
             }
            },
            "type": "scattergeo"
           }
          ],
          "scattergl": [
           {
            "marker": {
             "colorbar": {
              "outlinewidth": 0,
              "ticks": ""
             }
            },
            "type": "scattergl"
           }
          ],
          "scattermapbox": [
           {
            "marker": {
             "colorbar": {
              "outlinewidth": 0,
              "ticks": ""
             }
            },
            "type": "scattermapbox"
           }
          ],
          "scatterpolar": [
           {
            "marker": {
             "colorbar": {
              "outlinewidth": 0,
              "ticks": ""
             }
            },
            "type": "scatterpolar"
           }
          ],
          "scatterpolargl": [
           {
            "marker": {
             "colorbar": {
              "outlinewidth": 0,
              "ticks": ""
             }
            },
            "type": "scatterpolargl"
           }
          ],
          "scatterternary": [
           {
            "marker": {
             "colorbar": {
              "outlinewidth": 0,
              "ticks": ""
             }
            },
            "type": "scatterternary"
           }
          ],
          "surface": [
           {
            "colorbar": {
             "outlinewidth": 0,
             "ticks": ""
            },
            "colorscale": [
             [
              0,
              "#0d0887"
             ],
             [
              0.1111111111111111,
              "#46039f"
             ],
             [
              0.2222222222222222,
              "#7201a8"
             ],
             [
              0.3333333333333333,
              "#9c179e"
             ],
             [
              0.4444444444444444,
              "#bd3786"
             ],
             [
              0.5555555555555556,
              "#d8576b"
             ],
             [
              0.6666666666666666,
              "#ed7953"
             ],
             [
              0.7777777777777778,
              "#fb9f3a"
             ],
             [
              0.8888888888888888,
              "#fdca26"
             ],
             [
              1,
              "#f0f921"
             ]
            ],
            "type": "surface"
           }
          ],
          "table": [
           {
            "cells": {
             "fill": {
              "color": "#EBF0F8"
             },
             "line": {
              "color": "white"
             }
            },
            "header": {
             "fill": {
              "color": "#C8D4E3"
             },
             "line": {
              "color": "white"
             }
            },
            "type": "table"
           }
          ]
         },
         "layout": {
          "annotationdefaults": {
           "arrowcolor": "#2a3f5f",
           "arrowhead": 0,
           "arrowwidth": 1
          },
          "autotypenumbers": "strict",
          "coloraxis": {
           "colorbar": {
            "outlinewidth": 0,
            "ticks": ""
           }
          },
          "colorscale": {
           "diverging": [
            [
             0,
             "#8e0152"
            ],
            [
             0.1,
             "#c51b7d"
            ],
            [
             0.2,
             "#de77ae"
            ],
            [
             0.3,
             "#f1b6da"
            ],
            [
             0.4,
             "#fde0ef"
            ],
            [
             0.5,
             "#f7f7f7"
            ],
            [
             0.6,
             "#e6f5d0"
            ],
            [
             0.7,
             "#b8e186"
            ],
            [
             0.8,
             "#7fbc41"
            ],
            [
             0.9,
             "#4d9221"
            ],
            [
             1,
             "#276419"
            ]
           ],
           "sequential": [
            [
             0,
             "#0d0887"
            ],
            [
             0.1111111111111111,
             "#46039f"
            ],
            [
             0.2222222222222222,
             "#7201a8"
            ],
            [
             0.3333333333333333,
             "#9c179e"
            ],
            [
             0.4444444444444444,
             "#bd3786"
            ],
            [
             0.5555555555555556,
             "#d8576b"
            ],
            [
             0.6666666666666666,
             "#ed7953"
            ],
            [
             0.7777777777777778,
             "#fb9f3a"
            ],
            [
             0.8888888888888888,
             "#fdca26"
            ],
            [
             1,
             "#f0f921"
            ]
           ],
           "sequentialminus": [
            [
             0,
             "#0d0887"
            ],
            [
             0.1111111111111111,
             "#46039f"
            ],
            [
             0.2222222222222222,
             "#7201a8"
            ],
            [
             0.3333333333333333,
             "#9c179e"
            ],
            [
             0.4444444444444444,
             "#bd3786"
            ],
            [
             0.5555555555555556,
             "#d8576b"
            ],
            [
             0.6666666666666666,
             "#ed7953"
            ],
            [
             0.7777777777777778,
             "#fb9f3a"
            ],
            [
             0.8888888888888888,
             "#fdca26"
            ],
            [
             1,
             "#f0f921"
            ]
           ]
          },
          "colorway": [
           "#636efa",
           "#EF553B",
           "#00cc96",
           "#ab63fa",
           "#FFA15A",
           "#19d3f3",
           "#FF6692",
           "#B6E880",
           "#FF97FF",
           "#FECB52"
          ],
          "font": {
           "color": "#2a3f5f"
          },
          "geo": {
           "bgcolor": "white",
           "lakecolor": "white",
           "landcolor": "#E5ECF6",
           "showlakes": true,
           "showland": true,
           "subunitcolor": "white"
          },
          "hoverlabel": {
           "align": "left"
          },
          "hovermode": "closest",
          "mapbox": {
           "style": "light"
          },
          "paper_bgcolor": "white",
          "plot_bgcolor": "#E5ECF6",
          "polar": {
           "angularaxis": {
            "gridcolor": "white",
            "linecolor": "white",
            "ticks": ""
           },
           "bgcolor": "#E5ECF6",
           "radialaxis": {
            "gridcolor": "white",
            "linecolor": "white",
            "ticks": ""
           }
          },
          "scene": {
           "xaxis": {
            "backgroundcolor": "#E5ECF6",
            "gridcolor": "white",
            "gridwidth": 2,
            "linecolor": "white",
            "showbackground": true,
            "ticks": "",
            "zerolinecolor": "white"
           },
           "yaxis": {
            "backgroundcolor": "#E5ECF6",
            "gridcolor": "white",
            "gridwidth": 2,
            "linecolor": "white",
            "showbackground": true,
            "ticks": "",
            "zerolinecolor": "white"
           },
           "zaxis": {
            "backgroundcolor": "#E5ECF6",
            "gridcolor": "white",
            "gridwidth": 2,
            "linecolor": "white",
            "showbackground": true,
            "ticks": "",
            "zerolinecolor": "white"
           }
          },
          "shapedefaults": {
           "line": {
            "color": "#2a3f5f"
           }
          },
          "ternary": {
           "aaxis": {
            "gridcolor": "white",
            "linecolor": "white",
            "ticks": ""
           },
           "baxis": {
            "gridcolor": "white",
            "linecolor": "white",
            "ticks": ""
           },
           "bgcolor": "#E5ECF6",
           "caxis": {
            "gridcolor": "white",
            "linecolor": "white",
            "ticks": ""
           }
          },
          "title": {
           "x": 0.05
          },
          "xaxis": {
           "automargin": true,
           "gridcolor": "white",
           "linecolor": "white",
           "ticks": "",
           "title": {
            "standoff": 15
           },
           "zerolinecolor": "white",
           "zerolinewidth": 2
          },
          "yaxis": {
           "automargin": true,
           "gridcolor": "white",
           "linecolor": "white",
           "ticks": "",
           "title": {
            "standoff": 15
           },
           "zerolinecolor": "white",
           "zerolinewidth": 2
          }
         }
        },
        "title": {
         "font": {
          "color": "#4D5663"
         }
        },
        "xaxis": {
         "gridcolor": "#E1E5ED",
         "showgrid": true,
         "tickfont": {
          "color": "#4D5663"
         },
         "title": {
          "font": {
           "color": "#4D5663"
          },
          "text": ""
         },
         "zerolinecolor": "#E1E5ED"
        },
        "yaxis": {
         "gridcolor": "#E1E5ED",
         "showgrid": true,
         "tickfont": {
          "color": "#4D5663"
         },
         "title": {
          "font": {
           "color": "#4D5663"
          },
          "text": ""
         },
         "zerolinecolor": "#E1E5ED"
        }
       }
      },
      "text/html": [
       "<div>                            <div id=\"b08a681f-c1b3-4e32-95e6-9b5bfe0fabf5\" class=\"plotly-graph-div\" style=\"height:525px; width:100%;\"></div>            <script type=\"text/javascript\">                require([\"plotly\"], function(Plotly) {                    window.PLOTLYENV=window.PLOTLYENV || {};\n",
       "                    window.PLOTLYENV.BASE_URL='https://plot.ly';                                    if (document.getElementById(\"b08a681f-c1b3-4e32-95e6-9b5bfe0fabf5\")) {                    Plotly.newPlot(                        \"b08a681f-c1b3-4e32-95e6-9b5bfe0fabf5\",                        [{\"marker\":{\"color\":\"rgba(255, 153, 51, 0.6)\",\"line\":{\"color\":\"rgba(255, 153, 51, 1.0)\",\"width\":1}},\"name\":\"None\",\"orientation\":\"v\",\"text\":\"\",\"x\":[\"A\",\"B\",\"C\",\"D\"],\"y\":[100,100,100,100],\"type\":\"bar\"}],                        {\"legend\":{\"bgcolor\":\"#F5F6F9\",\"font\":{\"color\":\"#4D5663\"}},\"paper_bgcolor\":\"#F5F6F9\",\"plot_bgcolor\":\"#F5F6F9\",\"template\":{\"data\":{\"barpolar\":[{\"marker\":{\"line\":{\"color\":\"#E5ECF6\",\"width\":0.5},\"pattern\":{\"fillmode\":\"overlay\",\"size\":10,\"solidity\":0.2}},\"type\":\"barpolar\"}],\"bar\":[{\"error_x\":{\"color\":\"#2a3f5f\"},\"error_y\":{\"color\":\"#2a3f5f\"},\"marker\":{\"line\":{\"color\":\"#E5ECF6\",\"width\":0.5},\"pattern\":{\"fillmode\":\"overlay\",\"size\":10,\"solidity\":0.2}},\"type\":\"bar\"}],\"carpet\":[{\"aaxis\":{\"endlinecolor\":\"#2a3f5f\",\"gridcolor\":\"white\",\"linecolor\":\"white\",\"minorgridcolor\":\"white\",\"startlinecolor\":\"#2a3f5f\"},\"baxis\":{\"endlinecolor\":\"#2a3f5f\",\"gridcolor\":\"white\",\"linecolor\":\"white\",\"minorgridcolor\":\"white\",\"startlinecolor\":\"#2a3f5f\"},\"type\":\"carpet\"}],\"choropleth\":[{\"colorbar\":{\"outlinewidth\":0,\"ticks\":\"\"},\"type\":\"choropleth\"}],\"contourcarpet\":[{\"colorbar\":{\"outlinewidth\":0,\"ticks\":\"\"},\"type\":\"contourcarpet\"}],\"contour\":[{\"colorbar\":{\"outlinewidth\":0,\"ticks\":\"\"},\"colorscale\":[[0.0,\"#0d0887\"],[0.1111111111111111,\"#46039f\"],[0.2222222222222222,\"#7201a8\"],[0.3333333333333333,\"#9c179e\"],[0.4444444444444444,\"#bd3786\"],[0.5555555555555556,\"#d8576b\"],[0.6666666666666666,\"#ed7953\"],[0.7777777777777778,\"#fb9f3a\"],[0.8888888888888888,\"#fdca26\"],[1.0,\"#f0f921\"]],\"type\":\"contour\"}],\"heatmapgl\":[{\"colorbar\":{\"outlinewidth\":0,\"ticks\":\"\"},\"colorscale\":[[0.0,\"#0d0887\"],[0.1111111111111111,\"#46039f\"],[0.2222222222222222,\"#7201a8\"],[0.3333333333333333,\"#9c179e\"],[0.4444444444444444,\"#bd3786\"],[0.5555555555555556,\"#d8576b\"],[0.6666666666666666,\"#ed7953\"],[0.7777777777777778,\"#fb9f3a\"],[0.8888888888888888,\"#fdca26\"],[1.0,\"#f0f921\"]],\"type\":\"heatmapgl\"}],\"heatmap\":[{\"colorbar\":{\"outlinewidth\":0,\"ticks\":\"\"},\"colorscale\":[[0.0,\"#0d0887\"],[0.1111111111111111,\"#46039f\"],[0.2222222222222222,\"#7201a8\"],[0.3333333333333333,\"#9c179e\"],[0.4444444444444444,\"#bd3786\"],[0.5555555555555556,\"#d8576b\"],[0.6666666666666666,\"#ed7953\"],[0.7777777777777778,\"#fb9f3a\"],[0.8888888888888888,\"#fdca26\"],[1.0,\"#f0f921\"]],\"type\":\"heatmap\"}],\"histogram2dcontour\":[{\"colorbar\":{\"outlinewidth\":0,\"ticks\":\"\"},\"colorscale\":[[0.0,\"#0d0887\"],[0.1111111111111111,\"#46039f\"],[0.2222222222222222,\"#7201a8\"],[0.3333333333333333,\"#9c179e\"],[0.4444444444444444,\"#bd3786\"],[0.5555555555555556,\"#d8576b\"],[0.6666666666666666,\"#ed7953\"],[0.7777777777777778,\"#fb9f3a\"],[0.8888888888888888,\"#fdca26\"],[1.0,\"#f0f921\"]],\"type\":\"histogram2dcontour\"}],\"histogram2d\":[{\"colorbar\":{\"outlinewidth\":0,\"ticks\":\"\"},\"colorscale\":[[0.0,\"#0d0887\"],[0.1111111111111111,\"#46039f\"],[0.2222222222222222,\"#7201a8\"],[0.3333333333333333,\"#9c179e\"],[0.4444444444444444,\"#bd3786\"],[0.5555555555555556,\"#d8576b\"],[0.6666666666666666,\"#ed7953\"],[0.7777777777777778,\"#fb9f3a\"],[0.8888888888888888,\"#fdca26\"],[1.0,\"#f0f921\"]],\"type\":\"histogram2d\"}],\"histogram\":[{\"marker\":{\"pattern\":{\"fillmode\":\"overlay\",\"size\":10,\"solidity\":0.2}},\"type\":\"histogram\"}],\"mesh3d\":[{\"colorbar\":{\"outlinewidth\":0,\"ticks\":\"\"},\"type\":\"mesh3d\"}],\"parcoords\":[{\"line\":{\"colorbar\":{\"outlinewidth\":0,\"ticks\":\"\"}},\"type\":\"parcoords\"}],\"pie\":[{\"automargin\":true,\"type\":\"pie\"}],\"scatter3d\":[{\"line\":{\"colorbar\":{\"outlinewidth\":0,\"ticks\":\"\"}},\"marker\":{\"colorbar\":{\"outlinewidth\":0,\"ticks\":\"\"}},\"type\":\"scatter3d\"}],\"scattercarpet\":[{\"marker\":{\"colorbar\":{\"outlinewidth\":0,\"ticks\":\"\"}},\"type\":\"scattercarpet\"}],\"scattergeo\":[{\"marker\":{\"colorbar\":{\"outlinewidth\":0,\"ticks\":\"\"}},\"type\":\"scattergeo\"}],\"scattergl\":[{\"marker\":{\"colorbar\":{\"outlinewidth\":0,\"ticks\":\"\"}},\"type\":\"scattergl\"}],\"scattermapbox\":[{\"marker\":{\"colorbar\":{\"outlinewidth\":0,\"ticks\":\"\"}},\"type\":\"scattermapbox\"}],\"scatterpolargl\":[{\"marker\":{\"colorbar\":{\"outlinewidth\":0,\"ticks\":\"\"}},\"type\":\"scatterpolargl\"}],\"scatterpolar\":[{\"marker\":{\"colorbar\":{\"outlinewidth\":0,\"ticks\":\"\"}},\"type\":\"scatterpolar\"}],\"scatter\":[{\"fillpattern\":{\"fillmode\":\"overlay\",\"size\":10,\"solidity\":0.2},\"type\":\"scatter\"}],\"scatterternary\":[{\"marker\":{\"colorbar\":{\"outlinewidth\":0,\"ticks\":\"\"}},\"type\":\"scatterternary\"}],\"surface\":[{\"colorbar\":{\"outlinewidth\":0,\"ticks\":\"\"},\"colorscale\":[[0.0,\"#0d0887\"],[0.1111111111111111,\"#46039f\"],[0.2222222222222222,\"#7201a8\"],[0.3333333333333333,\"#9c179e\"],[0.4444444444444444,\"#bd3786\"],[0.5555555555555556,\"#d8576b\"],[0.6666666666666666,\"#ed7953\"],[0.7777777777777778,\"#fb9f3a\"],[0.8888888888888888,\"#fdca26\"],[1.0,\"#f0f921\"]],\"type\":\"surface\"}],\"table\":[{\"cells\":{\"fill\":{\"color\":\"#EBF0F8\"},\"line\":{\"color\":\"white\"}},\"header\":{\"fill\":{\"color\":\"#C8D4E3\"},\"line\":{\"color\":\"white\"}},\"type\":\"table\"}]},\"layout\":{\"annotationdefaults\":{\"arrowcolor\":\"#2a3f5f\",\"arrowhead\":0,\"arrowwidth\":1},\"autotypenumbers\":\"strict\",\"coloraxis\":{\"colorbar\":{\"outlinewidth\":0,\"ticks\":\"\"}},\"colorscale\":{\"diverging\":[[0,\"#8e0152\"],[0.1,\"#c51b7d\"],[0.2,\"#de77ae\"],[0.3,\"#f1b6da\"],[0.4,\"#fde0ef\"],[0.5,\"#f7f7f7\"],[0.6,\"#e6f5d0\"],[0.7,\"#b8e186\"],[0.8,\"#7fbc41\"],[0.9,\"#4d9221\"],[1,\"#276419\"]],\"sequential\":[[0.0,\"#0d0887\"],[0.1111111111111111,\"#46039f\"],[0.2222222222222222,\"#7201a8\"],[0.3333333333333333,\"#9c179e\"],[0.4444444444444444,\"#bd3786\"],[0.5555555555555556,\"#d8576b\"],[0.6666666666666666,\"#ed7953\"],[0.7777777777777778,\"#fb9f3a\"],[0.8888888888888888,\"#fdca26\"],[1.0,\"#f0f921\"]],\"sequentialminus\":[[0.0,\"#0d0887\"],[0.1111111111111111,\"#46039f\"],[0.2222222222222222,\"#7201a8\"],[0.3333333333333333,\"#9c179e\"],[0.4444444444444444,\"#bd3786\"],[0.5555555555555556,\"#d8576b\"],[0.6666666666666666,\"#ed7953\"],[0.7777777777777778,\"#fb9f3a\"],[0.8888888888888888,\"#fdca26\"],[1.0,\"#f0f921\"]]},\"colorway\":[\"#636efa\",\"#EF553B\",\"#00cc96\",\"#ab63fa\",\"#FFA15A\",\"#19d3f3\",\"#FF6692\",\"#B6E880\",\"#FF97FF\",\"#FECB52\"],\"font\":{\"color\":\"#2a3f5f\"},\"geo\":{\"bgcolor\":\"white\",\"lakecolor\":\"white\",\"landcolor\":\"#E5ECF6\",\"showlakes\":true,\"showland\":true,\"subunitcolor\":\"white\"},\"hoverlabel\":{\"align\":\"left\"},\"hovermode\":\"closest\",\"mapbox\":{\"style\":\"light\"},\"paper_bgcolor\":\"white\",\"plot_bgcolor\":\"#E5ECF6\",\"polar\":{\"angularaxis\":{\"gridcolor\":\"white\",\"linecolor\":\"white\",\"ticks\":\"\"},\"bgcolor\":\"#E5ECF6\",\"radialaxis\":{\"gridcolor\":\"white\",\"linecolor\":\"white\",\"ticks\":\"\"}},\"scene\":{\"xaxis\":{\"backgroundcolor\":\"#E5ECF6\",\"gridcolor\":\"white\",\"gridwidth\":2,\"linecolor\":\"white\",\"showbackground\":true,\"ticks\":\"\",\"zerolinecolor\":\"white\"},\"yaxis\":{\"backgroundcolor\":\"#E5ECF6\",\"gridcolor\":\"white\",\"gridwidth\":2,\"linecolor\":\"white\",\"showbackground\":true,\"ticks\":\"\",\"zerolinecolor\":\"white\"},\"zaxis\":{\"backgroundcolor\":\"#E5ECF6\",\"gridcolor\":\"white\",\"gridwidth\":2,\"linecolor\":\"white\",\"showbackground\":true,\"ticks\":\"\",\"zerolinecolor\":\"white\"}},\"shapedefaults\":{\"line\":{\"color\":\"#2a3f5f\"}},\"ternary\":{\"aaxis\":{\"gridcolor\":\"white\",\"linecolor\":\"white\",\"ticks\":\"\"},\"baxis\":{\"gridcolor\":\"white\",\"linecolor\":\"white\",\"ticks\":\"\"},\"bgcolor\":\"#E5ECF6\",\"caxis\":{\"gridcolor\":\"white\",\"linecolor\":\"white\",\"ticks\":\"\"}},\"title\":{\"x\":0.05},\"xaxis\":{\"automargin\":true,\"gridcolor\":\"white\",\"linecolor\":\"white\",\"ticks\":\"\",\"title\":{\"standoff\":15},\"zerolinecolor\":\"white\",\"zerolinewidth\":2},\"yaxis\":{\"automargin\":true,\"gridcolor\":\"white\",\"linecolor\":\"white\",\"ticks\":\"\",\"title\":{\"standoff\":15},\"zerolinecolor\":\"white\",\"zerolinewidth\":2}}},\"title\":{\"font\":{\"color\":\"#4D5663\"}},\"xaxis\":{\"gridcolor\":\"#E1E5ED\",\"showgrid\":true,\"tickfont\":{\"color\":\"#4D5663\"},\"title\":{\"font\":{\"color\":\"#4D5663\"},\"text\":\"\"},\"zerolinecolor\":\"#E1E5ED\"},\"yaxis\":{\"gridcolor\":\"#E1E5ED\",\"showgrid\":true,\"tickfont\":{\"color\":\"#4D5663\"},\"title\":{\"font\":{\"color\":\"#4D5663\"},\"text\":\"\"},\"zerolinecolor\":\"#E1E5ED\"}},                        {\"showLink\": true, \"linkText\": \"Export to plot.ly\", \"plotlyServerURL\": \"https://plot.ly\", \"responsive\": true}                    ).then(function(){\n",
       "                            \n",
       "var gd = document.getElementById('b08a681f-c1b3-4e32-95e6-9b5bfe0fabf5');\n",
       "var x = new MutationObserver(function (mutations, observer) {{\n",
       "        var display = window.getComputedStyle(gd).display;\n",
       "        if (!display || display === 'none') {{\n",
       "            console.log([gd, 'removed!']);\n",
       "            Plotly.purge(gd);\n",
       "            observer.disconnect();\n",
       "        }}\n",
       "}});\n",
       "\n",
       "// Listen for the removal of the full notebook cells\n",
       "var notebookContainer = gd.closest('#notebook-container');\n",
       "if (notebookContainer) {{\n",
       "    x.observe(notebookContainer, {childList: true});\n",
       "}}\n",
       "\n",
       "// Listen for the clearing of the current output cell\n",
       "var outputEl = gd.closest('.output');\n",
       "if (outputEl) {{\n",
       "    x.observe(outputEl, {childList: true});\n",
       "}}\n",
       "\n",
       "                        })                };                });            </script>        </div>"
      ]
     },
     "metadata": {},
     "output_type": "display_data"
    }
   ],
   "source": [
    "df.count().iplot(kind='bar')"
   ]
  },
  {
   "cell_type": "markdown",
   "metadata": {},
   "source": [
    "## Boxplots"
   ]
  },
  {
   "cell_type": "code",
   "execution_count": 14,
   "metadata": {},
   "outputs": [
    {
     "data": {
      "application/vnd.plotly.v1+json": {
       "config": {
        "linkText": "Export to plot.ly",
        "plotlyServerURL": "https://plot.ly",
        "showLink": true
       },
       "data": [
        {
         "boxpoints": false,
         "line": {
          "width": 1.3
         },
         "marker": {
          "color": "rgba(255, 153, 51, 1.0)"
         },
         "name": "A",
         "orientation": "v",
         "type": "box",
         "y": [
          0.26094944737820464,
          0.6756427948506019,
          -1.6813264412755256,
          0.7204565479924322,
          -0.22704880191720428,
          1.6257351533472952,
          -0.4942521366331942,
          0.7554812681062507,
          -0.012121861711336316,
          0.6690437492201413,
          -0.3900373476123656,
          -1.8547898714279738,
          -1.4816658495535915,
          0.23413255955366494,
          0.21034036783623777,
          -0.5905362775657257,
          0.44400914529871144,
          -0.08988354995132182,
          -0.9092428787691089,
          0.1390659850483001,
          0.12827195930806926,
          -0.8936444613365111,
          0.48411247557442094,
          0.5712665158701542,
          -0.2306417488905862,
          1.0621829798421933,
          0.8049419422180617,
          0.3098617097266694,
          -1.2459142215390526,
          -1.5421708395982974,
          -0.28945802864526166,
          -0.457410342620502,
          0.8842863964667576,
          0.4716178732561643,
          1.080769153106927,
          -0.3027219145109648,
          1.4535241446092566,
          -2.006165431524184,
          0.3457218679585976,
          1.2554394332593966,
          1.583191788122711,
          0.1001572144415794,
          0.1218111415464603,
          0.7644233984677314,
          0.6256263350098222,
          -1.0406876639569114,
          -1.1116255859285793,
          -1.3226346404362888,
          0.9521322476501216,
          0.10361535193926541,
          1.6796946454820472,
          -1.0312332635688635,
          -1.6719091796148713,
          -1.4620898703178808,
          -2.338268650433877,
          0.7249705026245721,
          1.892208054311665,
          -0.8650989366390816,
          -0.36156197736492707,
          0.5556931482624534,
          0.5550851907531508,
          -2.7372209835746997,
          1.556315017341361,
          0.40241766720405525,
          0.459800704742713,
          0.010839974417914938,
          0.2869058777525109,
          -0.20948496585773907,
          -0.3228919963689883,
          -0.9424428117102946,
          0.08004987528207808,
          -1.722571435733268,
          -1.2599461951241895,
          -1.1399593241709116,
          0.9427614038338752,
          -0.608796670914509,
          -0.180982777034367,
          1.7219984547975717,
          -0.026529348892462685,
          -0.09822764343422868,
          -1.944606864250181,
          0.8610178999848556,
          1.2603732054512387,
          -0.7031761322484911,
          -0.6031228391849389,
          -0.21885822736009458,
          0.4179951312327664,
          1.1013003666583145,
          0.9154925356461139,
          0.09501597794814125,
          -2.216397093263774,
          0.9567752156312098,
          0.5091191071901275,
          -1.2976367682644396,
          0.252814044628649,
          -0.1696171000230781,
          1.2540223824766012,
          -1.1091293259988333,
          -0.07234965598861014,
          -0.4820456279286618
         ]
        },
        {
         "boxpoints": false,
         "line": {
          "width": 1.3
         },
         "marker": {
          "color": "rgba(55, 128, 191, 1.0)"
         },
         "name": "B",
         "orientation": "v",
         "type": "box",
         "y": [
          -2.2858288822656303,
          -0.3689246942451719,
          -0.4878085442863548,
          0.0899980136684595,
          0.29926889068795876,
          0.17158248776965915,
          -1.6060521316690806,
          0.8454748009189931,
          -0.7780592645242341,
          -1.5565002087012068,
          1.0372025831271199,
          0.8400056526466327,
          -0.9864917656790733,
          -0.7865337495103956,
          -0.4908674300457295,
          0.065209412493217,
          0.9568752404687892,
          -0.8396432482350337,
          -0.12579337362106027,
          -0.2521365828886802,
          -0.5335363396262771,
          -1.1038689888634035,
          0.4702284473695049,
          1.0127134627231362,
          0.06357379909821854,
          0.17666908872890652,
          -2.219413202901428,
          0.16988007691544227,
          0.21331495447507157,
          -0.38144917787193,
          -0.7234233309210866,
          1.1654897644783366,
          -0.0939289539623439,
          2.0170523368074034,
          -1.066331684671368,
          -1.2550980664771623,
          -0.6834753077766862,
          -1.9776636533758316,
          -0.7071974935890099,
          -0.8647725828109243,
          0.666397539151505,
          -2.1561037115340382,
          1.3088668119173679,
          0.1895499161046491,
          -0.2143124885233418,
          1.5600407751980936,
          1.49517789425164,
          -1.3163885089797722,
          0.3071100790489101,
          -1.1334144746266988,
          -1.3048753478925657,
          -1.7737873100165837,
          -1.311819431354197,
          0.6547271610296218,
          -1.080829127609142,
          -0.14106417250186926,
          1.12593274559256,
          -0.18690924228657932,
          1.0632163358016373,
          -0.9635096609258548,
          0.5013097476381637,
          -0.41205755974149105,
          0.7461619496075209,
          -2.0031465844771246,
          -1.4463887314168276,
          1.26252117377817,
          -1.2231128761730659,
          -0.02423340109344603,
          2.4622973856990584,
          0.4021529194125459,
          -0.7330723509578897,
          -0.04278911282889734,
          -0.3491149144994279,
          1.083279811870235,
          1.0426110712780547,
          -1.8778181299002392,
          -1.0794577182216054,
          -1.5317866657565158,
          1.0165126478271154,
          -0.8934024272225225,
          -0.3084887191806035,
          -0.699643240815849,
          -0.6605125009688817,
          2.1852107666274163,
          0.996809877383777,
          0.06108618985377447,
          2.4562499159811915,
          0.8295824341081318,
          1.4581308222086655,
          1.0332082700772245,
          0.6149475497997644,
          0.12629079890159314,
          -1.1722907357555292,
          -0.8750580032179174,
          0.2213111053489606,
          0.9767123482772395,
          1.3429699882896668,
          0.4560223707490966,
          -0.10333857580881216,
          0.7250381311930914
         ]
        },
        {
         "boxpoints": false,
         "line": {
          "width": 1.3
         },
         "marker": {
          "color": "rgba(50, 171, 96, 1.0)"
         },
         "name": "C",
         "orientation": "v",
         "type": "box",
         "y": [
          0.32533126166391485,
          -1.0948514086567007,
          -1.255698256658563,
          -0.7115348500480666,
          -1.5734581413898854,
          -0.2693780640469743,
          0.5312122041618935,
          0.7643957254436153,
          1.3466440592846238,
          -0.011138496176147835,
          -1.006175222327991,
          -0.7657814111691001,
          0.2704614828597357,
          1.0183788515132506,
          -1.6313687143064737,
          -1.1377406766960112,
          1.754747546345917,
          1.0739077449778924,
          1.187443194858314,
          -1.1762172356198197,
          -2.330878647921375,
          -0.29177231149834987,
          -1.5420377609907308,
          -0.44511416089779543,
          1.8225838117742819,
          2.0680123691645167,
          -1.7712608957239127,
          -0.9471147591668491,
          1.6184713553015566,
          -0.6887690862726555,
          -0.2770483905764386,
          -1.0205117397712196,
          0.5411886732059261,
          -0.9679130404308924,
          0.7223804650709226,
          0.19804466049875422,
          0.5757187719225264,
          -0.6365002863183196,
          -0.21892397489849863,
          -0.38832629642815525,
          0.7564138642884449,
          -0.25283318868976823,
          1.6578227713614326,
          0.778371309783315,
          -0.025442852310508104,
          1.0290112662167505,
          -0.7478300783956774,
          -0.5892929751830931,
          2.2221162029341848,
          -0.21607144784907933,
          -1.4358331970874543,
          0.32341588670439253,
          2.1088425493463316,
          -0.35207423187535375,
          0.5480642595297384,
          0.42469906156207216,
          -0.5512588997951553,
          -0.744004698667509,
          1.3009083492632714,
          -2.913661302226596,
          -1.79700075056673,
          2.2240582842789998,
          0.20083784721363973,
          -1.1155836193566913,
          0.37881604036311256,
          -1.0515506213586965,
          -0.7142174212313871,
          -0.580132172851161,
          -0.36996370552054747,
          -1.9956692450109044,
          3.3068298553023956,
          -0.6535949069759464,
          -0.8126537235638911,
          -0.7910150450158807,
          -0.5897039192173934,
          -0.9641463263885816,
          0.09458255813228832,
          -0.35691739474910894,
          0.7368928853813077,
          0.5992388061778968,
          -0.8788160686807402,
          -0.4018213365525234,
          -0.05339238691644387,
          -0.3627926288640987,
          -0.7251370023029332,
          0.6550178848897097,
          -1.893543294098089,
          0.2507926698741199,
          -2.603137809917833,
          1.345799354558909,
          1.1223941883090842,
          2.0230162957001028,
          -0.04150802293184813,
          -0.011228513864026684,
          -0.5941780239391884,
          -0.3058191790453311,
          1.653697814059976,
          -1.2921648263284362,
          -0.11844456500402563,
          0.6483758171002227
         ]
        },
        {
         "boxpoints": false,
         "line": {
          "width": 1.3
         },
         "marker": {
          "color": "rgba(128, 0, 128, 1.0)"
         },
         "name": "D",
         "orientation": "v",
         "type": "box",
         "y": [
          0.41794327451779345,
          -0.03261673753335445,
          -0.4550174727865612,
          -0.004208347162477857,
          -0.6223002368189892,
          0.37079932691257855,
          0.4044968263615406,
          0.6156065311469866,
          -0.5629685390235405,
          1.4654377449230789,
          -0.08295070642030386,
          -0.8141272270394169,
          -0.08122433488173093,
          -0.8441255872868394,
          -0.1038450347802428,
          -0.8264106510813224,
          0.33835876227499645,
          1.610267518488858,
          -1.4599309420426185,
          0.866996034978916,
          -1.02904049897154,
          1.227022930533725,
          0.37668671410737165,
          1.3804286998065782,
          1.2314256439125106,
          0.12804999346254464,
          -1.3228095505120894,
          -0.21084639477165035,
          0.494661739271153,
          -0.954422281959772,
          -0.06817586662636892,
          1.6331220665869417,
          -1.8184158143329487,
          -0.9072522004937862,
          1.182488924288222,
          1.8100366556664622,
          -1.5672078033978591,
          0.0846336270397929,
          -0.880862573119192,
          0.6716695121190952,
          -1.2429081023690345,
          -0.6619703835342022,
          -0.2961579681187715,
          -0.6044465329934139,
          -0.20082288973325496,
          0.3976613955284886,
          0.26045978499364436,
          0.7234116917878068,
          0.15515371118901172,
          1.9235573499253922,
          -1.9163020993661708,
          -0.878533455623837,
          0.03334430451853539,
          -0.4749136499522914,
          -0.5783326094025376,
          -0.4058299179802135,
          -0.08161828458775061,
          -1.0019000743769864,
          0.9736625816934414,
          0.7006372454826486,
          1.009607343099174,
          -2.0230743602161305,
          -0.11886781633156078,
          0.08909096314851882,
          0.5224997723778508,
          -0.22213927396262687,
          -0.6450675952005471,
          1.7064853550957833,
          0.2994101531694659,
          -0.5061617487595512,
          -0.5713559687832984,
          1.9282636850213841,
          -1.5190521015763374,
          -0.019914506427172442,
          -0.7607785603577836,
          -0.1817706306857436,
          0.10979048618419447,
          2.2332548603506903,
          0.9542509226302287,
          -0.18666984421018826,
          0.4550501723241464,
          -1.7401968649713317,
          -0.4924158421882854,
          0.20238484904659426,
          1.0635355770648967,
          -0.20361483915691467,
          -1.0737855655373512,
          1.8037649286934079,
          -1.0164897009038132,
          -1.3978203525736188,
          -0.5532058788949985,
          1.4993041498775244,
          0.5331637896362921,
          0.7483597698017826,
          -0.492958356631721,
          -0.9739873053805449,
          0.7218719374631305,
          0.7620215689250328,
          1.142168023221178,
          0.9402807158049501
         ]
        }
       ],
       "layout": {
        "legend": {
         "bgcolor": "#F5F6F9",
         "font": {
          "color": "#4D5663"
         }
        },
        "paper_bgcolor": "#F5F6F9",
        "plot_bgcolor": "#F5F6F9",
        "template": {
         "data": {
          "bar": [
           {
            "error_x": {
             "color": "#2a3f5f"
            },
            "error_y": {
             "color": "#2a3f5f"
            },
            "marker": {
             "line": {
              "color": "#E5ECF6",
              "width": 0.5
             },
             "pattern": {
              "fillmode": "overlay",
              "size": 10,
              "solidity": 0.2
             }
            },
            "type": "bar"
           }
          ],
          "barpolar": [
           {
            "marker": {
             "line": {
              "color": "#E5ECF6",
              "width": 0.5
             },
             "pattern": {
              "fillmode": "overlay",
              "size": 10,
              "solidity": 0.2
             }
            },
            "type": "barpolar"
           }
          ],
          "carpet": [
           {
            "aaxis": {
             "endlinecolor": "#2a3f5f",
             "gridcolor": "white",
             "linecolor": "white",
             "minorgridcolor": "white",
             "startlinecolor": "#2a3f5f"
            },
            "baxis": {
             "endlinecolor": "#2a3f5f",
             "gridcolor": "white",
             "linecolor": "white",
             "minorgridcolor": "white",
             "startlinecolor": "#2a3f5f"
            },
            "type": "carpet"
           }
          ],
          "choropleth": [
           {
            "colorbar": {
             "outlinewidth": 0,
             "ticks": ""
            },
            "type": "choropleth"
           }
          ],
          "contour": [
           {
            "colorbar": {
             "outlinewidth": 0,
             "ticks": ""
            },
            "colorscale": [
             [
              0,
              "#0d0887"
             ],
             [
              0.1111111111111111,
              "#46039f"
             ],
             [
              0.2222222222222222,
              "#7201a8"
             ],
             [
              0.3333333333333333,
              "#9c179e"
             ],
             [
              0.4444444444444444,
              "#bd3786"
             ],
             [
              0.5555555555555556,
              "#d8576b"
             ],
             [
              0.6666666666666666,
              "#ed7953"
             ],
             [
              0.7777777777777778,
              "#fb9f3a"
             ],
             [
              0.8888888888888888,
              "#fdca26"
             ],
             [
              1,
              "#f0f921"
             ]
            ],
            "type": "contour"
           }
          ],
          "contourcarpet": [
           {
            "colorbar": {
             "outlinewidth": 0,
             "ticks": ""
            },
            "type": "contourcarpet"
           }
          ],
          "heatmap": [
           {
            "colorbar": {
             "outlinewidth": 0,
             "ticks": ""
            },
            "colorscale": [
             [
              0,
              "#0d0887"
             ],
             [
              0.1111111111111111,
              "#46039f"
             ],
             [
              0.2222222222222222,
              "#7201a8"
             ],
             [
              0.3333333333333333,
              "#9c179e"
             ],
             [
              0.4444444444444444,
              "#bd3786"
             ],
             [
              0.5555555555555556,
              "#d8576b"
             ],
             [
              0.6666666666666666,
              "#ed7953"
             ],
             [
              0.7777777777777778,
              "#fb9f3a"
             ],
             [
              0.8888888888888888,
              "#fdca26"
             ],
             [
              1,
              "#f0f921"
             ]
            ],
            "type": "heatmap"
           }
          ],
          "heatmapgl": [
           {
            "colorbar": {
             "outlinewidth": 0,
             "ticks": ""
            },
            "colorscale": [
             [
              0,
              "#0d0887"
             ],
             [
              0.1111111111111111,
              "#46039f"
             ],
             [
              0.2222222222222222,
              "#7201a8"
             ],
             [
              0.3333333333333333,
              "#9c179e"
             ],
             [
              0.4444444444444444,
              "#bd3786"
             ],
             [
              0.5555555555555556,
              "#d8576b"
             ],
             [
              0.6666666666666666,
              "#ed7953"
             ],
             [
              0.7777777777777778,
              "#fb9f3a"
             ],
             [
              0.8888888888888888,
              "#fdca26"
             ],
             [
              1,
              "#f0f921"
             ]
            ],
            "type": "heatmapgl"
           }
          ],
          "histogram": [
           {
            "marker": {
             "pattern": {
              "fillmode": "overlay",
              "size": 10,
              "solidity": 0.2
             }
            },
            "type": "histogram"
           }
          ],
          "histogram2d": [
           {
            "colorbar": {
             "outlinewidth": 0,
             "ticks": ""
            },
            "colorscale": [
             [
              0,
              "#0d0887"
             ],
             [
              0.1111111111111111,
              "#46039f"
             ],
             [
              0.2222222222222222,
              "#7201a8"
             ],
             [
              0.3333333333333333,
              "#9c179e"
             ],
             [
              0.4444444444444444,
              "#bd3786"
             ],
             [
              0.5555555555555556,
              "#d8576b"
             ],
             [
              0.6666666666666666,
              "#ed7953"
             ],
             [
              0.7777777777777778,
              "#fb9f3a"
             ],
             [
              0.8888888888888888,
              "#fdca26"
             ],
             [
              1,
              "#f0f921"
             ]
            ],
            "type": "histogram2d"
           }
          ],
          "histogram2dcontour": [
           {
            "colorbar": {
             "outlinewidth": 0,
             "ticks": ""
            },
            "colorscale": [
             [
              0,
              "#0d0887"
             ],
             [
              0.1111111111111111,
              "#46039f"
             ],
             [
              0.2222222222222222,
              "#7201a8"
             ],
             [
              0.3333333333333333,
              "#9c179e"
             ],
             [
              0.4444444444444444,
              "#bd3786"
             ],
             [
              0.5555555555555556,
              "#d8576b"
             ],
             [
              0.6666666666666666,
              "#ed7953"
             ],
             [
              0.7777777777777778,
              "#fb9f3a"
             ],
             [
              0.8888888888888888,
              "#fdca26"
             ],
             [
              1,
              "#f0f921"
             ]
            ],
            "type": "histogram2dcontour"
           }
          ],
          "mesh3d": [
           {
            "colorbar": {
             "outlinewidth": 0,
             "ticks": ""
            },
            "type": "mesh3d"
           }
          ],
          "parcoords": [
           {
            "line": {
             "colorbar": {
              "outlinewidth": 0,
              "ticks": ""
             }
            },
            "type": "parcoords"
           }
          ],
          "pie": [
           {
            "automargin": true,
            "type": "pie"
           }
          ],
          "scatter": [
           {
            "fillpattern": {
             "fillmode": "overlay",
             "size": 10,
             "solidity": 0.2
            },
            "type": "scatter"
           }
          ],
          "scatter3d": [
           {
            "line": {
             "colorbar": {
              "outlinewidth": 0,
              "ticks": ""
             }
            },
            "marker": {
             "colorbar": {
              "outlinewidth": 0,
              "ticks": ""
             }
            },
            "type": "scatter3d"
           }
          ],
          "scattercarpet": [
           {
            "marker": {
             "colorbar": {
              "outlinewidth": 0,
              "ticks": ""
             }
            },
            "type": "scattercarpet"
           }
          ],
          "scattergeo": [
           {
            "marker": {
             "colorbar": {
              "outlinewidth": 0,
              "ticks": ""
             }
            },
            "type": "scattergeo"
           }
          ],
          "scattergl": [
           {
            "marker": {
             "colorbar": {
              "outlinewidth": 0,
              "ticks": ""
             }
            },
            "type": "scattergl"
           }
          ],
          "scattermapbox": [
           {
            "marker": {
             "colorbar": {
              "outlinewidth": 0,
              "ticks": ""
             }
            },
            "type": "scattermapbox"
           }
          ],
          "scatterpolar": [
           {
            "marker": {
             "colorbar": {
              "outlinewidth": 0,
              "ticks": ""
             }
            },
            "type": "scatterpolar"
           }
          ],
          "scatterpolargl": [
           {
            "marker": {
             "colorbar": {
              "outlinewidth": 0,
              "ticks": ""
             }
            },
            "type": "scatterpolargl"
           }
          ],
          "scatterternary": [
           {
            "marker": {
             "colorbar": {
              "outlinewidth": 0,
              "ticks": ""
             }
            },
            "type": "scatterternary"
           }
          ],
          "surface": [
           {
            "colorbar": {
             "outlinewidth": 0,
             "ticks": ""
            },
            "colorscale": [
             [
              0,
              "#0d0887"
             ],
             [
              0.1111111111111111,
              "#46039f"
             ],
             [
              0.2222222222222222,
              "#7201a8"
             ],
             [
              0.3333333333333333,
              "#9c179e"
             ],
             [
              0.4444444444444444,
              "#bd3786"
             ],
             [
              0.5555555555555556,
              "#d8576b"
             ],
             [
              0.6666666666666666,
              "#ed7953"
             ],
             [
              0.7777777777777778,
              "#fb9f3a"
             ],
             [
              0.8888888888888888,
              "#fdca26"
             ],
             [
              1,
              "#f0f921"
             ]
            ],
            "type": "surface"
           }
          ],
          "table": [
           {
            "cells": {
             "fill": {
              "color": "#EBF0F8"
             },
             "line": {
              "color": "white"
             }
            },
            "header": {
             "fill": {
              "color": "#C8D4E3"
             },
             "line": {
              "color": "white"
             }
            },
            "type": "table"
           }
          ]
         },
         "layout": {
          "annotationdefaults": {
           "arrowcolor": "#2a3f5f",
           "arrowhead": 0,
           "arrowwidth": 1
          },
          "autotypenumbers": "strict",
          "coloraxis": {
           "colorbar": {
            "outlinewidth": 0,
            "ticks": ""
           }
          },
          "colorscale": {
           "diverging": [
            [
             0,
             "#8e0152"
            ],
            [
             0.1,
             "#c51b7d"
            ],
            [
             0.2,
             "#de77ae"
            ],
            [
             0.3,
             "#f1b6da"
            ],
            [
             0.4,
             "#fde0ef"
            ],
            [
             0.5,
             "#f7f7f7"
            ],
            [
             0.6,
             "#e6f5d0"
            ],
            [
             0.7,
             "#b8e186"
            ],
            [
             0.8,
             "#7fbc41"
            ],
            [
             0.9,
             "#4d9221"
            ],
            [
             1,
             "#276419"
            ]
           ],
           "sequential": [
            [
             0,
             "#0d0887"
            ],
            [
             0.1111111111111111,
             "#46039f"
            ],
            [
             0.2222222222222222,
             "#7201a8"
            ],
            [
             0.3333333333333333,
             "#9c179e"
            ],
            [
             0.4444444444444444,
             "#bd3786"
            ],
            [
             0.5555555555555556,
             "#d8576b"
            ],
            [
             0.6666666666666666,
             "#ed7953"
            ],
            [
             0.7777777777777778,
             "#fb9f3a"
            ],
            [
             0.8888888888888888,
             "#fdca26"
            ],
            [
             1,
             "#f0f921"
            ]
           ],
           "sequentialminus": [
            [
             0,
             "#0d0887"
            ],
            [
             0.1111111111111111,
             "#46039f"
            ],
            [
             0.2222222222222222,
             "#7201a8"
            ],
            [
             0.3333333333333333,
             "#9c179e"
            ],
            [
             0.4444444444444444,
             "#bd3786"
            ],
            [
             0.5555555555555556,
             "#d8576b"
            ],
            [
             0.6666666666666666,
             "#ed7953"
            ],
            [
             0.7777777777777778,
             "#fb9f3a"
            ],
            [
             0.8888888888888888,
             "#fdca26"
            ],
            [
             1,
             "#f0f921"
            ]
           ]
          },
          "colorway": [
           "#636efa",
           "#EF553B",
           "#00cc96",
           "#ab63fa",
           "#FFA15A",
           "#19d3f3",
           "#FF6692",
           "#B6E880",
           "#FF97FF",
           "#FECB52"
          ],
          "font": {
           "color": "#2a3f5f"
          },
          "geo": {
           "bgcolor": "white",
           "lakecolor": "white",
           "landcolor": "#E5ECF6",
           "showlakes": true,
           "showland": true,
           "subunitcolor": "white"
          },
          "hoverlabel": {
           "align": "left"
          },
          "hovermode": "closest",
          "mapbox": {
           "style": "light"
          },
          "paper_bgcolor": "white",
          "plot_bgcolor": "#E5ECF6",
          "polar": {
           "angularaxis": {
            "gridcolor": "white",
            "linecolor": "white",
            "ticks": ""
           },
           "bgcolor": "#E5ECF6",
           "radialaxis": {
            "gridcolor": "white",
            "linecolor": "white",
            "ticks": ""
           }
          },
          "scene": {
           "xaxis": {
            "backgroundcolor": "#E5ECF6",
            "gridcolor": "white",
            "gridwidth": 2,
            "linecolor": "white",
            "showbackground": true,
            "ticks": "",
            "zerolinecolor": "white"
           },
           "yaxis": {
            "backgroundcolor": "#E5ECF6",
            "gridcolor": "white",
            "gridwidth": 2,
            "linecolor": "white",
            "showbackground": true,
            "ticks": "",
            "zerolinecolor": "white"
           },
           "zaxis": {
            "backgroundcolor": "#E5ECF6",
            "gridcolor": "white",
            "gridwidth": 2,
            "linecolor": "white",
            "showbackground": true,
            "ticks": "",
            "zerolinecolor": "white"
           }
          },
          "shapedefaults": {
           "line": {
            "color": "#2a3f5f"
           }
          },
          "ternary": {
           "aaxis": {
            "gridcolor": "white",
            "linecolor": "white",
            "ticks": ""
           },
           "baxis": {
            "gridcolor": "white",
            "linecolor": "white",
            "ticks": ""
           },
           "bgcolor": "#E5ECF6",
           "caxis": {
            "gridcolor": "white",
            "linecolor": "white",
            "ticks": ""
           }
          },
          "title": {
           "x": 0.05
          },
          "xaxis": {
           "automargin": true,
           "gridcolor": "white",
           "linecolor": "white",
           "ticks": "",
           "title": {
            "standoff": 15
           },
           "zerolinecolor": "white",
           "zerolinewidth": 2
          },
          "yaxis": {
           "automargin": true,
           "gridcolor": "white",
           "linecolor": "white",
           "ticks": "",
           "title": {
            "standoff": 15
           },
           "zerolinecolor": "white",
           "zerolinewidth": 2
          }
         }
        },
        "title": {
         "font": {
          "color": "#4D5663"
         }
        },
        "xaxis": {
         "gridcolor": "#E1E5ED",
         "showgrid": true,
         "tickfont": {
          "color": "#4D5663"
         },
         "title": {
          "font": {
           "color": "#4D5663"
          },
          "text": ""
         },
         "zerolinecolor": "#E1E5ED"
        },
        "yaxis": {
         "gridcolor": "#E1E5ED",
         "showgrid": true,
         "tickfont": {
          "color": "#4D5663"
         },
         "title": {
          "font": {
           "color": "#4D5663"
          },
          "text": ""
         },
         "zerolinecolor": "#E1E5ED"
        }
       }
      },
      "text/html": [
       "<div>                            <div id=\"a654ce50-9e1d-4a3e-84cd-dfccee5a51e8\" class=\"plotly-graph-div\" style=\"height:525px; width:100%;\"></div>            <script type=\"text/javascript\">                require([\"plotly\"], function(Plotly) {                    window.PLOTLYENV=window.PLOTLYENV || {};\n",
       "                    window.PLOTLYENV.BASE_URL='https://plot.ly';                                    if (document.getElementById(\"a654ce50-9e1d-4a3e-84cd-dfccee5a51e8\")) {                    Plotly.newPlot(                        \"a654ce50-9e1d-4a3e-84cd-dfccee5a51e8\",                        [{\"boxpoints\":false,\"line\":{\"width\":1.3},\"marker\":{\"color\":\"rgba(255, 153, 51, 1.0)\"},\"name\":\"A\",\"orientation\":\"v\",\"y\":[0.26094944737820464,0.6756427948506019,-1.6813264412755256,0.7204565479924322,-0.22704880191720428,1.6257351533472952,-0.4942521366331942,0.7554812681062507,-0.012121861711336316,0.6690437492201413,-0.3900373476123656,-1.8547898714279738,-1.4816658495535915,0.23413255955366494,0.21034036783623777,-0.5905362775657257,0.44400914529871144,-0.08988354995132182,-0.9092428787691089,0.1390659850483001,0.12827195930806926,-0.8936444613365111,0.48411247557442094,0.5712665158701542,-0.2306417488905862,1.0621829798421933,0.8049419422180617,0.3098617097266694,-1.2459142215390526,-1.5421708395982974,-0.28945802864526166,-0.457410342620502,0.8842863964667576,0.4716178732561643,1.080769153106927,-0.3027219145109648,1.4535241446092566,-2.006165431524184,0.3457218679585976,1.2554394332593966,1.583191788122711,0.1001572144415794,0.1218111415464603,0.7644233984677314,0.6256263350098222,-1.0406876639569114,-1.1116255859285793,-1.3226346404362888,0.9521322476501216,0.10361535193926541,1.6796946454820472,-1.0312332635688635,-1.6719091796148713,-1.4620898703178808,-2.338268650433877,0.7249705026245721,1.892208054311665,-0.8650989366390816,-0.36156197736492707,0.5556931482624534,0.5550851907531508,-2.7372209835746997,1.556315017341361,0.40241766720405525,0.459800704742713,0.010839974417914938,0.2869058777525109,-0.20948496585773907,-0.3228919963689883,-0.9424428117102946,0.08004987528207808,-1.722571435733268,-1.2599461951241895,-1.1399593241709116,0.9427614038338752,-0.608796670914509,-0.180982777034367,1.7219984547975717,-0.026529348892462685,-0.09822764343422868,-1.944606864250181,0.8610178999848556,1.2603732054512387,-0.7031761322484911,-0.6031228391849389,-0.21885822736009458,0.4179951312327664,1.1013003666583145,0.9154925356461139,0.09501597794814125,-2.216397093263774,0.9567752156312098,0.5091191071901275,-1.2976367682644396,0.252814044628649,-0.1696171000230781,1.2540223824766012,-1.1091293259988333,-0.07234965598861014,-0.4820456279286618],\"type\":\"box\"},{\"boxpoints\":false,\"line\":{\"width\":1.3},\"marker\":{\"color\":\"rgba(55, 128, 191, 1.0)\"},\"name\":\"B\",\"orientation\":\"v\",\"y\":[-2.2858288822656303,-0.3689246942451719,-0.4878085442863548,0.0899980136684595,0.29926889068795876,0.17158248776965915,-1.6060521316690806,0.8454748009189931,-0.7780592645242341,-1.5565002087012068,1.0372025831271199,0.8400056526466327,-0.9864917656790733,-0.7865337495103956,-0.4908674300457295,0.065209412493217,0.9568752404687892,-0.8396432482350337,-0.12579337362106027,-0.2521365828886802,-0.5335363396262771,-1.1038689888634035,0.4702284473695049,1.0127134627231362,0.06357379909821854,0.17666908872890652,-2.219413202901428,0.16988007691544227,0.21331495447507157,-0.38144917787193,-0.7234233309210866,1.1654897644783366,-0.0939289539623439,2.0170523368074034,-1.066331684671368,-1.2550980664771623,-0.6834753077766862,-1.9776636533758316,-0.7071974935890099,-0.8647725828109243,0.666397539151505,-2.1561037115340382,1.3088668119173679,0.1895499161046491,-0.2143124885233418,1.5600407751980936,1.49517789425164,-1.3163885089797722,0.3071100790489101,-1.1334144746266988,-1.3048753478925657,-1.7737873100165837,-1.311819431354197,0.6547271610296218,-1.080829127609142,-0.14106417250186926,1.12593274559256,-0.18690924228657932,1.0632163358016373,-0.9635096609258548,0.5013097476381637,-0.41205755974149105,0.7461619496075209,-2.0031465844771246,-1.4463887314168276,1.26252117377817,-1.2231128761730659,-0.02423340109344603,2.4622973856990584,0.4021529194125459,-0.7330723509578897,-0.04278911282889734,-0.3491149144994279,1.083279811870235,1.0426110712780547,-1.8778181299002392,-1.0794577182216054,-1.5317866657565158,1.0165126478271154,-0.8934024272225225,-0.3084887191806035,-0.699643240815849,-0.6605125009688817,2.1852107666274163,0.996809877383777,0.06108618985377447,2.4562499159811915,0.8295824341081318,1.4581308222086655,1.0332082700772245,0.6149475497997644,0.12629079890159314,-1.1722907357555292,-0.8750580032179174,0.2213111053489606,0.9767123482772395,1.3429699882896668,0.4560223707490966,-0.10333857580881216,0.7250381311930914],\"type\":\"box\"},{\"boxpoints\":false,\"line\":{\"width\":1.3},\"marker\":{\"color\":\"rgba(50, 171, 96, 1.0)\"},\"name\":\"C\",\"orientation\":\"v\",\"y\":[0.32533126166391485,-1.0948514086567007,-1.255698256658563,-0.7115348500480666,-1.5734581413898854,-0.2693780640469743,0.5312122041618935,0.7643957254436153,1.3466440592846238,-0.011138496176147835,-1.006175222327991,-0.7657814111691001,0.2704614828597357,1.0183788515132506,-1.6313687143064737,-1.1377406766960112,1.754747546345917,1.0739077449778924,1.187443194858314,-1.1762172356198197,-2.330878647921375,-0.29177231149834987,-1.5420377609907308,-0.44511416089779543,1.8225838117742819,2.0680123691645167,-1.7712608957239127,-0.9471147591668491,1.6184713553015566,-0.6887690862726555,-0.2770483905764386,-1.0205117397712196,0.5411886732059261,-0.9679130404308924,0.7223804650709226,0.19804466049875422,0.5757187719225264,-0.6365002863183196,-0.21892397489849863,-0.38832629642815525,0.7564138642884449,-0.25283318868976823,1.6578227713614326,0.778371309783315,-0.025442852310508104,1.0290112662167505,-0.7478300783956774,-0.5892929751830931,2.2221162029341848,-0.21607144784907933,-1.4358331970874543,0.32341588670439253,2.1088425493463316,-0.35207423187535375,0.5480642595297384,0.42469906156207216,-0.5512588997951553,-0.744004698667509,1.3009083492632714,-2.913661302226596,-1.79700075056673,2.2240582842789998,0.20083784721363973,-1.1155836193566913,0.37881604036311256,-1.0515506213586965,-0.7142174212313871,-0.580132172851161,-0.36996370552054747,-1.9956692450109044,3.3068298553023956,-0.6535949069759464,-0.8126537235638911,-0.7910150450158807,-0.5897039192173934,-0.9641463263885816,0.09458255813228832,-0.35691739474910894,0.7368928853813077,0.5992388061778968,-0.8788160686807402,-0.4018213365525234,-0.05339238691644387,-0.3627926288640987,-0.7251370023029332,0.6550178848897097,-1.893543294098089,0.2507926698741199,-2.603137809917833,1.345799354558909,1.1223941883090842,2.0230162957001028,-0.04150802293184813,-0.011228513864026684,-0.5941780239391884,-0.3058191790453311,1.653697814059976,-1.2921648263284362,-0.11844456500402563,0.6483758171002227],\"type\":\"box\"},{\"boxpoints\":false,\"line\":{\"width\":1.3},\"marker\":{\"color\":\"rgba(128, 0, 128, 1.0)\"},\"name\":\"D\",\"orientation\":\"v\",\"y\":[0.41794327451779345,-0.03261673753335445,-0.4550174727865612,-0.004208347162477857,-0.6223002368189892,0.37079932691257855,0.4044968263615406,0.6156065311469866,-0.5629685390235405,1.4654377449230789,-0.08295070642030386,-0.8141272270394169,-0.08122433488173093,-0.8441255872868394,-0.1038450347802428,-0.8264106510813224,0.33835876227499645,1.610267518488858,-1.4599309420426185,0.866996034978916,-1.02904049897154,1.227022930533725,0.37668671410737165,1.3804286998065782,1.2314256439125106,0.12804999346254464,-1.3228095505120894,-0.21084639477165035,0.494661739271153,-0.954422281959772,-0.06817586662636892,1.6331220665869417,-1.8184158143329487,-0.9072522004937862,1.182488924288222,1.8100366556664622,-1.5672078033978591,0.0846336270397929,-0.880862573119192,0.6716695121190952,-1.2429081023690345,-0.6619703835342022,-0.2961579681187715,-0.6044465329934139,-0.20082288973325496,0.3976613955284886,0.26045978499364436,0.7234116917878068,0.15515371118901172,1.9235573499253922,-1.9163020993661708,-0.878533455623837,0.03334430451853539,-0.4749136499522914,-0.5783326094025376,-0.4058299179802135,-0.08161828458775061,-1.0019000743769864,0.9736625816934414,0.7006372454826486,1.009607343099174,-2.0230743602161305,-0.11886781633156078,0.08909096314851882,0.5224997723778508,-0.22213927396262687,-0.6450675952005471,1.7064853550957833,0.2994101531694659,-0.5061617487595512,-0.5713559687832984,1.9282636850213841,-1.5190521015763374,-0.019914506427172442,-0.7607785603577836,-0.1817706306857436,0.10979048618419447,2.2332548603506903,0.9542509226302287,-0.18666984421018826,0.4550501723241464,-1.7401968649713317,-0.4924158421882854,0.20238484904659426,1.0635355770648967,-0.20361483915691467,-1.0737855655373512,1.8037649286934079,-1.0164897009038132,-1.3978203525736188,-0.5532058788949985,1.4993041498775244,0.5331637896362921,0.7483597698017826,-0.492958356631721,-0.9739873053805449,0.7218719374631305,0.7620215689250328,1.142168023221178,0.9402807158049501],\"type\":\"box\"}],                        {\"legend\":{\"bgcolor\":\"#F5F6F9\",\"font\":{\"color\":\"#4D5663\"}},\"paper_bgcolor\":\"#F5F6F9\",\"plot_bgcolor\":\"#F5F6F9\",\"template\":{\"data\":{\"barpolar\":[{\"marker\":{\"line\":{\"color\":\"#E5ECF6\",\"width\":0.5},\"pattern\":{\"fillmode\":\"overlay\",\"size\":10,\"solidity\":0.2}},\"type\":\"barpolar\"}],\"bar\":[{\"error_x\":{\"color\":\"#2a3f5f\"},\"error_y\":{\"color\":\"#2a3f5f\"},\"marker\":{\"line\":{\"color\":\"#E5ECF6\",\"width\":0.5},\"pattern\":{\"fillmode\":\"overlay\",\"size\":10,\"solidity\":0.2}},\"type\":\"bar\"}],\"carpet\":[{\"aaxis\":{\"endlinecolor\":\"#2a3f5f\",\"gridcolor\":\"white\",\"linecolor\":\"white\",\"minorgridcolor\":\"white\",\"startlinecolor\":\"#2a3f5f\"},\"baxis\":{\"endlinecolor\":\"#2a3f5f\",\"gridcolor\":\"white\",\"linecolor\":\"white\",\"minorgridcolor\":\"white\",\"startlinecolor\":\"#2a3f5f\"},\"type\":\"carpet\"}],\"choropleth\":[{\"colorbar\":{\"outlinewidth\":0,\"ticks\":\"\"},\"type\":\"choropleth\"}],\"contourcarpet\":[{\"colorbar\":{\"outlinewidth\":0,\"ticks\":\"\"},\"type\":\"contourcarpet\"}],\"contour\":[{\"colorbar\":{\"outlinewidth\":0,\"ticks\":\"\"},\"colorscale\":[[0.0,\"#0d0887\"],[0.1111111111111111,\"#46039f\"],[0.2222222222222222,\"#7201a8\"],[0.3333333333333333,\"#9c179e\"],[0.4444444444444444,\"#bd3786\"],[0.5555555555555556,\"#d8576b\"],[0.6666666666666666,\"#ed7953\"],[0.7777777777777778,\"#fb9f3a\"],[0.8888888888888888,\"#fdca26\"],[1.0,\"#f0f921\"]],\"type\":\"contour\"}],\"heatmapgl\":[{\"colorbar\":{\"outlinewidth\":0,\"ticks\":\"\"},\"colorscale\":[[0.0,\"#0d0887\"],[0.1111111111111111,\"#46039f\"],[0.2222222222222222,\"#7201a8\"],[0.3333333333333333,\"#9c179e\"],[0.4444444444444444,\"#bd3786\"],[0.5555555555555556,\"#d8576b\"],[0.6666666666666666,\"#ed7953\"],[0.7777777777777778,\"#fb9f3a\"],[0.8888888888888888,\"#fdca26\"],[1.0,\"#f0f921\"]],\"type\":\"heatmapgl\"}],\"heatmap\":[{\"colorbar\":{\"outlinewidth\":0,\"ticks\":\"\"},\"colorscale\":[[0.0,\"#0d0887\"],[0.1111111111111111,\"#46039f\"],[0.2222222222222222,\"#7201a8\"],[0.3333333333333333,\"#9c179e\"],[0.4444444444444444,\"#bd3786\"],[0.5555555555555556,\"#d8576b\"],[0.6666666666666666,\"#ed7953\"],[0.7777777777777778,\"#fb9f3a\"],[0.8888888888888888,\"#fdca26\"],[1.0,\"#f0f921\"]],\"type\":\"heatmap\"}],\"histogram2dcontour\":[{\"colorbar\":{\"outlinewidth\":0,\"ticks\":\"\"},\"colorscale\":[[0.0,\"#0d0887\"],[0.1111111111111111,\"#46039f\"],[0.2222222222222222,\"#7201a8\"],[0.3333333333333333,\"#9c179e\"],[0.4444444444444444,\"#bd3786\"],[0.5555555555555556,\"#d8576b\"],[0.6666666666666666,\"#ed7953\"],[0.7777777777777778,\"#fb9f3a\"],[0.8888888888888888,\"#fdca26\"],[1.0,\"#f0f921\"]],\"type\":\"histogram2dcontour\"}],\"histogram2d\":[{\"colorbar\":{\"outlinewidth\":0,\"ticks\":\"\"},\"colorscale\":[[0.0,\"#0d0887\"],[0.1111111111111111,\"#46039f\"],[0.2222222222222222,\"#7201a8\"],[0.3333333333333333,\"#9c179e\"],[0.4444444444444444,\"#bd3786\"],[0.5555555555555556,\"#d8576b\"],[0.6666666666666666,\"#ed7953\"],[0.7777777777777778,\"#fb9f3a\"],[0.8888888888888888,\"#fdca26\"],[1.0,\"#f0f921\"]],\"type\":\"histogram2d\"}],\"histogram\":[{\"marker\":{\"pattern\":{\"fillmode\":\"overlay\",\"size\":10,\"solidity\":0.2}},\"type\":\"histogram\"}],\"mesh3d\":[{\"colorbar\":{\"outlinewidth\":0,\"ticks\":\"\"},\"type\":\"mesh3d\"}],\"parcoords\":[{\"line\":{\"colorbar\":{\"outlinewidth\":0,\"ticks\":\"\"}},\"type\":\"parcoords\"}],\"pie\":[{\"automargin\":true,\"type\":\"pie\"}],\"scatter3d\":[{\"line\":{\"colorbar\":{\"outlinewidth\":0,\"ticks\":\"\"}},\"marker\":{\"colorbar\":{\"outlinewidth\":0,\"ticks\":\"\"}},\"type\":\"scatter3d\"}],\"scattercarpet\":[{\"marker\":{\"colorbar\":{\"outlinewidth\":0,\"ticks\":\"\"}},\"type\":\"scattercarpet\"}],\"scattergeo\":[{\"marker\":{\"colorbar\":{\"outlinewidth\":0,\"ticks\":\"\"}},\"type\":\"scattergeo\"}],\"scattergl\":[{\"marker\":{\"colorbar\":{\"outlinewidth\":0,\"ticks\":\"\"}},\"type\":\"scattergl\"}],\"scattermapbox\":[{\"marker\":{\"colorbar\":{\"outlinewidth\":0,\"ticks\":\"\"}},\"type\":\"scattermapbox\"}],\"scatterpolargl\":[{\"marker\":{\"colorbar\":{\"outlinewidth\":0,\"ticks\":\"\"}},\"type\":\"scatterpolargl\"}],\"scatterpolar\":[{\"marker\":{\"colorbar\":{\"outlinewidth\":0,\"ticks\":\"\"}},\"type\":\"scatterpolar\"}],\"scatter\":[{\"fillpattern\":{\"fillmode\":\"overlay\",\"size\":10,\"solidity\":0.2},\"type\":\"scatter\"}],\"scatterternary\":[{\"marker\":{\"colorbar\":{\"outlinewidth\":0,\"ticks\":\"\"}},\"type\":\"scatterternary\"}],\"surface\":[{\"colorbar\":{\"outlinewidth\":0,\"ticks\":\"\"},\"colorscale\":[[0.0,\"#0d0887\"],[0.1111111111111111,\"#46039f\"],[0.2222222222222222,\"#7201a8\"],[0.3333333333333333,\"#9c179e\"],[0.4444444444444444,\"#bd3786\"],[0.5555555555555556,\"#d8576b\"],[0.6666666666666666,\"#ed7953\"],[0.7777777777777778,\"#fb9f3a\"],[0.8888888888888888,\"#fdca26\"],[1.0,\"#f0f921\"]],\"type\":\"surface\"}],\"table\":[{\"cells\":{\"fill\":{\"color\":\"#EBF0F8\"},\"line\":{\"color\":\"white\"}},\"header\":{\"fill\":{\"color\":\"#C8D4E3\"},\"line\":{\"color\":\"white\"}},\"type\":\"table\"}]},\"layout\":{\"annotationdefaults\":{\"arrowcolor\":\"#2a3f5f\",\"arrowhead\":0,\"arrowwidth\":1},\"autotypenumbers\":\"strict\",\"coloraxis\":{\"colorbar\":{\"outlinewidth\":0,\"ticks\":\"\"}},\"colorscale\":{\"diverging\":[[0,\"#8e0152\"],[0.1,\"#c51b7d\"],[0.2,\"#de77ae\"],[0.3,\"#f1b6da\"],[0.4,\"#fde0ef\"],[0.5,\"#f7f7f7\"],[0.6,\"#e6f5d0\"],[0.7,\"#b8e186\"],[0.8,\"#7fbc41\"],[0.9,\"#4d9221\"],[1,\"#276419\"]],\"sequential\":[[0.0,\"#0d0887\"],[0.1111111111111111,\"#46039f\"],[0.2222222222222222,\"#7201a8\"],[0.3333333333333333,\"#9c179e\"],[0.4444444444444444,\"#bd3786\"],[0.5555555555555556,\"#d8576b\"],[0.6666666666666666,\"#ed7953\"],[0.7777777777777778,\"#fb9f3a\"],[0.8888888888888888,\"#fdca26\"],[1.0,\"#f0f921\"]],\"sequentialminus\":[[0.0,\"#0d0887\"],[0.1111111111111111,\"#46039f\"],[0.2222222222222222,\"#7201a8\"],[0.3333333333333333,\"#9c179e\"],[0.4444444444444444,\"#bd3786\"],[0.5555555555555556,\"#d8576b\"],[0.6666666666666666,\"#ed7953\"],[0.7777777777777778,\"#fb9f3a\"],[0.8888888888888888,\"#fdca26\"],[1.0,\"#f0f921\"]]},\"colorway\":[\"#636efa\",\"#EF553B\",\"#00cc96\",\"#ab63fa\",\"#FFA15A\",\"#19d3f3\",\"#FF6692\",\"#B6E880\",\"#FF97FF\",\"#FECB52\"],\"font\":{\"color\":\"#2a3f5f\"},\"geo\":{\"bgcolor\":\"white\",\"lakecolor\":\"white\",\"landcolor\":\"#E5ECF6\",\"showlakes\":true,\"showland\":true,\"subunitcolor\":\"white\"},\"hoverlabel\":{\"align\":\"left\"},\"hovermode\":\"closest\",\"mapbox\":{\"style\":\"light\"},\"paper_bgcolor\":\"white\",\"plot_bgcolor\":\"#E5ECF6\",\"polar\":{\"angularaxis\":{\"gridcolor\":\"white\",\"linecolor\":\"white\",\"ticks\":\"\"},\"bgcolor\":\"#E5ECF6\",\"radialaxis\":{\"gridcolor\":\"white\",\"linecolor\":\"white\",\"ticks\":\"\"}},\"scene\":{\"xaxis\":{\"backgroundcolor\":\"#E5ECF6\",\"gridcolor\":\"white\",\"gridwidth\":2,\"linecolor\":\"white\",\"showbackground\":true,\"ticks\":\"\",\"zerolinecolor\":\"white\"},\"yaxis\":{\"backgroundcolor\":\"#E5ECF6\",\"gridcolor\":\"white\",\"gridwidth\":2,\"linecolor\":\"white\",\"showbackground\":true,\"ticks\":\"\",\"zerolinecolor\":\"white\"},\"zaxis\":{\"backgroundcolor\":\"#E5ECF6\",\"gridcolor\":\"white\",\"gridwidth\":2,\"linecolor\":\"white\",\"showbackground\":true,\"ticks\":\"\",\"zerolinecolor\":\"white\"}},\"shapedefaults\":{\"line\":{\"color\":\"#2a3f5f\"}},\"ternary\":{\"aaxis\":{\"gridcolor\":\"white\",\"linecolor\":\"white\",\"ticks\":\"\"},\"baxis\":{\"gridcolor\":\"white\",\"linecolor\":\"white\",\"ticks\":\"\"},\"bgcolor\":\"#E5ECF6\",\"caxis\":{\"gridcolor\":\"white\",\"linecolor\":\"white\",\"ticks\":\"\"}},\"title\":{\"x\":0.05},\"xaxis\":{\"automargin\":true,\"gridcolor\":\"white\",\"linecolor\":\"white\",\"ticks\":\"\",\"title\":{\"standoff\":15},\"zerolinecolor\":\"white\",\"zerolinewidth\":2},\"yaxis\":{\"automargin\":true,\"gridcolor\":\"white\",\"linecolor\":\"white\",\"ticks\":\"\",\"title\":{\"standoff\":15},\"zerolinecolor\":\"white\",\"zerolinewidth\":2}}},\"title\":{\"font\":{\"color\":\"#4D5663\"}},\"xaxis\":{\"gridcolor\":\"#E1E5ED\",\"showgrid\":true,\"tickfont\":{\"color\":\"#4D5663\"},\"title\":{\"font\":{\"color\":\"#4D5663\"},\"text\":\"\"},\"zerolinecolor\":\"#E1E5ED\"},\"yaxis\":{\"gridcolor\":\"#E1E5ED\",\"showgrid\":true,\"tickfont\":{\"color\":\"#4D5663\"},\"title\":{\"font\":{\"color\":\"#4D5663\"},\"text\":\"\"},\"zerolinecolor\":\"#E1E5ED\"}},                        {\"showLink\": true, \"linkText\": \"Export to plot.ly\", \"plotlyServerURL\": \"https://plot.ly\", \"responsive\": true}                    ).then(function(){\n",
       "                            \n",
       "var gd = document.getElementById('a654ce50-9e1d-4a3e-84cd-dfccee5a51e8');\n",
       "var x = new MutationObserver(function (mutations, observer) {{\n",
       "        var display = window.getComputedStyle(gd).display;\n",
       "        if (!display || display === 'none') {{\n",
       "            console.log([gd, 'removed!']);\n",
       "            Plotly.purge(gd);\n",
       "            observer.disconnect();\n",
       "        }}\n",
       "}});\n",
       "\n",
       "// Listen for the removal of the full notebook cells\n",
       "var notebookContainer = gd.closest('#notebook-container');\n",
       "if (notebookContainer) {{\n",
       "    x.observe(notebookContainer, {childList: true});\n",
       "}}\n",
       "\n",
       "// Listen for the clearing of the current output cell\n",
       "var outputEl = gd.closest('.output');\n",
       "if (outputEl) {{\n",
       "    x.observe(outputEl, {childList: true});\n",
       "}}\n",
       "\n",
       "                        })                };                });            </script>        </div>"
      ]
     },
     "metadata": {},
     "output_type": "display_data"
    }
   ],
   "source": [
    "df.iplot(kind='box')"
   ]
  },
  {
   "cell_type": "markdown",
   "metadata": {},
   "source": [
    "## 3d Surface"
   ]
  },
  {
   "cell_type": "code",
   "execution_count": 15,
   "metadata": {
    "scrolled": true
   },
   "outputs": [
    {
     "data": {
      "application/vnd.plotly.v1+json": {
       "config": {
        "linkText": "Export to plot.ly",
        "plotlyServerURL": "https://plot.ly",
        "showLink": true
       },
       "data": [
        {
         "colorscale": [
          [
           0,
           "rgb(165,0,38)"
          ],
          [
           0.1,
           "rgb(215,48,39)"
          ],
          [
           0.2,
           "rgb(244,109,67)"
          ],
          [
           0.3,
           "rgb(253,174,97)"
          ],
          [
           0.4,
           "rgb(254,224,144)"
          ],
          [
           0.5,
           "rgb(255,255,191)"
          ],
          [
           0.6,
           "rgb(224,243,248)"
          ],
          [
           0.7,
           "rgb(171,217,233)"
          ],
          [
           0.8,
           "rgb(116,173,209)"
          ],
          [
           0.9,
           "rgb(69,117,180)"
          ],
          [
           1,
           "rgb(49,54,149)"
          ]
         ],
         "type": "surface",
         "x": [
          0,
          1,
          2,
          3,
          4
         ],
         "y": [
          "x",
          "y",
          "z"
         ],
         "z": [
          [
           1,
           2,
           3,
           4,
           5
          ],
          [
           10,
           20,
           30,
           20,
           10
          ],
          [
           5,
           4,
           3,
           2,
           1
          ]
         ]
        }
       ],
       "layout": {
        "legend": {
         "bgcolor": "#F5F6F9",
         "font": {
          "color": "#4D5663"
         }
        },
        "paper_bgcolor": "#F5F6F9",
        "plot_bgcolor": "#F5F6F9",
        "template": {
         "data": {
          "bar": [
           {
            "error_x": {
             "color": "#2a3f5f"
            },
            "error_y": {
             "color": "#2a3f5f"
            },
            "marker": {
             "line": {
              "color": "#E5ECF6",
              "width": 0.5
             },
             "pattern": {
              "fillmode": "overlay",
              "size": 10,
              "solidity": 0.2
             }
            },
            "type": "bar"
           }
          ],
          "barpolar": [
           {
            "marker": {
             "line": {
              "color": "#E5ECF6",
              "width": 0.5
             },
             "pattern": {
              "fillmode": "overlay",
              "size": 10,
              "solidity": 0.2
             }
            },
            "type": "barpolar"
           }
          ],
          "carpet": [
           {
            "aaxis": {
             "endlinecolor": "#2a3f5f",
             "gridcolor": "white",
             "linecolor": "white",
             "minorgridcolor": "white",
             "startlinecolor": "#2a3f5f"
            },
            "baxis": {
             "endlinecolor": "#2a3f5f",
             "gridcolor": "white",
             "linecolor": "white",
             "minorgridcolor": "white",
             "startlinecolor": "#2a3f5f"
            },
            "type": "carpet"
           }
          ],
          "choropleth": [
           {
            "colorbar": {
             "outlinewidth": 0,
             "ticks": ""
            },
            "type": "choropleth"
           }
          ],
          "contour": [
           {
            "colorbar": {
             "outlinewidth": 0,
             "ticks": ""
            },
            "colorscale": [
             [
              0,
              "#0d0887"
             ],
             [
              0.1111111111111111,
              "#46039f"
             ],
             [
              0.2222222222222222,
              "#7201a8"
             ],
             [
              0.3333333333333333,
              "#9c179e"
             ],
             [
              0.4444444444444444,
              "#bd3786"
             ],
             [
              0.5555555555555556,
              "#d8576b"
             ],
             [
              0.6666666666666666,
              "#ed7953"
             ],
             [
              0.7777777777777778,
              "#fb9f3a"
             ],
             [
              0.8888888888888888,
              "#fdca26"
             ],
             [
              1,
              "#f0f921"
             ]
            ],
            "type": "contour"
           }
          ],
          "contourcarpet": [
           {
            "colorbar": {
             "outlinewidth": 0,
             "ticks": ""
            },
            "type": "contourcarpet"
           }
          ],
          "heatmap": [
           {
            "colorbar": {
             "outlinewidth": 0,
             "ticks": ""
            },
            "colorscale": [
             [
              0,
              "#0d0887"
             ],
             [
              0.1111111111111111,
              "#46039f"
             ],
             [
              0.2222222222222222,
              "#7201a8"
             ],
             [
              0.3333333333333333,
              "#9c179e"
             ],
             [
              0.4444444444444444,
              "#bd3786"
             ],
             [
              0.5555555555555556,
              "#d8576b"
             ],
             [
              0.6666666666666666,
              "#ed7953"
             ],
             [
              0.7777777777777778,
              "#fb9f3a"
             ],
             [
              0.8888888888888888,
              "#fdca26"
             ],
             [
              1,
              "#f0f921"
             ]
            ],
            "type": "heatmap"
           }
          ],
          "heatmapgl": [
           {
            "colorbar": {
             "outlinewidth": 0,
             "ticks": ""
            },
            "colorscale": [
             [
              0,
              "#0d0887"
             ],
             [
              0.1111111111111111,
              "#46039f"
             ],
             [
              0.2222222222222222,
              "#7201a8"
             ],
             [
              0.3333333333333333,
              "#9c179e"
             ],
             [
              0.4444444444444444,
              "#bd3786"
             ],
             [
              0.5555555555555556,
              "#d8576b"
             ],
             [
              0.6666666666666666,
              "#ed7953"
             ],
             [
              0.7777777777777778,
              "#fb9f3a"
             ],
             [
              0.8888888888888888,
              "#fdca26"
             ],
             [
              1,
              "#f0f921"
             ]
            ],
            "type": "heatmapgl"
           }
          ],
          "histogram": [
           {
            "marker": {
             "pattern": {
              "fillmode": "overlay",
              "size": 10,
              "solidity": 0.2
             }
            },
            "type": "histogram"
           }
          ],
          "histogram2d": [
           {
            "colorbar": {
             "outlinewidth": 0,
             "ticks": ""
            },
            "colorscale": [
             [
              0,
              "#0d0887"
             ],
             [
              0.1111111111111111,
              "#46039f"
             ],
             [
              0.2222222222222222,
              "#7201a8"
             ],
             [
              0.3333333333333333,
              "#9c179e"
             ],
             [
              0.4444444444444444,
              "#bd3786"
             ],
             [
              0.5555555555555556,
              "#d8576b"
             ],
             [
              0.6666666666666666,
              "#ed7953"
             ],
             [
              0.7777777777777778,
              "#fb9f3a"
             ],
             [
              0.8888888888888888,
              "#fdca26"
             ],
             [
              1,
              "#f0f921"
             ]
            ],
            "type": "histogram2d"
           }
          ],
          "histogram2dcontour": [
           {
            "colorbar": {
             "outlinewidth": 0,
             "ticks": ""
            },
            "colorscale": [
             [
              0,
              "#0d0887"
             ],
             [
              0.1111111111111111,
              "#46039f"
             ],
             [
              0.2222222222222222,
              "#7201a8"
             ],
             [
              0.3333333333333333,
              "#9c179e"
             ],
             [
              0.4444444444444444,
              "#bd3786"
             ],
             [
              0.5555555555555556,
              "#d8576b"
             ],
             [
              0.6666666666666666,
              "#ed7953"
             ],
             [
              0.7777777777777778,
              "#fb9f3a"
             ],
             [
              0.8888888888888888,
              "#fdca26"
             ],
             [
              1,
              "#f0f921"
             ]
            ],
            "type": "histogram2dcontour"
           }
          ],
          "mesh3d": [
           {
            "colorbar": {
             "outlinewidth": 0,
             "ticks": ""
            },
            "type": "mesh3d"
           }
          ],
          "parcoords": [
           {
            "line": {
             "colorbar": {
              "outlinewidth": 0,
              "ticks": ""
             }
            },
            "type": "parcoords"
           }
          ],
          "pie": [
           {
            "automargin": true,
            "type": "pie"
           }
          ],
          "scatter": [
           {
            "fillpattern": {
             "fillmode": "overlay",
             "size": 10,
             "solidity": 0.2
            },
            "type": "scatter"
           }
          ],
          "scatter3d": [
           {
            "line": {
             "colorbar": {
              "outlinewidth": 0,
              "ticks": ""
             }
            },
            "marker": {
             "colorbar": {
              "outlinewidth": 0,
              "ticks": ""
             }
            },
            "type": "scatter3d"
           }
          ],
          "scattercarpet": [
           {
            "marker": {
             "colorbar": {
              "outlinewidth": 0,
              "ticks": ""
             }
            },
            "type": "scattercarpet"
           }
          ],
          "scattergeo": [
           {
            "marker": {
             "colorbar": {
              "outlinewidth": 0,
              "ticks": ""
             }
            },
            "type": "scattergeo"
           }
          ],
          "scattergl": [
           {
            "marker": {
             "colorbar": {
              "outlinewidth": 0,
              "ticks": ""
             }
            },
            "type": "scattergl"
           }
          ],
          "scattermapbox": [
           {
            "marker": {
             "colorbar": {
              "outlinewidth": 0,
              "ticks": ""
             }
            },
            "type": "scattermapbox"
           }
          ],
          "scatterpolar": [
           {
            "marker": {
             "colorbar": {
              "outlinewidth": 0,
              "ticks": ""
             }
            },
            "type": "scatterpolar"
           }
          ],
          "scatterpolargl": [
           {
            "marker": {
             "colorbar": {
              "outlinewidth": 0,
              "ticks": ""
             }
            },
            "type": "scatterpolargl"
           }
          ],
          "scatterternary": [
           {
            "marker": {
             "colorbar": {
              "outlinewidth": 0,
              "ticks": ""
             }
            },
            "type": "scatterternary"
           }
          ],
          "surface": [
           {
            "colorbar": {
             "outlinewidth": 0,
             "ticks": ""
            },
            "colorscale": [
             [
              0,
              "#0d0887"
             ],
             [
              0.1111111111111111,
              "#46039f"
             ],
             [
              0.2222222222222222,
              "#7201a8"
             ],
             [
              0.3333333333333333,
              "#9c179e"
             ],
             [
              0.4444444444444444,
              "#bd3786"
             ],
             [
              0.5555555555555556,
              "#d8576b"
             ],
             [
              0.6666666666666666,
              "#ed7953"
             ],
             [
              0.7777777777777778,
              "#fb9f3a"
             ],
             [
              0.8888888888888888,
              "#fdca26"
             ],
             [
              1,
              "#f0f921"
             ]
            ],
            "type": "surface"
           }
          ],
          "table": [
           {
            "cells": {
             "fill": {
              "color": "#EBF0F8"
             },
             "line": {
              "color": "white"
             }
            },
            "header": {
             "fill": {
              "color": "#C8D4E3"
             },
             "line": {
              "color": "white"
             }
            },
            "type": "table"
           }
          ]
         },
         "layout": {
          "annotationdefaults": {
           "arrowcolor": "#2a3f5f",
           "arrowhead": 0,
           "arrowwidth": 1
          },
          "autotypenumbers": "strict",
          "coloraxis": {
           "colorbar": {
            "outlinewidth": 0,
            "ticks": ""
           }
          },
          "colorscale": {
           "diverging": [
            [
             0,
             "#8e0152"
            ],
            [
             0.1,
             "#c51b7d"
            ],
            [
             0.2,
             "#de77ae"
            ],
            [
             0.3,
             "#f1b6da"
            ],
            [
             0.4,
             "#fde0ef"
            ],
            [
             0.5,
             "#f7f7f7"
            ],
            [
             0.6,
             "#e6f5d0"
            ],
            [
             0.7,
             "#b8e186"
            ],
            [
             0.8,
             "#7fbc41"
            ],
            [
             0.9,
             "#4d9221"
            ],
            [
             1,
             "#276419"
            ]
           ],
           "sequential": [
            [
             0,
             "#0d0887"
            ],
            [
             0.1111111111111111,
             "#46039f"
            ],
            [
             0.2222222222222222,
             "#7201a8"
            ],
            [
             0.3333333333333333,
             "#9c179e"
            ],
            [
             0.4444444444444444,
             "#bd3786"
            ],
            [
             0.5555555555555556,
             "#d8576b"
            ],
            [
             0.6666666666666666,
             "#ed7953"
            ],
            [
             0.7777777777777778,
             "#fb9f3a"
            ],
            [
             0.8888888888888888,
             "#fdca26"
            ],
            [
             1,
             "#f0f921"
            ]
           ],
           "sequentialminus": [
            [
             0,
             "#0d0887"
            ],
            [
             0.1111111111111111,
             "#46039f"
            ],
            [
             0.2222222222222222,
             "#7201a8"
            ],
            [
             0.3333333333333333,
             "#9c179e"
            ],
            [
             0.4444444444444444,
             "#bd3786"
            ],
            [
             0.5555555555555556,
             "#d8576b"
            ],
            [
             0.6666666666666666,
             "#ed7953"
            ],
            [
             0.7777777777777778,
             "#fb9f3a"
            ],
            [
             0.8888888888888888,
             "#fdca26"
            ],
            [
             1,
             "#f0f921"
            ]
           ]
          },
          "colorway": [
           "#636efa",
           "#EF553B",
           "#00cc96",
           "#ab63fa",
           "#FFA15A",
           "#19d3f3",
           "#FF6692",
           "#B6E880",
           "#FF97FF",
           "#FECB52"
          ],
          "font": {
           "color": "#2a3f5f"
          },
          "geo": {
           "bgcolor": "white",
           "lakecolor": "white",
           "landcolor": "#E5ECF6",
           "showlakes": true,
           "showland": true,
           "subunitcolor": "white"
          },
          "hoverlabel": {
           "align": "left"
          },
          "hovermode": "closest",
          "mapbox": {
           "style": "light"
          },
          "paper_bgcolor": "white",
          "plot_bgcolor": "#E5ECF6",
          "polar": {
           "angularaxis": {
            "gridcolor": "white",
            "linecolor": "white",
            "ticks": ""
           },
           "bgcolor": "#E5ECF6",
           "radialaxis": {
            "gridcolor": "white",
            "linecolor": "white",
            "ticks": ""
           }
          },
          "scene": {
           "xaxis": {
            "backgroundcolor": "#E5ECF6",
            "gridcolor": "white",
            "gridwidth": 2,
            "linecolor": "white",
            "showbackground": true,
            "ticks": "",
            "zerolinecolor": "white"
           },
           "yaxis": {
            "backgroundcolor": "#E5ECF6",
            "gridcolor": "white",
            "gridwidth": 2,
            "linecolor": "white",
            "showbackground": true,
            "ticks": "",
            "zerolinecolor": "white"
           },
           "zaxis": {
            "backgroundcolor": "#E5ECF6",
            "gridcolor": "white",
            "gridwidth": 2,
            "linecolor": "white",
            "showbackground": true,
            "ticks": "",
            "zerolinecolor": "white"
           }
          },
          "shapedefaults": {
           "line": {
            "color": "#2a3f5f"
           }
          },
          "ternary": {
           "aaxis": {
            "gridcolor": "white",
            "linecolor": "white",
            "ticks": ""
           },
           "baxis": {
            "gridcolor": "white",
            "linecolor": "white",
            "ticks": ""
           },
           "bgcolor": "#E5ECF6",
           "caxis": {
            "gridcolor": "white",
            "linecolor": "white",
            "ticks": ""
           }
          },
          "title": {
           "x": 0.05
          },
          "xaxis": {
           "automargin": true,
           "gridcolor": "white",
           "linecolor": "white",
           "ticks": "",
           "title": {
            "standoff": 15
           },
           "zerolinecolor": "white",
           "zerolinewidth": 2
          },
          "yaxis": {
           "automargin": true,
           "gridcolor": "white",
           "linecolor": "white",
           "ticks": "",
           "title": {
            "standoff": 15
           },
           "zerolinecolor": "white",
           "zerolinewidth": 2
          }
         }
        },
        "title": {
         "font": {
          "color": "#4D5663"
         }
        },
        "xaxis": {
         "gridcolor": "#E1E5ED",
         "showgrid": true,
         "tickfont": {
          "color": "#4D5663"
         },
         "title": {
          "font": {
           "color": "#4D5663"
          },
          "text": ""
         },
         "zerolinecolor": "#E1E5ED"
        },
        "yaxis": {
         "gridcolor": "#E1E5ED",
         "showgrid": true,
         "tickfont": {
          "color": "#4D5663"
         },
         "title": {
          "font": {
           "color": "#4D5663"
          },
          "text": ""
         },
         "zerolinecolor": "#E1E5ED"
        }
       }
      },
      "text/html": [
       "<div>                            <div id=\"8b5a635e-3574-4bd5-8173-5481c17ebc5a\" class=\"plotly-graph-div\" style=\"height:525px; width:100%;\"></div>            <script type=\"text/javascript\">                require([\"plotly\"], function(Plotly) {                    window.PLOTLYENV=window.PLOTLYENV || {};\n",
       "                    window.PLOTLYENV.BASE_URL='https://plot.ly';                                    if (document.getElementById(\"8b5a635e-3574-4bd5-8173-5481c17ebc5a\")) {                    Plotly.newPlot(                        \"8b5a635e-3574-4bd5-8173-5481c17ebc5a\",                        [{\"colorscale\":[[0.0,\"rgb(165,0,38)\"],[0.1,\"rgb(215,48,39)\"],[0.2,\"rgb(244,109,67)\"],[0.3,\"rgb(253,174,97)\"],[0.4,\"rgb(254,224,144)\"],[0.5,\"rgb(255,255,191)\"],[0.6,\"rgb(224,243,248)\"],[0.7,\"rgb(171,217,233)\"],[0.8,\"rgb(116,173,209)\"],[0.9,\"rgb(69,117,180)\"],[1.0,\"rgb(49,54,149)\"]],\"x\":[0,1,2,3,4],\"y\":[\"x\",\"y\",\"z\"],\"z\":[[1,2,3,4,5],[10,20,30,20,10],[5,4,3,2,1]],\"type\":\"surface\"}],                        {\"legend\":{\"bgcolor\":\"#F5F6F9\",\"font\":{\"color\":\"#4D5663\"}},\"paper_bgcolor\":\"#F5F6F9\",\"plot_bgcolor\":\"#F5F6F9\",\"template\":{\"data\":{\"barpolar\":[{\"marker\":{\"line\":{\"color\":\"#E5ECF6\",\"width\":0.5},\"pattern\":{\"fillmode\":\"overlay\",\"size\":10,\"solidity\":0.2}},\"type\":\"barpolar\"}],\"bar\":[{\"error_x\":{\"color\":\"#2a3f5f\"},\"error_y\":{\"color\":\"#2a3f5f\"},\"marker\":{\"line\":{\"color\":\"#E5ECF6\",\"width\":0.5},\"pattern\":{\"fillmode\":\"overlay\",\"size\":10,\"solidity\":0.2}},\"type\":\"bar\"}],\"carpet\":[{\"aaxis\":{\"endlinecolor\":\"#2a3f5f\",\"gridcolor\":\"white\",\"linecolor\":\"white\",\"minorgridcolor\":\"white\",\"startlinecolor\":\"#2a3f5f\"},\"baxis\":{\"endlinecolor\":\"#2a3f5f\",\"gridcolor\":\"white\",\"linecolor\":\"white\",\"minorgridcolor\":\"white\",\"startlinecolor\":\"#2a3f5f\"},\"type\":\"carpet\"}],\"choropleth\":[{\"colorbar\":{\"outlinewidth\":0,\"ticks\":\"\"},\"type\":\"choropleth\"}],\"contourcarpet\":[{\"colorbar\":{\"outlinewidth\":0,\"ticks\":\"\"},\"type\":\"contourcarpet\"}],\"contour\":[{\"colorbar\":{\"outlinewidth\":0,\"ticks\":\"\"},\"colorscale\":[[0.0,\"#0d0887\"],[0.1111111111111111,\"#46039f\"],[0.2222222222222222,\"#7201a8\"],[0.3333333333333333,\"#9c179e\"],[0.4444444444444444,\"#bd3786\"],[0.5555555555555556,\"#d8576b\"],[0.6666666666666666,\"#ed7953\"],[0.7777777777777778,\"#fb9f3a\"],[0.8888888888888888,\"#fdca26\"],[1.0,\"#f0f921\"]],\"type\":\"contour\"}],\"heatmapgl\":[{\"colorbar\":{\"outlinewidth\":0,\"ticks\":\"\"},\"colorscale\":[[0.0,\"#0d0887\"],[0.1111111111111111,\"#46039f\"],[0.2222222222222222,\"#7201a8\"],[0.3333333333333333,\"#9c179e\"],[0.4444444444444444,\"#bd3786\"],[0.5555555555555556,\"#d8576b\"],[0.6666666666666666,\"#ed7953\"],[0.7777777777777778,\"#fb9f3a\"],[0.8888888888888888,\"#fdca26\"],[1.0,\"#f0f921\"]],\"type\":\"heatmapgl\"}],\"heatmap\":[{\"colorbar\":{\"outlinewidth\":0,\"ticks\":\"\"},\"colorscale\":[[0.0,\"#0d0887\"],[0.1111111111111111,\"#46039f\"],[0.2222222222222222,\"#7201a8\"],[0.3333333333333333,\"#9c179e\"],[0.4444444444444444,\"#bd3786\"],[0.5555555555555556,\"#d8576b\"],[0.6666666666666666,\"#ed7953\"],[0.7777777777777778,\"#fb9f3a\"],[0.8888888888888888,\"#fdca26\"],[1.0,\"#f0f921\"]],\"type\":\"heatmap\"}],\"histogram2dcontour\":[{\"colorbar\":{\"outlinewidth\":0,\"ticks\":\"\"},\"colorscale\":[[0.0,\"#0d0887\"],[0.1111111111111111,\"#46039f\"],[0.2222222222222222,\"#7201a8\"],[0.3333333333333333,\"#9c179e\"],[0.4444444444444444,\"#bd3786\"],[0.5555555555555556,\"#d8576b\"],[0.6666666666666666,\"#ed7953\"],[0.7777777777777778,\"#fb9f3a\"],[0.8888888888888888,\"#fdca26\"],[1.0,\"#f0f921\"]],\"type\":\"histogram2dcontour\"}],\"histogram2d\":[{\"colorbar\":{\"outlinewidth\":0,\"ticks\":\"\"},\"colorscale\":[[0.0,\"#0d0887\"],[0.1111111111111111,\"#46039f\"],[0.2222222222222222,\"#7201a8\"],[0.3333333333333333,\"#9c179e\"],[0.4444444444444444,\"#bd3786\"],[0.5555555555555556,\"#d8576b\"],[0.6666666666666666,\"#ed7953\"],[0.7777777777777778,\"#fb9f3a\"],[0.8888888888888888,\"#fdca26\"],[1.0,\"#f0f921\"]],\"type\":\"histogram2d\"}],\"histogram\":[{\"marker\":{\"pattern\":{\"fillmode\":\"overlay\",\"size\":10,\"solidity\":0.2}},\"type\":\"histogram\"}],\"mesh3d\":[{\"colorbar\":{\"outlinewidth\":0,\"ticks\":\"\"},\"type\":\"mesh3d\"}],\"parcoords\":[{\"line\":{\"colorbar\":{\"outlinewidth\":0,\"ticks\":\"\"}},\"type\":\"parcoords\"}],\"pie\":[{\"automargin\":true,\"type\":\"pie\"}],\"scatter3d\":[{\"line\":{\"colorbar\":{\"outlinewidth\":0,\"ticks\":\"\"}},\"marker\":{\"colorbar\":{\"outlinewidth\":0,\"ticks\":\"\"}},\"type\":\"scatter3d\"}],\"scattercarpet\":[{\"marker\":{\"colorbar\":{\"outlinewidth\":0,\"ticks\":\"\"}},\"type\":\"scattercarpet\"}],\"scattergeo\":[{\"marker\":{\"colorbar\":{\"outlinewidth\":0,\"ticks\":\"\"}},\"type\":\"scattergeo\"}],\"scattergl\":[{\"marker\":{\"colorbar\":{\"outlinewidth\":0,\"ticks\":\"\"}},\"type\":\"scattergl\"}],\"scattermapbox\":[{\"marker\":{\"colorbar\":{\"outlinewidth\":0,\"ticks\":\"\"}},\"type\":\"scattermapbox\"}],\"scatterpolargl\":[{\"marker\":{\"colorbar\":{\"outlinewidth\":0,\"ticks\":\"\"}},\"type\":\"scatterpolargl\"}],\"scatterpolar\":[{\"marker\":{\"colorbar\":{\"outlinewidth\":0,\"ticks\":\"\"}},\"type\":\"scatterpolar\"}],\"scatter\":[{\"fillpattern\":{\"fillmode\":\"overlay\",\"size\":10,\"solidity\":0.2},\"type\":\"scatter\"}],\"scatterternary\":[{\"marker\":{\"colorbar\":{\"outlinewidth\":0,\"ticks\":\"\"}},\"type\":\"scatterternary\"}],\"surface\":[{\"colorbar\":{\"outlinewidth\":0,\"ticks\":\"\"},\"colorscale\":[[0.0,\"#0d0887\"],[0.1111111111111111,\"#46039f\"],[0.2222222222222222,\"#7201a8\"],[0.3333333333333333,\"#9c179e\"],[0.4444444444444444,\"#bd3786\"],[0.5555555555555556,\"#d8576b\"],[0.6666666666666666,\"#ed7953\"],[0.7777777777777778,\"#fb9f3a\"],[0.8888888888888888,\"#fdca26\"],[1.0,\"#f0f921\"]],\"type\":\"surface\"}],\"table\":[{\"cells\":{\"fill\":{\"color\":\"#EBF0F8\"},\"line\":{\"color\":\"white\"}},\"header\":{\"fill\":{\"color\":\"#C8D4E3\"},\"line\":{\"color\":\"white\"}},\"type\":\"table\"}]},\"layout\":{\"annotationdefaults\":{\"arrowcolor\":\"#2a3f5f\",\"arrowhead\":0,\"arrowwidth\":1},\"autotypenumbers\":\"strict\",\"coloraxis\":{\"colorbar\":{\"outlinewidth\":0,\"ticks\":\"\"}},\"colorscale\":{\"diverging\":[[0,\"#8e0152\"],[0.1,\"#c51b7d\"],[0.2,\"#de77ae\"],[0.3,\"#f1b6da\"],[0.4,\"#fde0ef\"],[0.5,\"#f7f7f7\"],[0.6,\"#e6f5d0\"],[0.7,\"#b8e186\"],[0.8,\"#7fbc41\"],[0.9,\"#4d9221\"],[1,\"#276419\"]],\"sequential\":[[0.0,\"#0d0887\"],[0.1111111111111111,\"#46039f\"],[0.2222222222222222,\"#7201a8\"],[0.3333333333333333,\"#9c179e\"],[0.4444444444444444,\"#bd3786\"],[0.5555555555555556,\"#d8576b\"],[0.6666666666666666,\"#ed7953\"],[0.7777777777777778,\"#fb9f3a\"],[0.8888888888888888,\"#fdca26\"],[1.0,\"#f0f921\"]],\"sequentialminus\":[[0.0,\"#0d0887\"],[0.1111111111111111,\"#46039f\"],[0.2222222222222222,\"#7201a8\"],[0.3333333333333333,\"#9c179e\"],[0.4444444444444444,\"#bd3786\"],[0.5555555555555556,\"#d8576b\"],[0.6666666666666666,\"#ed7953\"],[0.7777777777777778,\"#fb9f3a\"],[0.8888888888888888,\"#fdca26\"],[1.0,\"#f0f921\"]]},\"colorway\":[\"#636efa\",\"#EF553B\",\"#00cc96\",\"#ab63fa\",\"#FFA15A\",\"#19d3f3\",\"#FF6692\",\"#B6E880\",\"#FF97FF\",\"#FECB52\"],\"font\":{\"color\":\"#2a3f5f\"},\"geo\":{\"bgcolor\":\"white\",\"lakecolor\":\"white\",\"landcolor\":\"#E5ECF6\",\"showlakes\":true,\"showland\":true,\"subunitcolor\":\"white\"},\"hoverlabel\":{\"align\":\"left\"},\"hovermode\":\"closest\",\"mapbox\":{\"style\":\"light\"},\"paper_bgcolor\":\"white\",\"plot_bgcolor\":\"#E5ECF6\",\"polar\":{\"angularaxis\":{\"gridcolor\":\"white\",\"linecolor\":\"white\",\"ticks\":\"\"},\"bgcolor\":\"#E5ECF6\",\"radialaxis\":{\"gridcolor\":\"white\",\"linecolor\":\"white\",\"ticks\":\"\"}},\"scene\":{\"xaxis\":{\"backgroundcolor\":\"#E5ECF6\",\"gridcolor\":\"white\",\"gridwidth\":2,\"linecolor\":\"white\",\"showbackground\":true,\"ticks\":\"\",\"zerolinecolor\":\"white\"},\"yaxis\":{\"backgroundcolor\":\"#E5ECF6\",\"gridcolor\":\"white\",\"gridwidth\":2,\"linecolor\":\"white\",\"showbackground\":true,\"ticks\":\"\",\"zerolinecolor\":\"white\"},\"zaxis\":{\"backgroundcolor\":\"#E5ECF6\",\"gridcolor\":\"white\",\"gridwidth\":2,\"linecolor\":\"white\",\"showbackground\":true,\"ticks\":\"\",\"zerolinecolor\":\"white\"}},\"shapedefaults\":{\"line\":{\"color\":\"#2a3f5f\"}},\"ternary\":{\"aaxis\":{\"gridcolor\":\"white\",\"linecolor\":\"white\",\"ticks\":\"\"},\"baxis\":{\"gridcolor\":\"white\",\"linecolor\":\"white\",\"ticks\":\"\"},\"bgcolor\":\"#E5ECF6\",\"caxis\":{\"gridcolor\":\"white\",\"linecolor\":\"white\",\"ticks\":\"\"}},\"title\":{\"x\":0.05},\"xaxis\":{\"automargin\":true,\"gridcolor\":\"white\",\"linecolor\":\"white\",\"ticks\":\"\",\"title\":{\"standoff\":15},\"zerolinecolor\":\"white\",\"zerolinewidth\":2},\"yaxis\":{\"automargin\":true,\"gridcolor\":\"white\",\"linecolor\":\"white\",\"ticks\":\"\",\"title\":{\"standoff\":15},\"zerolinecolor\":\"white\",\"zerolinewidth\":2}}},\"title\":{\"font\":{\"color\":\"#4D5663\"}},\"xaxis\":{\"gridcolor\":\"#E1E5ED\",\"showgrid\":true,\"tickfont\":{\"color\":\"#4D5663\"},\"title\":{\"font\":{\"color\":\"#4D5663\"},\"text\":\"\"},\"zerolinecolor\":\"#E1E5ED\"},\"yaxis\":{\"gridcolor\":\"#E1E5ED\",\"showgrid\":true,\"tickfont\":{\"color\":\"#4D5663\"},\"title\":{\"font\":{\"color\":\"#4D5663\"},\"text\":\"\"},\"zerolinecolor\":\"#E1E5ED\"}},                        {\"showLink\": true, \"linkText\": \"Export to plot.ly\", \"plotlyServerURL\": \"https://plot.ly\", \"responsive\": true}                    ).then(function(){\n",
       "                            \n",
       "var gd = document.getElementById('8b5a635e-3574-4bd5-8173-5481c17ebc5a');\n",
       "var x = new MutationObserver(function (mutations, observer) {{\n",
       "        var display = window.getComputedStyle(gd).display;\n",
       "        if (!display || display === 'none') {{\n",
       "            console.log([gd, 'removed!']);\n",
       "            Plotly.purge(gd);\n",
       "            observer.disconnect();\n",
       "        }}\n",
       "}});\n",
       "\n",
       "// Listen for the removal of the full notebook cells\n",
       "var notebookContainer = gd.closest('#notebook-container');\n",
       "if (notebookContainer) {{\n",
       "    x.observe(notebookContainer, {childList: true});\n",
       "}}\n",
       "\n",
       "// Listen for the clearing of the current output cell\n",
       "var outputEl = gd.closest('.output');\n",
       "if (outputEl) {{\n",
       "    x.observe(outputEl, {childList: true});\n",
       "}}\n",
       "\n",
       "                        })                };                });            </script>        </div>"
      ]
     },
     "metadata": {},
     "output_type": "display_data"
    }
   ],
   "source": [
    "df3 = pd.DataFrame({'x':[1,2,3,4,5],'y':[10,20,30,20,10],'z':[5,4,3,2,1]})\n",
    "df3.iplot(kind='surface',colorscale='rdylbu')"
   ]
  },
  {
   "cell_type": "markdown",
   "metadata": {},
   "source": [
    "## Spread"
   ]
  },
  {
   "cell_type": "code",
   "execution_count": 16,
   "metadata": {},
   "outputs": [
    {
     "name": "stderr",
     "output_type": "stream",
     "text": [
      "C:\\Users\\Tiffany\\anaconda3\\lib\\site-packages\\cufflinks\\plotlytools.py:849: FutureWarning:\n",
      "\n",
      "The pandas.np module is deprecated and will be removed from pandas in a future version. Import numpy directly instead.\n",
      "\n",
      "C:\\Users\\Tiffany\\anaconda3\\lib\\site-packages\\cufflinks\\plotlytools.py:850: FutureWarning:\n",
      "\n",
      "The pandas.np module is deprecated and will be removed from pandas in a future version. Import numpy directly instead.\n",
      "\n"
     ]
    },
    {
     "data": {
      "application/vnd.plotly.v1+json": {
       "config": {
        "linkText": "Export to plot.ly",
        "plotlyServerURL": "https://plot.ly",
        "showLink": true
       },
       "data": [
        {
         "line": {
          "color": "rgba(255, 153, 51, 1.0)",
          "dash": "solid",
          "shape": "linear",
          "width": 1.3
         },
         "mode": "lines",
         "name": "A",
         "text": "",
         "type": "scatter",
         "x": [
          0,
          1,
          2,
          3,
          4,
          5,
          6,
          7,
          8,
          9,
          10,
          11,
          12,
          13,
          14,
          15,
          16,
          17,
          18,
          19,
          20,
          21,
          22,
          23,
          24,
          25,
          26,
          27,
          28,
          29,
          30,
          31,
          32,
          33,
          34,
          35,
          36,
          37,
          38,
          39,
          40,
          41,
          42,
          43,
          44,
          45,
          46,
          47,
          48,
          49,
          50,
          51,
          52,
          53,
          54,
          55,
          56,
          57,
          58,
          59,
          60,
          61,
          62,
          63,
          64,
          65,
          66,
          67,
          68,
          69,
          70,
          71,
          72,
          73,
          74,
          75,
          76,
          77,
          78,
          79,
          80,
          81,
          82,
          83,
          84,
          85,
          86,
          87,
          88,
          89,
          90,
          91,
          92,
          93,
          94,
          95,
          96,
          97,
          98,
          99
         ],
         "y": [
          0.26094944737820464,
          0.6756427948506019,
          -1.6813264412755256,
          0.7204565479924322,
          -0.22704880191720428,
          1.6257351533472952,
          -0.4942521366331942,
          0.7554812681062507,
          -0.012121861711336316,
          0.6690437492201413,
          -0.3900373476123656,
          -1.8547898714279738,
          -1.4816658495535915,
          0.23413255955366494,
          0.21034036783623777,
          -0.5905362775657257,
          0.44400914529871144,
          -0.08988354995132182,
          -0.9092428787691089,
          0.1390659850483001,
          0.12827195930806926,
          -0.8936444613365111,
          0.48411247557442094,
          0.5712665158701542,
          -0.2306417488905862,
          1.0621829798421933,
          0.8049419422180617,
          0.3098617097266694,
          -1.2459142215390526,
          -1.5421708395982974,
          -0.28945802864526166,
          -0.457410342620502,
          0.8842863964667576,
          0.4716178732561643,
          1.080769153106927,
          -0.3027219145109648,
          1.4535241446092566,
          -2.006165431524184,
          0.3457218679585976,
          1.2554394332593966,
          1.583191788122711,
          0.1001572144415794,
          0.1218111415464603,
          0.7644233984677314,
          0.6256263350098222,
          -1.0406876639569114,
          -1.1116255859285793,
          -1.3226346404362888,
          0.9521322476501216,
          0.10361535193926541,
          1.6796946454820472,
          -1.0312332635688635,
          -1.6719091796148713,
          -1.4620898703178808,
          -2.338268650433877,
          0.7249705026245721,
          1.892208054311665,
          -0.8650989366390816,
          -0.36156197736492707,
          0.5556931482624534,
          0.5550851907531508,
          -2.7372209835746997,
          1.556315017341361,
          0.40241766720405525,
          0.459800704742713,
          0.010839974417914938,
          0.2869058777525109,
          -0.20948496585773907,
          -0.3228919963689883,
          -0.9424428117102946,
          0.08004987528207808,
          -1.722571435733268,
          -1.2599461951241895,
          -1.1399593241709116,
          0.9427614038338752,
          -0.608796670914509,
          -0.180982777034367,
          1.7219984547975717,
          -0.026529348892462685,
          -0.09822764343422868,
          -1.944606864250181,
          0.8610178999848556,
          1.2603732054512387,
          -0.7031761322484911,
          -0.6031228391849389,
          -0.21885822736009458,
          0.4179951312327664,
          1.1013003666583145,
          0.9154925356461139,
          0.09501597794814125,
          -2.216397093263774,
          0.9567752156312098,
          0.5091191071901275,
          -1.2976367682644396,
          0.252814044628649,
          -0.1696171000230781,
          1.2540223824766012,
          -1.1091293259988333,
          -0.07234965598861014,
          -0.4820456279286618
         ]
        },
        {
         "line": {
          "color": "rgba(55, 128, 191, 1.0)",
          "dash": "solid",
          "shape": "linear",
          "width": 1.3
         },
         "mode": "lines",
         "name": "B",
         "text": "",
         "type": "scatter",
         "x": [
          0,
          1,
          2,
          3,
          4,
          5,
          6,
          7,
          8,
          9,
          10,
          11,
          12,
          13,
          14,
          15,
          16,
          17,
          18,
          19,
          20,
          21,
          22,
          23,
          24,
          25,
          26,
          27,
          28,
          29,
          30,
          31,
          32,
          33,
          34,
          35,
          36,
          37,
          38,
          39,
          40,
          41,
          42,
          43,
          44,
          45,
          46,
          47,
          48,
          49,
          50,
          51,
          52,
          53,
          54,
          55,
          56,
          57,
          58,
          59,
          60,
          61,
          62,
          63,
          64,
          65,
          66,
          67,
          68,
          69,
          70,
          71,
          72,
          73,
          74,
          75,
          76,
          77,
          78,
          79,
          80,
          81,
          82,
          83,
          84,
          85,
          86,
          87,
          88,
          89,
          90,
          91,
          92,
          93,
          94,
          95,
          96,
          97,
          98,
          99
         ],
         "y": [
          -2.2858288822656303,
          -0.3689246942451719,
          -0.4878085442863548,
          0.0899980136684595,
          0.29926889068795876,
          0.17158248776965915,
          -1.6060521316690806,
          0.8454748009189931,
          -0.7780592645242341,
          -1.5565002087012068,
          1.0372025831271199,
          0.8400056526466327,
          -0.9864917656790733,
          -0.7865337495103956,
          -0.4908674300457295,
          0.065209412493217,
          0.9568752404687892,
          -0.8396432482350337,
          -0.12579337362106027,
          -0.2521365828886802,
          -0.5335363396262771,
          -1.1038689888634035,
          0.4702284473695049,
          1.0127134627231362,
          0.06357379909821854,
          0.17666908872890652,
          -2.219413202901428,
          0.16988007691544227,
          0.21331495447507157,
          -0.38144917787193,
          -0.7234233309210866,
          1.1654897644783366,
          -0.0939289539623439,
          2.0170523368074034,
          -1.066331684671368,
          -1.2550980664771623,
          -0.6834753077766862,
          -1.9776636533758316,
          -0.7071974935890099,
          -0.8647725828109243,
          0.666397539151505,
          -2.1561037115340382,
          1.3088668119173679,
          0.1895499161046491,
          -0.2143124885233418,
          1.5600407751980936,
          1.49517789425164,
          -1.3163885089797722,
          0.3071100790489101,
          -1.1334144746266988,
          -1.3048753478925657,
          -1.7737873100165837,
          -1.311819431354197,
          0.6547271610296218,
          -1.080829127609142,
          -0.14106417250186926,
          1.12593274559256,
          -0.18690924228657932,
          1.0632163358016373,
          -0.9635096609258548,
          0.5013097476381637,
          -0.41205755974149105,
          0.7461619496075209,
          -2.0031465844771246,
          -1.4463887314168276,
          1.26252117377817,
          -1.2231128761730659,
          -0.02423340109344603,
          2.4622973856990584,
          0.4021529194125459,
          -0.7330723509578897,
          -0.04278911282889734,
          -0.3491149144994279,
          1.083279811870235,
          1.0426110712780547,
          -1.8778181299002392,
          -1.0794577182216054,
          -1.5317866657565158,
          1.0165126478271154,
          -0.8934024272225225,
          -0.3084887191806035,
          -0.699643240815849,
          -0.6605125009688817,
          2.1852107666274163,
          0.996809877383777,
          0.06108618985377447,
          2.4562499159811915,
          0.8295824341081318,
          1.4581308222086655,
          1.0332082700772245,
          0.6149475497997644,
          0.12629079890159314,
          -1.1722907357555292,
          -0.8750580032179174,
          0.2213111053489606,
          0.9767123482772395,
          1.3429699882896668,
          0.4560223707490966,
          -0.10333857580881216,
          0.7250381311930914
         ]
        },
        {
         "connectgaps": false,
         "fill": "tozeroy",
         "line": {
          "color": "green",
          "dash": "solid",
          "shape": "linear",
          "width": 0.5
         },
         "mode": "lines",
         "name": "Spread",
         "showlegend": false,
         "type": "scatter",
         "x": [
          0,
          1,
          2,
          3,
          4,
          5,
          6,
          7,
          8,
          9,
          10,
          11,
          12,
          13,
          14,
          15,
          16,
          17,
          18,
          19,
          20,
          21,
          22,
          23,
          24,
          25,
          26,
          27,
          28,
          29,
          30,
          31,
          32,
          33,
          34,
          35,
          36,
          37,
          38,
          39,
          40,
          41,
          42,
          43,
          44,
          45,
          46,
          47,
          48,
          49,
          50,
          51,
          52,
          53,
          54,
          55,
          56,
          57,
          58,
          59,
          60,
          61,
          62,
          63,
          64,
          65,
          66,
          67,
          68,
          69,
          70,
          71,
          72,
          73,
          74,
          75,
          76,
          77,
          78,
          79,
          80,
          81,
          82,
          83,
          84,
          85,
          86,
          87,
          88,
          89,
          90,
          91,
          92,
          93,
          94,
          95,
          96,
          97,
          98,
          99
         ],
         "xaxis": "x2",
         "y": [
          2.546778329643835,
          1.0445674890957737,
          "",
          0.6304585343239727,
          "",
          1.454152665577636,
          1.1117999950358863,
          "",
          0.7659374028128978,
          2.225543957921348,
          "",
          "",
          "",
          1.0206663090640604,
          0.7012077978819673,
          "",
          "",
          0.7497596982837118,
          "",
          0.39120256793698027,
          0.6618082989343463,
          0.21022452752689236,
          0.013884028204916021,
          "",
          "",
          0.8855138911132868,
          3.0243551451194897,
          0.1399816328112271,
          "",
          "",
          0.4339653022758249,
          "",
          0.9782153504291015,
          "",
          2.1471008377782947,
          0.9523761519661975,
          2.136999452385943,
          "",
          1.0529193615476076,
          2.1202120160703206,
          0.9167942489712061,
          2.2562609259756177,
          "",
          0.5748734823630823,
          0.8399388235331641,
          "",
          "",
          "",
          0.6450221686012115,
          1.2370298265659643,
          2.984569993374613,
          0.7425540464477203,
          "",
          "",
          "",
          0.8660346751264414,
          0.766275308719105,
          "",
          "",
          1.5192028091883083,
          0.053775443114987054,
          "",
          0.81015306773384,
          2.40556425168118,
          1.9061894361595406,
          "",
          1.5100187539255767,
          "",
          "",
          "",
          0.8131222262399678,
          "",
          "",
          "",
          "",
          1.2690214589857303,
          0.8984749411872384,
          3.2537851205540873,
          "",
          0.7951747837882939,
          "",
          1.5606611408007045,
          1.9208857064201204,
          "",
          "",
          "",
          "",
          0.27171793255018273,
          "",
          "",
          "",
          0.8304844167296167,
          1.6814098429456568,
          "",
          0.03150293927968839,
          "",
          "",
          "",
          0.03098891982020202,
          ""
         ],
         "yaxis": "y2"
        },
        {
         "connectgaps": false,
         "fill": "tozeroy",
         "line": {
          "color": "red",
          "dash": "solid",
          "shape": "linear",
          "width": 0.5
         },
         "mode": "lines",
         "name": "Spread",
         "showlegend": false,
         "type": "scatter",
         "x": [
          0,
          1,
          2,
          3,
          4,
          5,
          6,
          7,
          8,
          9,
          10,
          11,
          12,
          13,
          14,
          15,
          16,
          17,
          18,
          19,
          20,
          21,
          22,
          23,
          24,
          25,
          26,
          27,
          28,
          29,
          30,
          31,
          32,
          33,
          34,
          35,
          36,
          37,
          38,
          39,
          40,
          41,
          42,
          43,
          44,
          45,
          46,
          47,
          48,
          49,
          50,
          51,
          52,
          53,
          54,
          55,
          56,
          57,
          58,
          59,
          60,
          61,
          62,
          63,
          64,
          65,
          66,
          67,
          68,
          69,
          70,
          71,
          72,
          73,
          74,
          75,
          76,
          77,
          78,
          79,
          80,
          81,
          82,
          83,
          84,
          85,
          86,
          87,
          88,
          89,
          90,
          91,
          92,
          93,
          94,
          95,
          96,
          97,
          98,
          99
         ],
         "xaxis": "x2",
         "y": [
          "",
          "",
          -1.1935178969891709,
          "",
          -0.526317692605163,
          "",
          "",
          -0.08999353281274236,
          "",
          "",
          -1.4272399307394854,
          -2.6947955240746064,
          -0.4951740838745182,
          "",
          "",
          -0.6557456900589427,
          -0.5128660951700779,
          "",
          -0.7834495051480487,
          "",
          "",
          "",
          "",
          -0.441446946852982,
          -0.2942155479888047,
          "",
          "",
          "",
          -1.4592291760141243,
          -1.1607216617263674,
          "",
          -1.6229001070988387,
          "",
          -1.5454344635512391,
          "",
          "",
          "",
          -0.02850177814835253,
          "",
          "",
          "",
          "",
          -1.1870556703709076,
          "",
          "",
          -2.600728439155005,
          -2.6068034801802193,
          -0.006246131456516535,
          "",
          "",
          "",
          "",
          -0.3600897482606742,
          -2.1168170313475025,
          -1.2574395228247353,
          "",
          "",
          -0.6781896943525022,
          -1.4247783131665643,
          "",
          "",
          -2.3251634238332084,
          "",
          "",
          "",
          -1.2516811993602552,
          "",
          -0.18525156476429305,
          -2.785189382068047,
          -1.3445957311228405,
          "",
          -1.6797823229043707,
          -0.9108312806247616,
          -2.2232391360411468,
          -0.09984966744417956,
          "",
          "",
          "",
          -1.043041996719578,
          "",
          -1.6361181450695774,
          "",
          "",
          -2.8883868988759076,
          -1.5999327165687158,
          -0.27994441721386903,
          -2.038254784748425,
          "",
          -0.5426382865625516,
          -0.9381922921290833,
          -2.8313446430635385,
          "",
          "",
          -0.42257876504652225,
          "",
          -1.1463294483003177,
          -0.0889476058130656,
          -1.5651516967479298,
          "",
          -1.2070837591217531
         ],
         "yaxis": "y2"
        }
       ],
       "layout": {
        "hovermode": "x",
        "legend": {
         "bgcolor": "#F5F6F9",
         "font": {
          "color": "#4D5663"
         }
        },
        "paper_bgcolor": "#F5F6F9",
        "plot_bgcolor": "#F5F6F9",
        "template": {
         "data": {
          "bar": [
           {
            "error_x": {
             "color": "#2a3f5f"
            },
            "error_y": {
             "color": "#2a3f5f"
            },
            "marker": {
             "line": {
              "color": "#E5ECF6",
              "width": 0.5
             },
             "pattern": {
              "fillmode": "overlay",
              "size": 10,
              "solidity": 0.2
             }
            },
            "type": "bar"
           }
          ],
          "barpolar": [
           {
            "marker": {
             "line": {
              "color": "#E5ECF6",
              "width": 0.5
             },
             "pattern": {
              "fillmode": "overlay",
              "size": 10,
              "solidity": 0.2
             }
            },
            "type": "barpolar"
           }
          ],
          "carpet": [
           {
            "aaxis": {
             "endlinecolor": "#2a3f5f",
             "gridcolor": "white",
             "linecolor": "white",
             "minorgridcolor": "white",
             "startlinecolor": "#2a3f5f"
            },
            "baxis": {
             "endlinecolor": "#2a3f5f",
             "gridcolor": "white",
             "linecolor": "white",
             "minorgridcolor": "white",
             "startlinecolor": "#2a3f5f"
            },
            "type": "carpet"
           }
          ],
          "choropleth": [
           {
            "colorbar": {
             "outlinewidth": 0,
             "ticks": ""
            },
            "type": "choropleth"
           }
          ],
          "contour": [
           {
            "colorbar": {
             "outlinewidth": 0,
             "ticks": ""
            },
            "colorscale": [
             [
              0,
              "#0d0887"
             ],
             [
              0.1111111111111111,
              "#46039f"
             ],
             [
              0.2222222222222222,
              "#7201a8"
             ],
             [
              0.3333333333333333,
              "#9c179e"
             ],
             [
              0.4444444444444444,
              "#bd3786"
             ],
             [
              0.5555555555555556,
              "#d8576b"
             ],
             [
              0.6666666666666666,
              "#ed7953"
             ],
             [
              0.7777777777777778,
              "#fb9f3a"
             ],
             [
              0.8888888888888888,
              "#fdca26"
             ],
             [
              1,
              "#f0f921"
             ]
            ],
            "type": "contour"
           }
          ],
          "contourcarpet": [
           {
            "colorbar": {
             "outlinewidth": 0,
             "ticks": ""
            },
            "type": "contourcarpet"
           }
          ],
          "heatmap": [
           {
            "colorbar": {
             "outlinewidth": 0,
             "ticks": ""
            },
            "colorscale": [
             [
              0,
              "#0d0887"
             ],
             [
              0.1111111111111111,
              "#46039f"
             ],
             [
              0.2222222222222222,
              "#7201a8"
             ],
             [
              0.3333333333333333,
              "#9c179e"
             ],
             [
              0.4444444444444444,
              "#bd3786"
             ],
             [
              0.5555555555555556,
              "#d8576b"
             ],
             [
              0.6666666666666666,
              "#ed7953"
             ],
             [
              0.7777777777777778,
              "#fb9f3a"
             ],
             [
              0.8888888888888888,
              "#fdca26"
             ],
             [
              1,
              "#f0f921"
             ]
            ],
            "type": "heatmap"
           }
          ],
          "heatmapgl": [
           {
            "colorbar": {
             "outlinewidth": 0,
             "ticks": ""
            },
            "colorscale": [
             [
              0,
              "#0d0887"
             ],
             [
              0.1111111111111111,
              "#46039f"
             ],
             [
              0.2222222222222222,
              "#7201a8"
             ],
             [
              0.3333333333333333,
              "#9c179e"
             ],
             [
              0.4444444444444444,
              "#bd3786"
             ],
             [
              0.5555555555555556,
              "#d8576b"
             ],
             [
              0.6666666666666666,
              "#ed7953"
             ],
             [
              0.7777777777777778,
              "#fb9f3a"
             ],
             [
              0.8888888888888888,
              "#fdca26"
             ],
             [
              1,
              "#f0f921"
             ]
            ],
            "type": "heatmapgl"
           }
          ],
          "histogram": [
           {
            "marker": {
             "pattern": {
              "fillmode": "overlay",
              "size": 10,
              "solidity": 0.2
             }
            },
            "type": "histogram"
           }
          ],
          "histogram2d": [
           {
            "colorbar": {
             "outlinewidth": 0,
             "ticks": ""
            },
            "colorscale": [
             [
              0,
              "#0d0887"
             ],
             [
              0.1111111111111111,
              "#46039f"
             ],
             [
              0.2222222222222222,
              "#7201a8"
             ],
             [
              0.3333333333333333,
              "#9c179e"
             ],
             [
              0.4444444444444444,
              "#bd3786"
             ],
             [
              0.5555555555555556,
              "#d8576b"
             ],
             [
              0.6666666666666666,
              "#ed7953"
             ],
             [
              0.7777777777777778,
              "#fb9f3a"
             ],
             [
              0.8888888888888888,
              "#fdca26"
             ],
             [
              1,
              "#f0f921"
             ]
            ],
            "type": "histogram2d"
           }
          ],
          "histogram2dcontour": [
           {
            "colorbar": {
             "outlinewidth": 0,
             "ticks": ""
            },
            "colorscale": [
             [
              0,
              "#0d0887"
             ],
             [
              0.1111111111111111,
              "#46039f"
             ],
             [
              0.2222222222222222,
              "#7201a8"
             ],
             [
              0.3333333333333333,
              "#9c179e"
             ],
             [
              0.4444444444444444,
              "#bd3786"
             ],
             [
              0.5555555555555556,
              "#d8576b"
             ],
             [
              0.6666666666666666,
              "#ed7953"
             ],
             [
              0.7777777777777778,
              "#fb9f3a"
             ],
             [
              0.8888888888888888,
              "#fdca26"
             ],
             [
              1,
              "#f0f921"
             ]
            ],
            "type": "histogram2dcontour"
           }
          ],
          "mesh3d": [
           {
            "colorbar": {
             "outlinewidth": 0,
             "ticks": ""
            },
            "type": "mesh3d"
           }
          ],
          "parcoords": [
           {
            "line": {
             "colorbar": {
              "outlinewidth": 0,
              "ticks": ""
             }
            },
            "type": "parcoords"
           }
          ],
          "pie": [
           {
            "automargin": true,
            "type": "pie"
           }
          ],
          "scatter": [
           {
            "fillpattern": {
             "fillmode": "overlay",
             "size": 10,
             "solidity": 0.2
            },
            "type": "scatter"
           }
          ],
          "scatter3d": [
           {
            "line": {
             "colorbar": {
              "outlinewidth": 0,
              "ticks": ""
             }
            },
            "marker": {
             "colorbar": {
              "outlinewidth": 0,
              "ticks": ""
             }
            },
            "type": "scatter3d"
           }
          ],
          "scattercarpet": [
           {
            "marker": {
             "colorbar": {
              "outlinewidth": 0,
              "ticks": ""
             }
            },
            "type": "scattercarpet"
           }
          ],
          "scattergeo": [
           {
            "marker": {
             "colorbar": {
              "outlinewidth": 0,
              "ticks": ""
             }
            },
            "type": "scattergeo"
           }
          ],
          "scattergl": [
           {
            "marker": {
             "colorbar": {
              "outlinewidth": 0,
              "ticks": ""
             }
            },
            "type": "scattergl"
           }
          ],
          "scattermapbox": [
           {
            "marker": {
             "colorbar": {
              "outlinewidth": 0,
              "ticks": ""
             }
            },
            "type": "scattermapbox"
           }
          ],
          "scatterpolar": [
           {
            "marker": {
             "colorbar": {
              "outlinewidth": 0,
              "ticks": ""
             }
            },
            "type": "scatterpolar"
           }
          ],
          "scatterpolargl": [
           {
            "marker": {
             "colorbar": {
              "outlinewidth": 0,
              "ticks": ""
             }
            },
            "type": "scatterpolargl"
           }
          ],
          "scatterternary": [
           {
            "marker": {
             "colorbar": {
              "outlinewidth": 0,
              "ticks": ""
             }
            },
            "type": "scatterternary"
           }
          ],
          "surface": [
           {
            "colorbar": {
             "outlinewidth": 0,
             "ticks": ""
            },
            "colorscale": [
             [
              0,
              "#0d0887"
             ],
             [
              0.1111111111111111,
              "#46039f"
             ],
             [
              0.2222222222222222,
              "#7201a8"
             ],
             [
              0.3333333333333333,
              "#9c179e"
             ],
             [
              0.4444444444444444,
              "#bd3786"
             ],
             [
              0.5555555555555556,
              "#d8576b"
             ],
             [
              0.6666666666666666,
              "#ed7953"
             ],
             [
              0.7777777777777778,
              "#fb9f3a"
             ],
             [
              0.8888888888888888,
              "#fdca26"
             ],
             [
              1,
              "#f0f921"
             ]
            ],
            "type": "surface"
           }
          ],
          "table": [
           {
            "cells": {
             "fill": {
              "color": "#EBF0F8"
             },
             "line": {
              "color": "white"
             }
            },
            "header": {
             "fill": {
              "color": "#C8D4E3"
             },
             "line": {
              "color": "white"
             }
            },
            "type": "table"
           }
          ]
         },
         "layout": {
          "annotationdefaults": {
           "arrowcolor": "#2a3f5f",
           "arrowhead": 0,
           "arrowwidth": 1
          },
          "autotypenumbers": "strict",
          "coloraxis": {
           "colorbar": {
            "outlinewidth": 0,
            "ticks": ""
           }
          },
          "colorscale": {
           "diverging": [
            [
             0,
             "#8e0152"
            ],
            [
             0.1,
             "#c51b7d"
            ],
            [
             0.2,
             "#de77ae"
            ],
            [
             0.3,
             "#f1b6da"
            ],
            [
             0.4,
             "#fde0ef"
            ],
            [
             0.5,
             "#f7f7f7"
            ],
            [
             0.6,
             "#e6f5d0"
            ],
            [
             0.7,
             "#b8e186"
            ],
            [
             0.8,
             "#7fbc41"
            ],
            [
             0.9,
             "#4d9221"
            ],
            [
             1,
             "#276419"
            ]
           ],
           "sequential": [
            [
             0,
             "#0d0887"
            ],
            [
             0.1111111111111111,
             "#46039f"
            ],
            [
             0.2222222222222222,
             "#7201a8"
            ],
            [
             0.3333333333333333,
             "#9c179e"
            ],
            [
             0.4444444444444444,
             "#bd3786"
            ],
            [
             0.5555555555555556,
             "#d8576b"
            ],
            [
             0.6666666666666666,
             "#ed7953"
            ],
            [
             0.7777777777777778,
             "#fb9f3a"
            ],
            [
             0.8888888888888888,
             "#fdca26"
            ],
            [
             1,
             "#f0f921"
            ]
           ],
           "sequentialminus": [
            [
             0,
             "#0d0887"
            ],
            [
             0.1111111111111111,
             "#46039f"
            ],
            [
             0.2222222222222222,
             "#7201a8"
            ],
            [
             0.3333333333333333,
             "#9c179e"
            ],
            [
             0.4444444444444444,
             "#bd3786"
            ],
            [
             0.5555555555555556,
             "#d8576b"
            ],
            [
             0.6666666666666666,
             "#ed7953"
            ],
            [
             0.7777777777777778,
             "#fb9f3a"
            ],
            [
             0.8888888888888888,
             "#fdca26"
            ],
            [
             1,
             "#f0f921"
            ]
           ]
          },
          "colorway": [
           "#636efa",
           "#EF553B",
           "#00cc96",
           "#ab63fa",
           "#FFA15A",
           "#19d3f3",
           "#FF6692",
           "#B6E880",
           "#FF97FF",
           "#FECB52"
          ],
          "font": {
           "color": "#2a3f5f"
          },
          "geo": {
           "bgcolor": "white",
           "lakecolor": "white",
           "landcolor": "#E5ECF6",
           "showlakes": true,
           "showland": true,
           "subunitcolor": "white"
          },
          "hoverlabel": {
           "align": "left"
          },
          "hovermode": "closest",
          "mapbox": {
           "style": "light"
          },
          "paper_bgcolor": "white",
          "plot_bgcolor": "#E5ECF6",
          "polar": {
           "angularaxis": {
            "gridcolor": "white",
            "linecolor": "white",
            "ticks": ""
           },
           "bgcolor": "#E5ECF6",
           "radialaxis": {
            "gridcolor": "white",
            "linecolor": "white",
            "ticks": ""
           }
          },
          "scene": {
           "xaxis": {
            "backgroundcolor": "#E5ECF6",
            "gridcolor": "white",
            "gridwidth": 2,
            "linecolor": "white",
            "showbackground": true,
            "ticks": "",
            "zerolinecolor": "white"
           },
           "yaxis": {
            "backgroundcolor": "#E5ECF6",
            "gridcolor": "white",
            "gridwidth": 2,
            "linecolor": "white",
            "showbackground": true,
            "ticks": "",
            "zerolinecolor": "white"
           },
           "zaxis": {
            "backgroundcolor": "#E5ECF6",
            "gridcolor": "white",
            "gridwidth": 2,
            "linecolor": "white",
            "showbackground": true,
            "ticks": "",
            "zerolinecolor": "white"
           }
          },
          "shapedefaults": {
           "line": {
            "color": "#2a3f5f"
           }
          },
          "ternary": {
           "aaxis": {
            "gridcolor": "white",
            "linecolor": "white",
            "ticks": ""
           },
           "baxis": {
            "gridcolor": "white",
            "linecolor": "white",
            "ticks": ""
           },
           "bgcolor": "#E5ECF6",
           "caxis": {
            "gridcolor": "white",
            "linecolor": "white",
            "ticks": ""
           }
          },
          "title": {
           "x": 0.05
          },
          "xaxis": {
           "automargin": true,
           "gridcolor": "white",
           "linecolor": "white",
           "ticks": "",
           "title": {
            "standoff": 15
           },
           "zerolinecolor": "white",
           "zerolinewidth": 2
          },
          "yaxis": {
           "automargin": true,
           "gridcolor": "white",
           "linecolor": "white",
           "ticks": "",
           "title": {
            "standoff": 15
           },
           "zerolinecolor": "white",
           "zerolinewidth": 2
          }
         }
        },
        "title": {
         "font": {
          "color": "#4D5663"
         }
        },
        "xaxis": {
         "gridcolor": "#E1E5ED",
         "showgrid": true,
         "tickfont": {
          "color": "#4D5663"
         },
         "title": {
          "font": {
           "color": "#4D5663"
          },
          "text": ""
         },
         "zerolinecolor": "#E1E5ED"
        },
        "xaxis2": {
         "anchor": "y2",
         "gridcolor": "#E1E5ED",
         "showgrid": true,
         "showticklabels": false,
         "tickfont": {
          "color": "#4D5663"
         },
         "title": {
          "font": {
           "color": "#4D5663"
          },
          "text": ""
         },
         "zerolinecolor": "#E1E5ED"
        },
        "yaxis": {
         "domain": [
          0.3,
          1
         ],
         "gridcolor": "#E1E5ED",
         "showgrid": true,
         "tickfont": {
          "color": "#4D5663"
         },
         "title": {
          "font": {
           "color": "#4D5663"
          },
          "text": ""
         },
         "zerolinecolor": "#E1E5ED"
        },
        "yaxis2": {
         "domain": [
          0,
          0.25
         ],
         "gridcolor": "#E1E5ED",
         "showgrid": true,
         "tickfont": {
          "color": "#4D5663"
         },
         "title": {
          "font": {
           "color": "#4D5663"
          },
          "text": "Spread"
         },
         "zerolinecolor": "#E1E5ED"
        }
       }
      },
      "text/html": [
       "<div>                            <div id=\"f9ae48ff-fe8b-439d-bf40-ee923c2c883e\" class=\"plotly-graph-div\" style=\"height:525px; width:100%;\"></div>            <script type=\"text/javascript\">                require([\"plotly\"], function(Plotly) {                    window.PLOTLYENV=window.PLOTLYENV || {};\n",
       "                    window.PLOTLYENV.BASE_URL='https://plot.ly';                                    if (document.getElementById(\"f9ae48ff-fe8b-439d-bf40-ee923c2c883e\")) {                    Plotly.newPlot(                        \"f9ae48ff-fe8b-439d-bf40-ee923c2c883e\",                        [{\"line\":{\"color\":\"rgba(255, 153, 51, 1.0)\",\"dash\":\"solid\",\"shape\":\"linear\",\"width\":1.3},\"mode\":\"lines\",\"name\":\"A\",\"text\":\"\",\"x\":[0,1,2,3,4,5,6,7,8,9,10,11,12,13,14,15,16,17,18,19,20,21,22,23,24,25,26,27,28,29,30,31,32,33,34,35,36,37,38,39,40,41,42,43,44,45,46,47,48,49,50,51,52,53,54,55,56,57,58,59,60,61,62,63,64,65,66,67,68,69,70,71,72,73,74,75,76,77,78,79,80,81,82,83,84,85,86,87,88,89,90,91,92,93,94,95,96,97,98,99],\"y\":[0.26094944737820464,0.6756427948506019,-1.6813264412755256,0.7204565479924322,-0.22704880191720428,1.6257351533472952,-0.4942521366331942,0.7554812681062507,-0.012121861711336316,0.6690437492201413,-0.3900373476123656,-1.8547898714279738,-1.4816658495535915,0.23413255955366494,0.21034036783623777,-0.5905362775657257,0.44400914529871144,-0.08988354995132182,-0.9092428787691089,0.1390659850483001,0.12827195930806926,-0.8936444613365111,0.48411247557442094,0.5712665158701542,-0.2306417488905862,1.0621829798421933,0.8049419422180617,0.3098617097266694,-1.2459142215390526,-1.5421708395982974,-0.28945802864526166,-0.457410342620502,0.8842863964667576,0.4716178732561643,1.080769153106927,-0.3027219145109648,1.4535241446092566,-2.006165431524184,0.3457218679585976,1.2554394332593966,1.583191788122711,0.1001572144415794,0.1218111415464603,0.7644233984677314,0.6256263350098222,-1.0406876639569114,-1.1116255859285793,-1.3226346404362888,0.9521322476501216,0.10361535193926541,1.6796946454820472,-1.0312332635688635,-1.6719091796148713,-1.4620898703178808,-2.338268650433877,0.7249705026245721,1.892208054311665,-0.8650989366390816,-0.36156197736492707,0.5556931482624534,0.5550851907531508,-2.7372209835746997,1.556315017341361,0.40241766720405525,0.459800704742713,0.010839974417914938,0.2869058777525109,-0.20948496585773907,-0.3228919963689883,-0.9424428117102946,0.08004987528207808,-1.722571435733268,-1.2599461951241895,-1.1399593241709116,0.9427614038338752,-0.608796670914509,-0.180982777034367,1.7219984547975717,-0.026529348892462685,-0.09822764343422868,-1.944606864250181,0.8610178999848556,1.2603732054512387,-0.7031761322484911,-0.6031228391849389,-0.21885822736009458,0.4179951312327664,1.1013003666583145,0.9154925356461139,0.09501597794814125,-2.216397093263774,0.9567752156312098,0.5091191071901275,-1.2976367682644396,0.252814044628649,-0.1696171000230781,1.2540223824766012,-1.1091293259988333,-0.07234965598861014,-0.4820456279286618],\"type\":\"scatter\"},{\"line\":{\"color\":\"rgba(55, 128, 191, 1.0)\",\"dash\":\"solid\",\"shape\":\"linear\",\"width\":1.3},\"mode\":\"lines\",\"name\":\"B\",\"text\":\"\",\"x\":[0,1,2,3,4,5,6,7,8,9,10,11,12,13,14,15,16,17,18,19,20,21,22,23,24,25,26,27,28,29,30,31,32,33,34,35,36,37,38,39,40,41,42,43,44,45,46,47,48,49,50,51,52,53,54,55,56,57,58,59,60,61,62,63,64,65,66,67,68,69,70,71,72,73,74,75,76,77,78,79,80,81,82,83,84,85,86,87,88,89,90,91,92,93,94,95,96,97,98,99],\"y\":[-2.2858288822656303,-0.3689246942451719,-0.4878085442863548,0.0899980136684595,0.29926889068795876,0.17158248776965915,-1.6060521316690806,0.8454748009189931,-0.7780592645242341,-1.5565002087012068,1.0372025831271199,0.8400056526466327,-0.9864917656790733,-0.7865337495103956,-0.4908674300457295,0.065209412493217,0.9568752404687892,-0.8396432482350337,-0.12579337362106027,-0.2521365828886802,-0.5335363396262771,-1.1038689888634035,0.4702284473695049,1.0127134627231362,0.06357379909821854,0.17666908872890652,-2.219413202901428,0.16988007691544227,0.21331495447507157,-0.38144917787193,-0.7234233309210866,1.1654897644783366,-0.0939289539623439,2.0170523368074034,-1.066331684671368,-1.2550980664771623,-0.6834753077766862,-1.9776636533758316,-0.7071974935890099,-0.8647725828109243,0.666397539151505,-2.1561037115340382,1.3088668119173679,0.1895499161046491,-0.2143124885233418,1.5600407751980936,1.49517789425164,-1.3163885089797722,0.3071100790489101,-1.1334144746266988,-1.3048753478925657,-1.7737873100165837,-1.311819431354197,0.6547271610296218,-1.080829127609142,-0.14106417250186926,1.12593274559256,-0.18690924228657932,1.0632163358016373,-0.9635096609258548,0.5013097476381637,-0.41205755974149105,0.7461619496075209,-2.0031465844771246,-1.4463887314168276,1.26252117377817,-1.2231128761730659,-0.02423340109344603,2.4622973856990584,0.4021529194125459,-0.7330723509578897,-0.04278911282889734,-0.3491149144994279,1.083279811870235,1.0426110712780547,-1.8778181299002392,-1.0794577182216054,-1.5317866657565158,1.0165126478271154,-0.8934024272225225,-0.3084887191806035,-0.699643240815849,-0.6605125009688817,2.1852107666274163,0.996809877383777,0.06108618985377447,2.4562499159811915,0.8295824341081318,1.4581308222086655,1.0332082700772245,0.6149475497997644,0.12629079890159314,-1.1722907357555292,-0.8750580032179174,0.2213111053489606,0.9767123482772395,1.3429699882896668,0.4560223707490966,-0.10333857580881216,0.7250381311930914],\"type\":\"scatter\"},{\"connectgaps\":false,\"fill\":\"tozeroy\",\"line\":{\"color\":\"green\",\"dash\":\"solid\",\"shape\":\"linear\",\"width\":0.5},\"mode\":\"lines\",\"name\":\"Spread\",\"showlegend\":false,\"x\":[0,1,2,3,4,5,6,7,8,9,10,11,12,13,14,15,16,17,18,19,20,21,22,23,24,25,26,27,28,29,30,31,32,33,34,35,36,37,38,39,40,41,42,43,44,45,46,47,48,49,50,51,52,53,54,55,56,57,58,59,60,61,62,63,64,65,66,67,68,69,70,71,72,73,74,75,76,77,78,79,80,81,82,83,84,85,86,87,88,89,90,91,92,93,94,95,96,97,98,99],\"xaxis\":\"x2\",\"y\":[2.546778329643835,1.0445674890957737,\"\",0.6304585343239727,\"\",1.454152665577636,1.1117999950358863,\"\",0.7659374028128978,2.225543957921348,\"\",\"\",\"\",1.0206663090640604,0.7012077978819673,\"\",\"\",0.7497596982837118,\"\",0.39120256793698027,0.6618082989343463,0.21022452752689236,0.013884028204916021,\"\",\"\",0.8855138911132868,3.0243551451194897,0.1399816328112271,\"\",\"\",0.4339653022758249,\"\",0.9782153504291015,\"\",2.1471008377782947,0.9523761519661975,2.136999452385943,\"\",1.0529193615476076,2.1202120160703206,0.9167942489712061,2.2562609259756177,\"\",0.5748734823630823,0.8399388235331641,\"\",\"\",\"\",0.6450221686012115,1.2370298265659643,2.984569993374613,0.7425540464477203,\"\",\"\",\"\",0.8660346751264414,0.766275308719105,\"\",\"\",1.5192028091883083,0.053775443114987054,\"\",0.81015306773384,2.40556425168118,1.9061894361595406,\"\",1.5100187539255767,\"\",\"\",\"\",0.8131222262399678,\"\",\"\",\"\",\"\",1.2690214589857303,0.8984749411872384,3.2537851205540873,\"\",0.7951747837882939,\"\",1.5606611408007045,1.9208857064201204,\"\",\"\",\"\",\"\",0.27171793255018273,\"\",\"\",\"\",0.8304844167296167,1.6814098429456568,\"\",0.03150293927968839,\"\",\"\",\"\",0.03098891982020202,\"\"],\"yaxis\":\"y2\",\"type\":\"scatter\"},{\"connectgaps\":false,\"fill\":\"tozeroy\",\"line\":{\"color\":\"red\",\"dash\":\"solid\",\"shape\":\"linear\",\"width\":0.5},\"mode\":\"lines\",\"name\":\"Spread\",\"showlegend\":false,\"x\":[0,1,2,3,4,5,6,7,8,9,10,11,12,13,14,15,16,17,18,19,20,21,22,23,24,25,26,27,28,29,30,31,32,33,34,35,36,37,38,39,40,41,42,43,44,45,46,47,48,49,50,51,52,53,54,55,56,57,58,59,60,61,62,63,64,65,66,67,68,69,70,71,72,73,74,75,76,77,78,79,80,81,82,83,84,85,86,87,88,89,90,91,92,93,94,95,96,97,98,99],\"xaxis\":\"x2\",\"y\":[\"\",\"\",-1.1935178969891709,\"\",-0.526317692605163,\"\",\"\",-0.08999353281274236,\"\",\"\",-1.4272399307394854,-2.6947955240746064,-0.4951740838745182,\"\",\"\",-0.6557456900589427,-0.5128660951700779,\"\",-0.7834495051480487,\"\",\"\",\"\",\"\",-0.441446946852982,-0.2942155479888047,\"\",\"\",\"\",-1.4592291760141243,-1.1607216617263674,\"\",-1.6229001070988387,\"\",-1.5454344635512391,\"\",\"\",\"\",-0.02850177814835253,\"\",\"\",\"\",\"\",-1.1870556703709076,\"\",\"\",-2.600728439155005,-2.6068034801802193,-0.006246131456516535,\"\",\"\",\"\",\"\",-0.3600897482606742,-2.1168170313475025,-1.2574395228247353,\"\",\"\",-0.6781896943525022,-1.4247783131665643,\"\",\"\",-2.3251634238332084,\"\",\"\",\"\",-1.2516811993602552,\"\",-0.18525156476429305,-2.785189382068047,-1.3445957311228405,\"\",-1.6797823229043707,-0.9108312806247616,-2.2232391360411468,-0.09984966744417956,\"\",\"\",\"\",-1.043041996719578,\"\",-1.6361181450695774,\"\",\"\",-2.8883868988759076,-1.5999327165687158,-0.27994441721386903,-2.038254784748425,\"\",-0.5426382865625516,-0.9381922921290833,-2.8313446430635385,\"\",\"\",-0.42257876504652225,\"\",-1.1463294483003177,-0.0889476058130656,-1.5651516967479298,\"\",-1.2070837591217531],\"yaxis\":\"y2\",\"type\":\"scatter\"}],                        {\"hovermode\":\"x\",\"legend\":{\"bgcolor\":\"#F5F6F9\",\"font\":{\"color\":\"#4D5663\"}},\"paper_bgcolor\":\"#F5F6F9\",\"plot_bgcolor\":\"#F5F6F9\",\"template\":{\"data\":{\"barpolar\":[{\"marker\":{\"line\":{\"color\":\"#E5ECF6\",\"width\":0.5},\"pattern\":{\"fillmode\":\"overlay\",\"size\":10,\"solidity\":0.2}},\"type\":\"barpolar\"}],\"bar\":[{\"error_x\":{\"color\":\"#2a3f5f\"},\"error_y\":{\"color\":\"#2a3f5f\"},\"marker\":{\"line\":{\"color\":\"#E5ECF6\",\"width\":0.5},\"pattern\":{\"fillmode\":\"overlay\",\"size\":10,\"solidity\":0.2}},\"type\":\"bar\"}],\"carpet\":[{\"aaxis\":{\"endlinecolor\":\"#2a3f5f\",\"gridcolor\":\"white\",\"linecolor\":\"white\",\"minorgridcolor\":\"white\",\"startlinecolor\":\"#2a3f5f\"},\"baxis\":{\"endlinecolor\":\"#2a3f5f\",\"gridcolor\":\"white\",\"linecolor\":\"white\",\"minorgridcolor\":\"white\",\"startlinecolor\":\"#2a3f5f\"},\"type\":\"carpet\"}],\"choropleth\":[{\"colorbar\":{\"outlinewidth\":0,\"ticks\":\"\"},\"type\":\"choropleth\"}],\"contourcarpet\":[{\"colorbar\":{\"outlinewidth\":0,\"ticks\":\"\"},\"type\":\"contourcarpet\"}],\"contour\":[{\"colorbar\":{\"outlinewidth\":0,\"ticks\":\"\"},\"colorscale\":[[0.0,\"#0d0887\"],[0.1111111111111111,\"#46039f\"],[0.2222222222222222,\"#7201a8\"],[0.3333333333333333,\"#9c179e\"],[0.4444444444444444,\"#bd3786\"],[0.5555555555555556,\"#d8576b\"],[0.6666666666666666,\"#ed7953\"],[0.7777777777777778,\"#fb9f3a\"],[0.8888888888888888,\"#fdca26\"],[1.0,\"#f0f921\"]],\"type\":\"contour\"}],\"heatmapgl\":[{\"colorbar\":{\"outlinewidth\":0,\"ticks\":\"\"},\"colorscale\":[[0.0,\"#0d0887\"],[0.1111111111111111,\"#46039f\"],[0.2222222222222222,\"#7201a8\"],[0.3333333333333333,\"#9c179e\"],[0.4444444444444444,\"#bd3786\"],[0.5555555555555556,\"#d8576b\"],[0.6666666666666666,\"#ed7953\"],[0.7777777777777778,\"#fb9f3a\"],[0.8888888888888888,\"#fdca26\"],[1.0,\"#f0f921\"]],\"type\":\"heatmapgl\"}],\"heatmap\":[{\"colorbar\":{\"outlinewidth\":0,\"ticks\":\"\"},\"colorscale\":[[0.0,\"#0d0887\"],[0.1111111111111111,\"#46039f\"],[0.2222222222222222,\"#7201a8\"],[0.3333333333333333,\"#9c179e\"],[0.4444444444444444,\"#bd3786\"],[0.5555555555555556,\"#d8576b\"],[0.6666666666666666,\"#ed7953\"],[0.7777777777777778,\"#fb9f3a\"],[0.8888888888888888,\"#fdca26\"],[1.0,\"#f0f921\"]],\"type\":\"heatmap\"}],\"histogram2dcontour\":[{\"colorbar\":{\"outlinewidth\":0,\"ticks\":\"\"},\"colorscale\":[[0.0,\"#0d0887\"],[0.1111111111111111,\"#46039f\"],[0.2222222222222222,\"#7201a8\"],[0.3333333333333333,\"#9c179e\"],[0.4444444444444444,\"#bd3786\"],[0.5555555555555556,\"#d8576b\"],[0.6666666666666666,\"#ed7953\"],[0.7777777777777778,\"#fb9f3a\"],[0.8888888888888888,\"#fdca26\"],[1.0,\"#f0f921\"]],\"type\":\"histogram2dcontour\"}],\"histogram2d\":[{\"colorbar\":{\"outlinewidth\":0,\"ticks\":\"\"},\"colorscale\":[[0.0,\"#0d0887\"],[0.1111111111111111,\"#46039f\"],[0.2222222222222222,\"#7201a8\"],[0.3333333333333333,\"#9c179e\"],[0.4444444444444444,\"#bd3786\"],[0.5555555555555556,\"#d8576b\"],[0.6666666666666666,\"#ed7953\"],[0.7777777777777778,\"#fb9f3a\"],[0.8888888888888888,\"#fdca26\"],[1.0,\"#f0f921\"]],\"type\":\"histogram2d\"}],\"histogram\":[{\"marker\":{\"pattern\":{\"fillmode\":\"overlay\",\"size\":10,\"solidity\":0.2}},\"type\":\"histogram\"}],\"mesh3d\":[{\"colorbar\":{\"outlinewidth\":0,\"ticks\":\"\"},\"type\":\"mesh3d\"}],\"parcoords\":[{\"line\":{\"colorbar\":{\"outlinewidth\":0,\"ticks\":\"\"}},\"type\":\"parcoords\"}],\"pie\":[{\"automargin\":true,\"type\":\"pie\"}],\"scatter3d\":[{\"line\":{\"colorbar\":{\"outlinewidth\":0,\"ticks\":\"\"}},\"marker\":{\"colorbar\":{\"outlinewidth\":0,\"ticks\":\"\"}},\"type\":\"scatter3d\"}],\"scattercarpet\":[{\"marker\":{\"colorbar\":{\"outlinewidth\":0,\"ticks\":\"\"}},\"type\":\"scattercarpet\"}],\"scattergeo\":[{\"marker\":{\"colorbar\":{\"outlinewidth\":0,\"ticks\":\"\"}},\"type\":\"scattergeo\"}],\"scattergl\":[{\"marker\":{\"colorbar\":{\"outlinewidth\":0,\"ticks\":\"\"}},\"type\":\"scattergl\"}],\"scattermapbox\":[{\"marker\":{\"colorbar\":{\"outlinewidth\":0,\"ticks\":\"\"}},\"type\":\"scattermapbox\"}],\"scatterpolargl\":[{\"marker\":{\"colorbar\":{\"outlinewidth\":0,\"ticks\":\"\"}},\"type\":\"scatterpolargl\"}],\"scatterpolar\":[{\"marker\":{\"colorbar\":{\"outlinewidth\":0,\"ticks\":\"\"}},\"type\":\"scatterpolar\"}],\"scatter\":[{\"fillpattern\":{\"fillmode\":\"overlay\",\"size\":10,\"solidity\":0.2},\"type\":\"scatter\"}],\"scatterternary\":[{\"marker\":{\"colorbar\":{\"outlinewidth\":0,\"ticks\":\"\"}},\"type\":\"scatterternary\"}],\"surface\":[{\"colorbar\":{\"outlinewidth\":0,\"ticks\":\"\"},\"colorscale\":[[0.0,\"#0d0887\"],[0.1111111111111111,\"#46039f\"],[0.2222222222222222,\"#7201a8\"],[0.3333333333333333,\"#9c179e\"],[0.4444444444444444,\"#bd3786\"],[0.5555555555555556,\"#d8576b\"],[0.6666666666666666,\"#ed7953\"],[0.7777777777777778,\"#fb9f3a\"],[0.8888888888888888,\"#fdca26\"],[1.0,\"#f0f921\"]],\"type\":\"surface\"}],\"table\":[{\"cells\":{\"fill\":{\"color\":\"#EBF0F8\"},\"line\":{\"color\":\"white\"}},\"header\":{\"fill\":{\"color\":\"#C8D4E3\"},\"line\":{\"color\":\"white\"}},\"type\":\"table\"}]},\"layout\":{\"annotationdefaults\":{\"arrowcolor\":\"#2a3f5f\",\"arrowhead\":0,\"arrowwidth\":1},\"autotypenumbers\":\"strict\",\"coloraxis\":{\"colorbar\":{\"outlinewidth\":0,\"ticks\":\"\"}},\"colorscale\":{\"diverging\":[[0,\"#8e0152\"],[0.1,\"#c51b7d\"],[0.2,\"#de77ae\"],[0.3,\"#f1b6da\"],[0.4,\"#fde0ef\"],[0.5,\"#f7f7f7\"],[0.6,\"#e6f5d0\"],[0.7,\"#b8e186\"],[0.8,\"#7fbc41\"],[0.9,\"#4d9221\"],[1,\"#276419\"]],\"sequential\":[[0.0,\"#0d0887\"],[0.1111111111111111,\"#46039f\"],[0.2222222222222222,\"#7201a8\"],[0.3333333333333333,\"#9c179e\"],[0.4444444444444444,\"#bd3786\"],[0.5555555555555556,\"#d8576b\"],[0.6666666666666666,\"#ed7953\"],[0.7777777777777778,\"#fb9f3a\"],[0.8888888888888888,\"#fdca26\"],[1.0,\"#f0f921\"]],\"sequentialminus\":[[0.0,\"#0d0887\"],[0.1111111111111111,\"#46039f\"],[0.2222222222222222,\"#7201a8\"],[0.3333333333333333,\"#9c179e\"],[0.4444444444444444,\"#bd3786\"],[0.5555555555555556,\"#d8576b\"],[0.6666666666666666,\"#ed7953\"],[0.7777777777777778,\"#fb9f3a\"],[0.8888888888888888,\"#fdca26\"],[1.0,\"#f0f921\"]]},\"colorway\":[\"#636efa\",\"#EF553B\",\"#00cc96\",\"#ab63fa\",\"#FFA15A\",\"#19d3f3\",\"#FF6692\",\"#B6E880\",\"#FF97FF\",\"#FECB52\"],\"font\":{\"color\":\"#2a3f5f\"},\"geo\":{\"bgcolor\":\"white\",\"lakecolor\":\"white\",\"landcolor\":\"#E5ECF6\",\"showlakes\":true,\"showland\":true,\"subunitcolor\":\"white\"},\"hoverlabel\":{\"align\":\"left\"},\"hovermode\":\"closest\",\"mapbox\":{\"style\":\"light\"},\"paper_bgcolor\":\"white\",\"plot_bgcolor\":\"#E5ECF6\",\"polar\":{\"angularaxis\":{\"gridcolor\":\"white\",\"linecolor\":\"white\",\"ticks\":\"\"},\"bgcolor\":\"#E5ECF6\",\"radialaxis\":{\"gridcolor\":\"white\",\"linecolor\":\"white\",\"ticks\":\"\"}},\"scene\":{\"xaxis\":{\"backgroundcolor\":\"#E5ECF6\",\"gridcolor\":\"white\",\"gridwidth\":2,\"linecolor\":\"white\",\"showbackground\":true,\"ticks\":\"\",\"zerolinecolor\":\"white\"},\"yaxis\":{\"backgroundcolor\":\"#E5ECF6\",\"gridcolor\":\"white\",\"gridwidth\":2,\"linecolor\":\"white\",\"showbackground\":true,\"ticks\":\"\",\"zerolinecolor\":\"white\"},\"zaxis\":{\"backgroundcolor\":\"#E5ECF6\",\"gridcolor\":\"white\",\"gridwidth\":2,\"linecolor\":\"white\",\"showbackground\":true,\"ticks\":\"\",\"zerolinecolor\":\"white\"}},\"shapedefaults\":{\"line\":{\"color\":\"#2a3f5f\"}},\"ternary\":{\"aaxis\":{\"gridcolor\":\"white\",\"linecolor\":\"white\",\"ticks\":\"\"},\"baxis\":{\"gridcolor\":\"white\",\"linecolor\":\"white\",\"ticks\":\"\"},\"bgcolor\":\"#E5ECF6\",\"caxis\":{\"gridcolor\":\"white\",\"linecolor\":\"white\",\"ticks\":\"\"}},\"title\":{\"x\":0.05},\"xaxis\":{\"automargin\":true,\"gridcolor\":\"white\",\"linecolor\":\"white\",\"ticks\":\"\",\"title\":{\"standoff\":15},\"zerolinecolor\":\"white\",\"zerolinewidth\":2},\"yaxis\":{\"automargin\":true,\"gridcolor\":\"white\",\"linecolor\":\"white\",\"ticks\":\"\",\"title\":{\"standoff\":15},\"zerolinecolor\":\"white\",\"zerolinewidth\":2}}},\"title\":{\"font\":{\"color\":\"#4D5663\"}},\"xaxis\":{\"gridcolor\":\"#E1E5ED\",\"showgrid\":true,\"tickfont\":{\"color\":\"#4D5663\"},\"title\":{\"font\":{\"color\":\"#4D5663\"},\"text\":\"\"},\"zerolinecolor\":\"#E1E5ED\"},\"yaxis\":{\"domain\":[0.3,1],\"gridcolor\":\"#E1E5ED\",\"showgrid\":true,\"tickfont\":{\"color\":\"#4D5663\"},\"title\":{\"font\":{\"color\":\"#4D5663\"},\"text\":\"\"},\"zerolinecolor\":\"#E1E5ED\"},\"yaxis2\":{\"domain\":[0,0.25],\"gridcolor\":\"#E1E5ED\",\"showgrid\":true,\"tickfont\":{\"color\":\"#4D5663\"},\"title\":{\"font\":{\"color\":\"#4D5663\"},\"text\":\"Spread\"},\"zerolinecolor\":\"#E1E5ED\"},\"xaxis2\":{\"anchor\":\"y2\",\"gridcolor\":\"#E1E5ED\",\"showgrid\":true,\"showticklabels\":false,\"tickfont\":{\"color\":\"#4D5663\"},\"title\":{\"font\":{\"color\":\"#4D5663\"},\"text\":\"\"},\"zerolinecolor\":\"#E1E5ED\"}},                        {\"showLink\": true, \"linkText\": \"Export to plot.ly\", \"plotlyServerURL\": \"https://plot.ly\", \"responsive\": true}                    ).then(function(){\n",
       "                            \n",
       "var gd = document.getElementById('f9ae48ff-fe8b-439d-bf40-ee923c2c883e');\n",
       "var x = new MutationObserver(function (mutations, observer) {{\n",
       "        var display = window.getComputedStyle(gd).display;\n",
       "        if (!display || display === 'none') {{\n",
       "            console.log([gd, 'removed!']);\n",
       "            Plotly.purge(gd);\n",
       "            observer.disconnect();\n",
       "        }}\n",
       "}});\n",
       "\n",
       "// Listen for the removal of the full notebook cells\n",
       "var notebookContainer = gd.closest('#notebook-container');\n",
       "if (notebookContainer) {{\n",
       "    x.observe(notebookContainer, {childList: true});\n",
       "}}\n",
       "\n",
       "// Listen for the clearing of the current output cell\n",
       "var outputEl = gd.closest('.output');\n",
       "if (outputEl) {{\n",
       "    x.observe(outputEl, {childList: true});\n",
       "}}\n",
       "\n",
       "                        })                };                });            </script>        </div>"
      ]
     },
     "metadata": {},
     "output_type": "display_data"
    }
   ],
   "source": [
    "df[['A','B']].iplot(kind='spread')"
   ]
  },
  {
   "cell_type": "markdown",
   "metadata": {},
   "source": [
    "## histogram"
   ]
  },
  {
   "cell_type": "code",
   "execution_count": 17,
   "metadata": {},
   "outputs": [
    {
     "data": {
      "application/vnd.plotly.v1+json": {
       "config": {
        "linkText": "Export to plot.ly",
        "plotlyServerURL": "https://plot.ly",
        "showLink": true
       },
       "data": [
        {
         "histfunc": "count",
         "histnorm": "",
         "marker": {
          "color": "rgba(255, 153, 51, 1.0)",
          "line": {
           "color": "#4D5663",
           "width": 1.3
          }
         },
         "name": "A",
         "nbinsx": 50,
         "opacity": 0.8,
         "orientation": "v",
         "type": "histogram",
         "x": [
          0.26094944737820464,
          0.6756427948506019,
          -1.6813264412755256,
          0.7204565479924322,
          -0.22704880191720428,
          1.6257351533472952,
          -0.4942521366331942,
          0.7554812681062507,
          -0.012121861711336316,
          0.6690437492201413,
          -0.3900373476123656,
          -1.8547898714279738,
          -1.4816658495535915,
          0.23413255955366494,
          0.21034036783623777,
          -0.5905362775657257,
          0.44400914529871144,
          -0.08988354995132182,
          -0.9092428787691089,
          0.1390659850483001,
          0.12827195930806926,
          -0.8936444613365111,
          0.48411247557442094,
          0.5712665158701542,
          -0.2306417488905862,
          1.0621829798421933,
          0.8049419422180617,
          0.3098617097266694,
          -1.2459142215390526,
          -1.5421708395982974,
          -0.28945802864526166,
          -0.457410342620502,
          0.8842863964667576,
          0.4716178732561643,
          1.080769153106927,
          -0.3027219145109648,
          1.4535241446092566,
          -2.006165431524184,
          0.3457218679585976,
          1.2554394332593966,
          1.583191788122711,
          0.1001572144415794,
          0.1218111415464603,
          0.7644233984677314,
          0.6256263350098222,
          -1.0406876639569114,
          -1.1116255859285793,
          -1.3226346404362888,
          0.9521322476501216,
          0.10361535193926541,
          1.6796946454820472,
          -1.0312332635688635,
          -1.6719091796148713,
          -1.4620898703178808,
          -2.338268650433877,
          0.7249705026245721,
          1.892208054311665,
          -0.8650989366390816,
          -0.36156197736492707,
          0.5556931482624534,
          0.5550851907531508,
          -2.7372209835746997,
          1.556315017341361,
          0.40241766720405525,
          0.459800704742713,
          0.010839974417914938,
          0.2869058777525109,
          -0.20948496585773907,
          -0.3228919963689883,
          -0.9424428117102946,
          0.08004987528207808,
          -1.722571435733268,
          -1.2599461951241895,
          -1.1399593241709116,
          0.9427614038338752,
          -0.608796670914509,
          -0.180982777034367,
          1.7219984547975717,
          -0.026529348892462685,
          -0.09822764343422868,
          -1.944606864250181,
          0.8610178999848556,
          1.2603732054512387,
          -0.7031761322484911,
          -0.6031228391849389,
          -0.21885822736009458,
          0.4179951312327664,
          1.1013003666583145,
          0.9154925356461139,
          0.09501597794814125,
          -2.216397093263774,
          0.9567752156312098,
          0.5091191071901275,
          -1.2976367682644396,
          0.252814044628649,
          -0.1696171000230781,
          1.2540223824766012,
          -1.1091293259988333,
          -0.07234965598861014,
          -0.4820456279286618
         ]
        }
       ],
       "layout": {
        "barmode": "overlay",
        "legend": {
         "bgcolor": "#F5F6F9",
         "font": {
          "color": "#4D5663"
         }
        },
        "paper_bgcolor": "#F5F6F9",
        "plot_bgcolor": "#F5F6F9",
        "template": {
         "data": {
          "bar": [
           {
            "error_x": {
             "color": "#2a3f5f"
            },
            "error_y": {
             "color": "#2a3f5f"
            },
            "marker": {
             "line": {
              "color": "#E5ECF6",
              "width": 0.5
             },
             "pattern": {
              "fillmode": "overlay",
              "size": 10,
              "solidity": 0.2
             }
            },
            "type": "bar"
           }
          ],
          "barpolar": [
           {
            "marker": {
             "line": {
              "color": "#E5ECF6",
              "width": 0.5
             },
             "pattern": {
              "fillmode": "overlay",
              "size": 10,
              "solidity": 0.2
             }
            },
            "type": "barpolar"
           }
          ],
          "carpet": [
           {
            "aaxis": {
             "endlinecolor": "#2a3f5f",
             "gridcolor": "white",
             "linecolor": "white",
             "minorgridcolor": "white",
             "startlinecolor": "#2a3f5f"
            },
            "baxis": {
             "endlinecolor": "#2a3f5f",
             "gridcolor": "white",
             "linecolor": "white",
             "minorgridcolor": "white",
             "startlinecolor": "#2a3f5f"
            },
            "type": "carpet"
           }
          ],
          "choropleth": [
           {
            "colorbar": {
             "outlinewidth": 0,
             "ticks": ""
            },
            "type": "choropleth"
           }
          ],
          "contour": [
           {
            "colorbar": {
             "outlinewidth": 0,
             "ticks": ""
            },
            "colorscale": [
             [
              0,
              "#0d0887"
             ],
             [
              0.1111111111111111,
              "#46039f"
             ],
             [
              0.2222222222222222,
              "#7201a8"
             ],
             [
              0.3333333333333333,
              "#9c179e"
             ],
             [
              0.4444444444444444,
              "#bd3786"
             ],
             [
              0.5555555555555556,
              "#d8576b"
             ],
             [
              0.6666666666666666,
              "#ed7953"
             ],
             [
              0.7777777777777778,
              "#fb9f3a"
             ],
             [
              0.8888888888888888,
              "#fdca26"
             ],
             [
              1,
              "#f0f921"
             ]
            ],
            "type": "contour"
           }
          ],
          "contourcarpet": [
           {
            "colorbar": {
             "outlinewidth": 0,
             "ticks": ""
            },
            "type": "contourcarpet"
           }
          ],
          "heatmap": [
           {
            "colorbar": {
             "outlinewidth": 0,
             "ticks": ""
            },
            "colorscale": [
             [
              0,
              "#0d0887"
             ],
             [
              0.1111111111111111,
              "#46039f"
             ],
             [
              0.2222222222222222,
              "#7201a8"
             ],
             [
              0.3333333333333333,
              "#9c179e"
             ],
             [
              0.4444444444444444,
              "#bd3786"
             ],
             [
              0.5555555555555556,
              "#d8576b"
             ],
             [
              0.6666666666666666,
              "#ed7953"
             ],
             [
              0.7777777777777778,
              "#fb9f3a"
             ],
             [
              0.8888888888888888,
              "#fdca26"
             ],
             [
              1,
              "#f0f921"
             ]
            ],
            "type": "heatmap"
           }
          ],
          "heatmapgl": [
           {
            "colorbar": {
             "outlinewidth": 0,
             "ticks": ""
            },
            "colorscale": [
             [
              0,
              "#0d0887"
             ],
             [
              0.1111111111111111,
              "#46039f"
             ],
             [
              0.2222222222222222,
              "#7201a8"
             ],
             [
              0.3333333333333333,
              "#9c179e"
             ],
             [
              0.4444444444444444,
              "#bd3786"
             ],
             [
              0.5555555555555556,
              "#d8576b"
             ],
             [
              0.6666666666666666,
              "#ed7953"
             ],
             [
              0.7777777777777778,
              "#fb9f3a"
             ],
             [
              0.8888888888888888,
              "#fdca26"
             ],
             [
              1,
              "#f0f921"
             ]
            ],
            "type": "heatmapgl"
           }
          ],
          "histogram": [
           {
            "marker": {
             "pattern": {
              "fillmode": "overlay",
              "size": 10,
              "solidity": 0.2
             }
            },
            "type": "histogram"
           }
          ],
          "histogram2d": [
           {
            "colorbar": {
             "outlinewidth": 0,
             "ticks": ""
            },
            "colorscale": [
             [
              0,
              "#0d0887"
             ],
             [
              0.1111111111111111,
              "#46039f"
             ],
             [
              0.2222222222222222,
              "#7201a8"
             ],
             [
              0.3333333333333333,
              "#9c179e"
             ],
             [
              0.4444444444444444,
              "#bd3786"
             ],
             [
              0.5555555555555556,
              "#d8576b"
             ],
             [
              0.6666666666666666,
              "#ed7953"
             ],
             [
              0.7777777777777778,
              "#fb9f3a"
             ],
             [
              0.8888888888888888,
              "#fdca26"
             ],
             [
              1,
              "#f0f921"
             ]
            ],
            "type": "histogram2d"
           }
          ],
          "histogram2dcontour": [
           {
            "colorbar": {
             "outlinewidth": 0,
             "ticks": ""
            },
            "colorscale": [
             [
              0,
              "#0d0887"
             ],
             [
              0.1111111111111111,
              "#46039f"
             ],
             [
              0.2222222222222222,
              "#7201a8"
             ],
             [
              0.3333333333333333,
              "#9c179e"
             ],
             [
              0.4444444444444444,
              "#bd3786"
             ],
             [
              0.5555555555555556,
              "#d8576b"
             ],
             [
              0.6666666666666666,
              "#ed7953"
             ],
             [
              0.7777777777777778,
              "#fb9f3a"
             ],
             [
              0.8888888888888888,
              "#fdca26"
             ],
             [
              1,
              "#f0f921"
             ]
            ],
            "type": "histogram2dcontour"
           }
          ],
          "mesh3d": [
           {
            "colorbar": {
             "outlinewidth": 0,
             "ticks": ""
            },
            "type": "mesh3d"
           }
          ],
          "parcoords": [
           {
            "line": {
             "colorbar": {
              "outlinewidth": 0,
              "ticks": ""
             }
            },
            "type": "parcoords"
           }
          ],
          "pie": [
           {
            "automargin": true,
            "type": "pie"
           }
          ],
          "scatter": [
           {
            "fillpattern": {
             "fillmode": "overlay",
             "size": 10,
             "solidity": 0.2
            },
            "type": "scatter"
           }
          ],
          "scatter3d": [
           {
            "line": {
             "colorbar": {
              "outlinewidth": 0,
              "ticks": ""
             }
            },
            "marker": {
             "colorbar": {
              "outlinewidth": 0,
              "ticks": ""
             }
            },
            "type": "scatter3d"
           }
          ],
          "scattercarpet": [
           {
            "marker": {
             "colorbar": {
              "outlinewidth": 0,
              "ticks": ""
             }
            },
            "type": "scattercarpet"
           }
          ],
          "scattergeo": [
           {
            "marker": {
             "colorbar": {
              "outlinewidth": 0,
              "ticks": ""
             }
            },
            "type": "scattergeo"
           }
          ],
          "scattergl": [
           {
            "marker": {
             "colorbar": {
              "outlinewidth": 0,
              "ticks": ""
             }
            },
            "type": "scattergl"
           }
          ],
          "scattermapbox": [
           {
            "marker": {
             "colorbar": {
              "outlinewidth": 0,
              "ticks": ""
             }
            },
            "type": "scattermapbox"
           }
          ],
          "scatterpolar": [
           {
            "marker": {
             "colorbar": {
              "outlinewidth": 0,
              "ticks": ""
             }
            },
            "type": "scatterpolar"
           }
          ],
          "scatterpolargl": [
           {
            "marker": {
             "colorbar": {
              "outlinewidth": 0,
              "ticks": ""
             }
            },
            "type": "scatterpolargl"
           }
          ],
          "scatterternary": [
           {
            "marker": {
             "colorbar": {
              "outlinewidth": 0,
              "ticks": ""
             }
            },
            "type": "scatterternary"
           }
          ],
          "surface": [
           {
            "colorbar": {
             "outlinewidth": 0,
             "ticks": ""
            },
            "colorscale": [
             [
              0,
              "#0d0887"
             ],
             [
              0.1111111111111111,
              "#46039f"
             ],
             [
              0.2222222222222222,
              "#7201a8"
             ],
             [
              0.3333333333333333,
              "#9c179e"
             ],
             [
              0.4444444444444444,
              "#bd3786"
             ],
             [
              0.5555555555555556,
              "#d8576b"
             ],
             [
              0.6666666666666666,
              "#ed7953"
             ],
             [
              0.7777777777777778,
              "#fb9f3a"
             ],
             [
              0.8888888888888888,
              "#fdca26"
             ],
             [
              1,
              "#f0f921"
             ]
            ],
            "type": "surface"
           }
          ],
          "table": [
           {
            "cells": {
             "fill": {
              "color": "#EBF0F8"
             },
             "line": {
              "color": "white"
             }
            },
            "header": {
             "fill": {
              "color": "#C8D4E3"
             },
             "line": {
              "color": "white"
             }
            },
            "type": "table"
           }
          ]
         },
         "layout": {
          "annotationdefaults": {
           "arrowcolor": "#2a3f5f",
           "arrowhead": 0,
           "arrowwidth": 1
          },
          "autotypenumbers": "strict",
          "coloraxis": {
           "colorbar": {
            "outlinewidth": 0,
            "ticks": ""
           }
          },
          "colorscale": {
           "diverging": [
            [
             0,
             "#8e0152"
            ],
            [
             0.1,
             "#c51b7d"
            ],
            [
             0.2,
             "#de77ae"
            ],
            [
             0.3,
             "#f1b6da"
            ],
            [
             0.4,
             "#fde0ef"
            ],
            [
             0.5,
             "#f7f7f7"
            ],
            [
             0.6,
             "#e6f5d0"
            ],
            [
             0.7,
             "#b8e186"
            ],
            [
             0.8,
             "#7fbc41"
            ],
            [
             0.9,
             "#4d9221"
            ],
            [
             1,
             "#276419"
            ]
           ],
           "sequential": [
            [
             0,
             "#0d0887"
            ],
            [
             0.1111111111111111,
             "#46039f"
            ],
            [
             0.2222222222222222,
             "#7201a8"
            ],
            [
             0.3333333333333333,
             "#9c179e"
            ],
            [
             0.4444444444444444,
             "#bd3786"
            ],
            [
             0.5555555555555556,
             "#d8576b"
            ],
            [
             0.6666666666666666,
             "#ed7953"
            ],
            [
             0.7777777777777778,
             "#fb9f3a"
            ],
            [
             0.8888888888888888,
             "#fdca26"
            ],
            [
             1,
             "#f0f921"
            ]
           ],
           "sequentialminus": [
            [
             0,
             "#0d0887"
            ],
            [
             0.1111111111111111,
             "#46039f"
            ],
            [
             0.2222222222222222,
             "#7201a8"
            ],
            [
             0.3333333333333333,
             "#9c179e"
            ],
            [
             0.4444444444444444,
             "#bd3786"
            ],
            [
             0.5555555555555556,
             "#d8576b"
            ],
            [
             0.6666666666666666,
             "#ed7953"
            ],
            [
             0.7777777777777778,
             "#fb9f3a"
            ],
            [
             0.8888888888888888,
             "#fdca26"
            ],
            [
             1,
             "#f0f921"
            ]
           ]
          },
          "colorway": [
           "#636efa",
           "#EF553B",
           "#00cc96",
           "#ab63fa",
           "#FFA15A",
           "#19d3f3",
           "#FF6692",
           "#B6E880",
           "#FF97FF",
           "#FECB52"
          ],
          "font": {
           "color": "#2a3f5f"
          },
          "geo": {
           "bgcolor": "white",
           "lakecolor": "white",
           "landcolor": "#E5ECF6",
           "showlakes": true,
           "showland": true,
           "subunitcolor": "white"
          },
          "hoverlabel": {
           "align": "left"
          },
          "hovermode": "closest",
          "mapbox": {
           "style": "light"
          },
          "paper_bgcolor": "white",
          "plot_bgcolor": "#E5ECF6",
          "polar": {
           "angularaxis": {
            "gridcolor": "white",
            "linecolor": "white",
            "ticks": ""
           },
           "bgcolor": "#E5ECF6",
           "radialaxis": {
            "gridcolor": "white",
            "linecolor": "white",
            "ticks": ""
           }
          },
          "scene": {
           "xaxis": {
            "backgroundcolor": "#E5ECF6",
            "gridcolor": "white",
            "gridwidth": 2,
            "linecolor": "white",
            "showbackground": true,
            "ticks": "",
            "zerolinecolor": "white"
           },
           "yaxis": {
            "backgroundcolor": "#E5ECF6",
            "gridcolor": "white",
            "gridwidth": 2,
            "linecolor": "white",
            "showbackground": true,
            "ticks": "",
            "zerolinecolor": "white"
           },
           "zaxis": {
            "backgroundcolor": "#E5ECF6",
            "gridcolor": "white",
            "gridwidth": 2,
            "linecolor": "white",
            "showbackground": true,
            "ticks": "",
            "zerolinecolor": "white"
           }
          },
          "shapedefaults": {
           "line": {
            "color": "#2a3f5f"
           }
          },
          "ternary": {
           "aaxis": {
            "gridcolor": "white",
            "linecolor": "white",
            "ticks": ""
           },
           "baxis": {
            "gridcolor": "white",
            "linecolor": "white",
            "ticks": ""
           },
           "bgcolor": "#E5ECF6",
           "caxis": {
            "gridcolor": "white",
            "linecolor": "white",
            "ticks": ""
           }
          },
          "title": {
           "x": 0.05
          },
          "xaxis": {
           "automargin": true,
           "gridcolor": "white",
           "linecolor": "white",
           "ticks": "",
           "title": {
            "standoff": 15
           },
           "zerolinecolor": "white",
           "zerolinewidth": 2
          },
          "yaxis": {
           "automargin": true,
           "gridcolor": "white",
           "linecolor": "white",
           "ticks": "",
           "title": {
            "standoff": 15
           },
           "zerolinecolor": "white",
           "zerolinewidth": 2
          }
         }
        },
        "title": {
         "font": {
          "color": "#4D5663"
         }
        },
        "xaxis": {
         "gridcolor": "#E1E5ED",
         "showgrid": true,
         "tickfont": {
          "color": "#4D5663"
         },
         "title": {
          "font": {
           "color": "#4D5663"
          },
          "text": ""
         },
         "zerolinecolor": "#E1E5ED"
        },
        "yaxis": {
         "gridcolor": "#E1E5ED",
         "showgrid": true,
         "tickfont": {
          "color": "#4D5663"
         },
         "title": {
          "font": {
           "color": "#4D5663"
          },
          "text": ""
         },
         "zerolinecolor": "#E1E5ED"
        }
       }
      },
      "text/html": [
       "<div>                            <div id=\"32cb2bca-4807-45b7-b35e-52c52a5ceb7b\" class=\"plotly-graph-div\" style=\"height:525px; width:100%;\"></div>            <script type=\"text/javascript\">                require([\"plotly\"], function(Plotly) {                    window.PLOTLYENV=window.PLOTLYENV || {};\n",
       "                    window.PLOTLYENV.BASE_URL='https://plot.ly';                                    if (document.getElementById(\"32cb2bca-4807-45b7-b35e-52c52a5ceb7b\")) {                    Plotly.newPlot(                        \"32cb2bca-4807-45b7-b35e-52c52a5ceb7b\",                        [{\"histfunc\":\"count\",\"histnorm\":\"\",\"marker\":{\"color\":\"rgba(255, 153, 51, 1.0)\",\"line\":{\"color\":\"#4D5663\",\"width\":1.3}},\"name\":\"A\",\"nbinsx\":50,\"opacity\":0.8,\"orientation\":\"v\",\"x\":[0.26094944737820464,0.6756427948506019,-1.6813264412755256,0.7204565479924322,-0.22704880191720428,1.6257351533472952,-0.4942521366331942,0.7554812681062507,-0.012121861711336316,0.6690437492201413,-0.3900373476123656,-1.8547898714279738,-1.4816658495535915,0.23413255955366494,0.21034036783623777,-0.5905362775657257,0.44400914529871144,-0.08988354995132182,-0.9092428787691089,0.1390659850483001,0.12827195930806926,-0.8936444613365111,0.48411247557442094,0.5712665158701542,-0.2306417488905862,1.0621829798421933,0.8049419422180617,0.3098617097266694,-1.2459142215390526,-1.5421708395982974,-0.28945802864526166,-0.457410342620502,0.8842863964667576,0.4716178732561643,1.080769153106927,-0.3027219145109648,1.4535241446092566,-2.006165431524184,0.3457218679585976,1.2554394332593966,1.583191788122711,0.1001572144415794,0.1218111415464603,0.7644233984677314,0.6256263350098222,-1.0406876639569114,-1.1116255859285793,-1.3226346404362888,0.9521322476501216,0.10361535193926541,1.6796946454820472,-1.0312332635688635,-1.6719091796148713,-1.4620898703178808,-2.338268650433877,0.7249705026245721,1.892208054311665,-0.8650989366390816,-0.36156197736492707,0.5556931482624534,0.5550851907531508,-2.7372209835746997,1.556315017341361,0.40241766720405525,0.459800704742713,0.010839974417914938,0.2869058777525109,-0.20948496585773907,-0.3228919963689883,-0.9424428117102946,0.08004987528207808,-1.722571435733268,-1.2599461951241895,-1.1399593241709116,0.9427614038338752,-0.608796670914509,-0.180982777034367,1.7219984547975717,-0.026529348892462685,-0.09822764343422868,-1.944606864250181,0.8610178999848556,1.2603732054512387,-0.7031761322484911,-0.6031228391849389,-0.21885822736009458,0.4179951312327664,1.1013003666583145,0.9154925356461139,0.09501597794814125,-2.216397093263774,0.9567752156312098,0.5091191071901275,-1.2976367682644396,0.252814044628649,-0.1696171000230781,1.2540223824766012,-1.1091293259988333,-0.07234965598861014,-0.4820456279286618],\"type\":\"histogram\"}],                        {\"barmode\":\"overlay\",\"legend\":{\"bgcolor\":\"#F5F6F9\",\"font\":{\"color\":\"#4D5663\"}},\"paper_bgcolor\":\"#F5F6F9\",\"plot_bgcolor\":\"#F5F6F9\",\"template\":{\"data\":{\"barpolar\":[{\"marker\":{\"line\":{\"color\":\"#E5ECF6\",\"width\":0.5},\"pattern\":{\"fillmode\":\"overlay\",\"size\":10,\"solidity\":0.2}},\"type\":\"barpolar\"}],\"bar\":[{\"error_x\":{\"color\":\"#2a3f5f\"},\"error_y\":{\"color\":\"#2a3f5f\"},\"marker\":{\"line\":{\"color\":\"#E5ECF6\",\"width\":0.5},\"pattern\":{\"fillmode\":\"overlay\",\"size\":10,\"solidity\":0.2}},\"type\":\"bar\"}],\"carpet\":[{\"aaxis\":{\"endlinecolor\":\"#2a3f5f\",\"gridcolor\":\"white\",\"linecolor\":\"white\",\"minorgridcolor\":\"white\",\"startlinecolor\":\"#2a3f5f\"},\"baxis\":{\"endlinecolor\":\"#2a3f5f\",\"gridcolor\":\"white\",\"linecolor\":\"white\",\"minorgridcolor\":\"white\",\"startlinecolor\":\"#2a3f5f\"},\"type\":\"carpet\"}],\"choropleth\":[{\"colorbar\":{\"outlinewidth\":0,\"ticks\":\"\"},\"type\":\"choropleth\"}],\"contourcarpet\":[{\"colorbar\":{\"outlinewidth\":0,\"ticks\":\"\"},\"type\":\"contourcarpet\"}],\"contour\":[{\"colorbar\":{\"outlinewidth\":0,\"ticks\":\"\"},\"colorscale\":[[0.0,\"#0d0887\"],[0.1111111111111111,\"#46039f\"],[0.2222222222222222,\"#7201a8\"],[0.3333333333333333,\"#9c179e\"],[0.4444444444444444,\"#bd3786\"],[0.5555555555555556,\"#d8576b\"],[0.6666666666666666,\"#ed7953\"],[0.7777777777777778,\"#fb9f3a\"],[0.8888888888888888,\"#fdca26\"],[1.0,\"#f0f921\"]],\"type\":\"contour\"}],\"heatmapgl\":[{\"colorbar\":{\"outlinewidth\":0,\"ticks\":\"\"},\"colorscale\":[[0.0,\"#0d0887\"],[0.1111111111111111,\"#46039f\"],[0.2222222222222222,\"#7201a8\"],[0.3333333333333333,\"#9c179e\"],[0.4444444444444444,\"#bd3786\"],[0.5555555555555556,\"#d8576b\"],[0.6666666666666666,\"#ed7953\"],[0.7777777777777778,\"#fb9f3a\"],[0.8888888888888888,\"#fdca26\"],[1.0,\"#f0f921\"]],\"type\":\"heatmapgl\"}],\"heatmap\":[{\"colorbar\":{\"outlinewidth\":0,\"ticks\":\"\"},\"colorscale\":[[0.0,\"#0d0887\"],[0.1111111111111111,\"#46039f\"],[0.2222222222222222,\"#7201a8\"],[0.3333333333333333,\"#9c179e\"],[0.4444444444444444,\"#bd3786\"],[0.5555555555555556,\"#d8576b\"],[0.6666666666666666,\"#ed7953\"],[0.7777777777777778,\"#fb9f3a\"],[0.8888888888888888,\"#fdca26\"],[1.0,\"#f0f921\"]],\"type\":\"heatmap\"}],\"histogram2dcontour\":[{\"colorbar\":{\"outlinewidth\":0,\"ticks\":\"\"},\"colorscale\":[[0.0,\"#0d0887\"],[0.1111111111111111,\"#46039f\"],[0.2222222222222222,\"#7201a8\"],[0.3333333333333333,\"#9c179e\"],[0.4444444444444444,\"#bd3786\"],[0.5555555555555556,\"#d8576b\"],[0.6666666666666666,\"#ed7953\"],[0.7777777777777778,\"#fb9f3a\"],[0.8888888888888888,\"#fdca26\"],[1.0,\"#f0f921\"]],\"type\":\"histogram2dcontour\"}],\"histogram2d\":[{\"colorbar\":{\"outlinewidth\":0,\"ticks\":\"\"},\"colorscale\":[[0.0,\"#0d0887\"],[0.1111111111111111,\"#46039f\"],[0.2222222222222222,\"#7201a8\"],[0.3333333333333333,\"#9c179e\"],[0.4444444444444444,\"#bd3786\"],[0.5555555555555556,\"#d8576b\"],[0.6666666666666666,\"#ed7953\"],[0.7777777777777778,\"#fb9f3a\"],[0.8888888888888888,\"#fdca26\"],[1.0,\"#f0f921\"]],\"type\":\"histogram2d\"}],\"histogram\":[{\"marker\":{\"pattern\":{\"fillmode\":\"overlay\",\"size\":10,\"solidity\":0.2}},\"type\":\"histogram\"}],\"mesh3d\":[{\"colorbar\":{\"outlinewidth\":0,\"ticks\":\"\"},\"type\":\"mesh3d\"}],\"parcoords\":[{\"line\":{\"colorbar\":{\"outlinewidth\":0,\"ticks\":\"\"}},\"type\":\"parcoords\"}],\"pie\":[{\"automargin\":true,\"type\":\"pie\"}],\"scatter3d\":[{\"line\":{\"colorbar\":{\"outlinewidth\":0,\"ticks\":\"\"}},\"marker\":{\"colorbar\":{\"outlinewidth\":0,\"ticks\":\"\"}},\"type\":\"scatter3d\"}],\"scattercarpet\":[{\"marker\":{\"colorbar\":{\"outlinewidth\":0,\"ticks\":\"\"}},\"type\":\"scattercarpet\"}],\"scattergeo\":[{\"marker\":{\"colorbar\":{\"outlinewidth\":0,\"ticks\":\"\"}},\"type\":\"scattergeo\"}],\"scattergl\":[{\"marker\":{\"colorbar\":{\"outlinewidth\":0,\"ticks\":\"\"}},\"type\":\"scattergl\"}],\"scattermapbox\":[{\"marker\":{\"colorbar\":{\"outlinewidth\":0,\"ticks\":\"\"}},\"type\":\"scattermapbox\"}],\"scatterpolargl\":[{\"marker\":{\"colorbar\":{\"outlinewidth\":0,\"ticks\":\"\"}},\"type\":\"scatterpolargl\"}],\"scatterpolar\":[{\"marker\":{\"colorbar\":{\"outlinewidth\":0,\"ticks\":\"\"}},\"type\":\"scatterpolar\"}],\"scatter\":[{\"fillpattern\":{\"fillmode\":\"overlay\",\"size\":10,\"solidity\":0.2},\"type\":\"scatter\"}],\"scatterternary\":[{\"marker\":{\"colorbar\":{\"outlinewidth\":0,\"ticks\":\"\"}},\"type\":\"scatterternary\"}],\"surface\":[{\"colorbar\":{\"outlinewidth\":0,\"ticks\":\"\"},\"colorscale\":[[0.0,\"#0d0887\"],[0.1111111111111111,\"#46039f\"],[0.2222222222222222,\"#7201a8\"],[0.3333333333333333,\"#9c179e\"],[0.4444444444444444,\"#bd3786\"],[0.5555555555555556,\"#d8576b\"],[0.6666666666666666,\"#ed7953\"],[0.7777777777777778,\"#fb9f3a\"],[0.8888888888888888,\"#fdca26\"],[1.0,\"#f0f921\"]],\"type\":\"surface\"}],\"table\":[{\"cells\":{\"fill\":{\"color\":\"#EBF0F8\"},\"line\":{\"color\":\"white\"}},\"header\":{\"fill\":{\"color\":\"#C8D4E3\"},\"line\":{\"color\":\"white\"}},\"type\":\"table\"}]},\"layout\":{\"annotationdefaults\":{\"arrowcolor\":\"#2a3f5f\",\"arrowhead\":0,\"arrowwidth\":1},\"autotypenumbers\":\"strict\",\"coloraxis\":{\"colorbar\":{\"outlinewidth\":0,\"ticks\":\"\"}},\"colorscale\":{\"diverging\":[[0,\"#8e0152\"],[0.1,\"#c51b7d\"],[0.2,\"#de77ae\"],[0.3,\"#f1b6da\"],[0.4,\"#fde0ef\"],[0.5,\"#f7f7f7\"],[0.6,\"#e6f5d0\"],[0.7,\"#b8e186\"],[0.8,\"#7fbc41\"],[0.9,\"#4d9221\"],[1,\"#276419\"]],\"sequential\":[[0.0,\"#0d0887\"],[0.1111111111111111,\"#46039f\"],[0.2222222222222222,\"#7201a8\"],[0.3333333333333333,\"#9c179e\"],[0.4444444444444444,\"#bd3786\"],[0.5555555555555556,\"#d8576b\"],[0.6666666666666666,\"#ed7953\"],[0.7777777777777778,\"#fb9f3a\"],[0.8888888888888888,\"#fdca26\"],[1.0,\"#f0f921\"]],\"sequentialminus\":[[0.0,\"#0d0887\"],[0.1111111111111111,\"#46039f\"],[0.2222222222222222,\"#7201a8\"],[0.3333333333333333,\"#9c179e\"],[0.4444444444444444,\"#bd3786\"],[0.5555555555555556,\"#d8576b\"],[0.6666666666666666,\"#ed7953\"],[0.7777777777777778,\"#fb9f3a\"],[0.8888888888888888,\"#fdca26\"],[1.0,\"#f0f921\"]]},\"colorway\":[\"#636efa\",\"#EF553B\",\"#00cc96\",\"#ab63fa\",\"#FFA15A\",\"#19d3f3\",\"#FF6692\",\"#B6E880\",\"#FF97FF\",\"#FECB52\"],\"font\":{\"color\":\"#2a3f5f\"},\"geo\":{\"bgcolor\":\"white\",\"lakecolor\":\"white\",\"landcolor\":\"#E5ECF6\",\"showlakes\":true,\"showland\":true,\"subunitcolor\":\"white\"},\"hoverlabel\":{\"align\":\"left\"},\"hovermode\":\"closest\",\"mapbox\":{\"style\":\"light\"},\"paper_bgcolor\":\"white\",\"plot_bgcolor\":\"#E5ECF6\",\"polar\":{\"angularaxis\":{\"gridcolor\":\"white\",\"linecolor\":\"white\",\"ticks\":\"\"},\"bgcolor\":\"#E5ECF6\",\"radialaxis\":{\"gridcolor\":\"white\",\"linecolor\":\"white\",\"ticks\":\"\"}},\"scene\":{\"xaxis\":{\"backgroundcolor\":\"#E5ECF6\",\"gridcolor\":\"white\",\"gridwidth\":2,\"linecolor\":\"white\",\"showbackground\":true,\"ticks\":\"\",\"zerolinecolor\":\"white\"},\"yaxis\":{\"backgroundcolor\":\"#E5ECF6\",\"gridcolor\":\"white\",\"gridwidth\":2,\"linecolor\":\"white\",\"showbackground\":true,\"ticks\":\"\",\"zerolinecolor\":\"white\"},\"zaxis\":{\"backgroundcolor\":\"#E5ECF6\",\"gridcolor\":\"white\",\"gridwidth\":2,\"linecolor\":\"white\",\"showbackground\":true,\"ticks\":\"\",\"zerolinecolor\":\"white\"}},\"shapedefaults\":{\"line\":{\"color\":\"#2a3f5f\"}},\"ternary\":{\"aaxis\":{\"gridcolor\":\"white\",\"linecolor\":\"white\",\"ticks\":\"\"},\"baxis\":{\"gridcolor\":\"white\",\"linecolor\":\"white\",\"ticks\":\"\"},\"bgcolor\":\"#E5ECF6\",\"caxis\":{\"gridcolor\":\"white\",\"linecolor\":\"white\",\"ticks\":\"\"}},\"title\":{\"x\":0.05},\"xaxis\":{\"automargin\":true,\"gridcolor\":\"white\",\"linecolor\":\"white\",\"ticks\":\"\",\"title\":{\"standoff\":15},\"zerolinecolor\":\"white\",\"zerolinewidth\":2},\"yaxis\":{\"automargin\":true,\"gridcolor\":\"white\",\"linecolor\":\"white\",\"ticks\":\"\",\"title\":{\"standoff\":15},\"zerolinecolor\":\"white\",\"zerolinewidth\":2}}},\"title\":{\"font\":{\"color\":\"#4D5663\"}},\"xaxis\":{\"gridcolor\":\"#E1E5ED\",\"showgrid\":true,\"tickfont\":{\"color\":\"#4D5663\"},\"title\":{\"font\":{\"color\":\"#4D5663\"},\"text\":\"\"},\"zerolinecolor\":\"#E1E5ED\"},\"yaxis\":{\"gridcolor\":\"#E1E5ED\",\"showgrid\":true,\"tickfont\":{\"color\":\"#4D5663\"},\"title\":{\"font\":{\"color\":\"#4D5663\"},\"text\":\"\"},\"zerolinecolor\":\"#E1E5ED\"}},                        {\"showLink\": true, \"linkText\": \"Export to plot.ly\", \"plotlyServerURL\": \"https://plot.ly\", \"responsive\": true}                    ).then(function(){\n",
       "                            \n",
       "var gd = document.getElementById('32cb2bca-4807-45b7-b35e-52c52a5ceb7b');\n",
       "var x = new MutationObserver(function (mutations, observer) {{\n",
       "        var display = window.getComputedStyle(gd).display;\n",
       "        if (!display || display === 'none') {{\n",
       "            console.log([gd, 'removed!']);\n",
       "            Plotly.purge(gd);\n",
       "            observer.disconnect();\n",
       "        }}\n",
       "}});\n",
       "\n",
       "// Listen for the removal of the full notebook cells\n",
       "var notebookContainer = gd.closest('#notebook-container');\n",
       "if (notebookContainer) {{\n",
       "    x.observe(notebookContainer, {childList: true});\n",
       "}}\n",
       "\n",
       "// Listen for the clearing of the current output cell\n",
       "var outputEl = gd.closest('.output');\n",
       "if (outputEl) {{\n",
       "    x.observe(outputEl, {childList: true});\n",
       "}}\n",
       "\n",
       "                        })                };                });            </script>        </div>"
      ]
     },
     "metadata": {},
     "output_type": "display_data"
    }
   ],
   "source": [
    "df['A'].iplot(kind='hist',bins=50)"
   ]
  },
  {
   "cell_type": "code",
   "execution_count": 18,
   "metadata": {},
   "outputs": [
    {
     "data": {
      "application/vnd.plotly.v1+json": {
       "config": {
        "linkText": "Export to plot.ly",
        "plotlyServerURL": "https://plot.ly",
        "showLink": true
       },
       "data": [
        {
         "marker": {
          "color": [
           "rgb(255, 153, 51)",
           "rgb(55, 128, 191)",
           "rgb(50, 171, 96)",
           "rgb(128, 0, 128)",
           "rgb(219, 64, 82)",
           "rgb(0, 128, 128)",
           "rgb(255, 255, 51)",
           "rgb(128, 128, 0)",
           "rgb(251, 128, 114)",
           "rgb(128, 177, 211)"
          ],
          "line": {
           "width": 1.3
          },
          "size": [
           64,
           41,
           38,
           47,
           33,
           54,
           67,
           71,
           80,
           58,
           42,
           46,
           63,
           75,
           32,
           40,
           87,
           76,
           77,
           39,
           21,
           54,
           34,
           51,
           88,
           92,
           30,
           43,
           84,
           47,
           54,
           42,
           67,
           43,
           70,
           62,
           68,
           48,
           55,
           52,
           70,
           54,
           85,
           71,
           58,
           75,
           46,
           49,
           94,
           55,
           35,
           64,
           92,
           53,
           67,
           65,
           49,
           46,
           79,
           12,
           29,
           94,
           62,
           40,
           64,
           41,
           47,
           49,
           52,
           26,
           112,
           48,
           45,
           46,
           49,
           43,
           60,
           53,
           70,
           68,
           44,
           52,
           57,
           53,
           47,
           69,
           28,
           62,
           16,
           80,
           76,
           91,
           58,
           58,
           49,
           53,
           85,
           38,
           56,
           69
          ],
          "symbol": "circle"
         },
         "mode": "markers",
         "text": "",
         "type": "scatter",
         "x": [
          0.26094944737820464,
          0.6756427948506019,
          -1.6813264412755256,
          0.7204565479924322,
          -0.22704880191720428,
          1.6257351533472952,
          -0.4942521366331942,
          0.7554812681062507,
          -0.012121861711336316,
          0.6690437492201413,
          -0.3900373476123656,
          -1.8547898714279738,
          -1.4816658495535915,
          0.23413255955366494,
          0.21034036783623777,
          -0.5905362775657257,
          0.44400914529871144,
          -0.08988354995132182,
          -0.9092428787691089,
          0.1390659850483001,
          0.12827195930806926,
          -0.8936444613365111,
          0.48411247557442094,
          0.5712665158701542,
          -0.2306417488905862,
          1.0621829798421933,
          0.8049419422180617,
          0.3098617097266694,
          -1.2459142215390526,
          -1.5421708395982974,
          -0.28945802864526166,
          -0.457410342620502,
          0.8842863964667576,
          0.4716178732561643,
          1.080769153106927,
          -0.3027219145109648,
          1.4535241446092566,
          -2.006165431524184,
          0.3457218679585976,
          1.2554394332593966,
          1.583191788122711,
          0.1001572144415794,
          0.1218111415464603,
          0.7644233984677314,
          0.6256263350098222,
          -1.0406876639569114,
          -1.1116255859285793,
          -1.3226346404362888,
          0.9521322476501216,
          0.10361535193926541,
          1.6796946454820472,
          -1.0312332635688635,
          -1.6719091796148713,
          -1.4620898703178808,
          -2.338268650433877,
          0.7249705026245721,
          1.892208054311665,
          -0.8650989366390816,
          -0.36156197736492707,
          0.5556931482624534,
          0.5550851907531508,
          -2.7372209835746997,
          1.556315017341361,
          0.40241766720405525,
          0.459800704742713,
          0.010839974417914938,
          0.2869058777525109,
          -0.20948496585773907,
          -0.3228919963689883,
          -0.9424428117102946,
          0.08004987528207808,
          -1.722571435733268,
          -1.2599461951241895,
          -1.1399593241709116,
          0.9427614038338752,
          -0.608796670914509,
          -0.180982777034367,
          1.7219984547975717,
          -0.026529348892462685,
          -0.09822764343422868,
          -1.944606864250181,
          0.8610178999848556,
          1.2603732054512387,
          -0.7031761322484911,
          -0.6031228391849389,
          -0.21885822736009458,
          0.4179951312327664,
          1.1013003666583145,
          0.9154925356461139,
          0.09501597794814125,
          -2.216397093263774,
          0.9567752156312098,
          0.5091191071901275,
          -1.2976367682644396,
          0.252814044628649,
          -0.1696171000230781,
          1.2540223824766012,
          -1.1091293259988333,
          -0.07234965598861014,
          -0.4820456279286618
         ],
         "y": [
          -2.2858288822656303,
          -0.3689246942451719,
          -0.4878085442863548,
          0.0899980136684595,
          0.29926889068795876,
          0.17158248776965915,
          -1.6060521316690806,
          0.8454748009189931,
          -0.7780592645242341,
          -1.5565002087012068,
          1.0372025831271199,
          0.8400056526466327,
          -0.9864917656790733,
          -0.7865337495103956,
          -0.4908674300457295,
          0.065209412493217,
          0.9568752404687892,
          -0.8396432482350337,
          -0.12579337362106027,
          -0.2521365828886802,
          -0.5335363396262771,
          -1.1038689888634035,
          0.4702284473695049,
          1.0127134627231362,
          0.06357379909821854,
          0.17666908872890652,
          -2.219413202901428,
          0.16988007691544227,
          0.21331495447507157,
          -0.38144917787193,
          -0.7234233309210866,
          1.1654897644783366,
          -0.0939289539623439,
          2.0170523368074034,
          -1.066331684671368,
          -1.2550980664771623,
          -0.6834753077766862,
          -1.9776636533758316,
          -0.7071974935890099,
          -0.8647725828109243,
          0.666397539151505,
          -2.1561037115340382,
          1.3088668119173679,
          0.1895499161046491,
          -0.2143124885233418,
          1.5600407751980936,
          1.49517789425164,
          -1.3163885089797722,
          0.3071100790489101,
          -1.1334144746266988,
          -1.3048753478925657,
          -1.7737873100165837,
          -1.311819431354197,
          0.6547271610296218,
          -1.080829127609142,
          -0.14106417250186926,
          1.12593274559256,
          -0.18690924228657932,
          1.0632163358016373,
          -0.9635096609258548,
          0.5013097476381637,
          -0.41205755974149105,
          0.7461619496075209,
          -2.0031465844771246,
          -1.4463887314168276,
          1.26252117377817,
          -1.2231128761730659,
          -0.02423340109344603,
          2.4622973856990584,
          0.4021529194125459,
          -0.7330723509578897,
          -0.04278911282889734,
          -0.3491149144994279,
          1.083279811870235,
          1.0426110712780547,
          -1.8778181299002392,
          -1.0794577182216054,
          -1.5317866657565158,
          1.0165126478271154,
          -0.8934024272225225,
          -0.3084887191806035,
          -0.699643240815849,
          -0.6605125009688817,
          2.1852107666274163,
          0.996809877383777,
          0.06108618985377447,
          2.4562499159811915,
          0.8295824341081318,
          1.4581308222086655,
          1.0332082700772245,
          0.6149475497997644,
          0.12629079890159314,
          -1.1722907357555292,
          -0.8750580032179174,
          0.2213111053489606,
          0.9767123482772395,
          1.3429699882896668,
          0.4560223707490966,
          -0.10333857580881216,
          0.7250381311930914
         ]
        }
       ],
       "layout": {
        "legend": {
         "bgcolor": "#F5F6F9",
         "font": {
          "color": "#4D5663"
         }
        },
        "paper_bgcolor": "#F5F6F9",
        "plot_bgcolor": "#F5F6F9",
        "template": {
         "data": {
          "bar": [
           {
            "error_x": {
             "color": "#2a3f5f"
            },
            "error_y": {
             "color": "#2a3f5f"
            },
            "marker": {
             "line": {
              "color": "#E5ECF6",
              "width": 0.5
             },
             "pattern": {
              "fillmode": "overlay",
              "size": 10,
              "solidity": 0.2
             }
            },
            "type": "bar"
           }
          ],
          "barpolar": [
           {
            "marker": {
             "line": {
              "color": "#E5ECF6",
              "width": 0.5
             },
             "pattern": {
              "fillmode": "overlay",
              "size": 10,
              "solidity": 0.2
             }
            },
            "type": "barpolar"
           }
          ],
          "carpet": [
           {
            "aaxis": {
             "endlinecolor": "#2a3f5f",
             "gridcolor": "white",
             "linecolor": "white",
             "minorgridcolor": "white",
             "startlinecolor": "#2a3f5f"
            },
            "baxis": {
             "endlinecolor": "#2a3f5f",
             "gridcolor": "white",
             "linecolor": "white",
             "minorgridcolor": "white",
             "startlinecolor": "#2a3f5f"
            },
            "type": "carpet"
           }
          ],
          "choropleth": [
           {
            "colorbar": {
             "outlinewidth": 0,
             "ticks": ""
            },
            "type": "choropleth"
           }
          ],
          "contour": [
           {
            "colorbar": {
             "outlinewidth": 0,
             "ticks": ""
            },
            "colorscale": [
             [
              0,
              "#0d0887"
             ],
             [
              0.1111111111111111,
              "#46039f"
             ],
             [
              0.2222222222222222,
              "#7201a8"
             ],
             [
              0.3333333333333333,
              "#9c179e"
             ],
             [
              0.4444444444444444,
              "#bd3786"
             ],
             [
              0.5555555555555556,
              "#d8576b"
             ],
             [
              0.6666666666666666,
              "#ed7953"
             ],
             [
              0.7777777777777778,
              "#fb9f3a"
             ],
             [
              0.8888888888888888,
              "#fdca26"
             ],
             [
              1,
              "#f0f921"
             ]
            ],
            "type": "contour"
           }
          ],
          "contourcarpet": [
           {
            "colorbar": {
             "outlinewidth": 0,
             "ticks": ""
            },
            "type": "contourcarpet"
           }
          ],
          "heatmap": [
           {
            "colorbar": {
             "outlinewidth": 0,
             "ticks": ""
            },
            "colorscale": [
             [
              0,
              "#0d0887"
             ],
             [
              0.1111111111111111,
              "#46039f"
             ],
             [
              0.2222222222222222,
              "#7201a8"
             ],
             [
              0.3333333333333333,
              "#9c179e"
             ],
             [
              0.4444444444444444,
              "#bd3786"
             ],
             [
              0.5555555555555556,
              "#d8576b"
             ],
             [
              0.6666666666666666,
              "#ed7953"
             ],
             [
              0.7777777777777778,
              "#fb9f3a"
             ],
             [
              0.8888888888888888,
              "#fdca26"
             ],
             [
              1,
              "#f0f921"
             ]
            ],
            "type": "heatmap"
           }
          ],
          "heatmapgl": [
           {
            "colorbar": {
             "outlinewidth": 0,
             "ticks": ""
            },
            "colorscale": [
             [
              0,
              "#0d0887"
             ],
             [
              0.1111111111111111,
              "#46039f"
             ],
             [
              0.2222222222222222,
              "#7201a8"
             ],
             [
              0.3333333333333333,
              "#9c179e"
             ],
             [
              0.4444444444444444,
              "#bd3786"
             ],
             [
              0.5555555555555556,
              "#d8576b"
             ],
             [
              0.6666666666666666,
              "#ed7953"
             ],
             [
              0.7777777777777778,
              "#fb9f3a"
             ],
             [
              0.8888888888888888,
              "#fdca26"
             ],
             [
              1,
              "#f0f921"
             ]
            ],
            "type": "heatmapgl"
           }
          ],
          "histogram": [
           {
            "marker": {
             "pattern": {
              "fillmode": "overlay",
              "size": 10,
              "solidity": 0.2
             }
            },
            "type": "histogram"
           }
          ],
          "histogram2d": [
           {
            "colorbar": {
             "outlinewidth": 0,
             "ticks": ""
            },
            "colorscale": [
             [
              0,
              "#0d0887"
             ],
             [
              0.1111111111111111,
              "#46039f"
             ],
             [
              0.2222222222222222,
              "#7201a8"
             ],
             [
              0.3333333333333333,
              "#9c179e"
             ],
             [
              0.4444444444444444,
              "#bd3786"
             ],
             [
              0.5555555555555556,
              "#d8576b"
             ],
             [
              0.6666666666666666,
              "#ed7953"
             ],
             [
              0.7777777777777778,
              "#fb9f3a"
             ],
             [
              0.8888888888888888,
              "#fdca26"
             ],
             [
              1,
              "#f0f921"
             ]
            ],
            "type": "histogram2d"
           }
          ],
          "histogram2dcontour": [
           {
            "colorbar": {
             "outlinewidth": 0,
             "ticks": ""
            },
            "colorscale": [
             [
              0,
              "#0d0887"
             ],
             [
              0.1111111111111111,
              "#46039f"
             ],
             [
              0.2222222222222222,
              "#7201a8"
             ],
             [
              0.3333333333333333,
              "#9c179e"
             ],
             [
              0.4444444444444444,
              "#bd3786"
             ],
             [
              0.5555555555555556,
              "#d8576b"
             ],
             [
              0.6666666666666666,
              "#ed7953"
             ],
             [
              0.7777777777777778,
              "#fb9f3a"
             ],
             [
              0.8888888888888888,
              "#fdca26"
             ],
             [
              1,
              "#f0f921"
             ]
            ],
            "type": "histogram2dcontour"
           }
          ],
          "mesh3d": [
           {
            "colorbar": {
             "outlinewidth": 0,
             "ticks": ""
            },
            "type": "mesh3d"
           }
          ],
          "parcoords": [
           {
            "line": {
             "colorbar": {
              "outlinewidth": 0,
              "ticks": ""
             }
            },
            "type": "parcoords"
           }
          ],
          "pie": [
           {
            "automargin": true,
            "type": "pie"
           }
          ],
          "scatter": [
           {
            "fillpattern": {
             "fillmode": "overlay",
             "size": 10,
             "solidity": 0.2
            },
            "type": "scatter"
           }
          ],
          "scatter3d": [
           {
            "line": {
             "colorbar": {
              "outlinewidth": 0,
              "ticks": ""
             }
            },
            "marker": {
             "colorbar": {
              "outlinewidth": 0,
              "ticks": ""
             }
            },
            "type": "scatter3d"
           }
          ],
          "scattercarpet": [
           {
            "marker": {
             "colorbar": {
              "outlinewidth": 0,
              "ticks": ""
             }
            },
            "type": "scattercarpet"
           }
          ],
          "scattergeo": [
           {
            "marker": {
             "colorbar": {
              "outlinewidth": 0,
              "ticks": ""
             }
            },
            "type": "scattergeo"
           }
          ],
          "scattergl": [
           {
            "marker": {
             "colorbar": {
              "outlinewidth": 0,
              "ticks": ""
             }
            },
            "type": "scattergl"
           }
          ],
          "scattermapbox": [
           {
            "marker": {
             "colorbar": {
              "outlinewidth": 0,
              "ticks": ""
             }
            },
            "type": "scattermapbox"
           }
          ],
          "scatterpolar": [
           {
            "marker": {
             "colorbar": {
              "outlinewidth": 0,
              "ticks": ""
             }
            },
            "type": "scatterpolar"
           }
          ],
          "scatterpolargl": [
           {
            "marker": {
             "colorbar": {
              "outlinewidth": 0,
              "ticks": ""
             }
            },
            "type": "scatterpolargl"
           }
          ],
          "scatterternary": [
           {
            "marker": {
             "colorbar": {
              "outlinewidth": 0,
              "ticks": ""
             }
            },
            "type": "scatterternary"
           }
          ],
          "surface": [
           {
            "colorbar": {
             "outlinewidth": 0,
             "ticks": ""
            },
            "colorscale": [
             [
              0,
              "#0d0887"
             ],
             [
              0.1111111111111111,
              "#46039f"
             ],
             [
              0.2222222222222222,
              "#7201a8"
             ],
             [
              0.3333333333333333,
              "#9c179e"
             ],
             [
              0.4444444444444444,
              "#bd3786"
             ],
             [
              0.5555555555555556,
              "#d8576b"
             ],
             [
              0.6666666666666666,
              "#ed7953"
             ],
             [
              0.7777777777777778,
              "#fb9f3a"
             ],
             [
              0.8888888888888888,
              "#fdca26"
             ],
             [
              1,
              "#f0f921"
             ]
            ],
            "type": "surface"
           }
          ],
          "table": [
           {
            "cells": {
             "fill": {
              "color": "#EBF0F8"
             },
             "line": {
              "color": "white"
             }
            },
            "header": {
             "fill": {
              "color": "#C8D4E3"
             },
             "line": {
              "color": "white"
             }
            },
            "type": "table"
           }
          ]
         },
         "layout": {
          "annotationdefaults": {
           "arrowcolor": "#2a3f5f",
           "arrowhead": 0,
           "arrowwidth": 1
          },
          "autotypenumbers": "strict",
          "coloraxis": {
           "colorbar": {
            "outlinewidth": 0,
            "ticks": ""
           }
          },
          "colorscale": {
           "diverging": [
            [
             0,
             "#8e0152"
            ],
            [
             0.1,
             "#c51b7d"
            ],
            [
             0.2,
             "#de77ae"
            ],
            [
             0.3,
             "#f1b6da"
            ],
            [
             0.4,
             "#fde0ef"
            ],
            [
             0.5,
             "#f7f7f7"
            ],
            [
             0.6,
             "#e6f5d0"
            ],
            [
             0.7,
             "#b8e186"
            ],
            [
             0.8,
             "#7fbc41"
            ],
            [
             0.9,
             "#4d9221"
            ],
            [
             1,
             "#276419"
            ]
           ],
           "sequential": [
            [
             0,
             "#0d0887"
            ],
            [
             0.1111111111111111,
             "#46039f"
            ],
            [
             0.2222222222222222,
             "#7201a8"
            ],
            [
             0.3333333333333333,
             "#9c179e"
            ],
            [
             0.4444444444444444,
             "#bd3786"
            ],
            [
             0.5555555555555556,
             "#d8576b"
            ],
            [
             0.6666666666666666,
             "#ed7953"
            ],
            [
             0.7777777777777778,
             "#fb9f3a"
            ],
            [
             0.8888888888888888,
             "#fdca26"
            ],
            [
             1,
             "#f0f921"
            ]
           ],
           "sequentialminus": [
            [
             0,
             "#0d0887"
            ],
            [
             0.1111111111111111,
             "#46039f"
            ],
            [
             0.2222222222222222,
             "#7201a8"
            ],
            [
             0.3333333333333333,
             "#9c179e"
            ],
            [
             0.4444444444444444,
             "#bd3786"
            ],
            [
             0.5555555555555556,
             "#d8576b"
            ],
            [
             0.6666666666666666,
             "#ed7953"
            ],
            [
             0.7777777777777778,
             "#fb9f3a"
            ],
            [
             0.8888888888888888,
             "#fdca26"
            ],
            [
             1,
             "#f0f921"
            ]
           ]
          },
          "colorway": [
           "#636efa",
           "#EF553B",
           "#00cc96",
           "#ab63fa",
           "#FFA15A",
           "#19d3f3",
           "#FF6692",
           "#B6E880",
           "#FF97FF",
           "#FECB52"
          ],
          "font": {
           "color": "#2a3f5f"
          },
          "geo": {
           "bgcolor": "white",
           "lakecolor": "white",
           "landcolor": "#E5ECF6",
           "showlakes": true,
           "showland": true,
           "subunitcolor": "white"
          },
          "hoverlabel": {
           "align": "left"
          },
          "hovermode": "closest",
          "mapbox": {
           "style": "light"
          },
          "paper_bgcolor": "white",
          "plot_bgcolor": "#E5ECF6",
          "polar": {
           "angularaxis": {
            "gridcolor": "white",
            "linecolor": "white",
            "ticks": ""
           },
           "bgcolor": "#E5ECF6",
           "radialaxis": {
            "gridcolor": "white",
            "linecolor": "white",
            "ticks": ""
           }
          },
          "scene": {
           "xaxis": {
            "backgroundcolor": "#E5ECF6",
            "gridcolor": "white",
            "gridwidth": 2,
            "linecolor": "white",
            "showbackground": true,
            "ticks": "",
            "zerolinecolor": "white"
           },
           "yaxis": {
            "backgroundcolor": "#E5ECF6",
            "gridcolor": "white",
            "gridwidth": 2,
            "linecolor": "white",
            "showbackground": true,
            "ticks": "",
            "zerolinecolor": "white"
           },
           "zaxis": {
            "backgroundcolor": "#E5ECF6",
            "gridcolor": "white",
            "gridwidth": 2,
            "linecolor": "white",
            "showbackground": true,
            "ticks": "",
            "zerolinecolor": "white"
           }
          },
          "shapedefaults": {
           "line": {
            "color": "#2a3f5f"
           }
          },
          "ternary": {
           "aaxis": {
            "gridcolor": "white",
            "linecolor": "white",
            "ticks": ""
           },
           "baxis": {
            "gridcolor": "white",
            "linecolor": "white",
            "ticks": ""
           },
           "bgcolor": "#E5ECF6",
           "caxis": {
            "gridcolor": "white",
            "linecolor": "white",
            "ticks": ""
           }
          },
          "title": {
           "x": 0.05
          },
          "xaxis": {
           "automargin": true,
           "gridcolor": "white",
           "linecolor": "white",
           "ticks": "",
           "title": {
            "standoff": 15
           },
           "zerolinecolor": "white",
           "zerolinewidth": 2
          },
          "yaxis": {
           "automargin": true,
           "gridcolor": "white",
           "linecolor": "white",
           "ticks": "",
           "title": {
            "standoff": 15
           },
           "zerolinecolor": "white",
           "zerolinewidth": 2
          }
         }
        },
        "title": {
         "font": {
          "color": "#4D5663"
         }
        },
        "xaxis": {
         "gridcolor": "#E1E5ED",
         "showgrid": true,
         "tickfont": {
          "color": "#4D5663"
         },
         "title": {
          "font": {
           "color": "#4D5663"
          },
          "text": ""
         },
         "zerolinecolor": "#E1E5ED"
        },
        "yaxis": {
         "gridcolor": "#E1E5ED",
         "showgrid": true,
         "tickfont": {
          "color": "#4D5663"
         },
         "title": {
          "font": {
           "color": "#4D5663"
          },
          "text": ""
         },
         "zerolinecolor": "#E1E5ED"
        }
       }
      },
      "text/html": [
       "<div>                            <div id=\"726282c8-ddc2-4174-a89c-931dfc504cb5\" class=\"plotly-graph-div\" style=\"height:525px; width:100%;\"></div>            <script type=\"text/javascript\">                require([\"plotly\"], function(Plotly) {                    window.PLOTLYENV=window.PLOTLYENV || {};\n",
       "                    window.PLOTLYENV.BASE_URL='https://plot.ly';                                    if (document.getElementById(\"726282c8-ddc2-4174-a89c-931dfc504cb5\")) {                    Plotly.newPlot(                        \"726282c8-ddc2-4174-a89c-931dfc504cb5\",                        [{\"marker\":{\"color\":[\"rgb(255, 153, 51)\",\"rgb(55, 128, 191)\",\"rgb(50, 171, 96)\",\"rgb(128, 0, 128)\",\"rgb(219, 64, 82)\",\"rgb(0, 128, 128)\",\"rgb(255, 255, 51)\",\"rgb(128, 128, 0)\",\"rgb(251, 128, 114)\",\"rgb(128, 177, 211)\"],\"line\":{\"width\":1.3},\"size\":[64,41,38,47,33,54,67,71,80,58,42,46,63,75,32,40,87,76,77,39,21,54,34,51,88,92,30,43,84,47,54,42,67,43,70,62,68,48,55,52,70,54,85,71,58,75,46,49,94,55,35,64,92,53,67,65,49,46,79,12,29,94,62,40,64,41,47,49,52,26,112,48,45,46,49,43,60,53,70,68,44,52,57,53,47,69,28,62,16,80,76,91,58,58,49,53,85,38,56,69],\"symbol\":\"circle\"},\"mode\":\"markers\",\"text\":\"\",\"x\":[0.26094944737820464,0.6756427948506019,-1.6813264412755256,0.7204565479924322,-0.22704880191720428,1.6257351533472952,-0.4942521366331942,0.7554812681062507,-0.012121861711336316,0.6690437492201413,-0.3900373476123656,-1.8547898714279738,-1.4816658495535915,0.23413255955366494,0.21034036783623777,-0.5905362775657257,0.44400914529871144,-0.08988354995132182,-0.9092428787691089,0.1390659850483001,0.12827195930806926,-0.8936444613365111,0.48411247557442094,0.5712665158701542,-0.2306417488905862,1.0621829798421933,0.8049419422180617,0.3098617097266694,-1.2459142215390526,-1.5421708395982974,-0.28945802864526166,-0.457410342620502,0.8842863964667576,0.4716178732561643,1.080769153106927,-0.3027219145109648,1.4535241446092566,-2.006165431524184,0.3457218679585976,1.2554394332593966,1.583191788122711,0.1001572144415794,0.1218111415464603,0.7644233984677314,0.6256263350098222,-1.0406876639569114,-1.1116255859285793,-1.3226346404362888,0.9521322476501216,0.10361535193926541,1.6796946454820472,-1.0312332635688635,-1.6719091796148713,-1.4620898703178808,-2.338268650433877,0.7249705026245721,1.892208054311665,-0.8650989366390816,-0.36156197736492707,0.5556931482624534,0.5550851907531508,-2.7372209835746997,1.556315017341361,0.40241766720405525,0.459800704742713,0.010839974417914938,0.2869058777525109,-0.20948496585773907,-0.3228919963689883,-0.9424428117102946,0.08004987528207808,-1.722571435733268,-1.2599461951241895,-1.1399593241709116,0.9427614038338752,-0.608796670914509,-0.180982777034367,1.7219984547975717,-0.026529348892462685,-0.09822764343422868,-1.944606864250181,0.8610178999848556,1.2603732054512387,-0.7031761322484911,-0.6031228391849389,-0.21885822736009458,0.4179951312327664,1.1013003666583145,0.9154925356461139,0.09501597794814125,-2.216397093263774,0.9567752156312098,0.5091191071901275,-1.2976367682644396,0.252814044628649,-0.1696171000230781,1.2540223824766012,-1.1091293259988333,-0.07234965598861014,-0.4820456279286618],\"y\":[-2.2858288822656303,-0.3689246942451719,-0.4878085442863548,0.0899980136684595,0.29926889068795876,0.17158248776965915,-1.6060521316690806,0.8454748009189931,-0.7780592645242341,-1.5565002087012068,1.0372025831271199,0.8400056526466327,-0.9864917656790733,-0.7865337495103956,-0.4908674300457295,0.065209412493217,0.9568752404687892,-0.8396432482350337,-0.12579337362106027,-0.2521365828886802,-0.5335363396262771,-1.1038689888634035,0.4702284473695049,1.0127134627231362,0.06357379909821854,0.17666908872890652,-2.219413202901428,0.16988007691544227,0.21331495447507157,-0.38144917787193,-0.7234233309210866,1.1654897644783366,-0.0939289539623439,2.0170523368074034,-1.066331684671368,-1.2550980664771623,-0.6834753077766862,-1.9776636533758316,-0.7071974935890099,-0.8647725828109243,0.666397539151505,-2.1561037115340382,1.3088668119173679,0.1895499161046491,-0.2143124885233418,1.5600407751980936,1.49517789425164,-1.3163885089797722,0.3071100790489101,-1.1334144746266988,-1.3048753478925657,-1.7737873100165837,-1.311819431354197,0.6547271610296218,-1.080829127609142,-0.14106417250186926,1.12593274559256,-0.18690924228657932,1.0632163358016373,-0.9635096609258548,0.5013097476381637,-0.41205755974149105,0.7461619496075209,-2.0031465844771246,-1.4463887314168276,1.26252117377817,-1.2231128761730659,-0.02423340109344603,2.4622973856990584,0.4021529194125459,-0.7330723509578897,-0.04278911282889734,-0.3491149144994279,1.083279811870235,1.0426110712780547,-1.8778181299002392,-1.0794577182216054,-1.5317866657565158,1.0165126478271154,-0.8934024272225225,-0.3084887191806035,-0.699643240815849,-0.6605125009688817,2.1852107666274163,0.996809877383777,0.06108618985377447,2.4562499159811915,0.8295824341081318,1.4581308222086655,1.0332082700772245,0.6149475497997644,0.12629079890159314,-1.1722907357555292,-0.8750580032179174,0.2213111053489606,0.9767123482772395,1.3429699882896668,0.4560223707490966,-0.10333857580881216,0.7250381311930914],\"type\":\"scatter\"}],                        {\"legend\":{\"bgcolor\":\"#F5F6F9\",\"font\":{\"color\":\"#4D5663\"}},\"paper_bgcolor\":\"#F5F6F9\",\"plot_bgcolor\":\"#F5F6F9\",\"template\":{\"data\":{\"barpolar\":[{\"marker\":{\"line\":{\"color\":\"#E5ECF6\",\"width\":0.5},\"pattern\":{\"fillmode\":\"overlay\",\"size\":10,\"solidity\":0.2}},\"type\":\"barpolar\"}],\"bar\":[{\"error_x\":{\"color\":\"#2a3f5f\"},\"error_y\":{\"color\":\"#2a3f5f\"},\"marker\":{\"line\":{\"color\":\"#E5ECF6\",\"width\":0.5},\"pattern\":{\"fillmode\":\"overlay\",\"size\":10,\"solidity\":0.2}},\"type\":\"bar\"}],\"carpet\":[{\"aaxis\":{\"endlinecolor\":\"#2a3f5f\",\"gridcolor\":\"white\",\"linecolor\":\"white\",\"minorgridcolor\":\"white\",\"startlinecolor\":\"#2a3f5f\"},\"baxis\":{\"endlinecolor\":\"#2a3f5f\",\"gridcolor\":\"white\",\"linecolor\":\"white\",\"minorgridcolor\":\"white\",\"startlinecolor\":\"#2a3f5f\"},\"type\":\"carpet\"}],\"choropleth\":[{\"colorbar\":{\"outlinewidth\":0,\"ticks\":\"\"},\"type\":\"choropleth\"}],\"contourcarpet\":[{\"colorbar\":{\"outlinewidth\":0,\"ticks\":\"\"},\"type\":\"contourcarpet\"}],\"contour\":[{\"colorbar\":{\"outlinewidth\":0,\"ticks\":\"\"},\"colorscale\":[[0.0,\"#0d0887\"],[0.1111111111111111,\"#46039f\"],[0.2222222222222222,\"#7201a8\"],[0.3333333333333333,\"#9c179e\"],[0.4444444444444444,\"#bd3786\"],[0.5555555555555556,\"#d8576b\"],[0.6666666666666666,\"#ed7953\"],[0.7777777777777778,\"#fb9f3a\"],[0.8888888888888888,\"#fdca26\"],[1.0,\"#f0f921\"]],\"type\":\"contour\"}],\"heatmapgl\":[{\"colorbar\":{\"outlinewidth\":0,\"ticks\":\"\"},\"colorscale\":[[0.0,\"#0d0887\"],[0.1111111111111111,\"#46039f\"],[0.2222222222222222,\"#7201a8\"],[0.3333333333333333,\"#9c179e\"],[0.4444444444444444,\"#bd3786\"],[0.5555555555555556,\"#d8576b\"],[0.6666666666666666,\"#ed7953\"],[0.7777777777777778,\"#fb9f3a\"],[0.8888888888888888,\"#fdca26\"],[1.0,\"#f0f921\"]],\"type\":\"heatmapgl\"}],\"heatmap\":[{\"colorbar\":{\"outlinewidth\":0,\"ticks\":\"\"},\"colorscale\":[[0.0,\"#0d0887\"],[0.1111111111111111,\"#46039f\"],[0.2222222222222222,\"#7201a8\"],[0.3333333333333333,\"#9c179e\"],[0.4444444444444444,\"#bd3786\"],[0.5555555555555556,\"#d8576b\"],[0.6666666666666666,\"#ed7953\"],[0.7777777777777778,\"#fb9f3a\"],[0.8888888888888888,\"#fdca26\"],[1.0,\"#f0f921\"]],\"type\":\"heatmap\"}],\"histogram2dcontour\":[{\"colorbar\":{\"outlinewidth\":0,\"ticks\":\"\"},\"colorscale\":[[0.0,\"#0d0887\"],[0.1111111111111111,\"#46039f\"],[0.2222222222222222,\"#7201a8\"],[0.3333333333333333,\"#9c179e\"],[0.4444444444444444,\"#bd3786\"],[0.5555555555555556,\"#d8576b\"],[0.6666666666666666,\"#ed7953\"],[0.7777777777777778,\"#fb9f3a\"],[0.8888888888888888,\"#fdca26\"],[1.0,\"#f0f921\"]],\"type\":\"histogram2dcontour\"}],\"histogram2d\":[{\"colorbar\":{\"outlinewidth\":0,\"ticks\":\"\"},\"colorscale\":[[0.0,\"#0d0887\"],[0.1111111111111111,\"#46039f\"],[0.2222222222222222,\"#7201a8\"],[0.3333333333333333,\"#9c179e\"],[0.4444444444444444,\"#bd3786\"],[0.5555555555555556,\"#d8576b\"],[0.6666666666666666,\"#ed7953\"],[0.7777777777777778,\"#fb9f3a\"],[0.8888888888888888,\"#fdca26\"],[1.0,\"#f0f921\"]],\"type\":\"histogram2d\"}],\"histogram\":[{\"marker\":{\"pattern\":{\"fillmode\":\"overlay\",\"size\":10,\"solidity\":0.2}},\"type\":\"histogram\"}],\"mesh3d\":[{\"colorbar\":{\"outlinewidth\":0,\"ticks\":\"\"},\"type\":\"mesh3d\"}],\"parcoords\":[{\"line\":{\"colorbar\":{\"outlinewidth\":0,\"ticks\":\"\"}},\"type\":\"parcoords\"}],\"pie\":[{\"automargin\":true,\"type\":\"pie\"}],\"scatter3d\":[{\"line\":{\"colorbar\":{\"outlinewidth\":0,\"ticks\":\"\"}},\"marker\":{\"colorbar\":{\"outlinewidth\":0,\"ticks\":\"\"}},\"type\":\"scatter3d\"}],\"scattercarpet\":[{\"marker\":{\"colorbar\":{\"outlinewidth\":0,\"ticks\":\"\"}},\"type\":\"scattercarpet\"}],\"scattergeo\":[{\"marker\":{\"colorbar\":{\"outlinewidth\":0,\"ticks\":\"\"}},\"type\":\"scattergeo\"}],\"scattergl\":[{\"marker\":{\"colorbar\":{\"outlinewidth\":0,\"ticks\":\"\"}},\"type\":\"scattergl\"}],\"scattermapbox\":[{\"marker\":{\"colorbar\":{\"outlinewidth\":0,\"ticks\":\"\"}},\"type\":\"scattermapbox\"}],\"scatterpolargl\":[{\"marker\":{\"colorbar\":{\"outlinewidth\":0,\"ticks\":\"\"}},\"type\":\"scatterpolargl\"}],\"scatterpolar\":[{\"marker\":{\"colorbar\":{\"outlinewidth\":0,\"ticks\":\"\"}},\"type\":\"scatterpolar\"}],\"scatter\":[{\"fillpattern\":{\"fillmode\":\"overlay\",\"size\":10,\"solidity\":0.2},\"type\":\"scatter\"}],\"scatterternary\":[{\"marker\":{\"colorbar\":{\"outlinewidth\":0,\"ticks\":\"\"}},\"type\":\"scatterternary\"}],\"surface\":[{\"colorbar\":{\"outlinewidth\":0,\"ticks\":\"\"},\"colorscale\":[[0.0,\"#0d0887\"],[0.1111111111111111,\"#46039f\"],[0.2222222222222222,\"#7201a8\"],[0.3333333333333333,\"#9c179e\"],[0.4444444444444444,\"#bd3786\"],[0.5555555555555556,\"#d8576b\"],[0.6666666666666666,\"#ed7953\"],[0.7777777777777778,\"#fb9f3a\"],[0.8888888888888888,\"#fdca26\"],[1.0,\"#f0f921\"]],\"type\":\"surface\"}],\"table\":[{\"cells\":{\"fill\":{\"color\":\"#EBF0F8\"},\"line\":{\"color\":\"white\"}},\"header\":{\"fill\":{\"color\":\"#C8D4E3\"},\"line\":{\"color\":\"white\"}},\"type\":\"table\"}]},\"layout\":{\"annotationdefaults\":{\"arrowcolor\":\"#2a3f5f\",\"arrowhead\":0,\"arrowwidth\":1},\"autotypenumbers\":\"strict\",\"coloraxis\":{\"colorbar\":{\"outlinewidth\":0,\"ticks\":\"\"}},\"colorscale\":{\"diverging\":[[0,\"#8e0152\"],[0.1,\"#c51b7d\"],[0.2,\"#de77ae\"],[0.3,\"#f1b6da\"],[0.4,\"#fde0ef\"],[0.5,\"#f7f7f7\"],[0.6,\"#e6f5d0\"],[0.7,\"#b8e186\"],[0.8,\"#7fbc41\"],[0.9,\"#4d9221\"],[1,\"#276419\"]],\"sequential\":[[0.0,\"#0d0887\"],[0.1111111111111111,\"#46039f\"],[0.2222222222222222,\"#7201a8\"],[0.3333333333333333,\"#9c179e\"],[0.4444444444444444,\"#bd3786\"],[0.5555555555555556,\"#d8576b\"],[0.6666666666666666,\"#ed7953\"],[0.7777777777777778,\"#fb9f3a\"],[0.8888888888888888,\"#fdca26\"],[1.0,\"#f0f921\"]],\"sequentialminus\":[[0.0,\"#0d0887\"],[0.1111111111111111,\"#46039f\"],[0.2222222222222222,\"#7201a8\"],[0.3333333333333333,\"#9c179e\"],[0.4444444444444444,\"#bd3786\"],[0.5555555555555556,\"#d8576b\"],[0.6666666666666666,\"#ed7953\"],[0.7777777777777778,\"#fb9f3a\"],[0.8888888888888888,\"#fdca26\"],[1.0,\"#f0f921\"]]},\"colorway\":[\"#636efa\",\"#EF553B\",\"#00cc96\",\"#ab63fa\",\"#FFA15A\",\"#19d3f3\",\"#FF6692\",\"#B6E880\",\"#FF97FF\",\"#FECB52\"],\"font\":{\"color\":\"#2a3f5f\"},\"geo\":{\"bgcolor\":\"white\",\"lakecolor\":\"white\",\"landcolor\":\"#E5ECF6\",\"showlakes\":true,\"showland\":true,\"subunitcolor\":\"white\"},\"hoverlabel\":{\"align\":\"left\"},\"hovermode\":\"closest\",\"mapbox\":{\"style\":\"light\"},\"paper_bgcolor\":\"white\",\"plot_bgcolor\":\"#E5ECF6\",\"polar\":{\"angularaxis\":{\"gridcolor\":\"white\",\"linecolor\":\"white\",\"ticks\":\"\"},\"bgcolor\":\"#E5ECF6\",\"radialaxis\":{\"gridcolor\":\"white\",\"linecolor\":\"white\",\"ticks\":\"\"}},\"scene\":{\"xaxis\":{\"backgroundcolor\":\"#E5ECF6\",\"gridcolor\":\"white\",\"gridwidth\":2,\"linecolor\":\"white\",\"showbackground\":true,\"ticks\":\"\",\"zerolinecolor\":\"white\"},\"yaxis\":{\"backgroundcolor\":\"#E5ECF6\",\"gridcolor\":\"white\",\"gridwidth\":2,\"linecolor\":\"white\",\"showbackground\":true,\"ticks\":\"\",\"zerolinecolor\":\"white\"},\"zaxis\":{\"backgroundcolor\":\"#E5ECF6\",\"gridcolor\":\"white\",\"gridwidth\":2,\"linecolor\":\"white\",\"showbackground\":true,\"ticks\":\"\",\"zerolinecolor\":\"white\"}},\"shapedefaults\":{\"line\":{\"color\":\"#2a3f5f\"}},\"ternary\":{\"aaxis\":{\"gridcolor\":\"white\",\"linecolor\":\"white\",\"ticks\":\"\"},\"baxis\":{\"gridcolor\":\"white\",\"linecolor\":\"white\",\"ticks\":\"\"},\"bgcolor\":\"#E5ECF6\",\"caxis\":{\"gridcolor\":\"white\",\"linecolor\":\"white\",\"ticks\":\"\"}},\"title\":{\"x\":0.05},\"xaxis\":{\"automargin\":true,\"gridcolor\":\"white\",\"linecolor\":\"white\",\"ticks\":\"\",\"title\":{\"standoff\":15},\"zerolinecolor\":\"white\",\"zerolinewidth\":2},\"yaxis\":{\"automargin\":true,\"gridcolor\":\"white\",\"linecolor\":\"white\",\"ticks\":\"\",\"title\":{\"standoff\":15},\"zerolinecolor\":\"white\",\"zerolinewidth\":2}}},\"title\":{\"font\":{\"color\":\"#4D5663\"}},\"xaxis\":{\"gridcolor\":\"#E1E5ED\",\"showgrid\":true,\"tickfont\":{\"color\":\"#4D5663\"},\"title\":{\"font\":{\"color\":\"#4D5663\"},\"text\":\"\"},\"zerolinecolor\":\"#E1E5ED\"},\"yaxis\":{\"gridcolor\":\"#E1E5ED\",\"showgrid\":true,\"tickfont\":{\"color\":\"#4D5663\"},\"title\":{\"font\":{\"color\":\"#4D5663\"},\"text\":\"\"},\"zerolinecolor\":\"#E1E5ED\"}},                        {\"showLink\": true, \"linkText\": \"Export to plot.ly\", \"plotlyServerURL\": \"https://plot.ly\", \"responsive\": true}                    ).then(function(){\n",
       "                            \n",
       "var gd = document.getElementById('726282c8-ddc2-4174-a89c-931dfc504cb5');\n",
       "var x = new MutationObserver(function (mutations, observer) {{\n",
       "        var display = window.getComputedStyle(gd).display;\n",
       "        if (!display || display === 'none') {{\n",
       "            console.log([gd, 'removed!']);\n",
       "            Plotly.purge(gd);\n",
       "            observer.disconnect();\n",
       "        }}\n",
       "}});\n",
       "\n",
       "// Listen for the removal of the full notebook cells\n",
       "var notebookContainer = gd.closest('#notebook-container');\n",
       "if (notebookContainer) {{\n",
       "    x.observe(notebookContainer, {childList: true});\n",
       "}}\n",
       "\n",
       "// Listen for the clearing of the current output cell\n",
       "var outputEl = gd.closest('.output');\n",
       "if (outputEl) {{\n",
       "    x.observe(outputEl, {childList: true});\n",
       "}}\n",
       "\n",
       "                        })                };                });            </script>        </div>"
      ]
     },
     "metadata": {},
     "output_type": "display_data"
    }
   ],
   "source": [
    "df.iplot(kind='bubble',x='A',y='B',size='C')"
   ]
  },
  {
   "cell_type": "markdown",
   "metadata": {},
   "source": [
    "## scatter_matrix()\n",
    "\n",
    "Similar to sns.pairplot()"
   ]
  },
  {
   "cell_type": "code",
   "execution_count": 19,
   "metadata": {},
   "outputs": [
    {
     "data": {
      "application/vnd.plotly.v1+json": {
       "config": {
        "linkText": "Export to plot.ly",
        "plotlyServerURL": "https://plot.ly",
        "showLink": true
       },
       "data": [
        {
         "histfunc": "count",
         "histnorm": "",
         "marker": {
          "color": "rgba(255, 153, 51, 1.0)",
          "line": {
           "color": "#4D5663",
           "width": 1.3
          }
         },
         "name": "A",
         "nbinsx": 10,
         "opacity": 0.8,
         "orientation": "v",
         "type": "histogram",
         "x": [
          0.26094944737820464,
          0.6756427948506019,
          -1.6813264412755256,
          0.7204565479924322,
          -0.22704880191720428,
          1.6257351533472952,
          -0.4942521366331942,
          0.7554812681062507,
          -0.012121861711336316,
          0.6690437492201413,
          -0.3900373476123656,
          -1.8547898714279738,
          -1.4816658495535915,
          0.23413255955366494,
          0.21034036783623777,
          -0.5905362775657257,
          0.44400914529871144,
          -0.08988354995132182,
          -0.9092428787691089,
          0.1390659850483001,
          0.12827195930806926,
          -0.8936444613365111,
          0.48411247557442094,
          0.5712665158701542,
          -0.2306417488905862,
          1.0621829798421933,
          0.8049419422180617,
          0.3098617097266694,
          -1.2459142215390526,
          -1.5421708395982974,
          -0.28945802864526166,
          -0.457410342620502,
          0.8842863964667576,
          0.4716178732561643,
          1.080769153106927,
          -0.3027219145109648,
          1.4535241446092566,
          -2.006165431524184,
          0.3457218679585976,
          1.2554394332593966,
          1.583191788122711,
          0.1001572144415794,
          0.1218111415464603,
          0.7644233984677314,
          0.6256263350098222,
          -1.0406876639569114,
          -1.1116255859285793,
          -1.3226346404362888,
          0.9521322476501216,
          0.10361535193926541,
          1.6796946454820472,
          -1.0312332635688635,
          -1.6719091796148713,
          -1.4620898703178808,
          -2.338268650433877,
          0.7249705026245721,
          1.892208054311665,
          -0.8650989366390816,
          -0.36156197736492707,
          0.5556931482624534,
          0.5550851907531508,
          -2.7372209835746997,
          1.556315017341361,
          0.40241766720405525,
          0.459800704742713,
          0.010839974417914938,
          0.2869058777525109,
          -0.20948496585773907,
          -0.3228919963689883,
          -0.9424428117102946,
          0.08004987528207808,
          -1.722571435733268,
          -1.2599461951241895,
          -1.1399593241709116,
          0.9427614038338752,
          -0.608796670914509,
          -0.180982777034367,
          1.7219984547975717,
          -0.026529348892462685,
          -0.09822764343422868,
          -1.944606864250181,
          0.8610178999848556,
          1.2603732054512387,
          -0.7031761322484911,
          -0.6031228391849389,
          -0.21885822736009458,
          0.4179951312327664,
          1.1013003666583145,
          0.9154925356461139,
          0.09501597794814125,
          -2.216397093263774,
          0.9567752156312098,
          0.5091191071901275,
          -1.2976367682644396,
          0.252814044628649,
          -0.1696171000230781,
          1.2540223824766012,
          -1.1091293259988333,
          -0.07234965598861014,
          -0.4820456279286618
         ],
         "xaxis": "x",
         "yaxis": "y"
        },
        {
         "line": {
          "color": "rgba(128, 128, 128, 1.0)",
          "dash": "solid",
          "shape": "linear",
          "width": 1.3
         },
         "marker": {
          "size": 2,
          "symbol": "circle"
         },
         "mode": "markers",
         "name": "A",
         "text": "",
         "type": "scatter",
         "x": [
          -2.2858288822656303,
          -0.3689246942451719,
          -0.4878085442863548,
          0.0899980136684595,
          0.29926889068795876,
          0.17158248776965915,
          -1.6060521316690806,
          0.8454748009189931,
          -0.7780592645242341,
          -1.5565002087012068,
          1.0372025831271199,
          0.8400056526466327,
          -0.9864917656790733,
          -0.7865337495103956,
          -0.4908674300457295,
          0.065209412493217,
          0.9568752404687892,
          -0.8396432482350337,
          -0.12579337362106027,
          -0.2521365828886802,
          -0.5335363396262771,
          -1.1038689888634035,
          0.4702284473695049,
          1.0127134627231362,
          0.06357379909821854,
          0.17666908872890652,
          -2.219413202901428,
          0.16988007691544227,
          0.21331495447507157,
          -0.38144917787193,
          -0.7234233309210866,
          1.1654897644783366,
          -0.0939289539623439,
          2.0170523368074034,
          -1.066331684671368,
          -1.2550980664771623,
          -0.6834753077766862,
          -1.9776636533758316,
          -0.7071974935890099,
          -0.8647725828109243,
          0.666397539151505,
          -2.1561037115340382,
          1.3088668119173679,
          0.1895499161046491,
          -0.2143124885233418,
          1.5600407751980936,
          1.49517789425164,
          -1.3163885089797722,
          0.3071100790489101,
          -1.1334144746266988,
          -1.3048753478925657,
          -1.7737873100165837,
          -1.311819431354197,
          0.6547271610296218,
          -1.080829127609142,
          -0.14106417250186926,
          1.12593274559256,
          -0.18690924228657932,
          1.0632163358016373,
          -0.9635096609258548,
          0.5013097476381637,
          -0.41205755974149105,
          0.7461619496075209,
          -2.0031465844771246,
          -1.4463887314168276,
          1.26252117377817,
          -1.2231128761730659,
          -0.02423340109344603,
          2.4622973856990584,
          0.4021529194125459,
          -0.7330723509578897,
          -0.04278911282889734,
          -0.3491149144994279,
          1.083279811870235,
          1.0426110712780547,
          -1.8778181299002392,
          -1.0794577182216054,
          -1.5317866657565158,
          1.0165126478271154,
          -0.8934024272225225,
          -0.3084887191806035,
          -0.699643240815849,
          -0.6605125009688817,
          2.1852107666274163,
          0.996809877383777,
          0.06108618985377447,
          2.4562499159811915,
          0.8295824341081318,
          1.4581308222086655,
          1.0332082700772245,
          0.6149475497997644,
          0.12629079890159314,
          -1.1722907357555292,
          -0.8750580032179174,
          0.2213111053489606,
          0.9767123482772395,
          1.3429699882896668,
          0.4560223707490966,
          -0.10333857580881216,
          0.7250381311930914
         ],
         "xaxis": "x2",
         "y": [
          0.26094944737820464,
          0.6756427948506019,
          -1.6813264412755256,
          0.7204565479924322,
          -0.22704880191720428,
          1.6257351533472952,
          -0.4942521366331942,
          0.7554812681062507,
          -0.012121861711336316,
          0.6690437492201413,
          -0.3900373476123656,
          -1.8547898714279738,
          -1.4816658495535915,
          0.23413255955366494,
          0.21034036783623777,
          -0.5905362775657257,
          0.44400914529871144,
          -0.08988354995132182,
          -0.9092428787691089,
          0.1390659850483001,
          0.12827195930806926,
          -0.8936444613365111,
          0.48411247557442094,
          0.5712665158701542,
          -0.2306417488905862,
          1.0621829798421933,
          0.8049419422180617,
          0.3098617097266694,
          -1.2459142215390526,
          -1.5421708395982974,
          -0.28945802864526166,
          -0.457410342620502,
          0.8842863964667576,
          0.4716178732561643,
          1.080769153106927,
          -0.3027219145109648,
          1.4535241446092566,
          -2.006165431524184,
          0.3457218679585976,
          1.2554394332593966,
          1.583191788122711,
          0.1001572144415794,
          0.1218111415464603,
          0.7644233984677314,
          0.6256263350098222,
          -1.0406876639569114,
          -1.1116255859285793,
          -1.3226346404362888,
          0.9521322476501216,
          0.10361535193926541,
          1.6796946454820472,
          -1.0312332635688635,
          -1.6719091796148713,
          -1.4620898703178808,
          -2.338268650433877,
          0.7249705026245721,
          1.892208054311665,
          -0.8650989366390816,
          -0.36156197736492707,
          0.5556931482624534,
          0.5550851907531508,
          -2.7372209835746997,
          1.556315017341361,
          0.40241766720405525,
          0.459800704742713,
          0.010839974417914938,
          0.2869058777525109,
          -0.20948496585773907,
          -0.3228919963689883,
          -0.9424428117102946,
          0.08004987528207808,
          -1.722571435733268,
          -1.2599461951241895,
          -1.1399593241709116,
          0.9427614038338752,
          -0.608796670914509,
          -0.180982777034367,
          1.7219984547975717,
          -0.026529348892462685,
          -0.09822764343422868,
          -1.944606864250181,
          0.8610178999848556,
          1.2603732054512387,
          -0.7031761322484911,
          -0.6031228391849389,
          -0.21885822736009458,
          0.4179951312327664,
          1.1013003666583145,
          0.9154925356461139,
          0.09501597794814125,
          -2.216397093263774,
          0.9567752156312098,
          0.5091191071901275,
          -1.2976367682644396,
          0.252814044628649,
          -0.1696171000230781,
          1.2540223824766012,
          -1.1091293259988333,
          -0.07234965598861014,
          -0.4820456279286618
         ],
         "yaxis": "y2"
        },
        {
         "line": {
          "color": "rgba(128, 128, 128, 1.0)",
          "dash": "solid",
          "shape": "linear",
          "width": 1.3
         },
         "marker": {
          "size": 2,
          "symbol": "circle"
         },
         "mode": "markers",
         "name": "A",
         "text": "",
         "type": "scatter",
         "x": [
          0.32533126166391485,
          -1.0948514086567007,
          -1.255698256658563,
          -0.7115348500480666,
          -1.5734581413898854,
          -0.2693780640469743,
          0.5312122041618935,
          0.7643957254436153,
          1.3466440592846238,
          -0.011138496176147835,
          -1.006175222327991,
          -0.7657814111691001,
          0.2704614828597357,
          1.0183788515132506,
          -1.6313687143064737,
          -1.1377406766960112,
          1.754747546345917,
          1.0739077449778924,
          1.187443194858314,
          -1.1762172356198197,
          -2.330878647921375,
          -0.29177231149834987,
          -1.5420377609907308,
          -0.44511416089779543,
          1.8225838117742819,
          2.0680123691645167,
          -1.7712608957239127,
          -0.9471147591668491,
          1.6184713553015566,
          -0.6887690862726555,
          -0.2770483905764386,
          -1.0205117397712196,
          0.5411886732059261,
          -0.9679130404308924,
          0.7223804650709226,
          0.19804466049875422,
          0.5757187719225264,
          -0.6365002863183196,
          -0.21892397489849863,
          -0.38832629642815525,
          0.7564138642884449,
          -0.25283318868976823,
          1.6578227713614326,
          0.778371309783315,
          -0.025442852310508104,
          1.0290112662167505,
          -0.7478300783956774,
          -0.5892929751830931,
          2.2221162029341848,
          -0.21607144784907933,
          -1.4358331970874543,
          0.32341588670439253,
          2.1088425493463316,
          -0.35207423187535375,
          0.5480642595297384,
          0.42469906156207216,
          -0.5512588997951553,
          -0.744004698667509,
          1.3009083492632714,
          -2.913661302226596,
          -1.79700075056673,
          2.2240582842789998,
          0.20083784721363973,
          -1.1155836193566913,
          0.37881604036311256,
          -1.0515506213586965,
          -0.7142174212313871,
          -0.580132172851161,
          -0.36996370552054747,
          -1.9956692450109044,
          3.3068298553023956,
          -0.6535949069759464,
          -0.8126537235638911,
          -0.7910150450158807,
          -0.5897039192173934,
          -0.9641463263885816,
          0.09458255813228832,
          -0.35691739474910894,
          0.7368928853813077,
          0.5992388061778968,
          -0.8788160686807402,
          -0.4018213365525234,
          -0.05339238691644387,
          -0.3627926288640987,
          -0.7251370023029332,
          0.6550178848897097,
          -1.893543294098089,
          0.2507926698741199,
          -2.603137809917833,
          1.345799354558909,
          1.1223941883090842,
          2.0230162957001028,
          -0.04150802293184813,
          -0.011228513864026684,
          -0.5941780239391884,
          -0.3058191790453311,
          1.653697814059976,
          -1.2921648263284362,
          -0.11844456500402563,
          0.6483758171002227
         ],
         "xaxis": "x3",
         "y": [
          0.26094944737820464,
          0.6756427948506019,
          -1.6813264412755256,
          0.7204565479924322,
          -0.22704880191720428,
          1.6257351533472952,
          -0.4942521366331942,
          0.7554812681062507,
          -0.012121861711336316,
          0.6690437492201413,
          -0.3900373476123656,
          -1.8547898714279738,
          -1.4816658495535915,
          0.23413255955366494,
          0.21034036783623777,
          -0.5905362775657257,
          0.44400914529871144,
          -0.08988354995132182,
          -0.9092428787691089,
          0.1390659850483001,
          0.12827195930806926,
          -0.8936444613365111,
          0.48411247557442094,
          0.5712665158701542,
          -0.2306417488905862,
          1.0621829798421933,
          0.8049419422180617,
          0.3098617097266694,
          -1.2459142215390526,
          -1.5421708395982974,
          -0.28945802864526166,
          -0.457410342620502,
          0.8842863964667576,
          0.4716178732561643,
          1.080769153106927,
          -0.3027219145109648,
          1.4535241446092566,
          -2.006165431524184,
          0.3457218679585976,
          1.2554394332593966,
          1.583191788122711,
          0.1001572144415794,
          0.1218111415464603,
          0.7644233984677314,
          0.6256263350098222,
          -1.0406876639569114,
          -1.1116255859285793,
          -1.3226346404362888,
          0.9521322476501216,
          0.10361535193926541,
          1.6796946454820472,
          -1.0312332635688635,
          -1.6719091796148713,
          -1.4620898703178808,
          -2.338268650433877,
          0.7249705026245721,
          1.892208054311665,
          -0.8650989366390816,
          -0.36156197736492707,
          0.5556931482624534,
          0.5550851907531508,
          -2.7372209835746997,
          1.556315017341361,
          0.40241766720405525,
          0.459800704742713,
          0.010839974417914938,
          0.2869058777525109,
          -0.20948496585773907,
          -0.3228919963689883,
          -0.9424428117102946,
          0.08004987528207808,
          -1.722571435733268,
          -1.2599461951241895,
          -1.1399593241709116,
          0.9427614038338752,
          -0.608796670914509,
          -0.180982777034367,
          1.7219984547975717,
          -0.026529348892462685,
          -0.09822764343422868,
          -1.944606864250181,
          0.8610178999848556,
          1.2603732054512387,
          -0.7031761322484911,
          -0.6031228391849389,
          -0.21885822736009458,
          0.4179951312327664,
          1.1013003666583145,
          0.9154925356461139,
          0.09501597794814125,
          -2.216397093263774,
          0.9567752156312098,
          0.5091191071901275,
          -1.2976367682644396,
          0.252814044628649,
          -0.1696171000230781,
          1.2540223824766012,
          -1.1091293259988333,
          -0.07234965598861014,
          -0.4820456279286618
         ],
         "yaxis": "y3"
        },
        {
         "line": {
          "color": "rgba(128, 128, 128, 1.0)",
          "dash": "solid",
          "shape": "linear",
          "width": 1.3
         },
         "marker": {
          "size": 2,
          "symbol": "circle"
         },
         "mode": "markers",
         "name": "A",
         "text": "",
         "type": "scatter",
         "x": [
          0.41794327451779345,
          -0.03261673753335445,
          -0.4550174727865612,
          -0.004208347162477857,
          -0.6223002368189892,
          0.37079932691257855,
          0.4044968263615406,
          0.6156065311469866,
          -0.5629685390235405,
          1.4654377449230789,
          -0.08295070642030386,
          -0.8141272270394169,
          -0.08122433488173093,
          -0.8441255872868394,
          -0.1038450347802428,
          -0.8264106510813224,
          0.33835876227499645,
          1.610267518488858,
          -1.4599309420426185,
          0.866996034978916,
          -1.02904049897154,
          1.227022930533725,
          0.37668671410737165,
          1.3804286998065782,
          1.2314256439125106,
          0.12804999346254464,
          -1.3228095505120894,
          -0.21084639477165035,
          0.494661739271153,
          -0.954422281959772,
          -0.06817586662636892,
          1.6331220665869417,
          -1.8184158143329487,
          -0.9072522004937862,
          1.182488924288222,
          1.8100366556664622,
          -1.5672078033978591,
          0.0846336270397929,
          -0.880862573119192,
          0.6716695121190952,
          -1.2429081023690345,
          -0.6619703835342022,
          -0.2961579681187715,
          -0.6044465329934139,
          -0.20082288973325496,
          0.3976613955284886,
          0.26045978499364436,
          0.7234116917878068,
          0.15515371118901172,
          1.9235573499253922,
          -1.9163020993661708,
          -0.878533455623837,
          0.03334430451853539,
          -0.4749136499522914,
          -0.5783326094025376,
          -0.4058299179802135,
          -0.08161828458775061,
          -1.0019000743769864,
          0.9736625816934414,
          0.7006372454826486,
          1.009607343099174,
          -2.0230743602161305,
          -0.11886781633156078,
          0.08909096314851882,
          0.5224997723778508,
          -0.22213927396262687,
          -0.6450675952005471,
          1.7064853550957833,
          0.2994101531694659,
          -0.5061617487595512,
          -0.5713559687832984,
          1.9282636850213841,
          -1.5190521015763374,
          -0.019914506427172442,
          -0.7607785603577836,
          -0.1817706306857436,
          0.10979048618419447,
          2.2332548603506903,
          0.9542509226302287,
          -0.18666984421018826,
          0.4550501723241464,
          -1.7401968649713317,
          -0.4924158421882854,
          0.20238484904659426,
          1.0635355770648967,
          -0.20361483915691467,
          -1.0737855655373512,
          1.8037649286934079,
          -1.0164897009038132,
          -1.3978203525736188,
          -0.5532058788949985,
          1.4993041498775244,
          0.5331637896362921,
          0.7483597698017826,
          -0.492958356631721,
          -0.9739873053805449,
          0.7218719374631305,
          0.7620215689250328,
          1.142168023221178,
          0.9402807158049501
         ],
         "xaxis": "x4",
         "y": [
          0.26094944737820464,
          0.6756427948506019,
          -1.6813264412755256,
          0.7204565479924322,
          -0.22704880191720428,
          1.6257351533472952,
          -0.4942521366331942,
          0.7554812681062507,
          -0.012121861711336316,
          0.6690437492201413,
          -0.3900373476123656,
          -1.8547898714279738,
          -1.4816658495535915,
          0.23413255955366494,
          0.21034036783623777,
          -0.5905362775657257,
          0.44400914529871144,
          -0.08988354995132182,
          -0.9092428787691089,
          0.1390659850483001,
          0.12827195930806926,
          -0.8936444613365111,
          0.48411247557442094,
          0.5712665158701542,
          -0.2306417488905862,
          1.0621829798421933,
          0.8049419422180617,
          0.3098617097266694,
          -1.2459142215390526,
          -1.5421708395982974,
          -0.28945802864526166,
          -0.457410342620502,
          0.8842863964667576,
          0.4716178732561643,
          1.080769153106927,
          -0.3027219145109648,
          1.4535241446092566,
          -2.006165431524184,
          0.3457218679585976,
          1.2554394332593966,
          1.583191788122711,
          0.1001572144415794,
          0.1218111415464603,
          0.7644233984677314,
          0.6256263350098222,
          -1.0406876639569114,
          -1.1116255859285793,
          -1.3226346404362888,
          0.9521322476501216,
          0.10361535193926541,
          1.6796946454820472,
          -1.0312332635688635,
          -1.6719091796148713,
          -1.4620898703178808,
          -2.338268650433877,
          0.7249705026245721,
          1.892208054311665,
          -0.8650989366390816,
          -0.36156197736492707,
          0.5556931482624534,
          0.5550851907531508,
          -2.7372209835746997,
          1.556315017341361,
          0.40241766720405525,
          0.459800704742713,
          0.010839974417914938,
          0.2869058777525109,
          -0.20948496585773907,
          -0.3228919963689883,
          -0.9424428117102946,
          0.08004987528207808,
          -1.722571435733268,
          -1.2599461951241895,
          -1.1399593241709116,
          0.9427614038338752,
          -0.608796670914509,
          -0.180982777034367,
          1.7219984547975717,
          -0.026529348892462685,
          -0.09822764343422868,
          -1.944606864250181,
          0.8610178999848556,
          1.2603732054512387,
          -0.7031761322484911,
          -0.6031228391849389,
          -0.21885822736009458,
          0.4179951312327664,
          1.1013003666583145,
          0.9154925356461139,
          0.09501597794814125,
          -2.216397093263774,
          0.9567752156312098,
          0.5091191071901275,
          -1.2976367682644396,
          0.252814044628649,
          -0.1696171000230781,
          1.2540223824766012,
          -1.1091293259988333,
          -0.07234965598861014,
          -0.4820456279286618
         ],
         "yaxis": "y4"
        },
        {
         "line": {
          "color": "rgba(128, 128, 128, 1.0)",
          "dash": "solid",
          "shape": "linear",
          "width": 1.3
         },
         "marker": {
          "size": 2,
          "symbol": "circle"
         },
         "mode": "markers",
         "name": "B",
         "text": "",
         "type": "scatter",
         "x": [
          0.26094944737820464,
          0.6756427948506019,
          -1.6813264412755256,
          0.7204565479924322,
          -0.22704880191720428,
          1.6257351533472952,
          -0.4942521366331942,
          0.7554812681062507,
          -0.012121861711336316,
          0.6690437492201413,
          -0.3900373476123656,
          -1.8547898714279738,
          -1.4816658495535915,
          0.23413255955366494,
          0.21034036783623777,
          -0.5905362775657257,
          0.44400914529871144,
          -0.08988354995132182,
          -0.9092428787691089,
          0.1390659850483001,
          0.12827195930806926,
          -0.8936444613365111,
          0.48411247557442094,
          0.5712665158701542,
          -0.2306417488905862,
          1.0621829798421933,
          0.8049419422180617,
          0.3098617097266694,
          -1.2459142215390526,
          -1.5421708395982974,
          -0.28945802864526166,
          -0.457410342620502,
          0.8842863964667576,
          0.4716178732561643,
          1.080769153106927,
          -0.3027219145109648,
          1.4535241446092566,
          -2.006165431524184,
          0.3457218679585976,
          1.2554394332593966,
          1.583191788122711,
          0.1001572144415794,
          0.1218111415464603,
          0.7644233984677314,
          0.6256263350098222,
          -1.0406876639569114,
          -1.1116255859285793,
          -1.3226346404362888,
          0.9521322476501216,
          0.10361535193926541,
          1.6796946454820472,
          -1.0312332635688635,
          -1.6719091796148713,
          -1.4620898703178808,
          -2.338268650433877,
          0.7249705026245721,
          1.892208054311665,
          -0.8650989366390816,
          -0.36156197736492707,
          0.5556931482624534,
          0.5550851907531508,
          -2.7372209835746997,
          1.556315017341361,
          0.40241766720405525,
          0.459800704742713,
          0.010839974417914938,
          0.2869058777525109,
          -0.20948496585773907,
          -0.3228919963689883,
          -0.9424428117102946,
          0.08004987528207808,
          -1.722571435733268,
          -1.2599461951241895,
          -1.1399593241709116,
          0.9427614038338752,
          -0.608796670914509,
          -0.180982777034367,
          1.7219984547975717,
          -0.026529348892462685,
          -0.09822764343422868,
          -1.944606864250181,
          0.8610178999848556,
          1.2603732054512387,
          -0.7031761322484911,
          -0.6031228391849389,
          -0.21885822736009458,
          0.4179951312327664,
          1.1013003666583145,
          0.9154925356461139,
          0.09501597794814125,
          -2.216397093263774,
          0.9567752156312098,
          0.5091191071901275,
          -1.2976367682644396,
          0.252814044628649,
          -0.1696171000230781,
          1.2540223824766012,
          -1.1091293259988333,
          -0.07234965598861014,
          -0.4820456279286618
         ],
         "xaxis": "x5",
         "y": [
          -2.2858288822656303,
          -0.3689246942451719,
          -0.4878085442863548,
          0.0899980136684595,
          0.29926889068795876,
          0.17158248776965915,
          -1.6060521316690806,
          0.8454748009189931,
          -0.7780592645242341,
          -1.5565002087012068,
          1.0372025831271199,
          0.8400056526466327,
          -0.9864917656790733,
          -0.7865337495103956,
          -0.4908674300457295,
          0.065209412493217,
          0.9568752404687892,
          -0.8396432482350337,
          -0.12579337362106027,
          -0.2521365828886802,
          -0.5335363396262771,
          -1.1038689888634035,
          0.4702284473695049,
          1.0127134627231362,
          0.06357379909821854,
          0.17666908872890652,
          -2.219413202901428,
          0.16988007691544227,
          0.21331495447507157,
          -0.38144917787193,
          -0.7234233309210866,
          1.1654897644783366,
          -0.0939289539623439,
          2.0170523368074034,
          -1.066331684671368,
          -1.2550980664771623,
          -0.6834753077766862,
          -1.9776636533758316,
          -0.7071974935890099,
          -0.8647725828109243,
          0.666397539151505,
          -2.1561037115340382,
          1.3088668119173679,
          0.1895499161046491,
          -0.2143124885233418,
          1.5600407751980936,
          1.49517789425164,
          -1.3163885089797722,
          0.3071100790489101,
          -1.1334144746266988,
          -1.3048753478925657,
          -1.7737873100165837,
          -1.311819431354197,
          0.6547271610296218,
          -1.080829127609142,
          -0.14106417250186926,
          1.12593274559256,
          -0.18690924228657932,
          1.0632163358016373,
          -0.9635096609258548,
          0.5013097476381637,
          -0.41205755974149105,
          0.7461619496075209,
          -2.0031465844771246,
          -1.4463887314168276,
          1.26252117377817,
          -1.2231128761730659,
          -0.02423340109344603,
          2.4622973856990584,
          0.4021529194125459,
          -0.7330723509578897,
          -0.04278911282889734,
          -0.3491149144994279,
          1.083279811870235,
          1.0426110712780547,
          -1.8778181299002392,
          -1.0794577182216054,
          -1.5317866657565158,
          1.0165126478271154,
          -0.8934024272225225,
          -0.3084887191806035,
          -0.699643240815849,
          -0.6605125009688817,
          2.1852107666274163,
          0.996809877383777,
          0.06108618985377447,
          2.4562499159811915,
          0.8295824341081318,
          1.4581308222086655,
          1.0332082700772245,
          0.6149475497997644,
          0.12629079890159314,
          -1.1722907357555292,
          -0.8750580032179174,
          0.2213111053489606,
          0.9767123482772395,
          1.3429699882896668,
          0.4560223707490966,
          -0.10333857580881216,
          0.7250381311930914
         ],
         "yaxis": "y5"
        },
        {
         "histfunc": "count",
         "histnorm": "",
         "marker": {
          "color": "rgba(55, 128, 191, 1.0)",
          "line": {
           "color": "#4D5663",
           "width": 1.3
          }
         },
         "name": "B",
         "nbinsx": 10,
         "opacity": 0.8,
         "orientation": "v",
         "type": "histogram",
         "x": [
          -2.2858288822656303,
          -0.3689246942451719,
          -0.4878085442863548,
          0.0899980136684595,
          0.29926889068795876,
          0.17158248776965915,
          -1.6060521316690806,
          0.8454748009189931,
          -0.7780592645242341,
          -1.5565002087012068,
          1.0372025831271199,
          0.8400056526466327,
          -0.9864917656790733,
          -0.7865337495103956,
          -0.4908674300457295,
          0.065209412493217,
          0.9568752404687892,
          -0.8396432482350337,
          -0.12579337362106027,
          -0.2521365828886802,
          -0.5335363396262771,
          -1.1038689888634035,
          0.4702284473695049,
          1.0127134627231362,
          0.06357379909821854,
          0.17666908872890652,
          -2.219413202901428,
          0.16988007691544227,
          0.21331495447507157,
          -0.38144917787193,
          -0.7234233309210866,
          1.1654897644783366,
          -0.0939289539623439,
          2.0170523368074034,
          -1.066331684671368,
          -1.2550980664771623,
          -0.6834753077766862,
          -1.9776636533758316,
          -0.7071974935890099,
          -0.8647725828109243,
          0.666397539151505,
          -2.1561037115340382,
          1.3088668119173679,
          0.1895499161046491,
          -0.2143124885233418,
          1.5600407751980936,
          1.49517789425164,
          -1.3163885089797722,
          0.3071100790489101,
          -1.1334144746266988,
          -1.3048753478925657,
          -1.7737873100165837,
          -1.311819431354197,
          0.6547271610296218,
          -1.080829127609142,
          -0.14106417250186926,
          1.12593274559256,
          -0.18690924228657932,
          1.0632163358016373,
          -0.9635096609258548,
          0.5013097476381637,
          -0.41205755974149105,
          0.7461619496075209,
          -2.0031465844771246,
          -1.4463887314168276,
          1.26252117377817,
          -1.2231128761730659,
          -0.02423340109344603,
          2.4622973856990584,
          0.4021529194125459,
          -0.7330723509578897,
          -0.04278911282889734,
          -0.3491149144994279,
          1.083279811870235,
          1.0426110712780547,
          -1.8778181299002392,
          -1.0794577182216054,
          -1.5317866657565158,
          1.0165126478271154,
          -0.8934024272225225,
          -0.3084887191806035,
          -0.699643240815849,
          -0.6605125009688817,
          2.1852107666274163,
          0.996809877383777,
          0.06108618985377447,
          2.4562499159811915,
          0.8295824341081318,
          1.4581308222086655,
          1.0332082700772245,
          0.6149475497997644,
          0.12629079890159314,
          -1.1722907357555292,
          -0.8750580032179174,
          0.2213111053489606,
          0.9767123482772395,
          1.3429699882896668,
          0.4560223707490966,
          -0.10333857580881216,
          0.7250381311930914
         ],
         "xaxis": "x6",
         "yaxis": "y6"
        },
        {
         "line": {
          "color": "rgba(128, 128, 128, 1.0)",
          "dash": "solid",
          "shape": "linear",
          "width": 1.3
         },
         "marker": {
          "size": 2,
          "symbol": "circle"
         },
         "mode": "markers",
         "name": "B",
         "text": "",
         "type": "scatter",
         "x": [
          0.32533126166391485,
          -1.0948514086567007,
          -1.255698256658563,
          -0.7115348500480666,
          -1.5734581413898854,
          -0.2693780640469743,
          0.5312122041618935,
          0.7643957254436153,
          1.3466440592846238,
          -0.011138496176147835,
          -1.006175222327991,
          -0.7657814111691001,
          0.2704614828597357,
          1.0183788515132506,
          -1.6313687143064737,
          -1.1377406766960112,
          1.754747546345917,
          1.0739077449778924,
          1.187443194858314,
          -1.1762172356198197,
          -2.330878647921375,
          -0.29177231149834987,
          -1.5420377609907308,
          -0.44511416089779543,
          1.8225838117742819,
          2.0680123691645167,
          -1.7712608957239127,
          -0.9471147591668491,
          1.6184713553015566,
          -0.6887690862726555,
          -0.2770483905764386,
          -1.0205117397712196,
          0.5411886732059261,
          -0.9679130404308924,
          0.7223804650709226,
          0.19804466049875422,
          0.5757187719225264,
          -0.6365002863183196,
          -0.21892397489849863,
          -0.38832629642815525,
          0.7564138642884449,
          -0.25283318868976823,
          1.6578227713614326,
          0.778371309783315,
          -0.025442852310508104,
          1.0290112662167505,
          -0.7478300783956774,
          -0.5892929751830931,
          2.2221162029341848,
          -0.21607144784907933,
          -1.4358331970874543,
          0.32341588670439253,
          2.1088425493463316,
          -0.35207423187535375,
          0.5480642595297384,
          0.42469906156207216,
          -0.5512588997951553,
          -0.744004698667509,
          1.3009083492632714,
          -2.913661302226596,
          -1.79700075056673,
          2.2240582842789998,
          0.20083784721363973,
          -1.1155836193566913,
          0.37881604036311256,
          -1.0515506213586965,
          -0.7142174212313871,
          -0.580132172851161,
          -0.36996370552054747,
          -1.9956692450109044,
          3.3068298553023956,
          -0.6535949069759464,
          -0.8126537235638911,
          -0.7910150450158807,
          -0.5897039192173934,
          -0.9641463263885816,
          0.09458255813228832,
          -0.35691739474910894,
          0.7368928853813077,
          0.5992388061778968,
          -0.8788160686807402,
          -0.4018213365525234,
          -0.05339238691644387,
          -0.3627926288640987,
          -0.7251370023029332,
          0.6550178848897097,
          -1.893543294098089,
          0.2507926698741199,
          -2.603137809917833,
          1.345799354558909,
          1.1223941883090842,
          2.0230162957001028,
          -0.04150802293184813,
          -0.011228513864026684,
          -0.5941780239391884,
          -0.3058191790453311,
          1.653697814059976,
          -1.2921648263284362,
          -0.11844456500402563,
          0.6483758171002227
         ],
         "xaxis": "x7",
         "y": [
          -2.2858288822656303,
          -0.3689246942451719,
          -0.4878085442863548,
          0.0899980136684595,
          0.29926889068795876,
          0.17158248776965915,
          -1.6060521316690806,
          0.8454748009189931,
          -0.7780592645242341,
          -1.5565002087012068,
          1.0372025831271199,
          0.8400056526466327,
          -0.9864917656790733,
          -0.7865337495103956,
          -0.4908674300457295,
          0.065209412493217,
          0.9568752404687892,
          -0.8396432482350337,
          -0.12579337362106027,
          -0.2521365828886802,
          -0.5335363396262771,
          -1.1038689888634035,
          0.4702284473695049,
          1.0127134627231362,
          0.06357379909821854,
          0.17666908872890652,
          -2.219413202901428,
          0.16988007691544227,
          0.21331495447507157,
          -0.38144917787193,
          -0.7234233309210866,
          1.1654897644783366,
          -0.0939289539623439,
          2.0170523368074034,
          -1.066331684671368,
          -1.2550980664771623,
          -0.6834753077766862,
          -1.9776636533758316,
          -0.7071974935890099,
          -0.8647725828109243,
          0.666397539151505,
          -2.1561037115340382,
          1.3088668119173679,
          0.1895499161046491,
          -0.2143124885233418,
          1.5600407751980936,
          1.49517789425164,
          -1.3163885089797722,
          0.3071100790489101,
          -1.1334144746266988,
          -1.3048753478925657,
          -1.7737873100165837,
          -1.311819431354197,
          0.6547271610296218,
          -1.080829127609142,
          -0.14106417250186926,
          1.12593274559256,
          -0.18690924228657932,
          1.0632163358016373,
          -0.9635096609258548,
          0.5013097476381637,
          -0.41205755974149105,
          0.7461619496075209,
          -2.0031465844771246,
          -1.4463887314168276,
          1.26252117377817,
          -1.2231128761730659,
          -0.02423340109344603,
          2.4622973856990584,
          0.4021529194125459,
          -0.7330723509578897,
          -0.04278911282889734,
          -0.3491149144994279,
          1.083279811870235,
          1.0426110712780547,
          -1.8778181299002392,
          -1.0794577182216054,
          -1.5317866657565158,
          1.0165126478271154,
          -0.8934024272225225,
          -0.3084887191806035,
          -0.699643240815849,
          -0.6605125009688817,
          2.1852107666274163,
          0.996809877383777,
          0.06108618985377447,
          2.4562499159811915,
          0.8295824341081318,
          1.4581308222086655,
          1.0332082700772245,
          0.6149475497997644,
          0.12629079890159314,
          -1.1722907357555292,
          -0.8750580032179174,
          0.2213111053489606,
          0.9767123482772395,
          1.3429699882896668,
          0.4560223707490966,
          -0.10333857580881216,
          0.7250381311930914
         ],
         "yaxis": "y7"
        },
        {
         "line": {
          "color": "rgba(128, 128, 128, 1.0)",
          "dash": "solid",
          "shape": "linear",
          "width": 1.3
         },
         "marker": {
          "size": 2,
          "symbol": "circle"
         },
         "mode": "markers",
         "name": "B",
         "text": "",
         "type": "scatter",
         "x": [
          0.41794327451779345,
          -0.03261673753335445,
          -0.4550174727865612,
          -0.004208347162477857,
          -0.6223002368189892,
          0.37079932691257855,
          0.4044968263615406,
          0.6156065311469866,
          -0.5629685390235405,
          1.4654377449230789,
          -0.08295070642030386,
          -0.8141272270394169,
          -0.08122433488173093,
          -0.8441255872868394,
          -0.1038450347802428,
          -0.8264106510813224,
          0.33835876227499645,
          1.610267518488858,
          -1.4599309420426185,
          0.866996034978916,
          -1.02904049897154,
          1.227022930533725,
          0.37668671410737165,
          1.3804286998065782,
          1.2314256439125106,
          0.12804999346254464,
          -1.3228095505120894,
          -0.21084639477165035,
          0.494661739271153,
          -0.954422281959772,
          -0.06817586662636892,
          1.6331220665869417,
          -1.8184158143329487,
          -0.9072522004937862,
          1.182488924288222,
          1.8100366556664622,
          -1.5672078033978591,
          0.0846336270397929,
          -0.880862573119192,
          0.6716695121190952,
          -1.2429081023690345,
          -0.6619703835342022,
          -0.2961579681187715,
          -0.6044465329934139,
          -0.20082288973325496,
          0.3976613955284886,
          0.26045978499364436,
          0.7234116917878068,
          0.15515371118901172,
          1.9235573499253922,
          -1.9163020993661708,
          -0.878533455623837,
          0.03334430451853539,
          -0.4749136499522914,
          -0.5783326094025376,
          -0.4058299179802135,
          -0.08161828458775061,
          -1.0019000743769864,
          0.9736625816934414,
          0.7006372454826486,
          1.009607343099174,
          -2.0230743602161305,
          -0.11886781633156078,
          0.08909096314851882,
          0.5224997723778508,
          -0.22213927396262687,
          -0.6450675952005471,
          1.7064853550957833,
          0.2994101531694659,
          -0.5061617487595512,
          -0.5713559687832984,
          1.9282636850213841,
          -1.5190521015763374,
          -0.019914506427172442,
          -0.7607785603577836,
          -0.1817706306857436,
          0.10979048618419447,
          2.2332548603506903,
          0.9542509226302287,
          -0.18666984421018826,
          0.4550501723241464,
          -1.7401968649713317,
          -0.4924158421882854,
          0.20238484904659426,
          1.0635355770648967,
          -0.20361483915691467,
          -1.0737855655373512,
          1.8037649286934079,
          -1.0164897009038132,
          -1.3978203525736188,
          -0.5532058788949985,
          1.4993041498775244,
          0.5331637896362921,
          0.7483597698017826,
          -0.492958356631721,
          -0.9739873053805449,
          0.7218719374631305,
          0.7620215689250328,
          1.142168023221178,
          0.9402807158049501
         ],
         "xaxis": "x8",
         "y": [
          -2.2858288822656303,
          -0.3689246942451719,
          -0.4878085442863548,
          0.0899980136684595,
          0.29926889068795876,
          0.17158248776965915,
          -1.6060521316690806,
          0.8454748009189931,
          -0.7780592645242341,
          -1.5565002087012068,
          1.0372025831271199,
          0.8400056526466327,
          -0.9864917656790733,
          -0.7865337495103956,
          -0.4908674300457295,
          0.065209412493217,
          0.9568752404687892,
          -0.8396432482350337,
          -0.12579337362106027,
          -0.2521365828886802,
          -0.5335363396262771,
          -1.1038689888634035,
          0.4702284473695049,
          1.0127134627231362,
          0.06357379909821854,
          0.17666908872890652,
          -2.219413202901428,
          0.16988007691544227,
          0.21331495447507157,
          -0.38144917787193,
          -0.7234233309210866,
          1.1654897644783366,
          -0.0939289539623439,
          2.0170523368074034,
          -1.066331684671368,
          -1.2550980664771623,
          -0.6834753077766862,
          -1.9776636533758316,
          -0.7071974935890099,
          -0.8647725828109243,
          0.666397539151505,
          -2.1561037115340382,
          1.3088668119173679,
          0.1895499161046491,
          -0.2143124885233418,
          1.5600407751980936,
          1.49517789425164,
          -1.3163885089797722,
          0.3071100790489101,
          -1.1334144746266988,
          -1.3048753478925657,
          -1.7737873100165837,
          -1.311819431354197,
          0.6547271610296218,
          -1.080829127609142,
          -0.14106417250186926,
          1.12593274559256,
          -0.18690924228657932,
          1.0632163358016373,
          -0.9635096609258548,
          0.5013097476381637,
          -0.41205755974149105,
          0.7461619496075209,
          -2.0031465844771246,
          -1.4463887314168276,
          1.26252117377817,
          -1.2231128761730659,
          -0.02423340109344603,
          2.4622973856990584,
          0.4021529194125459,
          -0.7330723509578897,
          -0.04278911282889734,
          -0.3491149144994279,
          1.083279811870235,
          1.0426110712780547,
          -1.8778181299002392,
          -1.0794577182216054,
          -1.5317866657565158,
          1.0165126478271154,
          -0.8934024272225225,
          -0.3084887191806035,
          -0.699643240815849,
          -0.6605125009688817,
          2.1852107666274163,
          0.996809877383777,
          0.06108618985377447,
          2.4562499159811915,
          0.8295824341081318,
          1.4581308222086655,
          1.0332082700772245,
          0.6149475497997644,
          0.12629079890159314,
          -1.1722907357555292,
          -0.8750580032179174,
          0.2213111053489606,
          0.9767123482772395,
          1.3429699882896668,
          0.4560223707490966,
          -0.10333857580881216,
          0.7250381311930914
         ],
         "yaxis": "y8"
        },
        {
         "line": {
          "color": "rgba(128, 128, 128, 1.0)",
          "dash": "solid",
          "shape": "linear",
          "width": 1.3
         },
         "marker": {
          "size": 2,
          "symbol": "circle"
         },
         "mode": "markers",
         "name": "C",
         "text": "",
         "type": "scatter",
         "x": [
          0.26094944737820464,
          0.6756427948506019,
          -1.6813264412755256,
          0.7204565479924322,
          -0.22704880191720428,
          1.6257351533472952,
          -0.4942521366331942,
          0.7554812681062507,
          -0.012121861711336316,
          0.6690437492201413,
          -0.3900373476123656,
          -1.8547898714279738,
          -1.4816658495535915,
          0.23413255955366494,
          0.21034036783623777,
          -0.5905362775657257,
          0.44400914529871144,
          -0.08988354995132182,
          -0.9092428787691089,
          0.1390659850483001,
          0.12827195930806926,
          -0.8936444613365111,
          0.48411247557442094,
          0.5712665158701542,
          -0.2306417488905862,
          1.0621829798421933,
          0.8049419422180617,
          0.3098617097266694,
          -1.2459142215390526,
          -1.5421708395982974,
          -0.28945802864526166,
          -0.457410342620502,
          0.8842863964667576,
          0.4716178732561643,
          1.080769153106927,
          -0.3027219145109648,
          1.4535241446092566,
          -2.006165431524184,
          0.3457218679585976,
          1.2554394332593966,
          1.583191788122711,
          0.1001572144415794,
          0.1218111415464603,
          0.7644233984677314,
          0.6256263350098222,
          -1.0406876639569114,
          -1.1116255859285793,
          -1.3226346404362888,
          0.9521322476501216,
          0.10361535193926541,
          1.6796946454820472,
          -1.0312332635688635,
          -1.6719091796148713,
          -1.4620898703178808,
          -2.338268650433877,
          0.7249705026245721,
          1.892208054311665,
          -0.8650989366390816,
          -0.36156197736492707,
          0.5556931482624534,
          0.5550851907531508,
          -2.7372209835746997,
          1.556315017341361,
          0.40241766720405525,
          0.459800704742713,
          0.010839974417914938,
          0.2869058777525109,
          -0.20948496585773907,
          -0.3228919963689883,
          -0.9424428117102946,
          0.08004987528207808,
          -1.722571435733268,
          -1.2599461951241895,
          -1.1399593241709116,
          0.9427614038338752,
          -0.608796670914509,
          -0.180982777034367,
          1.7219984547975717,
          -0.026529348892462685,
          -0.09822764343422868,
          -1.944606864250181,
          0.8610178999848556,
          1.2603732054512387,
          -0.7031761322484911,
          -0.6031228391849389,
          -0.21885822736009458,
          0.4179951312327664,
          1.1013003666583145,
          0.9154925356461139,
          0.09501597794814125,
          -2.216397093263774,
          0.9567752156312098,
          0.5091191071901275,
          -1.2976367682644396,
          0.252814044628649,
          -0.1696171000230781,
          1.2540223824766012,
          -1.1091293259988333,
          -0.07234965598861014,
          -0.4820456279286618
         ],
         "xaxis": "x9",
         "y": [
          0.32533126166391485,
          -1.0948514086567007,
          -1.255698256658563,
          -0.7115348500480666,
          -1.5734581413898854,
          -0.2693780640469743,
          0.5312122041618935,
          0.7643957254436153,
          1.3466440592846238,
          -0.011138496176147835,
          -1.006175222327991,
          -0.7657814111691001,
          0.2704614828597357,
          1.0183788515132506,
          -1.6313687143064737,
          -1.1377406766960112,
          1.754747546345917,
          1.0739077449778924,
          1.187443194858314,
          -1.1762172356198197,
          -2.330878647921375,
          -0.29177231149834987,
          -1.5420377609907308,
          -0.44511416089779543,
          1.8225838117742819,
          2.0680123691645167,
          -1.7712608957239127,
          -0.9471147591668491,
          1.6184713553015566,
          -0.6887690862726555,
          -0.2770483905764386,
          -1.0205117397712196,
          0.5411886732059261,
          -0.9679130404308924,
          0.7223804650709226,
          0.19804466049875422,
          0.5757187719225264,
          -0.6365002863183196,
          -0.21892397489849863,
          -0.38832629642815525,
          0.7564138642884449,
          -0.25283318868976823,
          1.6578227713614326,
          0.778371309783315,
          -0.025442852310508104,
          1.0290112662167505,
          -0.7478300783956774,
          -0.5892929751830931,
          2.2221162029341848,
          -0.21607144784907933,
          -1.4358331970874543,
          0.32341588670439253,
          2.1088425493463316,
          -0.35207423187535375,
          0.5480642595297384,
          0.42469906156207216,
          -0.5512588997951553,
          -0.744004698667509,
          1.3009083492632714,
          -2.913661302226596,
          -1.79700075056673,
          2.2240582842789998,
          0.20083784721363973,
          -1.1155836193566913,
          0.37881604036311256,
          -1.0515506213586965,
          -0.7142174212313871,
          -0.580132172851161,
          -0.36996370552054747,
          -1.9956692450109044,
          3.3068298553023956,
          -0.6535949069759464,
          -0.8126537235638911,
          -0.7910150450158807,
          -0.5897039192173934,
          -0.9641463263885816,
          0.09458255813228832,
          -0.35691739474910894,
          0.7368928853813077,
          0.5992388061778968,
          -0.8788160686807402,
          -0.4018213365525234,
          -0.05339238691644387,
          -0.3627926288640987,
          -0.7251370023029332,
          0.6550178848897097,
          -1.893543294098089,
          0.2507926698741199,
          -2.603137809917833,
          1.345799354558909,
          1.1223941883090842,
          2.0230162957001028,
          -0.04150802293184813,
          -0.011228513864026684,
          -0.5941780239391884,
          -0.3058191790453311,
          1.653697814059976,
          -1.2921648263284362,
          -0.11844456500402563,
          0.6483758171002227
         ],
         "yaxis": "y9"
        },
        {
         "line": {
          "color": "rgba(128, 128, 128, 1.0)",
          "dash": "solid",
          "shape": "linear",
          "width": 1.3
         },
         "marker": {
          "size": 2,
          "symbol": "circle"
         },
         "mode": "markers",
         "name": "C",
         "text": "",
         "type": "scatter",
         "x": [
          -2.2858288822656303,
          -0.3689246942451719,
          -0.4878085442863548,
          0.0899980136684595,
          0.29926889068795876,
          0.17158248776965915,
          -1.6060521316690806,
          0.8454748009189931,
          -0.7780592645242341,
          -1.5565002087012068,
          1.0372025831271199,
          0.8400056526466327,
          -0.9864917656790733,
          -0.7865337495103956,
          -0.4908674300457295,
          0.065209412493217,
          0.9568752404687892,
          -0.8396432482350337,
          -0.12579337362106027,
          -0.2521365828886802,
          -0.5335363396262771,
          -1.1038689888634035,
          0.4702284473695049,
          1.0127134627231362,
          0.06357379909821854,
          0.17666908872890652,
          -2.219413202901428,
          0.16988007691544227,
          0.21331495447507157,
          -0.38144917787193,
          -0.7234233309210866,
          1.1654897644783366,
          -0.0939289539623439,
          2.0170523368074034,
          -1.066331684671368,
          -1.2550980664771623,
          -0.6834753077766862,
          -1.9776636533758316,
          -0.7071974935890099,
          -0.8647725828109243,
          0.666397539151505,
          -2.1561037115340382,
          1.3088668119173679,
          0.1895499161046491,
          -0.2143124885233418,
          1.5600407751980936,
          1.49517789425164,
          -1.3163885089797722,
          0.3071100790489101,
          -1.1334144746266988,
          -1.3048753478925657,
          -1.7737873100165837,
          -1.311819431354197,
          0.6547271610296218,
          -1.080829127609142,
          -0.14106417250186926,
          1.12593274559256,
          -0.18690924228657932,
          1.0632163358016373,
          -0.9635096609258548,
          0.5013097476381637,
          -0.41205755974149105,
          0.7461619496075209,
          -2.0031465844771246,
          -1.4463887314168276,
          1.26252117377817,
          -1.2231128761730659,
          -0.02423340109344603,
          2.4622973856990584,
          0.4021529194125459,
          -0.7330723509578897,
          -0.04278911282889734,
          -0.3491149144994279,
          1.083279811870235,
          1.0426110712780547,
          -1.8778181299002392,
          -1.0794577182216054,
          -1.5317866657565158,
          1.0165126478271154,
          -0.8934024272225225,
          -0.3084887191806035,
          -0.699643240815849,
          -0.6605125009688817,
          2.1852107666274163,
          0.996809877383777,
          0.06108618985377447,
          2.4562499159811915,
          0.8295824341081318,
          1.4581308222086655,
          1.0332082700772245,
          0.6149475497997644,
          0.12629079890159314,
          -1.1722907357555292,
          -0.8750580032179174,
          0.2213111053489606,
          0.9767123482772395,
          1.3429699882896668,
          0.4560223707490966,
          -0.10333857580881216,
          0.7250381311930914
         ],
         "xaxis": "x10",
         "y": [
          0.32533126166391485,
          -1.0948514086567007,
          -1.255698256658563,
          -0.7115348500480666,
          -1.5734581413898854,
          -0.2693780640469743,
          0.5312122041618935,
          0.7643957254436153,
          1.3466440592846238,
          -0.011138496176147835,
          -1.006175222327991,
          -0.7657814111691001,
          0.2704614828597357,
          1.0183788515132506,
          -1.6313687143064737,
          -1.1377406766960112,
          1.754747546345917,
          1.0739077449778924,
          1.187443194858314,
          -1.1762172356198197,
          -2.330878647921375,
          -0.29177231149834987,
          -1.5420377609907308,
          -0.44511416089779543,
          1.8225838117742819,
          2.0680123691645167,
          -1.7712608957239127,
          -0.9471147591668491,
          1.6184713553015566,
          -0.6887690862726555,
          -0.2770483905764386,
          -1.0205117397712196,
          0.5411886732059261,
          -0.9679130404308924,
          0.7223804650709226,
          0.19804466049875422,
          0.5757187719225264,
          -0.6365002863183196,
          -0.21892397489849863,
          -0.38832629642815525,
          0.7564138642884449,
          -0.25283318868976823,
          1.6578227713614326,
          0.778371309783315,
          -0.025442852310508104,
          1.0290112662167505,
          -0.7478300783956774,
          -0.5892929751830931,
          2.2221162029341848,
          -0.21607144784907933,
          -1.4358331970874543,
          0.32341588670439253,
          2.1088425493463316,
          -0.35207423187535375,
          0.5480642595297384,
          0.42469906156207216,
          -0.5512588997951553,
          -0.744004698667509,
          1.3009083492632714,
          -2.913661302226596,
          -1.79700075056673,
          2.2240582842789998,
          0.20083784721363973,
          -1.1155836193566913,
          0.37881604036311256,
          -1.0515506213586965,
          -0.7142174212313871,
          -0.580132172851161,
          -0.36996370552054747,
          -1.9956692450109044,
          3.3068298553023956,
          -0.6535949069759464,
          -0.8126537235638911,
          -0.7910150450158807,
          -0.5897039192173934,
          -0.9641463263885816,
          0.09458255813228832,
          -0.35691739474910894,
          0.7368928853813077,
          0.5992388061778968,
          -0.8788160686807402,
          -0.4018213365525234,
          -0.05339238691644387,
          -0.3627926288640987,
          -0.7251370023029332,
          0.6550178848897097,
          -1.893543294098089,
          0.2507926698741199,
          -2.603137809917833,
          1.345799354558909,
          1.1223941883090842,
          2.0230162957001028,
          -0.04150802293184813,
          -0.011228513864026684,
          -0.5941780239391884,
          -0.3058191790453311,
          1.653697814059976,
          -1.2921648263284362,
          -0.11844456500402563,
          0.6483758171002227
         ],
         "yaxis": "y10"
        },
        {
         "histfunc": "count",
         "histnorm": "",
         "marker": {
          "color": "rgba(50, 171, 96, 1.0)",
          "line": {
           "color": "#4D5663",
           "width": 1.3
          }
         },
         "name": "C",
         "nbinsx": 10,
         "opacity": 0.8,
         "orientation": "v",
         "type": "histogram",
         "x": [
          0.32533126166391485,
          -1.0948514086567007,
          -1.255698256658563,
          -0.7115348500480666,
          -1.5734581413898854,
          -0.2693780640469743,
          0.5312122041618935,
          0.7643957254436153,
          1.3466440592846238,
          -0.011138496176147835,
          -1.006175222327991,
          -0.7657814111691001,
          0.2704614828597357,
          1.0183788515132506,
          -1.6313687143064737,
          -1.1377406766960112,
          1.754747546345917,
          1.0739077449778924,
          1.187443194858314,
          -1.1762172356198197,
          -2.330878647921375,
          -0.29177231149834987,
          -1.5420377609907308,
          -0.44511416089779543,
          1.8225838117742819,
          2.0680123691645167,
          -1.7712608957239127,
          -0.9471147591668491,
          1.6184713553015566,
          -0.6887690862726555,
          -0.2770483905764386,
          -1.0205117397712196,
          0.5411886732059261,
          -0.9679130404308924,
          0.7223804650709226,
          0.19804466049875422,
          0.5757187719225264,
          -0.6365002863183196,
          -0.21892397489849863,
          -0.38832629642815525,
          0.7564138642884449,
          -0.25283318868976823,
          1.6578227713614326,
          0.778371309783315,
          -0.025442852310508104,
          1.0290112662167505,
          -0.7478300783956774,
          -0.5892929751830931,
          2.2221162029341848,
          -0.21607144784907933,
          -1.4358331970874543,
          0.32341588670439253,
          2.1088425493463316,
          -0.35207423187535375,
          0.5480642595297384,
          0.42469906156207216,
          -0.5512588997951553,
          -0.744004698667509,
          1.3009083492632714,
          -2.913661302226596,
          -1.79700075056673,
          2.2240582842789998,
          0.20083784721363973,
          -1.1155836193566913,
          0.37881604036311256,
          -1.0515506213586965,
          -0.7142174212313871,
          -0.580132172851161,
          -0.36996370552054747,
          -1.9956692450109044,
          3.3068298553023956,
          -0.6535949069759464,
          -0.8126537235638911,
          -0.7910150450158807,
          -0.5897039192173934,
          -0.9641463263885816,
          0.09458255813228832,
          -0.35691739474910894,
          0.7368928853813077,
          0.5992388061778968,
          -0.8788160686807402,
          -0.4018213365525234,
          -0.05339238691644387,
          -0.3627926288640987,
          -0.7251370023029332,
          0.6550178848897097,
          -1.893543294098089,
          0.2507926698741199,
          -2.603137809917833,
          1.345799354558909,
          1.1223941883090842,
          2.0230162957001028,
          -0.04150802293184813,
          -0.011228513864026684,
          -0.5941780239391884,
          -0.3058191790453311,
          1.653697814059976,
          -1.2921648263284362,
          -0.11844456500402563,
          0.6483758171002227
         ],
         "xaxis": "x11",
         "yaxis": "y11"
        },
        {
         "line": {
          "color": "rgba(128, 128, 128, 1.0)",
          "dash": "solid",
          "shape": "linear",
          "width": 1.3
         },
         "marker": {
          "size": 2,
          "symbol": "circle"
         },
         "mode": "markers",
         "name": "C",
         "text": "",
         "type": "scatter",
         "x": [
          0.41794327451779345,
          -0.03261673753335445,
          -0.4550174727865612,
          -0.004208347162477857,
          -0.6223002368189892,
          0.37079932691257855,
          0.4044968263615406,
          0.6156065311469866,
          -0.5629685390235405,
          1.4654377449230789,
          -0.08295070642030386,
          -0.8141272270394169,
          -0.08122433488173093,
          -0.8441255872868394,
          -0.1038450347802428,
          -0.8264106510813224,
          0.33835876227499645,
          1.610267518488858,
          -1.4599309420426185,
          0.866996034978916,
          -1.02904049897154,
          1.227022930533725,
          0.37668671410737165,
          1.3804286998065782,
          1.2314256439125106,
          0.12804999346254464,
          -1.3228095505120894,
          -0.21084639477165035,
          0.494661739271153,
          -0.954422281959772,
          -0.06817586662636892,
          1.6331220665869417,
          -1.8184158143329487,
          -0.9072522004937862,
          1.182488924288222,
          1.8100366556664622,
          -1.5672078033978591,
          0.0846336270397929,
          -0.880862573119192,
          0.6716695121190952,
          -1.2429081023690345,
          -0.6619703835342022,
          -0.2961579681187715,
          -0.6044465329934139,
          -0.20082288973325496,
          0.3976613955284886,
          0.26045978499364436,
          0.7234116917878068,
          0.15515371118901172,
          1.9235573499253922,
          -1.9163020993661708,
          -0.878533455623837,
          0.03334430451853539,
          -0.4749136499522914,
          -0.5783326094025376,
          -0.4058299179802135,
          -0.08161828458775061,
          -1.0019000743769864,
          0.9736625816934414,
          0.7006372454826486,
          1.009607343099174,
          -2.0230743602161305,
          -0.11886781633156078,
          0.08909096314851882,
          0.5224997723778508,
          -0.22213927396262687,
          -0.6450675952005471,
          1.7064853550957833,
          0.2994101531694659,
          -0.5061617487595512,
          -0.5713559687832984,
          1.9282636850213841,
          -1.5190521015763374,
          -0.019914506427172442,
          -0.7607785603577836,
          -0.1817706306857436,
          0.10979048618419447,
          2.2332548603506903,
          0.9542509226302287,
          -0.18666984421018826,
          0.4550501723241464,
          -1.7401968649713317,
          -0.4924158421882854,
          0.20238484904659426,
          1.0635355770648967,
          -0.20361483915691467,
          -1.0737855655373512,
          1.8037649286934079,
          -1.0164897009038132,
          -1.3978203525736188,
          -0.5532058788949985,
          1.4993041498775244,
          0.5331637896362921,
          0.7483597698017826,
          -0.492958356631721,
          -0.9739873053805449,
          0.7218719374631305,
          0.7620215689250328,
          1.142168023221178,
          0.9402807158049501
         ],
         "xaxis": "x12",
         "y": [
          0.32533126166391485,
          -1.0948514086567007,
          -1.255698256658563,
          -0.7115348500480666,
          -1.5734581413898854,
          -0.2693780640469743,
          0.5312122041618935,
          0.7643957254436153,
          1.3466440592846238,
          -0.011138496176147835,
          -1.006175222327991,
          -0.7657814111691001,
          0.2704614828597357,
          1.0183788515132506,
          -1.6313687143064737,
          -1.1377406766960112,
          1.754747546345917,
          1.0739077449778924,
          1.187443194858314,
          -1.1762172356198197,
          -2.330878647921375,
          -0.29177231149834987,
          -1.5420377609907308,
          -0.44511416089779543,
          1.8225838117742819,
          2.0680123691645167,
          -1.7712608957239127,
          -0.9471147591668491,
          1.6184713553015566,
          -0.6887690862726555,
          -0.2770483905764386,
          -1.0205117397712196,
          0.5411886732059261,
          -0.9679130404308924,
          0.7223804650709226,
          0.19804466049875422,
          0.5757187719225264,
          -0.6365002863183196,
          -0.21892397489849863,
          -0.38832629642815525,
          0.7564138642884449,
          -0.25283318868976823,
          1.6578227713614326,
          0.778371309783315,
          -0.025442852310508104,
          1.0290112662167505,
          -0.7478300783956774,
          -0.5892929751830931,
          2.2221162029341848,
          -0.21607144784907933,
          -1.4358331970874543,
          0.32341588670439253,
          2.1088425493463316,
          -0.35207423187535375,
          0.5480642595297384,
          0.42469906156207216,
          -0.5512588997951553,
          -0.744004698667509,
          1.3009083492632714,
          -2.913661302226596,
          -1.79700075056673,
          2.2240582842789998,
          0.20083784721363973,
          -1.1155836193566913,
          0.37881604036311256,
          -1.0515506213586965,
          -0.7142174212313871,
          -0.580132172851161,
          -0.36996370552054747,
          -1.9956692450109044,
          3.3068298553023956,
          -0.6535949069759464,
          -0.8126537235638911,
          -0.7910150450158807,
          -0.5897039192173934,
          -0.9641463263885816,
          0.09458255813228832,
          -0.35691739474910894,
          0.7368928853813077,
          0.5992388061778968,
          -0.8788160686807402,
          -0.4018213365525234,
          -0.05339238691644387,
          -0.3627926288640987,
          -0.7251370023029332,
          0.6550178848897097,
          -1.893543294098089,
          0.2507926698741199,
          -2.603137809917833,
          1.345799354558909,
          1.1223941883090842,
          2.0230162957001028,
          -0.04150802293184813,
          -0.011228513864026684,
          -0.5941780239391884,
          -0.3058191790453311,
          1.653697814059976,
          -1.2921648263284362,
          -0.11844456500402563,
          0.6483758171002227
         ],
         "yaxis": "y12"
        },
        {
         "line": {
          "color": "rgba(128, 128, 128, 1.0)",
          "dash": "solid",
          "shape": "linear",
          "width": 1.3
         },
         "marker": {
          "size": 2,
          "symbol": "circle"
         },
         "mode": "markers",
         "name": "D",
         "text": "",
         "type": "scatter",
         "x": [
          0.26094944737820464,
          0.6756427948506019,
          -1.6813264412755256,
          0.7204565479924322,
          -0.22704880191720428,
          1.6257351533472952,
          -0.4942521366331942,
          0.7554812681062507,
          -0.012121861711336316,
          0.6690437492201413,
          -0.3900373476123656,
          -1.8547898714279738,
          -1.4816658495535915,
          0.23413255955366494,
          0.21034036783623777,
          -0.5905362775657257,
          0.44400914529871144,
          -0.08988354995132182,
          -0.9092428787691089,
          0.1390659850483001,
          0.12827195930806926,
          -0.8936444613365111,
          0.48411247557442094,
          0.5712665158701542,
          -0.2306417488905862,
          1.0621829798421933,
          0.8049419422180617,
          0.3098617097266694,
          -1.2459142215390526,
          -1.5421708395982974,
          -0.28945802864526166,
          -0.457410342620502,
          0.8842863964667576,
          0.4716178732561643,
          1.080769153106927,
          -0.3027219145109648,
          1.4535241446092566,
          -2.006165431524184,
          0.3457218679585976,
          1.2554394332593966,
          1.583191788122711,
          0.1001572144415794,
          0.1218111415464603,
          0.7644233984677314,
          0.6256263350098222,
          -1.0406876639569114,
          -1.1116255859285793,
          -1.3226346404362888,
          0.9521322476501216,
          0.10361535193926541,
          1.6796946454820472,
          -1.0312332635688635,
          -1.6719091796148713,
          -1.4620898703178808,
          -2.338268650433877,
          0.7249705026245721,
          1.892208054311665,
          -0.8650989366390816,
          -0.36156197736492707,
          0.5556931482624534,
          0.5550851907531508,
          -2.7372209835746997,
          1.556315017341361,
          0.40241766720405525,
          0.459800704742713,
          0.010839974417914938,
          0.2869058777525109,
          -0.20948496585773907,
          -0.3228919963689883,
          -0.9424428117102946,
          0.08004987528207808,
          -1.722571435733268,
          -1.2599461951241895,
          -1.1399593241709116,
          0.9427614038338752,
          -0.608796670914509,
          -0.180982777034367,
          1.7219984547975717,
          -0.026529348892462685,
          -0.09822764343422868,
          -1.944606864250181,
          0.8610178999848556,
          1.2603732054512387,
          -0.7031761322484911,
          -0.6031228391849389,
          -0.21885822736009458,
          0.4179951312327664,
          1.1013003666583145,
          0.9154925356461139,
          0.09501597794814125,
          -2.216397093263774,
          0.9567752156312098,
          0.5091191071901275,
          -1.2976367682644396,
          0.252814044628649,
          -0.1696171000230781,
          1.2540223824766012,
          -1.1091293259988333,
          -0.07234965598861014,
          -0.4820456279286618
         ],
         "xaxis": "x13",
         "y": [
          0.41794327451779345,
          -0.03261673753335445,
          -0.4550174727865612,
          -0.004208347162477857,
          -0.6223002368189892,
          0.37079932691257855,
          0.4044968263615406,
          0.6156065311469866,
          -0.5629685390235405,
          1.4654377449230789,
          -0.08295070642030386,
          -0.8141272270394169,
          -0.08122433488173093,
          -0.8441255872868394,
          -0.1038450347802428,
          -0.8264106510813224,
          0.33835876227499645,
          1.610267518488858,
          -1.4599309420426185,
          0.866996034978916,
          -1.02904049897154,
          1.227022930533725,
          0.37668671410737165,
          1.3804286998065782,
          1.2314256439125106,
          0.12804999346254464,
          -1.3228095505120894,
          -0.21084639477165035,
          0.494661739271153,
          -0.954422281959772,
          -0.06817586662636892,
          1.6331220665869417,
          -1.8184158143329487,
          -0.9072522004937862,
          1.182488924288222,
          1.8100366556664622,
          -1.5672078033978591,
          0.0846336270397929,
          -0.880862573119192,
          0.6716695121190952,
          -1.2429081023690345,
          -0.6619703835342022,
          -0.2961579681187715,
          -0.6044465329934139,
          -0.20082288973325496,
          0.3976613955284886,
          0.26045978499364436,
          0.7234116917878068,
          0.15515371118901172,
          1.9235573499253922,
          -1.9163020993661708,
          -0.878533455623837,
          0.03334430451853539,
          -0.4749136499522914,
          -0.5783326094025376,
          -0.4058299179802135,
          -0.08161828458775061,
          -1.0019000743769864,
          0.9736625816934414,
          0.7006372454826486,
          1.009607343099174,
          -2.0230743602161305,
          -0.11886781633156078,
          0.08909096314851882,
          0.5224997723778508,
          -0.22213927396262687,
          -0.6450675952005471,
          1.7064853550957833,
          0.2994101531694659,
          -0.5061617487595512,
          -0.5713559687832984,
          1.9282636850213841,
          -1.5190521015763374,
          -0.019914506427172442,
          -0.7607785603577836,
          -0.1817706306857436,
          0.10979048618419447,
          2.2332548603506903,
          0.9542509226302287,
          -0.18666984421018826,
          0.4550501723241464,
          -1.7401968649713317,
          -0.4924158421882854,
          0.20238484904659426,
          1.0635355770648967,
          -0.20361483915691467,
          -1.0737855655373512,
          1.8037649286934079,
          -1.0164897009038132,
          -1.3978203525736188,
          -0.5532058788949985,
          1.4993041498775244,
          0.5331637896362921,
          0.7483597698017826,
          -0.492958356631721,
          -0.9739873053805449,
          0.7218719374631305,
          0.7620215689250328,
          1.142168023221178,
          0.9402807158049501
         ],
         "yaxis": "y13"
        },
        {
         "line": {
          "color": "rgba(128, 128, 128, 1.0)",
          "dash": "solid",
          "shape": "linear",
          "width": 1.3
         },
         "marker": {
          "size": 2,
          "symbol": "circle"
         },
         "mode": "markers",
         "name": "D",
         "text": "",
         "type": "scatter",
         "x": [
          -2.2858288822656303,
          -0.3689246942451719,
          -0.4878085442863548,
          0.0899980136684595,
          0.29926889068795876,
          0.17158248776965915,
          -1.6060521316690806,
          0.8454748009189931,
          -0.7780592645242341,
          -1.5565002087012068,
          1.0372025831271199,
          0.8400056526466327,
          -0.9864917656790733,
          -0.7865337495103956,
          -0.4908674300457295,
          0.065209412493217,
          0.9568752404687892,
          -0.8396432482350337,
          -0.12579337362106027,
          -0.2521365828886802,
          -0.5335363396262771,
          -1.1038689888634035,
          0.4702284473695049,
          1.0127134627231362,
          0.06357379909821854,
          0.17666908872890652,
          -2.219413202901428,
          0.16988007691544227,
          0.21331495447507157,
          -0.38144917787193,
          -0.7234233309210866,
          1.1654897644783366,
          -0.0939289539623439,
          2.0170523368074034,
          -1.066331684671368,
          -1.2550980664771623,
          -0.6834753077766862,
          -1.9776636533758316,
          -0.7071974935890099,
          -0.8647725828109243,
          0.666397539151505,
          -2.1561037115340382,
          1.3088668119173679,
          0.1895499161046491,
          -0.2143124885233418,
          1.5600407751980936,
          1.49517789425164,
          -1.3163885089797722,
          0.3071100790489101,
          -1.1334144746266988,
          -1.3048753478925657,
          -1.7737873100165837,
          -1.311819431354197,
          0.6547271610296218,
          -1.080829127609142,
          -0.14106417250186926,
          1.12593274559256,
          -0.18690924228657932,
          1.0632163358016373,
          -0.9635096609258548,
          0.5013097476381637,
          -0.41205755974149105,
          0.7461619496075209,
          -2.0031465844771246,
          -1.4463887314168276,
          1.26252117377817,
          -1.2231128761730659,
          -0.02423340109344603,
          2.4622973856990584,
          0.4021529194125459,
          -0.7330723509578897,
          -0.04278911282889734,
          -0.3491149144994279,
          1.083279811870235,
          1.0426110712780547,
          -1.8778181299002392,
          -1.0794577182216054,
          -1.5317866657565158,
          1.0165126478271154,
          -0.8934024272225225,
          -0.3084887191806035,
          -0.699643240815849,
          -0.6605125009688817,
          2.1852107666274163,
          0.996809877383777,
          0.06108618985377447,
          2.4562499159811915,
          0.8295824341081318,
          1.4581308222086655,
          1.0332082700772245,
          0.6149475497997644,
          0.12629079890159314,
          -1.1722907357555292,
          -0.8750580032179174,
          0.2213111053489606,
          0.9767123482772395,
          1.3429699882896668,
          0.4560223707490966,
          -0.10333857580881216,
          0.7250381311930914
         ],
         "xaxis": "x14",
         "y": [
          0.41794327451779345,
          -0.03261673753335445,
          -0.4550174727865612,
          -0.004208347162477857,
          -0.6223002368189892,
          0.37079932691257855,
          0.4044968263615406,
          0.6156065311469866,
          -0.5629685390235405,
          1.4654377449230789,
          -0.08295070642030386,
          -0.8141272270394169,
          -0.08122433488173093,
          -0.8441255872868394,
          -0.1038450347802428,
          -0.8264106510813224,
          0.33835876227499645,
          1.610267518488858,
          -1.4599309420426185,
          0.866996034978916,
          -1.02904049897154,
          1.227022930533725,
          0.37668671410737165,
          1.3804286998065782,
          1.2314256439125106,
          0.12804999346254464,
          -1.3228095505120894,
          -0.21084639477165035,
          0.494661739271153,
          -0.954422281959772,
          -0.06817586662636892,
          1.6331220665869417,
          -1.8184158143329487,
          -0.9072522004937862,
          1.182488924288222,
          1.8100366556664622,
          -1.5672078033978591,
          0.0846336270397929,
          -0.880862573119192,
          0.6716695121190952,
          -1.2429081023690345,
          -0.6619703835342022,
          -0.2961579681187715,
          -0.6044465329934139,
          -0.20082288973325496,
          0.3976613955284886,
          0.26045978499364436,
          0.7234116917878068,
          0.15515371118901172,
          1.9235573499253922,
          -1.9163020993661708,
          -0.878533455623837,
          0.03334430451853539,
          -0.4749136499522914,
          -0.5783326094025376,
          -0.4058299179802135,
          -0.08161828458775061,
          -1.0019000743769864,
          0.9736625816934414,
          0.7006372454826486,
          1.009607343099174,
          -2.0230743602161305,
          -0.11886781633156078,
          0.08909096314851882,
          0.5224997723778508,
          -0.22213927396262687,
          -0.6450675952005471,
          1.7064853550957833,
          0.2994101531694659,
          -0.5061617487595512,
          -0.5713559687832984,
          1.9282636850213841,
          -1.5190521015763374,
          -0.019914506427172442,
          -0.7607785603577836,
          -0.1817706306857436,
          0.10979048618419447,
          2.2332548603506903,
          0.9542509226302287,
          -0.18666984421018826,
          0.4550501723241464,
          -1.7401968649713317,
          -0.4924158421882854,
          0.20238484904659426,
          1.0635355770648967,
          -0.20361483915691467,
          -1.0737855655373512,
          1.8037649286934079,
          -1.0164897009038132,
          -1.3978203525736188,
          -0.5532058788949985,
          1.4993041498775244,
          0.5331637896362921,
          0.7483597698017826,
          -0.492958356631721,
          -0.9739873053805449,
          0.7218719374631305,
          0.7620215689250328,
          1.142168023221178,
          0.9402807158049501
         ],
         "yaxis": "y14"
        },
        {
         "line": {
          "color": "rgba(128, 128, 128, 1.0)",
          "dash": "solid",
          "shape": "linear",
          "width": 1.3
         },
         "marker": {
          "size": 2,
          "symbol": "circle"
         },
         "mode": "markers",
         "name": "D",
         "text": "",
         "type": "scatter",
         "x": [
          0.32533126166391485,
          -1.0948514086567007,
          -1.255698256658563,
          -0.7115348500480666,
          -1.5734581413898854,
          -0.2693780640469743,
          0.5312122041618935,
          0.7643957254436153,
          1.3466440592846238,
          -0.011138496176147835,
          -1.006175222327991,
          -0.7657814111691001,
          0.2704614828597357,
          1.0183788515132506,
          -1.6313687143064737,
          -1.1377406766960112,
          1.754747546345917,
          1.0739077449778924,
          1.187443194858314,
          -1.1762172356198197,
          -2.330878647921375,
          -0.29177231149834987,
          -1.5420377609907308,
          -0.44511416089779543,
          1.8225838117742819,
          2.0680123691645167,
          -1.7712608957239127,
          -0.9471147591668491,
          1.6184713553015566,
          -0.6887690862726555,
          -0.2770483905764386,
          -1.0205117397712196,
          0.5411886732059261,
          -0.9679130404308924,
          0.7223804650709226,
          0.19804466049875422,
          0.5757187719225264,
          -0.6365002863183196,
          -0.21892397489849863,
          -0.38832629642815525,
          0.7564138642884449,
          -0.25283318868976823,
          1.6578227713614326,
          0.778371309783315,
          -0.025442852310508104,
          1.0290112662167505,
          -0.7478300783956774,
          -0.5892929751830931,
          2.2221162029341848,
          -0.21607144784907933,
          -1.4358331970874543,
          0.32341588670439253,
          2.1088425493463316,
          -0.35207423187535375,
          0.5480642595297384,
          0.42469906156207216,
          -0.5512588997951553,
          -0.744004698667509,
          1.3009083492632714,
          -2.913661302226596,
          -1.79700075056673,
          2.2240582842789998,
          0.20083784721363973,
          -1.1155836193566913,
          0.37881604036311256,
          -1.0515506213586965,
          -0.7142174212313871,
          -0.580132172851161,
          -0.36996370552054747,
          -1.9956692450109044,
          3.3068298553023956,
          -0.6535949069759464,
          -0.8126537235638911,
          -0.7910150450158807,
          -0.5897039192173934,
          -0.9641463263885816,
          0.09458255813228832,
          -0.35691739474910894,
          0.7368928853813077,
          0.5992388061778968,
          -0.8788160686807402,
          -0.4018213365525234,
          -0.05339238691644387,
          -0.3627926288640987,
          -0.7251370023029332,
          0.6550178848897097,
          -1.893543294098089,
          0.2507926698741199,
          -2.603137809917833,
          1.345799354558909,
          1.1223941883090842,
          2.0230162957001028,
          -0.04150802293184813,
          -0.011228513864026684,
          -0.5941780239391884,
          -0.3058191790453311,
          1.653697814059976,
          -1.2921648263284362,
          -0.11844456500402563,
          0.6483758171002227
         ],
         "xaxis": "x15",
         "y": [
          0.41794327451779345,
          -0.03261673753335445,
          -0.4550174727865612,
          -0.004208347162477857,
          -0.6223002368189892,
          0.37079932691257855,
          0.4044968263615406,
          0.6156065311469866,
          -0.5629685390235405,
          1.4654377449230789,
          -0.08295070642030386,
          -0.8141272270394169,
          -0.08122433488173093,
          -0.8441255872868394,
          -0.1038450347802428,
          -0.8264106510813224,
          0.33835876227499645,
          1.610267518488858,
          -1.4599309420426185,
          0.866996034978916,
          -1.02904049897154,
          1.227022930533725,
          0.37668671410737165,
          1.3804286998065782,
          1.2314256439125106,
          0.12804999346254464,
          -1.3228095505120894,
          -0.21084639477165035,
          0.494661739271153,
          -0.954422281959772,
          -0.06817586662636892,
          1.6331220665869417,
          -1.8184158143329487,
          -0.9072522004937862,
          1.182488924288222,
          1.8100366556664622,
          -1.5672078033978591,
          0.0846336270397929,
          -0.880862573119192,
          0.6716695121190952,
          -1.2429081023690345,
          -0.6619703835342022,
          -0.2961579681187715,
          -0.6044465329934139,
          -0.20082288973325496,
          0.3976613955284886,
          0.26045978499364436,
          0.7234116917878068,
          0.15515371118901172,
          1.9235573499253922,
          -1.9163020993661708,
          -0.878533455623837,
          0.03334430451853539,
          -0.4749136499522914,
          -0.5783326094025376,
          -0.4058299179802135,
          -0.08161828458775061,
          -1.0019000743769864,
          0.9736625816934414,
          0.7006372454826486,
          1.009607343099174,
          -2.0230743602161305,
          -0.11886781633156078,
          0.08909096314851882,
          0.5224997723778508,
          -0.22213927396262687,
          -0.6450675952005471,
          1.7064853550957833,
          0.2994101531694659,
          -0.5061617487595512,
          -0.5713559687832984,
          1.9282636850213841,
          -1.5190521015763374,
          -0.019914506427172442,
          -0.7607785603577836,
          -0.1817706306857436,
          0.10979048618419447,
          2.2332548603506903,
          0.9542509226302287,
          -0.18666984421018826,
          0.4550501723241464,
          -1.7401968649713317,
          -0.4924158421882854,
          0.20238484904659426,
          1.0635355770648967,
          -0.20361483915691467,
          -1.0737855655373512,
          1.8037649286934079,
          -1.0164897009038132,
          -1.3978203525736188,
          -0.5532058788949985,
          1.4993041498775244,
          0.5331637896362921,
          0.7483597698017826,
          -0.492958356631721,
          -0.9739873053805449,
          0.7218719374631305,
          0.7620215689250328,
          1.142168023221178,
          0.9402807158049501
         ],
         "yaxis": "y15"
        },
        {
         "histfunc": "count",
         "histnorm": "",
         "marker": {
          "color": "rgba(128, 0, 128, 1.0)",
          "line": {
           "color": "#4D5663",
           "width": 1.3
          }
         },
         "name": "D",
         "nbinsx": 10,
         "opacity": 0.8,
         "orientation": "v",
         "type": "histogram",
         "x": [
          0.41794327451779345,
          -0.03261673753335445,
          -0.4550174727865612,
          -0.004208347162477857,
          -0.6223002368189892,
          0.37079932691257855,
          0.4044968263615406,
          0.6156065311469866,
          -0.5629685390235405,
          1.4654377449230789,
          -0.08295070642030386,
          -0.8141272270394169,
          -0.08122433488173093,
          -0.8441255872868394,
          -0.1038450347802428,
          -0.8264106510813224,
          0.33835876227499645,
          1.610267518488858,
          -1.4599309420426185,
          0.866996034978916,
          -1.02904049897154,
          1.227022930533725,
          0.37668671410737165,
          1.3804286998065782,
          1.2314256439125106,
          0.12804999346254464,
          -1.3228095505120894,
          -0.21084639477165035,
          0.494661739271153,
          -0.954422281959772,
          -0.06817586662636892,
          1.6331220665869417,
          -1.8184158143329487,
          -0.9072522004937862,
          1.182488924288222,
          1.8100366556664622,
          -1.5672078033978591,
          0.0846336270397929,
          -0.880862573119192,
          0.6716695121190952,
          -1.2429081023690345,
          -0.6619703835342022,
          -0.2961579681187715,
          -0.6044465329934139,
          -0.20082288973325496,
          0.3976613955284886,
          0.26045978499364436,
          0.7234116917878068,
          0.15515371118901172,
          1.9235573499253922,
          -1.9163020993661708,
          -0.878533455623837,
          0.03334430451853539,
          -0.4749136499522914,
          -0.5783326094025376,
          -0.4058299179802135,
          -0.08161828458775061,
          -1.0019000743769864,
          0.9736625816934414,
          0.7006372454826486,
          1.009607343099174,
          -2.0230743602161305,
          -0.11886781633156078,
          0.08909096314851882,
          0.5224997723778508,
          -0.22213927396262687,
          -0.6450675952005471,
          1.7064853550957833,
          0.2994101531694659,
          -0.5061617487595512,
          -0.5713559687832984,
          1.9282636850213841,
          -1.5190521015763374,
          -0.019914506427172442,
          -0.7607785603577836,
          -0.1817706306857436,
          0.10979048618419447,
          2.2332548603506903,
          0.9542509226302287,
          -0.18666984421018826,
          0.4550501723241464,
          -1.7401968649713317,
          -0.4924158421882854,
          0.20238484904659426,
          1.0635355770648967,
          -0.20361483915691467,
          -1.0737855655373512,
          1.8037649286934079,
          -1.0164897009038132,
          -1.3978203525736188,
          -0.5532058788949985,
          1.4993041498775244,
          0.5331637896362921,
          0.7483597698017826,
          -0.492958356631721,
          -0.9739873053805449,
          0.7218719374631305,
          0.7620215689250328,
          1.142168023221178,
          0.9402807158049501
         ],
         "xaxis": "x16",
         "yaxis": "y16"
        }
       ],
       "layout": {
        "bargap": 0.02,
        "legend": {
         "bgcolor": "#F5F6F9",
         "font": {
          "color": "#4D5663"
         }
        },
        "paper_bgcolor": "#F5F6F9",
        "plot_bgcolor": "#F5F6F9",
        "showlegend": false,
        "template": {
         "data": {
          "bar": [
           {
            "error_x": {
             "color": "#2a3f5f"
            },
            "error_y": {
             "color": "#2a3f5f"
            },
            "marker": {
             "line": {
              "color": "#E5ECF6",
              "width": 0.5
             },
             "pattern": {
              "fillmode": "overlay",
              "size": 10,
              "solidity": 0.2
             }
            },
            "type": "bar"
           }
          ],
          "barpolar": [
           {
            "marker": {
             "line": {
              "color": "#E5ECF6",
              "width": 0.5
             },
             "pattern": {
              "fillmode": "overlay",
              "size": 10,
              "solidity": 0.2
             }
            },
            "type": "barpolar"
           }
          ],
          "carpet": [
           {
            "aaxis": {
             "endlinecolor": "#2a3f5f",
             "gridcolor": "white",
             "linecolor": "white",
             "minorgridcolor": "white",
             "startlinecolor": "#2a3f5f"
            },
            "baxis": {
             "endlinecolor": "#2a3f5f",
             "gridcolor": "white",
             "linecolor": "white",
             "minorgridcolor": "white",
             "startlinecolor": "#2a3f5f"
            },
            "type": "carpet"
           }
          ],
          "choropleth": [
           {
            "colorbar": {
             "outlinewidth": 0,
             "ticks": ""
            },
            "type": "choropleth"
           }
          ],
          "contour": [
           {
            "colorbar": {
             "outlinewidth": 0,
             "ticks": ""
            },
            "colorscale": [
             [
              0,
              "#0d0887"
             ],
             [
              0.1111111111111111,
              "#46039f"
             ],
             [
              0.2222222222222222,
              "#7201a8"
             ],
             [
              0.3333333333333333,
              "#9c179e"
             ],
             [
              0.4444444444444444,
              "#bd3786"
             ],
             [
              0.5555555555555556,
              "#d8576b"
             ],
             [
              0.6666666666666666,
              "#ed7953"
             ],
             [
              0.7777777777777778,
              "#fb9f3a"
             ],
             [
              0.8888888888888888,
              "#fdca26"
             ],
             [
              1,
              "#f0f921"
             ]
            ],
            "type": "contour"
           }
          ],
          "contourcarpet": [
           {
            "colorbar": {
             "outlinewidth": 0,
             "ticks": ""
            },
            "type": "contourcarpet"
           }
          ],
          "heatmap": [
           {
            "colorbar": {
             "outlinewidth": 0,
             "ticks": ""
            },
            "colorscale": [
             [
              0,
              "#0d0887"
             ],
             [
              0.1111111111111111,
              "#46039f"
             ],
             [
              0.2222222222222222,
              "#7201a8"
             ],
             [
              0.3333333333333333,
              "#9c179e"
             ],
             [
              0.4444444444444444,
              "#bd3786"
             ],
             [
              0.5555555555555556,
              "#d8576b"
             ],
             [
              0.6666666666666666,
              "#ed7953"
             ],
             [
              0.7777777777777778,
              "#fb9f3a"
             ],
             [
              0.8888888888888888,
              "#fdca26"
             ],
             [
              1,
              "#f0f921"
             ]
            ],
            "type": "heatmap"
           }
          ],
          "heatmapgl": [
           {
            "colorbar": {
             "outlinewidth": 0,
             "ticks": ""
            },
            "colorscale": [
             [
              0,
              "#0d0887"
             ],
             [
              0.1111111111111111,
              "#46039f"
             ],
             [
              0.2222222222222222,
              "#7201a8"
             ],
             [
              0.3333333333333333,
              "#9c179e"
             ],
             [
              0.4444444444444444,
              "#bd3786"
             ],
             [
              0.5555555555555556,
              "#d8576b"
             ],
             [
              0.6666666666666666,
              "#ed7953"
             ],
             [
              0.7777777777777778,
              "#fb9f3a"
             ],
             [
              0.8888888888888888,
              "#fdca26"
             ],
             [
              1,
              "#f0f921"
             ]
            ],
            "type": "heatmapgl"
           }
          ],
          "histogram": [
           {
            "marker": {
             "pattern": {
              "fillmode": "overlay",
              "size": 10,
              "solidity": 0.2
             }
            },
            "type": "histogram"
           }
          ],
          "histogram2d": [
           {
            "colorbar": {
             "outlinewidth": 0,
             "ticks": ""
            },
            "colorscale": [
             [
              0,
              "#0d0887"
             ],
             [
              0.1111111111111111,
              "#46039f"
             ],
             [
              0.2222222222222222,
              "#7201a8"
             ],
             [
              0.3333333333333333,
              "#9c179e"
             ],
             [
              0.4444444444444444,
              "#bd3786"
             ],
             [
              0.5555555555555556,
              "#d8576b"
             ],
             [
              0.6666666666666666,
              "#ed7953"
             ],
             [
              0.7777777777777778,
              "#fb9f3a"
             ],
             [
              0.8888888888888888,
              "#fdca26"
             ],
             [
              1,
              "#f0f921"
             ]
            ],
            "type": "histogram2d"
           }
          ],
          "histogram2dcontour": [
           {
            "colorbar": {
             "outlinewidth": 0,
             "ticks": ""
            },
            "colorscale": [
             [
              0,
              "#0d0887"
             ],
             [
              0.1111111111111111,
              "#46039f"
             ],
             [
              0.2222222222222222,
              "#7201a8"
             ],
             [
              0.3333333333333333,
              "#9c179e"
             ],
             [
              0.4444444444444444,
              "#bd3786"
             ],
             [
              0.5555555555555556,
              "#d8576b"
             ],
             [
              0.6666666666666666,
              "#ed7953"
             ],
             [
              0.7777777777777778,
              "#fb9f3a"
             ],
             [
              0.8888888888888888,
              "#fdca26"
             ],
             [
              1,
              "#f0f921"
             ]
            ],
            "type": "histogram2dcontour"
           }
          ],
          "mesh3d": [
           {
            "colorbar": {
             "outlinewidth": 0,
             "ticks": ""
            },
            "type": "mesh3d"
           }
          ],
          "parcoords": [
           {
            "line": {
             "colorbar": {
              "outlinewidth": 0,
              "ticks": ""
             }
            },
            "type": "parcoords"
           }
          ],
          "pie": [
           {
            "automargin": true,
            "type": "pie"
           }
          ],
          "scatter": [
           {
            "fillpattern": {
             "fillmode": "overlay",
             "size": 10,
             "solidity": 0.2
            },
            "type": "scatter"
           }
          ],
          "scatter3d": [
           {
            "line": {
             "colorbar": {
              "outlinewidth": 0,
              "ticks": ""
             }
            },
            "marker": {
             "colorbar": {
              "outlinewidth": 0,
              "ticks": ""
             }
            },
            "type": "scatter3d"
           }
          ],
          "scattercarpet": [
           {
            "marker": {
             "colorbar": {
              "outlinewidth": 0,
              "ticks": ""
             }
            },
            "type": "scattercarpet"
           }
          ],
          "scattergeo": [
           {
            "marker": {
             "colorbar": {
              "outlinewidth": 0,
              "ticks": ""
             }
            },
            "type": "scattergeo"
           }
          ],
          "scattergl": [
           {
            "marker": {
             "colorbar": {
              "outlinewidth": 0,
              "ticks": ""
             }
            },
            "type": "scattergl"
           }
          ],
          "scattermapbox": [
           {
            "marker": {
             "colorbar": {
              "outlinewidth": 0,
              "ticks": ""
             }
            },
            "type": "scattermapbox"
           }
          ],
          "scatterpolar": [
           {
            "marker": {
             "colorbar": {
              "outlinewidth": 0,
              "ticks": ""
             }
            },
            "type": "scatterpolar"
           }
          ],
          "scatterpolargl": [
           {
            "marker": {
             "colorbar": {
              "outlinewidth": 0,
              "ticks": ""
             }
            },
            "type": "scatterpolargl"
           }
          ],
          "scatterternary": [
           {
            "marker": {
             "colorbar": {
              "outlinewidth": 0,
              "ticks": ""
             }
            },
            "type": "scatterternary"
           }
          ],
          "surface": [
           {
            "colorbar": {
             "outlinewidth": 0,
             "ticks": ""
            },
            "colorscale": [
             [
              0,
              "#0d0887"
             ],
             [
              0.1111111111111111,
              "#46039f"
             ],
             [
              0.2222222222222222,
              "#7201a8"
             ],
             [
              0.3333333333333333,
              "#9c179e"
             ],
             [
              0.4444444444444444,
              "#bd3786"
             ],
             [
              0.5555555555555556,
              "#d8576b"
             ],
             [
              0.6666666666666666,
              "#ed7953"
             ],
             [
              0.7777777777777778,
              "#fb9f3a"
             ],
             [
              0.8888888888888888,
              "#fdca26"
             ],
             [
              1,
              "#f0f921"
             ]
            ],
            "type": "surface"
           }
          ],
          "table": [
           {
            "cells": {
             "fill": {
              "color": "#EBF0F8"
             },
             "line": {
              "color": "white"
             }
            },
            "header": {
             "fill": {
              "color": "#C8D4E3"
             },
             "line": {
              "color": "white"
             }
            },
            "type": "table"
           }
          ]
         },
         "layout": {
          "annotationdefaults": {
           "arrowcolor": "#2a3f5f",
           "arrowhead": 0,
           "arrowwidth": 1
          },
          "autotypenumbers": "strict",
          "coloraxis": {
           "colorbar": {
            "outlinewidth": 0,
            "ticks": ""
           }
          },
          "colorscale": {
           "diverging": [
            [
             0,
             "#8e0152"
            ],
            [
             0.1,
             "#c51b7d"
            ],
            [
             0.2,
             "#de77ae"
            ],
            [
             0.3,
             "#f1b6da"
            ],
            [
             0.4,
             "#fde0ef"
            ],
            [
             0.5,
             "#f7f7f7"
            ],
            [
             0.6,
             "#e6f5d0"
            ],
            [
             0.7,
             "#b8e186"
            ],
            [
             0.8,
             "#7fbc41"
            ],
            [
             0.9,
             "#4d9221"
            ],
            [
             1,
             "#276419"
            ]
           ],
           "sequential": [
            [
             0,
             "#0d0887"
            ],
            [
             0.1111111111111111,
             "#46039f"
            ],
            [
             0.2222222222222222,
             "#7201a8"
            ],
            [
             0.3333333333333333,
             "#9c179e"
            ],
            [
             0.4444444444444444,
             "#bd3786"
            ],
            [
             0.5555555555555556,
             "#d8576b"
            ],
            [
             0.6666666666666666,
             "#ed7953"
            ],
            [
             0.7777777777777778,
             "#fb9f3a"
            ],
            [
             0.8888888888888888,
             "#fdca26"
            ],
            [
             1,
             "#f0f921"
            ]
           ],
           "sequentialminus": [
            [
             0,
             "#0d0887"
            ],
            [
             0.1111111111111111,
             "#46039f"
            ],
            [
             0.2222222222222222,
             "#7201a8"
            ],
            [
             0.3333333333333333,
             "#9c179e"
            ],
            [
             0.4444444444444444,
             "#bd3786"
            ],
            [
             0.5555555555555556,
             "#d8576b"
            ],
            [
             0.6666666666666666,
             "#ed7953"
            ],
            [
             0.7777777777777778,
             "#fb9f3a"
            ],
            [
             0.8888888888888888,
             "#fdca26"
            ],
            [
             1,
             "#f0f921"
            ]
           ]
          },
          "colorway": [
           "#636efa",
           "#EF553B",
           "#00cc96",
           "#ab63fa",
           "#FFA15A",
           "#19d3f3",
           "#FF6692",
           "#B6E880",
           "#FF97FF",
           "#FECB52"
          ],
          "font": {
           "color": "#2a3f5f"
          },
          "geo": {
           "bgcolor": "white",
           "lakecolor": "white",
           "landcolor": "#E5ECF6",
           "showlakes": true,
           "showland": true,
           "subunitcolor": "white"
          },
          "hoverlabel": {
           "align": "left"
          },
          "hovermode": "closest",
          "mapbox": {
           "style": "light"
          },
          "paper_bgcolor": "white",
          "plot_bgcolor": "#E5ECF6",
          "polar": {
           "angularaxis": {
            "gridcolor": "white",
            "linecolor": "white",
            "ticks": ""
           },
           "bgcolor": "#E5ECF6",
           "radialaxis": {
            "gridcolor": "white",
            "linecolor": "white",
            "ticks": ""
           }
          },
          "scene": {
           "xaxis": {
            "backgroundcolor": "#E5ECF6",
            "gridcolor": "white",
            "gridwidth": 2,
            "linecolor": "white",
            "showbackground": true,
            "ticks": "",
            "zerolinecolor": "white"
           },
           "yaxis": {
            "backgroundcolor": "#E5ECF6",
            "gridcolor": "white",
            "gridwidth": 2,
            "linecolor": "white",
            "showbackground": true,
            "ticks": "",
            "zerolinecolor": "white"
           },
           "zaxis": {
            "backgroundcolor": "#E5ECF6",
            "gridcolor": "white",
            "gridwidth": 2,
            "linecolor": "white",
            "showbackground": true,
            "ticks": "",
            "zerolinecolor": "white"
           }
          },
          "shapedefaults": {
           "line": {
            "color": "#2a3f5f"
           }
          },
          "ternary": {
           "aaxis": {
            "gridcolor": "white",
            "linecolor": "white",
            "ticks": ""
           },
           "baxis": {
            "gridcolor": "white",
            "linecolor": "white",
            "ticks": ""
           },
           "bgcolor": "#E5ECF6",
           "caxis": {
            "gridcolor": "white",
            "linecolor": "white",
            "ticks": ""
           }
          },
          "title": {
           "x": 0.05
          },
          "xaxis": {
           "automargin": true,
           "gridcolor": "white",
           "linecolor": "white",
           "ticks": "",
           "title": {
            "standoff": 15
           },
           "zerolinecolor": "white",
           "zerolinewidth": 2
          },
          "yaxis": {
           "automargin": true,
           "gridcolor": "white",
           "linecolor": "white",
           "ticks": "",
           "title": {
            "standoff": 15
           },
           "zerolinecolor": "white",
           "zerolinewidth": 2
          }
         }
        },
        "title": {
         "font": {
          "color": "#4D5663"
         }
        },
        "xaxis": {
         "anchor": "y",
         "domain": [
          0,
          0.2125
         ],
         "gridcolor": "#E1E5ED",
         "showgrid": false,
         "tickfont": {
          "color": "#4D5663"
         },
         "title": {
          "font": {
           "color": "#4D5663"
          },
          "text": ""
         },
         "zerolinecolor": "#E1E5ED"
        },
        "xaxis10": {
         "anchor": "y10",
         "domain": [
          0.2625,
          0.475
         ],
         "gridcolor": "#E1E5ED",
         "showgrid": false,
         "tickfont": {
          "color": "#4D5663"
         },
         "title": {
          "font": {
           "color": "#4D5663"
          },
          "text": ""
         },
         "zerolinecolor": "#E1E5ED"
        },
        "xaxis11": {
         "anchor": "y11",
         "domain": [
          0.525,
          0.7375
         ],
         "gridcolor": "#E1E5ED",
         "showgrid": false,
         "tickfont": {
          "color": "#4D5663"
         },
         "title": {
          "font": {
           "color": "#4D5663"
          },
          "text": ""
         },
         "zerolinecolor": "#E1E5ED"
        },
        "xaxis12": {
         "anchor": "y12",
         "domain": [
          0.7875,
          1
         ],
         "gridcolor": "#E1E5ED",
         "showgrid": false,
         "tickfont": {
          "color": "#4D5663"
         },
         "title": {
          "font": {
           "color": "#4D5663"
          },
          "text": ""
         },
         "zerolinecolor": "#E1E5ED"
        },
        "xaxis13": {
         "anchor": "y13",
         "domain": [
          0,
          0.2125
         ],
         "gridcolor": "#E1E5ED",
         "showgrid": false,
         "tickfont": {
          "color": "#4D5663"
         },
         "title": {
          "font": {
           "color": "#4D5663"
          },
          "text": ""
         },
         "zerolinecolor": "#E1E5ED"
        },
        "xaxis14": {
         "anchor": "y14",
         "domain": [
          0.2625,
          0.475
         ],
         "gridcolor": "#E1E5ED",
         "showgrid": false,
         "tickfont": {
          "color": "#4D5663"
         },
         "title": {
          "font": {
           "color": "#4D5663"
          },
          "text": ""
         },
         "zerolinecolor": "#E1E5ED"
        },
        "xaxis15": {
         "anchor": "y15",
         "domain": [
          0.525,
          0.7375
         ],
         "gridcolor": "#E1E5ED",
         "showgrid": false,
         "tickfont": {
          "color": "#4D5663"
         },
         "title": {
          "font": {
           "color": "#4D5663"
          },
          "text": ""
         },
         "zerolinecolor": "#E1E5ED"
        },
        "xaxis16": {
         "anchor": "y16",
         "domain": [
          0.7875,
          1
         ],
         "gridcolor": "#E1E5ED",
         "showgrid": false,
         "tickfont": {
          "color": "#4D5663"
         },
         "title": {
          "font": {
           "color": "#4D5663"
          },
          "text": ""
         },
         "zerolinecolor": "#E1E5ED"
        },
        "xaxis2": {
         "anchor": "y2",
         "domain": [
          0.2625,
          0.475
         ],
         "gridcolor": "#E1E5ED",
         "showgrid": false,
         "tickfont": {
          "color": "#4D5663"
         },
         "title": {
          "font": {
           "color": "#4D5663"
          },
          "text": ""
         },
         "zerolinecolor": "#E1E5ED"
        },
        "xaxis3": {
         "anchor": "y3",
         "domain": [
          0.525,
          0.7375
         ],
         "gridcolor": "#E1E5ED",
         "showgrid": false,
         "tickfont": {
          "color": "#4D5663"
         },
         "title": {
          "font": {
           "color": "#4D5663"
          },
          "text": ""
         },
         "zerolinecolor": "#E1E5ED"
        },
        "xaxis4": {
         "anchor": "y4",
         "domain": [
          0.7875,
          1
         ],
         "gridcolor": "#E1E5ED",
         "showgrid": false,
         "tickfont": {
          "color": "#4D5663"
         },
         "title": {
          "font": {
           "color": "#4D5663"
          },
          "text": ""
         },
         "zerolinecolor": "#E1E5ED"
        },
        "xaxis5": {
         "anchor": "y5",
         "domain": [
          0,
          0.2125
         ],
         "gridcolor": "#E1E5ED",
         "showgrid": false,
         "tickfont": {
          "color": "#4D5663"
         },
         "title": {
          "font": {
           "color": "#4D5663"
          },
          "text": ""
         },
         "zerolinecolor": "#E1E5ED"
        },
        "xaxis6": {
         "anchor": "y6",
         "domain": [
          0.2625,
          0.475
         ],
         "gridcolor": "#E1E5ED",
         "showgrid": false,
         "tickfont": {
          "color": "#4D5663"
         },
         "title": {
          "font": {
           "color": "#4D5663"
          },
          "text": ""
         },
         "zerolinecolor": "#E1E5ED"
        },
        "xaxis7": {
         "anchor": "y7",
         "domain": [
          0.525,
          0.7375
         ],
         "gridcolor": "#E1E5ED",
         "showgrid": false,
         "tickfont": {
          "color": "#4D5663"
         },
         "title": {
          "font": {
           "color": "#4D5663"
          },
          "text": ""
         },
         "zerolinecolor": "#E1E5ED"
        },
        "xaxis8": {
         "anchor": "y8",
         "domain": [
          0.7875,
          1
         ],
         "gridcolor": "#E1E5ED",
         "showgrid": false,
         "tickfont": {
          "color": "#4D5663"
         },
         "title": {
          "font": {
           "color": "#4D5663"
          },
          "text": ""
         },
         "zerolinecolor": "#E1E5ED"
        },
        "xaxis9": {
         "anchor": "y9",
         "domain": [
          0,
          0.2125
         ],
         "gridcolor": "#E1E5ED",
         "showgrid": false,
         "tickfont": {
          "color": "#4D5663"
         },
         "title": {
          "font": {
           "color": "#4D5663"
          },
          "text": ""
         },
         "zerolinecolor": "#E1E5ED"
        },
        "yaxis": {
         "anchor": "x",
         "domain": [
          0.8025,
          1
         ],
         "gridcolor": "#E1E5ED",
         "showgrid": false,
         "tickfont": {
          "color": "#4D5663"
         },
         "title": {
          "font": {
           "color": "#4D5663"
          },
          "text": ""
         },
         "zerolinecolor": "#E1E5ED"
        },
        "yaxis10": {
         "anchor": "x10",
         "domain": [
          0.2675,
          0.465
         ],
         "gridcolor": "#E1E5ED",
         "showgrid": false,
         "tickfont": {
          "color": "#4D5663"
         },
         "title": {
          "font": {
           "color": "#4D5663"
          },
          "text": ""
         },
         "zerolinecolor": "#E1E5ED"
        },
        "yaxis11": {
         "anchor": "x11",
         "domain": [
          0.2675,
          0.465
         ],
         "gridcolor": "#E1E5ED",
         "showgrid": false,
         "tickfont": {
          "color": "#4D5663"
         },
         "title": {
          "font": {
           "color": "#4D5663"
          },
          "text": ""
         },
         "zerolinecolor": "#E1E5ED"
        },
        "yaxis12": {
         "anchor": "x12",
         "domain": [
          0.2675,
          0.465
         ],
         "gridcolor": "#E1E5ED",
         "showgrid": false,
         "tickfont": {
          "color": "#4D5663"
         },
         "title": {
          "font": {
           "color": "#4D5663"
          },
          "text": ""
         },
         "zerolinecolor": "#E1E5ED"
        },
        "yaxis13": {
         "anchor": "x13",
         "domain": [
          0,
          0.1975
         ],
         "gridcolor": "#E1E5ED",
         "showgrid": false,
         "tickfont": {
          "color": "#4D5663"
         },
         "title": {
          "font": {
           "color": "#4D5663"
          },
          "text": ""
         },
         "zerolinecolor": "#E1E5ED"
        },
        "yaxis14": {
         "anchor": "x14",
         "domain": [
          0,
          0.1975
         ],
         "gridcolor": "#E1E5ED",
         "showgrid": false,
         "tickfont": {
          "color": "#4D5663"
         },
         "title": {
          "font": {
           "color": "#4D5663"
          },
          "text": ""
         },
         "zerolinecolor": "#E1E5ED"
        },
        "yaxis15": {
         "anchor": "x15",
         "domain": [
          0,
          0.1975
         ],
         "gridcolor": "#E1E5ED",
         "showgrid": false,
         "tickfont": {
          "color": "#4D5663"
         },
         "title": {
          "font": {
           "color": "#4D5663"
          },
          "text": ""
         },
         "zerolinecolor": "#E1E5ED"
        },
        "yaxis16": {
         "anchor": "x16",
         "domain": [
          0,
          0.1975
         ],
         "gridcolor": "#E1E5ED",
         "showgrid": false,
         "tickfont": {
          "color": "#4D5663"
         },
         "title": {
          "font": {
           "color": "#4D5663"
          },
          "text": ""
         },
         "zerolinecolor": "#E1E5ED"
        },
        "yaxis2": {
         "anchor": "x2",
         "domain": [
          0.8025,
          1
         ],
         "gridcolor": "#E1E5ED",
         "showgrid": false,
         "tickfont": {
          "color": "#4D5663"
         },
         "title": {
          "font": {
           "color": "#4D5663"
          },
          "text": ""
         },
         "zerolinecolor": "#E1E5ED"
        },
        "yaxis3": {
         "anchor": "x3",
         "domain": [
          0.8025,
          1
         ],
         "gridcolor": "#E1E5ED",
         "showgrid": false,
         "tickfont": {
          "color": "#4D5663"
         },
         "title": {
          "font": {
           "color": "#4D5663"
          },
          "text": ""
         },
         "zerolinecolor": "#E1E5ED"
        },
        "yaxis4": {
         "anchor": "x4",
         "domain": [
          0.8025,
          1
         ],
         "gridcolor": "#E1E5ED",
         "showgrid": false,
         "tickfont": {
          "color": "#4D5663"
         },
         "title": {
          "font": {
           "color": "#4D5663"
          },
          "text": ""
         },
         "zerolinecolor": "#E1E5ED"
        },
        "yaxis5": {
         "anchor": "x5",
         "domain": [
          0.535,
          0.7325
         ],
         "gridcolor": "#E1E5ED",
         "showgrid": false,
         "tickfont": {
          "color": "#4D5663"
         },
         "title": {
          "font": {
           "color": "#4D5663"
          },
          "text": ""
         },
         "zerolinecolor": "#E1E5ED"
        },
        "yaxis6": {
         "anchor": "x6",
         "domain": [
          0.535,
          0.7325
         ],
         "gridcolor": "#E1E5ED",
         "showgrid": false,
         "tickfont": {
          "color": "#4D5663"
         },
         "title": {
          "font": {
           "color": "#4D5663"
          },
          "text": ""
         },
         "zerolinecolor": "#E1E5ED"
        },
        "yaxis7": {
         "anchor": "x7",
         "domain": [
          0.535,
          0.7325
         ],
         "gridcolor": "#E1E5ED",
         "showgrid": false,
         "tickfont": {
          "color": "#4D5663"
         },
         "title": {
          "font": {
           "color": "#4D5663"
          },
          "text": ""
         },
         "zerolinecolor": "#E1E5ED"
        },
        "yaxis8": {
         "anchor": "x8",
         "domain": [
          0.535,
          0.7325
         ],
         "gridcolor": "#E1E5ED",
         "showgrid": false,
         "tickfont": {
          "color": "#4D5663"
         },
         "title": {
          "font": {
           "color": "#4D5663"
          },
          "text": ""
         },
         "zerolinecolor": "#E1E5ED"
        },
        "yaxis9": {
         "anchor": "x9",
         "domain": [
          0.2675,
          0.465
         ],
         "gridcolor": "#E1E5ED",
         "showgrid": false,
         "tickfont": {
          "color": "#4D5663"
         },
         "title": {
          "font": {
           "color": "#4D5663"
          },
          "text": ""
         },
         "zerolinecolor": "#E1E5ED"
        }
       }
      },
      "text/html": [
       "<div>                            <div id=\"5a2d7b96-ac3b-4369-8772-00392e26df80\" class=\"plotly-graph-div\" style=\"height:525px; width:100%;\"></div>            <script type=\"text/javascript\">                require([\"plotly\"], function(Plotly) {                    window.PLOTLYENV=window.PLOTLYENV || {};\n",
       "                    window.PLOTLYENV.BASE_URL='https://plot.ly';                                    if (document.getElementById(\"5a2d7b96-ac3b-4369-8772-00392e26df80\")) {                    Plotly.newPlot(                        \"5a2d7b96-ac3b-4369-8772-00392e26df80\",                        [{\"histfunc\":\"count\",\"histnorm\":\"\",\"marker\":{\"color\":\"rgba(255, 153, 51, 1.0)\",\"line\":{\"color\":\"#4D5663\",\"width\":1.3}},\"name\":\"A\",\"nbinsx\":10,\"opacity\":0.8,\"orientation\":\"v\",\"x\":[0.26094944737820464,0.6756427948506019,-1.6813264412755256,0.7204565479924322,-0.22704880191720428,1.6257351533472952,-0.4942521366331942,0.7554812681062507,-0.012121861711336316,0.6690437492201413,-0.3900373476123656,-1.8547898714279738,-1.4816658495535915,0.23413255955366494,0.21034036783623777,-0.5905362775657257,0.44400914529871144,-0.08988354995132182,-0.9092428787691089,0.1390659850483001,0.12827195930806926,-0.8936444613365111,0.48411247557442094,0.5712665158701542,-0.2306417488905862,1.0621829798421933,0.8049419422180617,0.3098617097266694,-1.2459142215390526,-1.5421708395982974,-0.28945802864526166,-0.457410342620502,0.8842863964667576,0.4716178732561643,1.080769153106927,-0.3027219145109648,1.4535241446092566,-2.006165431524184,0.3457218679585976,1.2554394332593966,1.583191788122711,0.1001572144415794,0.1218111415464603,0.7644233984677314,0.6256263350098222,-1.0406876639569114,-1.1116255859285793,-1.3226346404362888,0.9521322476501216,0.10361535193926541,1.6796946454820472,-1.0312332635688635,-1.6719091796148713,-1.4620898703178808,-2.338268650433877,0.7249705026245721,1.892208054311665,-0.8650989366390816,-0.36156197736492707,0.5556931482624534,0.5550851907531508,-2.7372209835746997,1.556315017341361,0.40241766720405525,0.459800704742713,0.010839974417914938,0.2869058777525109,-0.20948496585773907,-0.3228919963689883,-0.9424428117102946,0.08004987528207808,-1.722571435733268,-1.2599461951241895,-1.1399593241709116,0.9427614038338752,-0.608796670914509,-0.180982777034367,1.7219984547975717,-0.026529348892462685,-0.09822764343422868,-1.944606864250181,0.8610178999848556,1.2603732054512387,-0.7031761322484911,-0.6031228391849389,-0.21885822736009458,0.4179951312327664,1.1013003666583145,0.9154925356461139,0.09501597794814125,-2.216397093263774,0.9567752156312098,0.5091191071901275,-1.2976367682644396,0.252814044628649,-0.1696171000230781,1.2540223824766012,-1.1091293259988333,-0.07234965598861014,-0.4820456279286618],\"xaxis\":\"x\",\"yaxis\":\"y\",\"type\":\"histogram\"},{\"line\":{\"color\":\"rgba(128, 128, 128, 1.0)\",\"dash\":\"solid\",\"shape\":\"linear\",\"width\":1.3},\"marker\":{\"size\":2,\"symbol\":\"circle\"},\"mode\":\"markers\",\"name\":\"A\",\"text\":\"\",\"x\":[-2.2858288822656303,-0.3689246942451719,-0.4878085442863548,0.0899980136684595,0.29926889068795876,0.17158248776965915,-1.6060521316690806,0.8454748009189931,-0.7780592645242341,-1.5565002087012068,1.0372025831271199,0.8400056526466327,-0.9864917656790733,-0.7865337495103956,-0.4908674300457295,0.065209412493217,0.9568752404687892,-0.8396432482350337,-0.12579337362106027,-0.2521365828886802,-0.5335363396262771,-1.1038689888634035,0.4702284473695049,1.0127134627231362,0.06357379909821854,0.17666908872890652,-2.219413202901428,0.16988007691544227,0.21331495447507157,-0.38144917787193,-0.7234233309210866,1.1654897644783366,-0.0939289539623439,2.0170523368074034,-1.066331684671368,-1.2550980664771623,-0.6834753077766862,-1.9776636533758316,-0.7071974935890099,-0.8647725828109243,0.666397539151505,-2.1561037115340382,1.3088668119173679,0.1895499161046491,-0.2143124885233418,1.5600407751980936,1.49517789425164,-1.3163885089797722,0.3071100790489101,-1.1334144746266988,-1.3048753478925657,-1.7737873100165837,-1.311819431354197,0.6547271610296218,-1.080829127609142,-0.14106417250186926,1.12593274559256,-0.18690924228657932,1.0632163358016373,-0.9635096609258548,0.5013097476381637,-0.41205755974149105,0.7461619496075209,-2.0031465844771246,-1.4463887314168276,1.26252117377817,-1.2231128761730659,-0.02423340109344603,2.4622973856990584,0.4021529194125459,-0.7330723509578897,-0.04278911282889734,-0.3491149144994279,1.083279811870235,1.0426110712780547,-1.8778181299002392,-1.0794577182216054,-1.5317866657565158,1.0165126478271154,-0.8934024272225225,-0.3084887191806035,-0.699643240815849,-0.6605125009688817,2.1852107666274163,0.996809877383777,0.06108618985377447,2.4562499159811915,0.8295824341081318,1.4581308222086655,1.0332082700772245,0.6149475497997644,0.12629079890159314,-1.1722907357555292,-0.8750580032179174,0.2213111053489606,0.9767123482772395,1.3429699882896668,0.4560223707490966,-0.10333857580881216,0.7250381311930914],\"xaxis\":\"x2\",\"y\":[0.26094944737820464,0.6756427948506019,-1.6813264412755256,0.7204565479924322,-0.22704880191720428,1.6257351533472952,-0.4942521366331942,0.7554812681062507,-0.012121861711336316,0.6690437492201413,-0.3900373476123656,-1.8547898714279738,-1.4816658495535915,0.23413255955366494,0.21034036783623777,-0.5905362775657257,0.44400914529871144,-0.08988354995132182,-0.9092428787691089,0.1390659850483001,0.12827195930806926,-0.8936444613365111,0.48411247557442094,0.5712665158701542,-0.2306417488905862,1.0621829798421933,0.8049419422180617,0.3098617097266694,-1.2459142215390526,-1.5421708395982974,-0.28945802864526166,-0.457410342620502,0.8842863964667576,0.4716178732561643,1.080769153106927,-0.3027219145109648,1.4535241446092566,-2.006165431524184,0.3457218679585976,1.2554394332593966,1.583191788122711,0.1001572144415794,0.1218111415464603,0.7644233984677314,0.6256263350098222,-1.0406876639569114,-1.1116255859285793,-1.3226346404362888,0.9521322476501216,0.10361535193926541,1.6796946454820472,-1.0312332635688635,-1.6719091796148713,-1.4620898703178808,-2.338268650433877,0.7249705026245721,1.892208054311665,-0.8650989366390816,-0.36156197736492707,0.5556931482624534,0.5550851907531508,-2.7372209835746997,1.556315017341361,0.40241766720405525,0.459800704742713,0.010839974417914938,0.2869058777525109,-0.20948496585773907,-0.3228919963689883,-0.9424428117102946,0.08004987528207808,-1.722571435733268,-1.2599461951241895,-1.1399593241709116,0.9427614038338752,-0.608796670914509,-0.180982777034367,1.7219984547975717,-0.026529348892462685,-0.09822764343422868,-1.944606864250181,0.8610178999848556,1.2603732054512387,-0.7031761322484911,-0.6031228391849389,-0.21885822736009458,0.4179951312327664,1.1013003666583145,0.9154925356461139,0.09501597794814125,-2.216397093263774,0.9567752156312098,0.5091191071901275,-1.2976367682644396,0.252814044628649,-0.1696171000230781,1.2540223824766012,-1.1091293259988333,-0.07234965598861014,-0.4820456279286618],\"yaxis\":\"y2\",\"type\":\"scatter\"},{\"line\":{\"color\":\"rgba(128, 128, 128, 1.0)\",\"dash\":\"solid\",\"shape\":\"linear\",\"width\":1.3},\"marker\":{\"size\":2,\"symbol\":\"circle\"},\"mode\":\"markers\",\"name\":\"A\",\"text\":\"\",\"x\":[0.32533126166391485,-1.0948514086567007,-1.255698256658563,-0.7115348500480666,-1.5734581413898854,-0.2693780640469743,0.5312122041618935,0.7643957254436153,1.3466440592846238,-0.011138496176147835,-1.006175222327991,-0.7657814111691001,0.2704614828597357,1.0183788515132506,-1.6313687143064737,-1.1377406766960112,1.754747546345917,1.0739077449778924,1.187443194858314,-1.1762172356198197,-2.330878647921375,-0.29177231149834987,-1.5420377609907308,-0.44511416089779543,1.8225838117742819,2.0680123691645167,-1.7712608957239127,-0.9471147591668491,1.6184713553015566,-0.6887690862726555,-0.2770483905764386,-1.0205117397712196,0.5411886732059261,-0.9679130404308924,0.7223804650709226,0.19804466049875422,0.5757187719225264,-0.6365002863183196,-0.21892397489849863,-0.38832629642815525,0.7564138642884449,-0.25283318868976823,1.6578227713614326,0.778371309783315,-0.025442852310508104,1.0290112662167505,-0.7478300783956774,-0.5892929751830931,2.2221162029341848,-0.21607144784907933,-1.4358331970874543,0.32341588670439253,2.1088425493463316,-0.35207423187535375,0.5480642595297384,0.42469906156207216,-0.5512588997951553,-0.744004698667509,1.3009083492632714,-2.913661302226596,-1.79700075056673,2.2240582842789998,0.20083784721363973,-1.1155836193566913,0.37881604036311256,-1.0515506213586965,-0.7142174212313871,-0.580132172851161,-0.36996370552054747,-1.9956692450109044,3.3068298553023956,-0.6535949069759464,-0.8126537235638911,-0.7910150450158807,-0.5897039192173934,-0.9641463263885816,0.09458255813228832,-0.35691739474910894,0.7368928853813077,0.5992388061778968,-0.8788160686807402,-0.4018213365525234,-0.05339238691644387,-0.3627926288640987,-0.7251370023029332,0.6550178848897097,-1.893543294098089,0.2507926698741199,-2.603137809917833,1.345799354558909,1.1223941883090842,2.0230162957001028,-0.04150802293184813,-0.011228513864026684,-0.5941780239391884,-0.3058191790453311,1.653697814059976,-1.2921648263284362,-0.11844456500402563,0.6483758171002227],\"xaxis\":\"x3\",\"y\":[0.26094944737820464,0.6756427948506019,-1.6813264412755256,0.7204565479924322,-0.22704880191720428,1.6257351533472952,-0.4942521366331942,0.7554812681062507,-0.012121861711336316,0.6690437492201413,-0.3900373476123656,-1.8547898714279738,-1.4816658495535915,0.23413255955366494,0.21034036783623777,-0.5905362775657257,0.44400914529871144,-0.08988354995132182,-0.9092428787691089,0.1390659850483001,0.12827195930806926,-0.8936444613365111,0.48411247557442094,0.5712665158701542,-0.2306417488905862,1.0621829798421933,0.8049419422180617,0.3098617097266694,-1.2459142215390526,-1.5421708395982974,-0.28945802864526166,-0.457410342620502,0.8842863964667576,0.4716178732561643,1.080769153106927,-0.3027219145109648,1.4535241446092566,-2.006165431524184,0.3457218679585976,1.2554394332593966,1.583191788122711,0.1001572144415794,0.1218111415464603,0.7644233984677314,0.6256263350098222,-1.0406876639569114,-1.1116255859285793,-1.3226346404362888,0.9521322476501216,0.10361535193926541,1.6796946454820472,-1.0312332635688635,-1.6719091796148713,-1.4620898703178808,-2.338268650433877,0.7249705026245721,1.892208054311665,-0.8650989366390816,-0.36156197736492707,0.5556931482624534,0.5550851907531508,-2.7372209835746997,1.556315017341361,0.40241766720405525,0.459800704742713,0.010839974417914938,0.2869058777525109,-0.20948496585773907,-0.3228919963689883,-0.9424428117102946,0.08004987528207808,-1.722571435733268,-1.2599461951241895,-1.1399593241709116,0.9427614038338752,-0.608796670914509,-0.180982777034367,1.7219984547975717,-0.026529348892462685,-0.09822764343422868,-1.944606864250181,0.8610178999848556,1.2603732054512387,-0.7031761322484911,-0.6031228391849389,-0.21885822736009458,0.4179951312327664,1.1013003666583145,0.9154925356461139,0.09501597794814125,-2.216397093263774,0.9567752156312098,0.5091191071901275,-1.2976367682644396,0.252814044628649,-0.1696171000230781,1.2540223824766012,-1.1091293259988333,-0.07234965598861014,-0.4820456279286618],\"yaxis\":\"y3\",\"type\":\"scatter\"},{\"line\":{\"color\":\"rgba(128, 128, 128, 1.0)\",\"dash\":\"solid\",\"shape\":\"linear\",\"width\":1.3},\"marker\":{\"size\":2,\"symbol\":\"circle\"},\"mode\":\"markers\",\"name\":\"A\",\"text\":\"\",\"x\":[0.41794327451779345,-0.03261673753335445,-0.4550174727865612,-0.004208347162477857,-0.6223002368189892,0.37079932691257855,0.4044968263615406,0.6156065311469866,-0.5629685390235405,1.4654377449230789,-0.08295070642030386,-0.8141272270394169,-0.08122433488173093,-0.8441255872868394,-0.1038450347802428,-0.8264106510813224,0.33835876227499645,1.610267518488858,-1.4599309420426185,0.866996034978916,-1.02904049897154,1.227022930533725,0.37668671410737165,1.3804286998065782,1.2314256439125106,0.12804999346254464,-1.3228095505120894,-0.21084639477165035,0.494661739271153,-0.954422281959772,-0.06817586662636892,1.6331220665869417,-1.8184158143329487,-0.9072522004937862,1.182488924288222,1.8100366556664622,-1.5672078033978591,0.0846336270397929,-0.880862573119192,0.6716695121190952,-1.2429081023690345,-0.6619703835342022,-0.2961579681187715,-0.6044465329934139,-0.20082288973325496,0.3976613955284886,0.26045978499364436,0.7234116917878068,0.15515371118901172,1.9235573499253922,-1.9163020993661708,-0.878533455623837,0.03334430451853539,-0.4749136499522914,-0.5783326094025376,-0.4058299179802135,-0.08161828458775061,-1.0019000743769864,0.9736625816934414,0.7006372454826486,1.009607343099174,-2.0230743602161305,-0.11886781633156078,0.08909096314851882,0.5224997723778508,-0.22213927396262687,-0.6450675952005471,1.7064853550957833,0.2994101531694659,-0.5061617487595512,-0.5713559687832984,1.9282636850213841,-1.5190521015763374,-0.019914506427172442,-0.7607785603577836,-0.1817706306857436,0.10979048618419447,2.2332548603506903,0.9542509226302287,-0.18666984421018826,0.4550501723241464,-1.7401968649713317,-0.4924158421882854,0.20238484904659426,1.0635355770648967,-0.20361483915691467,-1.0737855655373512,1.8037649286934079,-1.0164897009038132,-1.3978203525736188,-0.5532058788949985,1.4993041498775244,0.5331637896362921,0.7483597698017826,-0.492958356631721,-0.9739873053805449,0.7218719374631305,0.7620215689250328,1.142168023221178,0.9402807158049501],\"xaxis\":\"x4\",\"y\":[0.26094944737820464,0.6756427948506019,-1.6813264412755256,0.7204565479924322,-0.22704880191720428,1.6257351533472952,-0.4942521366331942,0.7554812681062507,-0.012121861711336316,0.6690437492201413,-0.3900373476123656,-1.8547898714279738,-1.4816658495535915,0.23413255955366494,0.21034036783623777,-0.5905362775657257,0.44400914529871144,-0.08988354995132182,-0.9092428787691089,0.1390659850483001,0.12827195930806926,-0.8936444613365111,0.48411247557442094,0.5712665158701542,-0.2306417488905862,1.0621829798421933,0.8049419422180617,0.3098617097266694,-1.2459142215390526,-1.5421708395982974,-0.28945802864526166,-0.457410342620502,0.8842863964667576,0.4716178732561643,1.080769153106927,-0.3027219145109648,1.4535241446092566,-2.006165431524184,0.3457218679585976,1.2554394332593966,1.583191788122711,0.1001572144415794,0.1218111415464603,0.7644233984677314,0.6256263350098222,-1.0406876639569114,-1.1116255859285793,-1.3226346404362888,0.9521322476501216,0.10361535193926541,1.6796946454820472,-1.0312332635688635,-1.6719091796148713,-1.4620898703178808,-2.338268650433877,0.7249705026245721,1.892208054311665,-0.8650989366390816,-0.36156197736492707,0.5556931482624534,0.5550851907531508,-2.7372209835746997,1.556315017341361,0.40241766720405525,0.459800704742713,0.010839974417914938,0.2869058777525109,-0.20948496585773907,-0.3228919963689883,-0.9424428117102946,0.08004987528207808,-1.722571435733268,-1.2599461951241895,-1.1399593241709116,0.9427614038338752,-0.608796670914509,-0.180982777034367,1.7219984547975717,-0.026529348892462685,-0.09822764343422868,-1.944606864250181,0.8610178999848556,1.2603732054512387,-0.7031761322484911,-0.6031228391849389,-0.21885822736009458,0.4179951312327664,1.1013003666583145,0.9154925356461139,0.09501597794814125,-2.216397093263774,0.9567752156312098,0.5091191071901275,-1.2976367682644396,0.252814044628649,-0.1696171000230781,1.2540223824766012,-1.1091293259988333,-0.07234965598861014,-0.4820456279286618],\"yaxis\":\"y4\",\"type\":\"scatter\"},{\"line\":{\"color\":\"rgba(128, 128, 128, 1.0)\",\"dash\":\"solid\",\"shape\":\"linear\",\"width\":1.3},\"marker\":{\"size\":2,\"symbol\":\"circle\"},\"mode\":\"markers\",\"name\":\"B\",\"text\":\"\",\"x\":[0.26094944737820464,0.6756427948506019,-1.6813264412755256,0.7204565479924322,-0.22704880191720428,1.6257351533472952,-0.4942521366331942,0.7554812681062507,-0.012121861711336316,0.6690437492201413,-0.3900373476123656,-1.8547898714279738,-1.4816658495535915,0.23413255955366494,0.21034036783623777,-0.5905362775657257,0.44400914529871144,-0.08988354995132182,-0.9092428787691089,0.1390659850483001,0.12827195930806926,-0.8936444613365111,0.48411247557442094,0.5712665158701542,-0.2306417488905862,1.0621829798421933,0.8049419422180617,0.3098617097266694,-1.2459142215390526,-1.5421708395982974,-0.28945802864526166,-0.457410342620502,0.8842863964667576,0.4716178732561643,1.080769153106927,-0.3027219145109648,1.4535241446092566,-2.006165431524184,0.3457218679585976,1.2554394332593966,1.583191788122711,0.1001572144415794,0.1218111415464603,0.7644233984677314,0.6256263350098222,-1.0406876639569114,-1.1116255859285793,-1.3226346404362888,0.9521322476501216,0.10361535193926541,1.6796946454820472,-1.0312332635688635,-1.6719091796148713,-1.4620898703178808,-2.338268650433877,0.7249705026245721,1.892208054311665,-0.8650989366390816,-0.36156197736492707,0.5556931482624534,0.5550851907531508,-2.7372209835746997,1.556315017341361,0.40241766720405525,0.459800704742713,0.010839974417914938,0.2869058777525109,-0.20948496585773907,-0.3228919963689883,-0.9424428117102946,0.08004987528207808,-1.722571435733268,-1.2599461951241895,-1.1399593241709116,0.9427614038338752,-0.608796670914509,-0.180982777034367,1.7219984547975717,-0.026529348892462685,-0.09822764343422868,-1.944606864250181,0.8610178999848556,1.2603732054512387,-0.7031761322484911,-0.6031228391849389,-0.21885822736009458,0.4179951312327664,1.1013003666583145,0.9154925356461139,0.09501597794814125,-2.216397093263774,0.9567752156312098,0.5091191071901275,-1.2976367682644396,0.252814044628649,-0.1696171000230781,1.2540223824766012,-1.1091293259988333,-0.07234965598861014,-0.4820456279286618],\"xaxis\":\"x5\",\"y\":[-2.2858288822656303,-0.3689246942451719,-0.4878085442863548,0.0899980136684595,0.29926889068795876,0.17158248776965915,-1.6060521316690806,0.8454748009189931,-0.7780592645242341,-1.5565002087012068,1.0372025831271199,0.8400056526466327,-0.9864917656790733,-0.7865337495103956,-0.4908674300457295,0.065209412493217,0.9568752404687892,-0.8396432482350337,-0.12579337362106027,-0.2521365828886802,-0.5335363396262771,-1.1038689888634035,0.4702284473695049,1.0127134627231362,0.06357379909821854,0.17666908872890652,-2.219413202901428,0.16988007691544227,0.21331495447507157,-0.38144917787193,-0.7234233309210866,1.1654897644783366,-0.0939289539623439,2.0170523368074034,-1.066331684671368,-1.2550980664771623,-0.6834753077766862,-1.9776636533758316,-0.7071974935890099,-0.8647725828109243,0.666397539151505,-2.1561037115340382,1.3088668119173679,0.1895499161046491,-0.2143124885233418,1.5600407751980936,1.49517789425164,-1.3163885089797722,0.3071100790489101,-1.1334144746266988,-1.3048753478925657,-1.7737873100165837,-1.311819431354197,0.6547271610296218,-1.080829127609142,-0.14106417250186926,1.12593274559256,-0.18690924228657932,1.0632163358016373,-0.9635096609258548,0.5013097476381637,-0.41205755974149105,0.7461619496075209,-2.0031465844771246,-1.4463887314168276,1.26252117377817,-1.2231128761730659,-0.02423340109344603,2.4622973856990584,0.4021529194125459,-0.7330723509578897,-0.04278911282889734,-0.3491149144994279,1.083279811870235,1.0426110712780547,-1.8778181299002392,-1.0794577182216054,-1.5317866657565158,1.0165126478271154,-0.8934024272225225,-0.3084887191806035,-0.699643240815849,-0.6605125009688817,2.1852107666274163,0.996809877383777,0.06108618985377447,2.4562499159811915,0.8295824341081318,1.4581308222086655,1.0332082700772245,0.6149475497997644,0.12629079890159314,-1.1722907357555292,-0.8750580032179174,0.2213111053489606,0.9767123482772395,1.3429699882896668,0.4560223707490966,-0.10333857580881216,0.7250381311930914],\"yaxis\":\"y5\",\"type\":\"scatter\"},{\"histfunc\":\"count\",\"histnorm\":\"\",\"marker\":{\"color\":\"rgba(55, 128, 191, 1.0)\",\"line\":{\"color\":\"#4D5663\",\"width\":1.3}},\"name\":\"B\",\"nbinsx\":10,\"opacity\":0.8,\"orientation\":\"v\",\"x\":[-2.2858288822656303,-0.3689246942451719,-0.4878085442863548,0.0899980136684595,0.29926889068795876,0.17158248776965915,-1.6060521316690806,0.8454748009189931,-0.7780592645242341,-1.5565002087012068,1.0372025831271199,0.8400056526466327,-0.9864917656790733,-0.7865337495103956,-0.4908674300457295,0.065209412493217,0.9568752404687892,-0.8396432482350337,-0.12579337362106027,-0.2521365828886802,-0.5335363396262771,-1.1038689888634035,0.4702284473695049,1.0127134627231362,0.06357379909821854,0.17666908872890652,-2.219413202901428,0.16988007691544227,0.21331495447507157,-0.38144917787193,-0.7234233309210866,1.1654897644783366,-0.0939289539623439,2.0170523368074034,-1.066331684671368,-1.2550980664771623,-0.6834753077766862,-1.9776636533758316,-0.7071974935890099,-0.8647725828109243,0.666397539151505,-2.1561037115340382,1.3088668119173679,0.1895499161046491,-0.2143124885233418,1.5600407751980936,1.49517789425164,-1.3163885089797722,0.3071100790489101,-1.1334144746266988,-1.3048753478925657,-1.7737873100165837,-1.311819431354197,0.6547271610296218,-1.080829127609142,-0.14106417250186926,1.12593274559256,-0.18690924228657932,1.0632163358016373,-0.9635096609258548,0.5013097476381637,-0.41205755974149105,0.7461619496075209,-2.0031465844771246,-1.4463887314168276,1.26252117377817,-1.2231128761730659,-0.02423340109344603,2.4622973856990584,0.4021529194125459,-0.7330723509578897,-0.04278911282889734,-0.3491149144994279,1.083279811870235,1.0426110712780547,-1.8778181299002392,-1.0794577182216054,-1.5317866657565158,1.0165126478271154,-0.8934024272225225,-0.3084887191806035,-0.699643240815849,-0.6605125009688817,2.1852107666274163,0.996809877383777,0.06108618985377447,2.4562499159811915,0.8295824341081318,1.4581308222086655,1.0332082700772245,0.6149475497997644,0.12629079890159314,-1.1722907357555292,-0.8750580032179174,0.2213111053489606,0.9767123482772395,1.3429699882896668,0.4560223707490966,-0.10333857580881216,0.7250381311930914],\"xaxis\":\"x6\",\"yaxis\":\"y6\",\"type\":\"histogram\"},{\"line\":{\"color\":\"rgba(128, 128, 128, 1.0)\",\"dash\":\"solid\",\"shape\":\"linear\",\"width\":1.3},\"marker\":{\"size\":2,\"symbol\":\"circle\"},\"mode\":\"markers\",\"name\":\"B\",\"text\":\"\",\"x\":[0.32533126166391485,-1.0948514086567007,-1.255698256658563,-0.7115348500480666,-1.5734581413898854,-0.2693780640469743,0.5312122041618935,0.7643957254436153,1.3466440592846238,-0.011138496176147835,-1.006175222327991,-0.7657814111691001,0.2704614828597357,1.0183788515132506,-1.6313687143064737,-1.1377406766960112,1.754747546345917,1.0739077449778924,1.187443194858314,-1.1762172356198197,-2.330878647921375,-0.29177231149834987,-1.5420377609907308,-0.44511416089779543,1.8225838117742819,2.0680123691645167,-1.7712608957239127,-0.9471147591668491,1.6184713553015566,-0.6887690862726555,-0.2770483905764386,-1.0205117397712196,0.5411886732059261,-0.9679130404308924,0.7223804650709226,0.19804466049875422,0.5757187719225264,-0.6365002863183196,-0.21892397489849863,-0.38832629642815525,0.7564138642884449,-0.25283318868976823,1.6578227713614326,0.778371309783315,-0.025442852310508104,1.0290112662167505,-0.7478300783956774,-0.5892929751830931,2.2221162029341848,-0.21607144784907933,-1.4358331970874543,0.32341588670439253,2.1088425493463316,-0.35207423187535375,0.5480642595297384,0.42469906156207216,-0.5512588997951553,-0.744004698667509,1.3009083492632714,-2.913661302226596,-1.79700075056673,2.2240582842789998,0.20083784721363973,-1.1155836193566913,0.37881604036311256,-1.0515506213586965,-0.7142174212313871,-0.580132172851161,-0.36996370552054747,-1.9956692450109044,3.3068298553023956,-0.6535949069759464,-0.8126537235638911,-0.7910150450158807,-0.5897039192173934,-0.9641463263885816,0.09458255813228832,-0.35691739474910894,0.7368928853813077,0.5992388061778968,-0.8788160686807402,-0.4018213365525234,-0.05339238691644387,-0.3627926288640987,-0.7251370023029332,0.6550178848897097,-1.893543294098089,0.2507926698741199,-2.603137809917833,1.345799354558909,1.1223941883090842,2.0230162957001028,-0.04150802293184813,-0.011228513864026684,-0.5941780239391884,-0.3058191790453311,1.653697814059976,-1.2921648263284362,-0.11844456500402563,0.6483758171002227],\"xaxis\":\"x7\",\"y\":[-2.2858288822656303,-0.3689246942451719,-0.4878085442863548,0.0899980136684595,0.29926889068795876,0.17158248776965915,-1.6060521316690806,0.8454748009189931,-0.7780592645242341,-1.5565002087012068,1.0372025831271199,0.8400056526466327,-0.9864917656790733,-0.7865337495103956,-0.4908674300457295,0.065209412493217,0.9568752404687892,-0.8396432482350337,-0.12579337362106027,-0.2521365828886802,-0.5335363396262771,-1.1038689888634035,0.4702284473695049,1.0127134627231362,0.06357379909821854,0.17666908872890652,-2.219413202901428,0.16988007691544227,0.21331495447507157,-0.38144917787193,-0.7234233309210866,1.1654897644783366,-0.0939289539623439,2.0170523368074034,-1.066331684671368,-1.2550980664771623,-0.6834753077766862,-1.9776636533758316,-0.7071974935890099,-0.8647725828109243,0.666397539151505,-2.1561037115340382,1.3088668119173679,0.1895499161046491,-0.2143124885233418,1.5600407751980936,1.49517789425164,-1.3163885089797722,0.3071100790489101,-1.1334144746266988,-1.3048753478925657,-1.7737873100165837,-1.311819431354197,0.6547271610296218,-1.080829127609142,-0.14106417250186926,1.12593274559256,-0.18690924228657932,1.0632163358016373,-0.9635096609258548,0.5013097476381637,-0.41205755974149105,0.7461619496075209,-2.0031465844771246,-1.4463887314168276,1.26252117377817,-1.2231128761730659,-0.02423340109344603,2.4622973856990584,0.4021529194125459,-0.7330723509578897,-0.04278911282889734,-0.3491149144994279,1.083279811870235,1.0426110712780547,-1.8778181299002392,-1.0794577182216054,-1.5317866657565158,1.0165126478271154,-0.8934024272225225,-0.3084887191806035,-0.699643240815849,-0.6605125009688817,2.1852107666274163,0.996809877383777,0.06108618985377447,2.4562499159811915,0.8295824341081318,1.4581308222086655,1.0332082700772245,0.6149475497997644,0.12629079890159314,-1.1722907357555292,-0.8750580032179174,0.2213111053489606,0.9767123482772395,1.3429699882896668,0.4560223707490966,-0.10333857580881216,0.7250381311930914],\"yaxis\":\"y7\",\"type\":\"scatter\"},{\"line\":{\"color\":\"rgba(128, 128, 128, 1.0)\",\"dash\":\"solid\",\"shape\":\"linear\",\"width\":1.3},\"marker\":{\"size\":2,\"symbol\":\"circle\"},\"mode\":\"markers\",\"name\":\"B\",\"text\":\"\",\"x\":[0.41794327451779345,-0.03261673753335445,-0.4550174727865612,-0.004208347162477857,-0.6223002368189892,0.37079932691257855,0.4044968263615406,0.6156065311469866,-0.5629685390235405,1.4654377449230789,-0.08295070642030386,-0.8141272270394169,-0.08122433488173093,-0.8441255872868394,-0.1038450347802428,-0.8264106510813224,0.33835876227499645,1.610267518488858,-1.4599309420426185,0.866996034978916,-1.02904049897154,1.227022930533725,0.37668671410737165,1.3804286998065782,1.2314256439125106,0.12804999346254464,-1.3228095505120894,-0.21084639477165035,0.494661739271153,-0.954422281959772,-0.06817586662636892,1.6331220665869417,-1.8184158143329487,-0.9072522004937862,1.182488924288222,1.8100366556664622,-1.5672078033978591,0.0846336270397929,-0.880862573119192,0.6716695121190952,-1.2429081023690345,-0.6619703835342022,-0.2961579681187715,-0.6044465329934139,-0.20082288973325496,0.3976613955284886,0.26045978499364436,0.7234116917878068,0.15515371118901172,1.9235573499253922,-1.9163020993661708,-0.878533455623837,0.03334430451853539,-0.4749136499522914,-0.5783326094025376,-0.4058299179802135,-0.08161828458775061,-1.0019000743769864,0.9736625816934414,0.7006372454826486,1.009607343099174,-2.0230743602161305,-0.11886781633156078,0.08909096314851882,0.5224997723778508,-0.22213927396262687,-0.6450675952005471,1.7064853550957833,0.2994101531694659,-0.5061617487595512,-0.5713559687832984,1.9282636850213841,-1.5190521015763374,-0.019914506427172442,-0.7607785603577836,-0.1817706306857436,0.10979048618419447,2.2332548603506903,0.9542509226302287,-0.18666984421018826,0.4550501723241464,-1.7401968649713317,-0.4924158421882854,0.20238484904659426,1.0635355770648967,-0.20361483915691467,-1.0737855655373512,1.8037649286934079,-1.0164897009038132,-1.3978203525736188,-0.5532058788949985,1.4993041498775244,0.5331637896362921,0.7483597698017826,-0.492958356631721,-0.9739873053805449,0.7218719374631305,0.7620215689250328,1.142168023221178,0.9402807158049501],\"xaxis\":\"x8\",\"y\":[-2.2858288822656303,-0.3689246942451719,-0.4878085442863548,0.0899980136684595,0.29926889068795876,0.17158248776965915,-1.6060521316690806,0.8454748009189931,-0.7780592645242341,-1.5565002087012068,1.0372025831271199,0.8400056526466327,-0.9864917656790733,-0.7865337495103956,-0.4908674300457295,0.065209412493217,0.9568752404687892,-0.8396432482350337,-0.12579337362106027,-0.2521365828886802,-0.5335363396262771,-1.1038689888634035,0.4702284473695049,1.0127134627231362,0.06357379909821854,0.17666908872890652,-2.219413202901428,0.16988007691544227,0.21331495447507157,-0.38144917787193,-0.7234233309210866,1.1654897644783366,-0.0939289539623439,2.0170523368074034,-1.066331684671368,-1.2550980664771623,-0.6834753077766862,-1.9776636533758316,-0.7071974935890099,-0.8647725828109243,0.666397539151505,-2.1561037115340382,1.3088668119173679,0.1895499161046491,-0.2143124885233418,1.5600407751980936,1.49517789425164,-1.3163885089797722,0.3071100790489101,-1.1334144746266988,-1.3048753478925657,-1.7737873100165837,-1.311819431354197,0.6547271610296218,-1.080829127609142,-0.14106417250186926,1.12593274559256,-0.18690924228657932,1.0632163358016373,-0.9635096609258548,0.5013097476381637,-0.41205755974149105,0.7461619496075209,-2.0031465844771246,-1.4463887314168276,1.26252117377817,-1.2231128761730659,-0.02423340109344603,2.4622973856990584,0.4021529194125459,-0.7330723509578897,-0.04278911282889734,-0.3491149144994279,1.083279811870235,1.0426110712780547,-1.8778181299002392,-1.0794577182216054,-1.5317866657565158,1.0165126478271154,-0.8934024272225225,-0.3084887191806035,-0.699643240815849,-0.6605125009688817,2.1852107666274163,0.996809877383777,0.06108618985377447,2.4562499159811915,0.8295824341081318,1.4581308222086655,1.0332082700772245,0.6149475497997644,0.12629079890159314,-1.1722907357555292,-0.8750580032179174,0.2213111053489606,0.9767123482772395,1.3429699882896668,0.4560223707490966,-0.10333857580881216,0.7250381311930914],\"yaxis\":\"y8\",\"type\":\"scatter\"},{\"line\":{\"color\":\"rgba(128, 128, 128, 1.0)\",\"dash\":\"solid\",\"shape\":\"linear\",\"width\":1.3},\"marker\":{\"size\":2,\"symbol\":\"circle\"},\"mode\":\"markers\",\"name\":\"C\",\"text\":\"\",\"x\":[0.26094944737820464,0.6756427948506019,-1.6813264412755256,0.7204565479924322,-0.22704880191720428,1.6257351533472952,-0.4942521366331942,0.7554812681062507,-0.012121861711336316,0.6690437492201413,-0.3900373476123656,-1.8547898714279738,-1.4816658495535915,0.23413255955366494,0.21034036783623777,-0.5905362775657257,0.44400914529871144,-0.08988354995132182,-0.9092428787691089,0.1390659850483001,0.12827195930806926,-0.8936444613365111,0.48411247557442094,0.5712665158701542,-0.2306417488905862,1.0621829798421933,0.8049419422180617,0.3098617097266694,-1.2459142215390526,-1.5421708395982974,-0.28945802864526166,-0.457410342620502,0.8842863964667576,0.4716178732561643,1.080769153106927,-0.3027219145109648,1.4535241446092566,-2.006165431524184,0.3457218679585976,1.2554394332593966,1.583191788122711,0.1001572144415794,0.1218111415464603,0.7644233984677314,0.6256263350098222,-1.0406876639569114,-1.1116255859285793,-1.3226346404362888,0.9521322476501216,0.10361535193926541,1.6796946454820472,-1.0312332635688635,-1.6719091796148713,-1.4620898703178808,-2.338268650433877,0.7249705026245721,1.892208054311665,-0.8650989366390816,-0.36156197736492707,0.5556931482624534,0.5550851907531508,-2.7372209835746997,1.556315017341361,0.40241766720405525,0.459800704742713,0.010839974417914938,0.2869058777525109,-0.20948496585773907,-0.3228919963689883,-0.9424428117102946,0.08004987528207808,-1.722571435733268,-1.2599461951241895,-1.1399593241709116,0.9427614038338752,-0.608796670914509,-0.180982777034367,1.7219984547975717,-0.026529348892462685,-0.09822764343422868,-1.944606864250181,0.8610178999848556,1.2603732054512387,-0.7031761322484911,-0.6031228391849389,-0.21885822736009458,0.4179951312327664,1.1013003666583145,0.9154925356461139,0.09501597794814125,-2.216397093263774,0.9567752156312098,0.5091191071901275,-1.2976367682644396,0.252814044628649,-0.1696171000230781,1.2540223824766012,-1.1091293259988333,-0.07234965598861014,-0.4820456279286618],\"xaxis\":\"x9\",\"y\":[0.32533126166391485,-1.0948514086567007,-1.255698256658563,-0.7115348500480666,-1.5734581413898854,-0.2693780640469743,0.5312122041618935,0.7643957254436153,1.3466440592846238,-0.011138496176147835,-1.006175222327991,-0.7657814111691001,0.2704614828597357,1.0183788515132506,-1.6313687143064737,-1.1377406766960112,1.754747546345917,1.0739077449778924,1.187443194858314,-1.1762172356198197,-2.330878647921375,-0.29177231149834987,-1.5420377609907308,-0.44511416089779543,1.8225838117742819,2.0680123691645167,-1.7712608957239127,-0.9471147591668491,1.6184713553015566,-0.6887690862726555,-0.2770483905764386,-1.0205117397712196,0.5411886732059261,-0.9679130404308924,0.7223804650709226,0.19804466049875422,0.5757187719225264,-0.6365002863183196,-0.21892397489849863,-0.38832629642815525,0.7564138642884449,-0.25283318868976823,1.6578227713614326,0.778371309783315,-0.025442852310508104,1.0290112662167505,-0.7478300783956774,-0.5892929751830931,2.2221162029341848,-0.21607144784907933,-1.4358331970874543,0.32341588670439253,2.1088425493463316,-0.35207423187535375,0.5480642595297384,0.42469906156207216,-0.5512588997951553,-0.744004698667509,1.3009083492632714,-2.913661302226596,-1.79700075056673,2.2240582842789998,0.20083784721363973,-1.1155836193566913,0.37881604036311256,-1.0515506213586965,-0.7142174212313871,-0.580132172851161,-0.36996370552054747,-1.9956692450109044,3.3068298553023956,-0.6535949069759464,-0.8126537235638911,-0.7910150450158807,-0.5897039192173934,-0.9641463263885816,0.09458255813228832,-0.35691739474910894,0.7368928853813077,0.5992388061778968,-0.8788160686807402,-0.4018213365525234,-0.05339238691644387,-0.3627926288640987,-0.7251370023029332,0.6550178848897097,-1.893543294098089,0.2507926698741199,-2.603137809917833,1.345799354558909,1.1223941883090842,2.0230162957001028,-0.04150802293184813,-0.011228513864026684,-0.5941780239391884,-0.3058191790453311,1.653697814059976,-1.2921648263284362,-0.11844456500402563,0.6483758171002227],\"yaxis\":\"y9\",\"type\":\"scatter\"},{\"line\":{\"color\":\"rgba(128, 128, 128, 1.0)\",\"dash\":\"solid\",\"shape\":\"linear\",\"width\":1.3},\"marker\":{\"size\":2,\"symbol\":\"circle\"},\"mode\":\"markers\",\"name\":\"C\",\"text\":\"\",\"x\":[-2.2858288822656303,-0.3689246942451719,-0.4878085442863548,0.0899980136684595,0.29926889068795876,0.17158248776965915,-1.6060521316690806,0.8454748009189931,-0.7780592645242341,-1.5565002087012068,1.0372025831271199,0.8400056526466327,-0.9864917656790733,-0.7865337495103956,-0.4908674300457295,0.065209412493217,0.9568752404687892,-0.8396432482350337,-0.12579337362106027,-0.2521365828886802,-0.5335363396262771,-1.1038689888634035,0.4702284473695049,1.0127134627231362,0.06357379909821854,0.17666908872890652,-2.219413202901428,0.16988007691544227,0.21331495447507157,-0.38144917787193,-0.7234233309210866,1.1654897644783366,-0.0939289539623439,2.0170523368074034,-1.066331684671368,-1.2550980664771623,-0.6834753077766862,-1.9776636533758316,-0.7071974935890099,-0.8647725828109243,0.666397539151505,-2.1561037115340382,1.3088668119173679,0.1895499161046491,-0.2143124885233418,1.5600407751980936,1.49517789425164,-1.3163885089797722,0.3071100790489101,-1.1334144746266988,-1.3048753478925657,-1.7737873100165837,-1.311819431354197,0.6547271610296218,-1.080829127609142,-0.14106417250186926,1.12593274559256,-0.18690924228657932,1.0632163358016373,-0.9635096609258548,0.5013097476381637,-0.41205755974149105,0.7461619496075209,-2.0031465844771246,-1.4463887314168276,1.26252117377817,-1.2231128761730659,-0.02423340109344603,2.4622973856990584,0.4021529194125459,-0.7330723509578897,-0.04278911282889734,-0.3491149144994279,1.083279811870235,1.0426110712780547,-1.8778181299002392,-1.0794577182216054,-1.5317866657565158,1.0165126478271154,-0.8934024272225225,-0.3084887191806035,-0.699643240815849,-0.6605125009688817,2.1852107666274163,0.996809877383777,0.06108618985377447,2.4562499159811915,0.8295824341081318,1.4581308222086655,1.0332082700772245,0.6149475497997644,0.12629079890159314,-1.1722907357555292,-0.8750580032179174,0.2213111053489606,0.9767123482772395,1.3429699882896668,0.4560223707490966,-0.10333857580881216,0.7250381311930914],\"xaxis\":\"x10\",\"y\":[0.32533126166391485,-1.0948514086567007,-1.255698256658563,-0.7115348500480666,-1.5734581413898854,-0.2693780640469743,0.5312122041618935,0.7643957254436153,1.3466440592846238,-0.011138496176147835,-1.006175222327991,-0.7657814111691001,0.2704614828597357,1.0183788515132506,-1.6313687143064737,-1.1377406766960112,1.754747546345917,1.0739077449778924,1.187443194858314,-1.1762172356198197,-2.330878647921375,-0.29177231149834987,-1.5420377609907308,-0.44511416089779543,1.8225838117742819,2.0680123691645167,-1.7712608957239127,-0.9471147591668491,1.6184713553015566,-0.6887690862726555,-0.2770483905764386,-1.0205117397712196,0.5411886732059261,-0.9679130404308924,0.7223804650709226,0.19804466049875422,0.5757187719225264,-0.6365002863183196,-0.21892397489849863,-0.38832629642815525,0.7564138642884449,-0.25283318868976823,1.6578227713614326,0.778371309783315,-0.025442852310508104,1.0290112662167505,-0.7478300783956774,-0.5892929751830931,2.2221162029341848,-0.21607144784907933,-1.4358331970874543,0.32341588670439253,2.1088425493463316,-0.35207423187535375,0.5480642595297384,0.42469906156207216,-0.5512588997951553,-0.744004698667509,1.3009083492632714,-2.913661302226596,-1.79700075056673,2.2240582842789998,0.20083784721363973,-1.1155836193566913,0.37881604036311256,-1.0515506213586965,-0.7142174212313871,-0.580132172851161,-0.36996370552054747,-1.9956692450109044,3.3068298553023956,-0.6535949069759464,-0.8126537235638911,-0.7910150450158807,-0.5897039192173934,-0.9641463263885816,0.09458255813228832,-0.35691739474910894,0.7368928853813077,0.5992388061778968,-0.8788160686807402,-0.4018213365525234,-0.05339238691644387,-0.3627926288640987,-0.7251370023029332,0.6550178848897097,-1.893543294098089,0.2507926698741199,-2.603137809917833,1.345799354558909,1.1223941883090842,2.0230162957001028,-0.04150802293184813,-0.011228513864026684,-0.5941780239391884,-0.3058191790453311,1.653697814059976,-1.2921648263284362,-0.11844456500402563,0.6483758171002227],\"yaxis\":\"y10\",\"type\":\"scatter\"},{\"histfunc\":\"count\",\"histnorm\":\"\",\"marker\":{\"color\":\"rgba(50, 171, 96, 1.0)\",\"line\":{\"color\":\"#4D5663\",\"width\":1.3}},\"name\":\"C\",\"nbinsx\":10,\"opacity\":0.8,\"orientation\":\"v\",\"x\":[0.32533126166391485,-1.0948514086567007,-1.255698256658563,-0.7115348500480666,-1.5734581413898854,-0.2693780640469743,0.5312122041618935,0.7643957254436153,1.3466440592846238,-0.011138496176147835,-1.006175222327991,-0.7657814111691001,0.2704614828597357,1.0183788515132506,-1.6313687143064737,-1.1377406766960112,1.754747546345917,1.0739077449778924,1.187443194858314,-1.1762172356198197,-2.330878647921375,-0.29177231149834987,-1.5420377609907308,-0.44511416089779543,1.8225838117742819,2.0680123691645167,-1.7712608957239127,-0.9471147591668491,1.6184713553015566,-0.6887690862726555,-0.2770483905764386,-1.0205117397712196,0.5411886732059261,-0.9679130404308924,0.7223804650709226,0.19804466049875422,0.5757187719225264,-0.6365002863183196,-0.21892397489849863,-0.38832629642815525,0.7564138642884449,-0.25283318868976823,1.6578227713614326,0.778371309783315,-0.025442852310508104,1.0290112662167505,-0.7478300783956774,-0.5892929751830931,2.2221162029341848,-0.21607144784907933,-1.4358331970874543,0.32341588670439253,2.1088425493463316,-0.35207423187535375,0.5480642595297384,0.42469906156207216,-0.5512588997951553,-0.744004698667509,1.3009083492632714,-2.913661302226596,-1.79700075056673,2.2240582842789998,0.20083784721363973,-1.1155836193566913,0.37881604036311256,-1.0515506213586965,-0.7142174212313871,-0.580132172851161,-0.36996370552054747,-1.9956692450109044,3.3068298553023956,-0.6535949069759464,-0.8126537235638911,-0.7910150450158807,-0.5897039192173934,-0.9641463263885816,0.09458255813228832,-0.35691739474910894,0.7368928853813077,0.5992388061778968,-0.8788160686807402,-0.4018213365525234,-0.05339238691644387,-0.3627926288640987,-0.7251370023029332,0.6550178848897097,-1.893543294098089,0.2507926698741199,-2.603137809917833,1.345799354558909,1.1223941883090842,2.0230162957001028,-0.04150802293184813,-0.011228513864026684,-0.5941780239391884,-0.3058191790453311,1.653697814059976,-1.2921648263284362,-0.11844456500402563,0.6483758171002227],\"xaxis\":\"x11\",\"yaxis\":\"y11\",\"type\":\"histogram\"},{\"line\":{\"color\":\"rgba(128, 128, 128, 1.0)\",\"dash\":\"solid\",\"shape\":\"linear\",\"width\":1.3},\"marker\":{\"size\":2,\"symbol\":\"circle\"},\"mode\":\"markers\",\"name\":\"C\",\"text\":\"\",\"x\":[0.41794327451779345,-0.03261673753335445,-0.4550174727865612,-0.004208347162477857,-0.6223002368189892,0.37079932691257855,0.4044968263615406,0.6156065311469866,-0.5629685390235405,1.4654377449230789,-0.08295070642030386,-0.8141272270394169,-0.08122433488173093,-0.8441255872868394,-0.1038450347802428,-0.8264106510813224,0.33835876227499645,1.610267518488858,-1.4599309420426185,0.866996034978916,-1.02904049897154,1.227022930533725,0.37668671410737165,1.3804286998065782,1.2314256439125106,0.12804999346254464,-1.3228095505120894,-0.21084639477165035,0.494661739271153,-0.954422281959772,-0.06817586662636892,1.6331220665869417,-1.8184158143329487,-0.9072522004937862,1.182488924288222,1.8100366556664622,-1.5672078033978591,0.0846336270397929,-0.880862573119192,0.6716695121190952,-1.2429081023690345,-0.6619703835342022,-0.2961579681187715,-0.6044465329934139,-0.20082288973325496,0.3976613955284886,0.26045978499364436,0.7234116917878068,0.15515371118901172,1.9235573499253922,-1.9163020993661708,-0.878533455623837,0.03334430451853539,-0.4749136499522914,-0.5783326094025376,-0.4058299179802135,-0.08161828458775061,-1.0019000743769864,0.9736625816934414,0.7006372454826486,1.009607343099174,-2.0230743602161305,-0.11886781633156078,0.08909096314851882,0.5224997723778508,-0.22213927396262687,-0.6450675952005471,1.7064853550957833,0.2994101531694659,-0.5061617487595512,-0.5713559687832984,1.9282636850213841,-1.5190521015763374,-0.019914506427172442,-0.7607785603577836,-0.1817706306857436,0.10979048618419447,2.2332548603506903,0.9542509226302287,-0.18666984421018826,0.4550501723241464,-1.7401968649713317,-0.4924158421882854,0.20238484904659426,1.0635355770648967,-0.20361483915691467,-1.0737855655373512,1.8037649286934079,-1.0164897009038132,-1.3978203525736188,-0.5532058788949985,1.4993041498775244,0.5331637896362921,0.7483597698017826,-0.492958356631721,-0.9739873053805449,0.7218719374631305,0.7620215689250328,1.142168023221178,0.9402807158049501],\"xaxis\":\"x12\",\"y\":[0.32533126166391485,-1.0948514086567007,-1.255698256658563,-0.7115348500480666,-1.5734581413898854,-0.2693780640469743,0.5312122041618935,0.7643957254436153,1.3466440592846238,-0.011138496176147835,-1.006175222327991,-0.7657814111691001,0.2704614828597357,1.0183788515132506,-1.6313687143064737,-1.1377406766960112,1.754747546345917,1.0739077449778924,1.187443194858314,-1.1762172356198197,-2.330878647921375,-0.29177231149834987,-1.5420377609907308,-0.44511416089779543,1.8225838117742819,2.0680123691645167,-1.7712608957239127,-0.9471147591668491,1.6184713553015566,-0.6887690862726555,-0.2770483905764386,-1.0205117397712196,0.5411886732059261,-0.9679130404308924,0.7223804650709226,0.19804466049875422,0.5757187719225264,-0.6365002863183196,-0.21892397489849863,-0.38832629642815525,0.7564138642884449,-0.25283318868976823,1.6578227713614326,0.778371309783315,-0.025442852310508104,1.0290112662167505,-0.7478300783956774,-0.5892929751830931,2.2221162029341848,-0.21607144784907933,-1.4358331970874543,0.32341588670439253,2.1088425493463316,-0.35207423187535375,0.5480642595297384,0.42469906156207216,-0.5512588997951553,-0.744004698667509,1.3009083492632714,-2.913661302226596,-1.79700075056673,2.2240582842789998,0.20083784721363973,-1.1155836193566913,0.37881604036311256,-1.0515506213586965,-0.7142174212313871,-0.580132172851161,-0.36996370552054747,-1.9956692450109044,3.3068298553023956,-0.6535949069759464,-0.8126537235638911,-0.7910150450158807,-0.5897039192173934,-0.9641463263885816,0.09458255813228832,-0.35691739474910894,0.7368928853813077,0.5992388061778968,-0.8788160686807402,-0.4018213365525234,-0.05339238691644387,-0.3627926288640987,-0.7251370023029332,0.6550178848897097,-1.893543294098089,0.2507926698741199,-2.603137809917833,1.345799354558909,1.1223941883090842,2.0230162957001028,-0.04150802293184813,-0.011228513864026684,-0.5941780239391884,-0.3058191790453311,1.653697814059976,-1.2921648263284362,-0.11844456500402563,0.6483758171002227],\"yaxis\":\"y12\",\"type\":\"scatter\"},{\"line\":{\"color\":\"rgba(128, 128, 128, 1.0)\",\"dash\":\"solid\",\"shape\":\"linear\",\"width\":1.3},\"marker\":{\"size\":2,\"symbol\":\"circle\"},\"mode\":\"markers\",\"name\":\"D\",\"text\":\"\",\"x\":[0.26094944737820464,0.6756427948506019,-1.6813264412755256,0.7204565479924322,-0.22704880191720428,1.6257351533472952,-0.4942521366331942,0.7554812681062507,-0.012121861711336316,0.6690437492201413,-0.3900373476123656,-1.8547898714279738,-1.4816658495535915,0.23413255955366494,0.21034036783623777,-0.5905362775657257,0.44400914529871144,-0.08988354995132182,-0.9092428787691089,0.1390659850483001,0.12827195930806926,-0.8936444613365111,0.48411247557442094,0.5712665158701542,-0.2306417488905862,1.0621829798421933,0.8049419422180617,0.3098617097266694,-1.2459142215390526,-1.5421708395982974,-0.28945802864526166,-0.457410342620502,0.8842863964667576,0.4716178732561643,1.080769153106927,-0.3027219145109648,1.4535241446092566,-2.006165431524184,0.3457218679585976,1.2554394332593966,1.583191788122711,0.1001572144415794,0.1218111415464603,0.7644233984677314,0.6256263350098222,-1.0406876639569114,-1.1116255859285793,-1.3226346404362888,0.9521322476501216,0.10361535193926541,1.6796946454820472,-1.0312332635688635,-1.6719091796148713,-1.4620898703178808,-2.338268650433877,0.7249705026245721,1.892208054311665,-0.8650989366390816,-0.36156197736492707,0.5556931482624534,0.5550851907531508,-2.7372209835746997,1.556315017341361,0.40241766720405525,0.459800704742713,0.010839974417914938,0.2869058777525109,-0.20948496585773907,-0.3228919963689883,-0.9424428117102946,0.08004987528207808,-1.722571435733268,-1.2599461951241895,-1.1399593241709116,0.9427614038338752,-0.608796670914509,-0.180982777034367,1.7219984547975717,-0.026529348892462685,-0.09822764343422868,-1.944606864250181,0.8610178999848556,1.2603732054512387,-0.7031761322484911,-0.6031228391849389,-0.21885822736009458,0.4179951312327664,1.1013003666583145,0.9154925356461139,0.09501597794814125,-2.216397093263774,0.9567752156312098,0.5091191071901275,-1.2976367682644396,0.252814044628649,-0.1696171000230781,1.2540223824766012,-1.1091293259988333,-0.07234965598861014,-0.4820456279286618],\"xaxis\":\"x13\",\"y\":[0.41794327451779345,-0.03261673753335445,-0.4550174727865612,-0.004208347162477857,-0.6223002368189892,0.37079932691257855,0.4044968263615406,0.6156065311469866,-0.5629685390235405,1.4654377449230789,-0.08295070642030386,-0.8141272270394169,-0.08122433488173093,-0.8441255872868394,-0.1038450347802428,-0.8264106510813224,0.33835876227499645,1.610267518488858,-1.4599309420426185,0.866996034978916,-1.02904049897154,1.227022930533725,0.37668671410737165,1.3804286998065782,1.2314256439125106,0.12804999346254464,-1.3228095505120894,-0.21084639477165035,0.494661739271153,-0.954422281959772,-0.06817586662636892,1.6331220665869417,-1.8184158143329487,-0.9072522004937862,1.182488924288222,1.8100366556664622,-1.5672078033978591,0.0846336270397929,-0.880862573119192,0.6716695121190952,-1.2429081023690345,-0.6619703835342022,-0.2961579681187715,-0.6044465329934139,-0.20082288973325496,0.3976613955284886,0.26045978499364436,0.7234116917878068,0.15515371118901172,1.9235573499253922,-1.9163020993661708,-0.878533455623837,0.03334430451853539,-0.4749136499522914,-0.5783326094025376,-0.4058299179802135,-0.08161828458775061,-1.0019000743769864,0.9736625816934414,0.7006372454826486,1.009607343099174,-2.0230743602161305,-0.11886781633156078,0.08909096314851882,0.5224997723778508,-0.22213927396262687,-0.6450675952005471,1.7064853550957833,0.2994101531694659,-0.5061617487595512,-0.5713559687832984,1.9282636850213841,-1.5190521015763374,-0.019914506427172442,-0.7607785603577836,-0.1817706306857436,0.10979048618419447,2.2332548603506903,0.9542509226302287,-0.18666984421018826,0.4550501723241464,-1.7401968649713317,-0.4924158421882854,0.20238484904659426,1.0635355770648967,-0.20361483915691467,-1.0737855655373512,1.8037649286934079,-1.0164897009038132,-1.3978203525736188,-0.5532058788949985,1.4993041498775244,0.5331637896362921,0.7483597698017826,-0.492958356631721,-0.9739873053805449,0.7218719374631305,0.7620215689250328,1.142168023221178,0.9402807158049501],\"yaxis\":\"y13\",\"type\":\"scatter\"},{\"line\":{\"color\":\"rgba(128, 128, 128, 1.0)\",\"dash\":\"solid\",\"shape\":\"linear\",\"width\":1.3},\"marker\":{\"size\":2,\"symbol\":\"circle\"},\"mode\":\"markers\",\"name\":\"D\",\"text\":\"\",\"x\":[-2.2858288822656303,-0.3689246942451719,-0.4878085442863548,0.0899980136684595,0.29926889068795876,0.17158248776965915,-1.6060521316690806,0.8454748009189931,-0.7780592645242341,-1.5565002087012068,1.0372025831271199,0.8400056526466327,-0.9864917656790733,-0.7865337495103956,-0.4908674300457295,0.065209412493217,0.9568752404687892,-0.8396432482350337,-0.12579337362106027,-0.2521365828886802,-0.5335363396262771,-1.1038689888634035,0.4702284473695049,1.0127134627231362,0.06357379909821854,0.17666908872890652,-2.219413202901428,0.16988007691544227,0.21331495447507157,-0.38144917787193,-0.7234233309210866,1.1654897644783366,-0.0939289539623439,2.0170523368074034,-1.066331684671368,-1.2550980664771623,-0.6834753077766862,-1.9776636533758316,-0.7071974935890099,-0.8647725828109243,0.666397539151505,-2.1561037115340382,1.3088668119173679,0.1895499161046491,-0.2143124885233418,1.5600407751980936,1.49517789425164,-1.3163885089797722,0.3071100790489101,-1.1334144746266988,-1.3048753478925657,-1.7737873100165837,-1.311819431354197,0.6547271610296218,-1.080829127609142,-0.14106417250186926,1.12593274559256,-0.18690924228657932,1.0632163358016373,-0.9635096609258548,0.5013097476381637,-0.41205755974149105,0.7461619496075209,-2.0031465844771246,-1.4463887314168276,1.26252117377817,-1.2231128761730659,-0.02423340109344603,2.4622973856990584,0.4021529194125459,-0.7330723509578897,-0.04278911282889734,-0.3491149144994279,1.083279811870235,1.0426110712780547,-1.8778181299002392,-1.0794577182216054,-1.5317866657565158,1.0165126478271154,-0.8934024272225225,-0.3084887191806035,-0.699643240815849,-0.6605125009688817,2.1852107666274163,0.996809877383777,0.06108618985377447,2.4562499159811915,0.8295824341081318,1.4581308222086655,1.0332082700772245,0.6149475497997644,0.12629079890159314,-1.1722907357555292,-0.8750580032179174,0.2213111053489606,0.9767123482772395,1.3429699882896668,0.4560223707490966,-0.10333857580881216,0.7250381311930914],\"xaxis\":\"x14\",\"y\":[0.41794327451779345,-0.03261673753335445,-0.4550174727865612,-0.004208347162477857,-0.6223002368189892,0.37079932691257855,0.4044968263615406,0.6156065311469866,-0.5629685390235405,1.4654377449230789,-0.08295070642030386,-0.8141272270394169,-0.08122433488173093,-0.8441255872868394,-0.1038450347802428,-0.8264106510813224,0.33835876227499645,1.610267518488858,-1.4599309420426185,0.866996034978916,-1.02904049897154,1.227022930533725,0.37668671410737165,1.3804286998065782,1.2314256439125106,0.12804999346254464,-1.3228095505120894,-0.21084639477165035,0.494661739271153,-0.954422281959772,-0.06817586662636892,1.6331220665869417,-1.8184158143329487,-0.9072522004937862,1.182488924288222,1.8100366556664622,-1.5672078033978591,0.0846336270397929,-0.880862573119192,0.6716695121190952,-1.2429081023690345,-0.6619703835342022,-0.2961579681187715,-0.6044465329934139,-0.20082288973325496,0.3976613955284886,0.26045978499364436,0.7234116917878068,0.15515371118901172,1.9235573499253922,-1.9163020993661708,-0.878533455623837,0.03334430451853539,-0.4749136499522914,-0.5783326094025376,-0.4058299179802135,-0.08161828458775061,-1.0019000743769864,0.9736625816934414,0.7006372454826486,1.009607343099174,-2.0230743602161305,-0.11886781633156078,0.08909096314851882,0.5224997723778508,-0.22213927396262687,-0.6450675952005471,1.7064853550957833,0.2994101531694659,-0.5061617487595512,-0.5713559687832984,1.9282636850213841,-1.5190521015763374,-0.019914506427172442,-0.7607785603577836,-0.1817706306857436,0.10979048618419447,2.2332548603506903,0.9542509226302287,-0.18666984421018826,0.4550501723241464,-1.7401968649713317,-0.4924158421882854,0.20238484904659426,1.0635355770648967,-0.20361483915691467,-1.0737855655373512,1.8037649286934079,-1.0164897009038132,-1.3978203525736188,-0.5532058788949985,1.4993041498775244,0.5331637896362921,0.7483597698017826,-0.492958356631721,-0.9739873053805449,0.7218719374631305,0.7620215689250328,1.142168023221178,0.9402807158049501],\"yaxis\":\"y14\",\"type\":\"scatter\"},{\"line\":{\"color\":\"rgba(128, 128, 128, 1.0)\",\"dash\":\"solid\",\"shape\":\"linear\",\"width\":1.3},\"marker\":{\"size\":2,\"symbol\":\"circle\"},\"mode\":\"markers\",\"name\":\"D\",\"text\":\"\",\"x\":[0.32533126166391485,-1.0948514086567007,-1.255698256658563,-0.7115348500480666,-1.5734581413898854,-0.2693780640469743,0.5312122041618935,0.7643957254436153,1.3466440592846238,-0.011138496176147835,-1.006175222327991,-0.7657814111691001,0.2704614828597357,1.0183788515132506,-1.6313687143064737,-1.1377406766960112,1.754747546345917,1.0739077449778924,1.187443194858314,-1.1762172356198197,-2.330878647921375,-0.29177231149834987,-1.5420377609907308,-0.44511416089779543,1.8225838117742819,2.0680123691645167,-1.7712608957239127,-0.9471147591668491,1.6184713553015566,-0.6887690862726555,-0.2770483905764386,-1.0205117397712196,0.5411886732059261,-0.9679130404308924,0.7223804650709226,0.19804466049875422,0.5757187719225264,-0.6365002863183196,-0.21892397489849863,-0.38832629642815525,0.7564138642884449,-0.25283318868976823,1.6578227713614326,0.778371309783315,-0.025442852310508104,1.0290112662167505,-0.7478300783956774,-0.5892929751830931,2.2221162029341848,-0.21607144784907933,-1.4358331970874543,0.32341588670439253,2.1088425493463316,-0.35207423187535375,0.5480642595297384,0.42469906156207216,-0.5512588997951553,-0.744004698667509,1.3009083492632714,-2.913661302226596,-1.79700075056673,2.2240582842789998,0.20083784721363973,-1.1155836193566913,0.37881604036311256,-1.0515506213586965,-0.7142174212313871,-0.580132172851161,-0.36996370552054747,-1.9956692450109044,3.3068298553023956,-0.6535949069759464,-0.8126537235638911,-0.7910150450158807,-0.5897039192173934,-0.9641463263885816,0.09458255813228832,-0.35691739474910894,0.7368928853813077,0.5992388061778968,-0.8788160686807402,-0.4018213365525234,-0.05339238691644387,-0.3627926288640987,-0.7251370023029332,0.6550178848897097,-1.893543294098089,0.2507926698741199,-2.603137809917833,1.345799354558909,1.1223941883090842,2.0230162957001028,-0.04150802293184813,-0.011228513864026684,-0.5941780239391884,-0.3058191790453311,1.653697814059976,-1.2921648263284362,-0.11844456500402563,0.6483758171002227],\"xaxis\":\"x15\",\"y\":[0.41794327451779345,-0.03261673753335445,-0.4550174727865612,-0.004208347162477857,-0.6223002368189892,0.37079932691257855,0.4044968263615406,0.6156065311469866,-0.5629685390235405,1.4654377449230789,-0.08295070642030386,-0.8141272270394169,-0.08122433488173093,-0.8441255872868394,-0.1038450347802428,-0.8264106510813224,0.33835876227499645,1.610267518488858,-1.4599309420426185,0.866996034978916,-1.02904049897154,1.227022930533725,0.37668671410737165,1.3804286998065782,1.2314256439125106,0.12804999346254464,-1.3228095505120894,-0.21084639477165035,0.494661739271153,-0.954422281959772,-0.06817586662636892,1.6331220665869417,-1.8184158143329487,-0.9072522004937862,1.182488924288222,1.8100366556664622,-1.5672078033978591,0.0846336270397929,-0.880862573119192,0.6716695121190952,-1.2429081023690345,-0.6619703835342022,-0.2961579681187715,-0.6044465329934139,-0.20082288973325496,0.3976613955284886,0.26045978499364436,0.7234116917878068,0.15515371118901172,1.9235573499253922,-1.9163020993661708,-0.878533455623837,0.03334430451853539,-0.4749136499522914,-0.5783326094025376,-0.4058299179802135,-0.08161828458775061,-1.0019000743769864,0.9736625816934414,0.7006372454826486,1.009607343099174,-2.0230743602161305,-0.11886781633156078,0.08909096314851882,0.5224997723778508,-0.22213927396262687,-0.6450675952005471,1.7064853550957833,0.2994101531694659,-0.5061617487595512,-0.5713559687832984,1.9282636850213841,-1.5190521015763374,-0.019914506427172442,-0.7607785603577836,-0.1817706306857436,0.10979048618419447,2.2332548603506903,0.9542509226302287,-0.18666984421018826,0.4550501723241464,-1.7401968649713317,-0.4924158421882854,0.20238484904659426,1.0635355770648967,-0.20361483915691467,-1.0737855655373512,1.8037649286934079,-1.0164897009038132,-1.3978203525736188,-0.5532058788949985,1.4993041498775244,0.5331637896362921,0.7483597698017826,-0.492958356631721,-0.9739873053805449,0.7218719374631305,0.7620215689250328,1.142168023221178,0.9402807158049501],\"yaxis\":\"y15\",\"type\":\"scatter\"},{\"histfunc\":\"count\",\"histnorm\":\"\",\"marker\":{\"color\":\"rgba(128, 0, 128, 1.0)\",\"line\":{\"color\":\"#4D5663\",\"width\":1.3}},\"name\":\"D\",\"nbinsx\":10,\"opacity\":0.8,\"orientation\":\"v\",\"x\":[0.41794327451779345,-0.03261673753335445,-0.4550174727865612,-0.004208347162477857,-0.6223002368189892,0.37079932691257855,0.4044968263615406,0.6156065311469866,-0.5629685390235405,1.4654377449230789,-0.08295070642030386,-0.8141272270394169,-0.08122433488173093,-0.8441255872868394,-0.1038450347802428,-0.8264106510813224,0.33835876227499645,1.610267518488858,-1.4599309420426185,0.866996034978916,-1.02904049897154,1.227022930533725,0.37668671410737165,1.3804286998065782,1.2314256439125106,0.12804999346254464,-1.3228095505120894,-0.21084639477165035,0.494661739271153,-0.954422281959772,-0.06817586662636892,1.6331220665869417,-1.8184158143329487,-0.9072522004937862,1.182488924288222,1.8100366556664622,-1.5672078033978591,0.0846336270397929,-0.880862573119192,0.6716695121190952,-1.2429081023690345,-0.6619703835342022,-0.2961579681187715,-0.6044465329934139,-0.20082288973325496,0.3976613955284886,0.26045978499364436,0.7234116917878068,0.15515371118901172,1.9235573499253922,-1.9163020993661708,-0.878533455623837,0.03334430451853539,-0.4749136499522914,-0.5783326094025376,-0.4058299179802135,-0.08161828458775061,-1.0019000743769864,0.9736625816934414,0.7006372454826486,1.009607343099174,-2.0230743602161305,-0.11886781633156078,0.08909096314851882,0.5224997723778508,-0.22213927396262687,-0.6450675952005471,1.7064853550957833,0.2994101531694659,-0.5061617487595512,-0.5713559687832984,1.9282636850213841,-1.5190521015763374,-0.019914506427172442,-0.7607785603577836,-0.1817706306857436,0.10979048618419447,2.2332548603506903,0.9542509226302287,-0.18666984421018826,0.4550501723241464,-1.7401968649713317,-0.4924158421882854,0.20238484904659426,1.0635355770648967,-0.20361483915691467,-1.0737855655373512,1.8037649286934079,-1.0164897009038132,-1.3978203525736188,-0.5532058788949985,1.4993041498775244,0.5331637896362921,0.7483597698017826,-0.492958356631721,-0.9739873053805449,0.7218719374631305,0.7620215689250328,1.142168023221178,0.9402807158049501],\"xaxis\":\"x16\",\"yaxis\":\"y16\",\"type\":\"histogram\"}],                        {\"bargap\":0.02,\"legend\":{\"bgcolor\":\"#F5F6F9\",\"font\":{\"color\":\"#4D5663\"}},\"paper_bgcolor\":\"#F5F6F9\",\"plot_bgcolor\":\"#F5F6F9\",\"showlegend\":false,\"template\":{\"data\":{\"barpolar\":[{\"marker\":{\"line\":{\"color\":\"#E5ECF6\",\"width\":0.5},\"pattern\":{\"fillmode\":\"overlay\",\"size\":10,\"solidity\":0.2}},\"type\":\"barpolar\"}],\"bar\":[{\"error_x\":{\"color\":\"#2a3f5f\"},\"error_y\":{\"color\":\"#2a3f5f\"},\"marker\":{\"line\":{\"color\":\"#E5ECF6\",\"width\":0.5},\"pattern\":{\"fillmode\":\"overlay\",\"size\":10,\"solidity\":0.2}},\"type\":\"bar\"}],\"carpet\":[{\"aaxis\":{\"endlinecolor\":\"#2a3f5f\",\"gridcolor\":\"white\",\"linecolor\":\"white\",\"minorgridcolor\":\"white\",\"startlinecolor\":\"#2a3f5f\"},\"baxis\":{\"endlinecolor\":\"#2a3f5f\",\"gridcolor\":\"white\",\"linecolor\":\"white\",\"minorgridcolor\":\"white\",\"startlinecolor\":\"#2a3f5f\"},\"type\":\"carpet\"}],\"choropleth\":[{\"colorbar\":{\"outlinewidth\":0,\"ticks\":\"\"},\"type\":\"choropleth\"}],\"contourcarpet\":[{\"colorbar\":{\"outlinewidth\":0,\"ticks\":\"\"},\"type\":\"contourcarpet\"}],\"contour\":[{\"colorbar\":{\"outlinewidth\":0,\"ticks\":\"\"},\"colorscale\":[[0.0,\"#0d0887\"],[0.1111111111111111,\"#46039f\"],[0.2222222222222222,\"#7201a8\"],[0.3333333333333333,\"#9c179e\"],[0.4444444444444444,\"#bd3786\"],[0.5555555555555556,\"#d8576b\"],[0.6666666666666666,\"#ed7953\"],[0.7777777777777778,\"#fb9f3a\"],[0.8888888888888888,\"#fdca26\"],[1.0,\"#f0f921\"]],\"type\":\"contour\"}],\"heatmapgl\":[{\"colorbar\":{\"outlinewidth\":0,\"ticks\":\"\"},\"colorscale\":[[0.0,\"#0d0887\"],[0.1111111111111111,\"#46039f\"],[0.2222222222222222,\"#7201a8\"],[0.3333333333333333,\"#9c179e\"],[0.4444444444444444,\"#bd3786\"],[0.5555555555555556,\"#d8576b\"],[0.6666666666666666,\"#ed7953\"],[0.7777777777777778,\"#fb9f3a\"],[0.8888888888888888,\"#fdca26\"],[1.0,\"#f0f921\"]],\"type\":\"heatmapgl\"}],\"heatmap\":[{\"colorbar\":{\"outlinewidth\":0,\"ticks\":\"\"},\"colorscale\":[[0.0,\"#0d0887\"],[0.1111111111111111,\"#46039f\"],[0.2222222222222222,\"#7201a8\"],[0.3333333333333333,\"#9c179e\"],[0.4444444444444444,\"#bd3786\"],[0.5555555555555556,\"#d8576b\"],[0.6666666666666666,\"#ed7953\"],[0.7777777777777778,\"#fb9f3a\"],[0.8888888888888888,\"#fdca26\"],[1.0,\"#f0f921\"]],\"type\":\"heatmap\"}],\"histogram2dcontour\":[{\"colorbar\":{\"outlinewidth\":0,\"ticks\":\"\"},\"colorscale\":[[0.0,\"#0d0887\"],[0.1111111111111111,\"#46039f\"],[0.2222222222222222,\"#7201a8\"],[0.3333333333333333,\"#9c179e\"],[0.4444444444444444,\"#bd3786\"],[0.5555555555555556,\"#d8576b\"],[0.6666666666666666,\"#ed7953\"],[0.7777777777777778,\"#fb9f3a\"],[0.8888888888888888,\"#fdca26\"],[1.0,\"#f0f921\"]],\"type\":\"histogram2dcontour\"}],\"histogram2d\":[{\"colorbar\":{\"outlinewidth\":0,\"ticks\":\"\"},\"colorscale\":[[0.0,\"#0d0887\"],[0.1111111111111111,\"#46039f\"],[0.2222222222222222,\"#7201a8\"],[0.3333333333333333,\"#9c179e\"],[0.4444444444444444,\"#bd3786\"],[0.5555555555555556,\"#d8576b\"],[0.6666666666666666,\"#ed7953\"],[0.7777777777777778,\"#fb9f3a\"],[0.8888888888888888,\"#fdca26\"],[1.0,\"#f0f921\"]],\"type\":\"histogram2d\"}],\"histogram\":[{\"marker\":{\"pattern\":{\"fillmode\":\"overlay\",\"size\":10,\"solidity\":0.2}},\"type\":\"histogram\"}],\"mesh3d\":[{\"colorbar\":{\"outlinewidth\":0,\"ticks\":\"\"},\"type\":\"mesh3d\"}],\"parcoords\":[{\"line\":{\"colorbar\":{\"outlinewidth\":0,\"ticks\":\"\"}},\"type\":\"parcoords\"}],\"pie\":[{\"automargin\":true,\"type\":\"pie\"}],\"scatter3d\":[{\"line\":{\"colorbar\":{\"outlinewidth\":0,\"ticks\":\"\"}},\"marker\":{\"colorbar\":{\"outlinewidth\":0,\"ticks\":\"\"}},\"type\":\"scatter3d\"}],\"scattercarpet\":[{\"marker\":{\"colorbar\":{\"outlinewidth\":0,\"ticks\":\"\"}},\"type\":\"scattercarpet\"}],\"scattergeo\":[{\"marker\":{\"colorbar\":{\"outlinewidth\":0,\"ticks\":\"\"}},\"type\":\"scattergeo\"}],\"scattergl\":[{\"marker\":{\"colorbar\":{\"outlinewidth\":0,\"ticks\":\"\"}},\"type\":\"scattergl\"}],\"scattermapbox\":[{\"marker\":{\"colorbar\":{\"outlinewidth\":0,\"ticks\":\"\"}},\"type\":\"scattermapbox\"}],\"scatterpolargl\":[{\"marker\":{\"colorbar\":{\"outlinewidth\":0,\"ticks\":\"\"}},\"type\":\"scatterpolargl\"}],\"scatterpolar\":[{\"marker\":{\"colorbar\":{\"outlinewidth\":0,\"ticks\":\"\"}},\"type\":\"scatterpolar\"}],\"scatter\":[{\"fillpattern\":{\"fillmode\":\"overlay\",\"size\":10,\"solidity\":0.2},\"type\":\"scatter\"}],\"scatterternary\":[{\"marker\":{\"colorbar\":{\"outlinewidth\":0,\"ticks\":\"\"}},\"type\":\"scatterternary\"}],\"surface\":[{\"colorbar\":{\"outlinewidth\":0,\"ticks\":\"\"},\"colorscale\":[[0.0,\"#0d0887\"],[0.1111111111111111,\"#46039f\"],[0.2222222222222222,\"#7201a8\"],[0.3333333333333333,\"#9c179e\"],[0.4444444444444444,\"#bd3786\"],[0.5555555555555556,\"#d8576b\"],[0.6666666666666666,\"#ed7953\"],[0.7777777777777778,\"#fb9f3a\"],[0.8888888888888888,\"#fdca26\"],[1.0,\"#f0f921\"]],\"type\":\"surface\"}],\"table\":[{\"cells\":{\"fill\":{\"color\":\"#EBF0F8\"},\"line\":{\"color\":\"white\"}},\"header\":{\"fill\":{\"color\":\"#C8D4E3\"},\"line\":{\"color\":\"white\"}},\"type\":\"table\"}]},\"layout\":{\"annotationdefaults\":{\"arrowcolor\":\"#2a3f5f\",\"arrowhead\":0,\"arrowwidth\":1},\"autotypenumbers\":\"strict\",\"coloraxis\":{\"colorbar\":{\"outlinewidth\":0,\"ticks\":\"\"}},\"colorscale\":{\"diverging\":[[0,\"#8e0152\"],[0.1,\"#c51b7d\"],[0.2,\"#de77ae\"],[0.3,\"#f1b6da\"],[0.4,\"#fde0ef\"],[0.5,\"#f7f7f7\"],[0.6,\"#e6f5d0\"],[0.7,\"#b8e186\"],[0.8,\"#7fbc41\"],[0.9,\"#4d9221\"],[1,\"#276419\"]],\"sequential\":[[0.0,\"#0d0887\"],[0.1111111111111111,\"#46039f\"],[0.2222222222222222,\"#7201a8\"],[0.3333333333333333,\"#9c179e\"],[0.4444444444444444,\"#bd3786\"],[0.5555555555555556,\"#d8576b\"],[0.6666666666666666,\"#ed7953\"],[0.7777777777777778,\"#fb9f3a\"],[0.8888888888888888,\"#fdca26\"],[1.0,\"#f0f921\"]],\"sequentialminus\":[[0.0,\"#0d0887\"],[0.1111111111111111,\"#46039f\"],[0.2222222222222222,\"#7201a8\"],[0.3333333333333333,\"#9c179e\"],[0.4444444444444444,\"#bd3786\"],[0.5555555555555556,\"#d8576b\"],[0.6666666666666666,\"#ed7953\"],[0.7777777777777778,\"#fb9f3a\"],[0.8888888888888888,\"#fdca26\"],[1.0,\"#f0f921\"]]},\"colorway\":[\"#636efa\",\"#EF553B\",\"#00cc96\",\"#ab63fa\",\"#FFA15A\",\"#19d3f3\",\"#FF6692\",\"#B6E880\",\"#FF97FF\",\"#FECB52\"],\"font\":{\"color\":\"#2a3f5f\"},\"geo\":{\"bgcolor\":\"white\",\"lakecolor\":\"white\",\"landcolor\":\"#E5ECF6\",\"showlakes\":true,\"showland\":true,\"subunitcolor\":\"white\"},\"hoverlabel\":{\"align\":\"left\"},\"hovermode\":\"closest\",\"mapbox\":{\"style\":\"light\"},\"paper_bgcolor\":\"white\",\"plot_bgcolor\":\"#E5ECF6\",\"polar\":{\"angularaxis\":{\"gridcolor\":\"white\",\"linecolor\":\"white\",\"ticks\":\"\"},\"bgcolor\":\"#E5ECF6\",\"radialaxis\":{\"gridcolor\":\"white\",\"linecolor\":\"white\",\"ticks\":\"\"}},\"scene\":{\"xaxis\":{\"backgroundcolor\":\"#E5ECF6\",\"gridcolor\":\"white\",\"gridwidth\":2,\"linecolor\":\"white\",\"showbackground\":true,\"ticks\":\"\",\"zerolinecolor\":\"white\"},\"yaxis\":{\"backgroundcolor\":\"#E5ECF6\",\"gridcolor\":\"white\",\"gridwidth\":2,\"linecolor\":\"white\",\"showbackground\":true,\"ticks\":\"\",\"zerolinecolor\":\"white\"},\"zaxis\":{\"backgroundcolor\":\"#E5ECF6\",\"gridcolor\":\"white\",\"gridwidth\":2,\"linecolor\":\"white\",\"showbackground\":true,\"ticks\":\"\",\"zerolinecolor\":\"white\"}},\"shapedefaults\":{\"line\":{\"color\":\"#2a3f5f\"}},\"ternary\":{\"aaxis\":{\"gridcolor\":\"white\",\"linecolor\":\"white\",\"ticks\":\"\"},\"baxis\":{\"gridcolor\":\"white\",\"linecolor\":\"white\",\"ticks\":\"\"},\"bgcolor\":\"#E5ECF6\",\"caxis\":{\"gridcolor\":\"white\",\"linecolor\":\"white\",\"ticks\":\"\"}},\"title\":{\"x\":0.05},\"xaxis\":{\"automargin\":true,\"gridcolor\":\"white\",\"linecolor\":\"white\",\"ticks\":\"\",\"title\":{\"standoff\":15},\"zerolinecolor\":\"white\",\"zerolinewidth\":2},\"yaxis\":{\"automargin\":true,\"gridcolor\":\"white\",\"linecolor\":\"white\",\"ticks\":\"\",\"title\":{\"standoff\":15},\"zerolinecolor\":\"white\",\"zerolinewidth\":2}}},\"title\":{\"font\":{\"color\":\"#4D5663\"}},\"xaxis\":{\"anchor\":\"y\",\"domain\":[0.0,0.2125],\"gridcolor\":\"#E1E5ED\",\"showgrid\":false,\"tickfont\":{\"color\":\"#4D5663\"},\"title\":{\"font\":{\"color\":\"#4D5663\"},\"text\":\"\"},\"zerolinecolor\":\"#E1E5ED\"},\"yaxis\":{\"anchor\":\"x\",\"domain\":[0.8025,1.0],\"gridcolor\":\"#E1E5ED\",\"showgrid\":false,\"tickfont\":{\"color\":\"#4D5663\"},\"title\":{\"font\":{\"color\":\"#4D5663\"},\"text\":\"\"},\"zerolinecolor\":\"#E1E5ED\"},\"xaxis2\":{\"anchor\":\"y2\",\"domain\":[0.2625,0.475],\"gridcolor\":\"#E1E5ED\",\"showgrid\":false,\"tickfont\":{\"color\":\"#4D5663\"},\"title\":{\"font\":{\"color\":\"#4D5663\"},\"text\":\"\"},\"zerolinecolor\":\"#E1E5ED\"},\"yaxis2\":{\"anchor\":\"x2\",\"domain\":[0.8025,1.0],\"gridcolor\":\"#E1E5ED\",\"showgrid\":false,\"tickfont\":{\"color\":\"#4D5663\"},\"title\":{\"font\":{\"color\":\"#4D5663\"},\"text\":\"\"},\"zerolinecolor\":\"#E1E5ED\"},\"xaxis3\":{\"anchor\":\"y3\",\"domain\":[0.525,0.7375],\"gridcolor\":\"#E1E5ED\",\"showgrid\":false,\"tickfont\":{\"color\":\"#4D5663\"},\"title\":{\"font\":{\"color\":\"#4D5663\"},\"text\":\"\"},\"zerolinecolor\":\"#E1E5ED\"},\"yaxis3\":{\"anchor\":\"x3\",\"domain\":[0.8025,1.0],\"gridcolor\":\"#E1E5ED\",\"showgrid\":false,\"tickfont\":{\"color\":\"#4D5663\"},\"title\":{\"font\":{\"color\":\"#4D5663\"},\"text\":\"\"},\"zerolinecolor\":\"#E1E5ED\"},\"xaxis4\":{\"anchor\":\"y4\",\"domain\":[0.7875,1.0],\"gridcolor\":\"#E1E5ED\",\"showgrid\":false,\"tickfont\":{\"color\":\"#4D5663\"},\"title\":{\"font\":{\"color\":\"#4D5663\"},\"text\":\"\"},\"zerolinecolor\":\"#E1E5ED\"},\"yaxis4\":{\"anchor\":\"x4\",\"domain\":[0.8025,1.0],\"gridcolor\":\"#E1E5ED\",\"showgrid\":false,\"tickfont\":{\"color\":\"#4D5663\"},\"title\":{\"font\":{\"color\":\"#4D5663\"},\"text\":\"\"},\"zerolinecolor\":\"#E1E5ED\"},\"xaxis5\":{\"anchor\":\"y5\",\"domain\":[0.0,0.2125],\"gridcolor\":\"#E1E5ED\",\"showgrid\":false,\"tickfont\":{\"color\":\"#4D5663\"},\"title\":{\"font\":{\"color\":\"#4D5663\"},\"text\":\"\"},\"zerolinecolor\":\"#E1E5ED\"},\"yaxis5\":{\"anchor\":\"x5\",\"domain\":[0.535,0.7325],\"gridcolor\":\"#E1E5ED\",\"showgrid\":false,\"tickfont\":{\"color\":\"#4D5663\"},\"title\":{\"font\":{\"color\":\"#4D5663\"},\"text\":\"\"},\"zerolinecolor\":\"#E1E5ED\"},\"xaxis6\":{\"anchor\":\"y6\",\"domain\":[0.2625,0.475],\"gridcolor\":\"#E1E5ED\",\"showgrid\":false,\"tickfont\":{\"color\":\"#4D5663\"},\"title\":{\"font\":{\"color\":\"#4D5663\"},\"text\":\"\"},\"zerolinecolor\":\"#E1E5ED\"},\"yaxis6\":{\"anchor\":\"x6\",\"domain\":[0.535,0.7325],\"gridcolor\":\"#E1E5ED\",\"showgrid\":false,\"tickfont\":{\"color\":\"#4D5663\"},\"title\":{\"font\":{\"color\":\"#4D5663\"},\"text\":\"\"},\"zerolinecolor\":\"#E1E5ED\"},\"xaxis7\":{\"anchor\":\"y7\",\"domain\":[0.525,0.7375],\"gridcolor\":\"#E1E5ED\",\"showgrid\":false,\"tickfont\":{\"color\":\"#4D5663\"},\"title\":{\"font\":{\"color\":\"#4D5663\"},\"text\":\"\"},\"zerolinecolor\":\"#E1E5ED\"},\"yaxis7\":{\"anchor\":\"x7\",\"domain\":[0.535,0.7325],\"gridcolor\":\"#E1E5ED\",\"showgrid\":false,\"tickfont\":{\"color\":\"#4D5663\"},\"title\":{\"font\":{\"color\":\"#4D5663\"},\"text\":\"\"},\"zerolinecolor\":\"#E1E5ED\"},\"xaxis8\":{\"anchor\":\"y8\",\"domain\":[0.7875,1.0],\"gridcolor\":\"#E1E5ED\",\"showgrid\":false,\"tickfont\":{\"color\":\"#4D5663\"},\"title\":{\"font\":{\"color\":\"#4D5663\"},\"text\":\"\"},\"zerolinecolor\":\"#E1E5ED\"},\"yaxis8\":{\"anchor\":\"x8\",\"domain\":[0.535,0.7325],\"gridcolor\":\"#E1E5ED\",\"showgrid\":false,\"tickfont\":{\"color\":\"#4D5663\"},\"title\":{\"font\":{\"color\":\"#4D5663\"},\"text\":\"\"},\"zerolinecolor\":\"#E1E5ED\"},\"xaxis9\":{\"anchor\":\"y9\",\"domain\":[0.0,0.2125],\"gridcolor\":\"#E1E5ED\",\"showgrid\":false,\"tickfont\":{\"color\":\"#4D5663\"},\"title\":{\"font\":{\"color\":\"#4D5663\"},\"text\":\"\"},\"zerolinecolor\":\"#E1E5ED\"},\"yaxis9\":{\"anchor\":\"x9\",\"domain\":[0.2675,0.465],\"gridcolor\":\"#E1E5ED\",\"showgrid\":false,\"tickfont\":{\"color\":\"#4D5663\"},\"title\":{\"font\":{\"color\":\"#4D5663\"},\"text\":\"\"},\"zerolinecolor\":\"#E1E5ED\"},\"xaxis10\":{\"anchor\":\"y10\",\"domain\":[0.2625,0.475],\"gridcolor\":\"#E1E5ED\",\"showgrid\":false,\"tickfont\":{\"color\":\"#4D5663\"},\"title\":{\"font\":{\"color\":\"#4D5663\"},\"text\":\"\"},\"zerolinecolor\":\"#E1E5ED\"},\"yaxis10\":{\"anchor\":\"x10\",\"domain\":[0.2675,0.465],\"gridcolor\":\"#E1E5ED\",\"showgrid\":false,\"tickfont\":{\"color\":\"#4D5663\"},\"title\":{\"font\":{\"color\":\"#4D5663\"},\"text\":\"\"},\"zerolinecolor\":\"#E1E5ED\"},\"xaxis11\":{\"anchor\":\"y11\",\"domain\":[0.525,0.7375],\"gridcolor\":\"#E1E5ED\",\"showgrid\":false,\"tickfont\":{\"color\":\"#4D5663\"},\"title\":{\"font\":{\"color\":\"#4D5663\"},\"text\":\"\"},\"zerolinecolor\":\"#E1E5ED\"},\"yaxis11\":{\"anchor\":\"x11\",\"domain\":[0.2675,0.465],\"gridcolor\":\"#E1E5ED\",\"showgrid\":false,\"tickfont\":{\"color\":\"#4D5663\"},\"title\":{\"font\":{\"color\":\"#4D5663\"},\"text\":\"\"},\"zerolinecolor\":\"#E1E5ED\"},\"xaxis12\":{\"anchor\":\"y12\",\"domain\":[0.7875,1.0],\"gridcolor\":\"#E1E5ED\",\"showgrid\":false,\"tickfont\":{\"color\":\"#4D5663\"},\"title\":{\"font\":{\"color\":\"#4D5663\"},\"text\":\"\"},\"zerolinecolor\":\"#E1E5ED\"},\"yaxis12\":{\"anchor\":\"x12\",\"domain\":[0.2675,0.465],\"gridcolor\":\"#E1E5ED\",\"showgrid\":false,\"tickfont\":{\"color\":\"#4D5663\"},\"title\":{\"font\":{\"color\":\"#4D5663\"},\"text\":\"\"},\"zerolinecolor\":\"#E1E5ED\"},\"xaxis13\":{\"anchor\":\"y13\",\"domain\":[0.0,0.2125],\"gridcolor\":\"#E1E5ED\",\"showgrid\":false,\"tickfont\":{\"color\":\"#4D5663\"},\"title\":{\"font\":{\"color\":\"#4D5663\"},\"text\":\"\"},\"zerolinecolor\":\"#E1E5ED\"},\"yaxis13\":{\"anchor\":\"x13\",\"domain\":[0.0,0.1975],\"gridcolor\":\"#E1E5ED\",\"showgrid\":false,\"tickfont\":{\"color\":\"#4D5663\"},\"title\":{\"font\":{\"color\":\"#4D5663\"},\"text\":\"\"},\"zerolinecolor\":\"#E1E5ED\"},\"xaxis14\":{\"anchor\":\"y14\",\"domain\":[0.2625,0.475],\"gridcolor\":\"#E1E5ED\",\"showgrid\":false,\"tickfont\":{\"color\":\"#4D5663\"},\"title\":{\"font\":{\"color\":\"#4D5663\"},\"text\":\"\"},\"zerolinecolor\":\"#E1E5ED\"},\"yaxis14\":{\"anchor\":\"x14\",\"domain\":[0.0,0.1975],\"gridcolor\":\"#E1E5ED\",\"showgrid\":false,\"tickfont\":{\"color\":\"#4D5663\"},\"title\":{\"font\":{\"color\":\"#4D5663\"},\"text\":\"\"},\"zerolinecolor\":\"#E1E5ED\"},\"xaxis15\":{\"anchor\":\"y15\",\"domain\":[0.525,0.7375],\"gridcolor\":\"#E1E5ED\",\"showgrid\":false,\"tickfont\":{\"color\":\"#4D5663\"},\"title\":{\"font\":{\"color\":\"#4D5663\"},\"text\":\"\"},\"zerolinecolor\":\"#E1E5ED\"},\"yaxis15\":{\"anchor\":\"x15\",\"domain\":[0.0,0.1975],\"gridcolor\":\"#E1E5ED\",\"showgrid\":false,\"tickfont\":{\"color\":\"#4D5663\"},\"title\":{\"font\":{\"color\":\"#4D5663\"},\"text\":\"\"},\"zerolinecolor\":\"#E1E5ED\"},\"xaxis16\":{\"anchor\":\"y16\",\"domain\":[0.7875,1.0],\"gridcolor\":\"#E1E5ED\",\"showgrid\":false,\"tickfont\":{\"color\":\"#4D5663\"},\"title\":{\"font\":{\"color\":\"#4D5663\"},\"text\":\"\"},\"zerolinecolor\":\"#E1E5ED\"},\"yaxis16\":{\"anchor\":\"x16\",\"domain\":[0.0,0.1975],\"gridcolor\":\"#E1E5ED\",\"showgrid\":false,\"tickfont\":{\"color\":\"#4D5663\"},\"title\":{\"font\":{\"color\":\"#4D5663\"},\"text\":\"\"},\"zerolinecolor\":\"#E1E5ED\"}},                        {\"showLink\": true, \"linkText\": \"Export to plot.ly\", \"plotlyServerURL\": \"https://plot.ly\", \"responsive\": true}                    ).then(function(){\n",
       "                            \n",
       "var gd = document.getElementById('5a2d7b96-ac3b-4369-8772-00392e26df80');\n",
       "var x = new MutationObserver(function (mutations, observer) {{\n",
       "        var display = window.getComputedStyle(gd).display;\n",
       "        if (!display || display === 'none') {{\n",
       "            console.log([gd, 'removed!']);\n",
       "            Plotly.purge(gd);\n",
       "            observer.disconnect();\n",
       "        }}\n",
       "}});\n",
       "\n",
       "// Listen for the removal of the full notebook cells\n",
       "var notebookContainer = gd.closest('#notebook-container');\n",
       "if (notebookContainer) {{\n",
       "    x.observe(notebookContainer, {childList: true});\n",
       "}}\n",
       "\n",
       "// Listen for the clearing of the current output cell\n",
       "var outputEl = gd.closest('.output');\n",
       "if (outputEl) {{\n",
       "    x.observe(outputEl, {childList: true});\n",
       "}}\n",
       "\n",
       "                        })                };                });            </script>        </div>"
      ]
     },
     "metadata": {},
     "output_type": "display_data"
    }
   ],
   "source": [
    "df.scatter_matrix()"
   ]
  },
  {
   "cell_type": "markdown",
   "metadata": {
    "collapsed": true
   },
   "source": [
    "# Great Job!"
   ]
  }
 ],
 "metadata": {
  "kernelspec": {
   "display_name": "Python 3 (ipykernel)",
   "language": "python",
   "name": "python3"
  },
  "language_info": {
   "codemirror_mode": {
    "name": "ipython",
    "version": 3
   },
   "file_extension": ".py",
   "mimetype": "text/x-python",
   "name": "python",
   "nbconvert_exporter": "python",
   "pygments_lexer": "ipython3",
   "version": "3.10.9"
  }
 },
 "nbformat": 4,
 "nbformat_minor": 1
}
